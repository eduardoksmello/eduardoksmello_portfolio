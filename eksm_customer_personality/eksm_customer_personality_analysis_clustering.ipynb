{
  "nbformat": 4,
  "nbformat_minor": 0,
  "metadata": {
    "colab": {
      "name": "eksm_customer_personality_analysis_clustering.ipynb",
      "provenance": [],
      "collapsed_sections": []
    },
    "kernelspec": {
      "name": "python3",
      "display_name": "Python 3"
    },
    "language_info": {
      "name": "python"
    }
  },
  "cells": [
    {
      "cell_type": "markdown",
      "metadata": {
        "id": "GgZYOT2tqZES"
      },
      "source": [
        "# Descrição do projeto\n",
        "Dataset hospedado no Kaggle: https://www.kaggle.com/imakash3011/customer-personality-analysis\n",
        "\n",
        "\n",
        "## Objetivo\n",
        "Apresentar um modelo de machine learnig capaz de agrupar com eficiência os diferentes clientes em função das características de consumo fornecidas.\n",
        "\n",
        "## Glossário das features\n",
        "\n",
        "### Informações do cliente\n",
        "ID: identificador\\\n",
        "Year_Birth: data de nascimento\\\n",
        "Education: grau de escolaridade\\\n",
        "Marital_Status: estado civil\\\n",
        "Income: renda familiar anual\\\n",
        "Kidhome: número de crianças na casa\\\n",
        "Teenhome: número de adolescentes na casa\\\n",
        "Dt_Customer: data de inscrição na empresa\\\n",
        "Recency: dias desde a última compra\\\n",
        "Complain: reclamação nos últimos 2 anos (1 = sim, 0 = não)\n",
        "###Produtos (em quantia gasta nos últimos 2 anos)\n",
        "MntWines: vinho\\\n",
        "MntFruits: frutas\\\n",
        "MntMeatProducts: carne\\\n",
        "MntFishProducts: peixe\\\n",
        "MntSweetProducts: doces\\\n",
        "MntGoldProds: ouro\n",
        "###Promoção\n",
        "NumDealsPurchases: número de compras com desconto\\\n",
        "AcceptedCmp1: aceitou oferta na 1ª campanha (1 = sim, 0 = não)\\\n",
        "AcceptedCmp2: aceitou oferta na 2ª campanha (1 = sim, 0 = não)\\\n",
        "AcceptedCmp3: aceitou oferta na 3ª campanha (1 = sim, 0 = não)\\\n",
        "AcceptedCmp4: aceitou oferta na 4ª campanha (1 = sim, 0 = não)\\\n",
        "AcceptedCmp5: aceitou oferta na 5ª campanha (1 = sim, 0 = não)\\\n",
        "Response: aceitou oferta na última campanha (1 = sim, 0 = não)\n",
        "###Local\n",
        "NumWebPurchases: número de compras no web site\\\n",
        "NumCatalogPurchases: número de compras no catálogo\\\n",
        "NumStorePurchases: número de compras em lojas\\\n",
        "NumWebVisitsMonth: número de visitas ao site da empresa no último mês"
      ]
    },
    {
      "cell_type": "markdown",
      "metadata": {
        "id": "l0z7EzjcDL0F"
      },
      "source": [
        "# Carregando Dataset"
      ]
    },
    {
      "cell_type": "markdown",
      "metadata": {
        "id": "CElCNsvEDPb8"
      },
      "source": [
        "## Importando Bibliotecas"
      ]
    },
    {
      "cell_type": "code",
      "metadata": {
        "id": "P2OEpGUmDE7R"
      },
      "source": [
        "import pandas as pd\n",
        "import matplotlib.pyplot as plt\n",
        "import seaborn as sns"
      ],
      "execution_count": 1,
      "outputs": []
    },
    {
      "cell_type": "code",
      "metadata": {
        "colab": {
          "base_uri": "https://localhost:8080/",
          "height": 224
        },
        "id": "FEb9y-zdEH4D",
        "outputId": "ace5cedf-a31e-4622-c322-81d5b3d6e600"
      },
      "source": [
        "url = 'https://www.dropbox.com/s/dzvpjaucv6yyv2v/marketing_campaign.csv?dl=1'\n",
        "df = pd.read_csv(url, sep='\\t')\n",
        "df.head()"
      ],
      "execution_count": 2,
      "outputs": [
        {
          "output_type": "execute_result",
          "data": {
            "text/html": [
              "<div>\n",
              "<style scoped>\n",
              "    .dataframe tbody tr th:only-of-type {\n",
              "        vertical-align: middle;\n",
              "    }\n",
              "\n",
              "    .dataframe tbody tr th {\n",
              "        vertical-align: top;\n",
              "    }\n",
              "\n",
              "    .dataframe thead th {\n",
              "        text-align: right;\n",
              "    }\n",
              "</style>\n",
              "<table border=\"1\" class=\"dataframe\">\n",
              "  <thead>\n",
              "    <tr style=\"text-align: right;\">\n",
              "      <th></th>\n",
              "      <th>ID</th>\n",
              "      <th>Year_Birth</th>\n",
              "      <th>Education</th>\n",
              "      <th>Marital_Status</th>\n",
              "      <th>Income</th>\n",
              "      <th>Kidhome</th>\n",
              "      <th>Teenhome</th>\n",
              "      <th>Dt_Customer</th>\n",
              "      <th>Recency</th>\n",
              "      <th>MntWines</th>\n",
              "      <th>MntFruits</th>\n",
              "      <th>MntMeatProducts</th>\n",
              "      <th>MntFishProducts</th>\n",
              "      <th>MntSweetProducts</th>\n",
              "      <th>MntGoldProds</th>\n",
              "      <th>NumDealsPurchases</th>\n",
              "      <th>NumWebPurchases</th>\n",
              "      <th>NumCatalogPurchases</th>\n",
              "      <th>NumStorePurchases</th>\n",
              "      <th>NumWebVisitsMonth</th>\n",
              "      <th>AcceptedCmp3</th>\n",
              "      <th>AcceptedCmp4</th>\n",
              "      <th>AcceptedCmp5</th>\n",
              "      <th>AcceptedCmp1</th>\n",
              "      <th>AcceptedCmp2</th>\n",
              "      <th>Complain</th>\n",
              "      <th>Z_CostContact</th>\n",
              "      <th>Z_Revenue</th>\n",
              "      <th>Response</th>\n",
              "    </tr>\n",
              "  </thead>\n",
              "  <tbody>\n",
              "    <tr>\n",
              "      <th>0</th>\n",
              "      <td>5524</td>\n",
              "      <td>1957</td>\n",
              "      <td>Graduation</td>\n",
              "      <td>Single</td>\n",
              "      <td>58138.0</td>\n",
              "      <td>0</td>\n",
              "      <td>0</td>\n",
              "      <td>04-09-2012</td>\n",
              "      <td>58</td>\n",
              "      <td>635</td>\n",
              "      <td>88</td>\n",
              "      <td>546</td>\n",
              "      <td>172</td>\n",
              "      <td>88</td>\n",
              "      <td>88</td>\n",
              "      <td>3</td>\n",
              "      <td>8</td>\n",
              "      <td>10</td>\n",
              "      <td>4</td>\n",
              "      <td>7</td>\n",
              "      <td>0</td>\n",
              "      <td>0</td>\n",
              "      <td>0</td>\n",
              "      <td>0</td>\n",
              "      <td>0</td>\n",
              "      <td>0</td>\n",
              "      <td>3</td>\n",
              "      <td>11</td>\n",
              "      <td>1</td>\n",
              "    </tr>\n",
              "    <tr>\n",
              "      <th>1</th>\n",
              "      <td>2174</td>\n",
              "      <td>1954</td>\n",
              "      <td>Graduation</td>\n",
              "      <td>Single</td>\n",
              "      <td>46344.0</td>\n",
              "      <td>1</td>\n",
              "      <td>1</td>\n",
              "      <td>08-03-2014</td>\n",
              "      <td>38</td>\n",
              "      <td>11</td>\n",
              "      <td>1</td>\n",
              "      <td>6</td>\n",
              "      <td>2</td>\n",
              "      <td>1</td>\n",
              "      <td>6</td>\n",
              "      <td>2</td>\n",
              "      <td>1</td>\n",
              "      <td>1</td>\n",
              "      <td>2</td>\n",
              "      <td>5</td>\n",
              "      <td>0</td>\n",
              "      <td>0</td>\n",
              "      <td>0</td>\n",
              "      <td>0</td>\n",
              "      <td>0</td>\n",
              "      <td>0</td>\n",
              "      <td>3</td>\n",
              "      <td>11</td>\n",
              "      <td>0</td>\n",
              "    </tr>\n",
              "    <tr>\n",
              "      <th>2</th>\n",
              "      <td>4141</td>\n",
              "      <td>1965</td>\n",
              "      <td>Graduation</td>\n",
              "      <td>Together</td>\n",
              "      <td>71613.0</td>\n",
              "      <td>0</td>\n",
              "      <td>0</td>\n",
              "      <td>21-08-2013</td>\n",
              "      <td>26</td>\n",
              "      <td>426</td>\n",
              "      <td>49</td>\n",
              "      <td>127</td>\n",
              "      <td>111</td>\n",
              "      <td>21</td>\n",
              "      <td>42</td>\n",
              "      <td>1</td>\n",
              "      <td>8</td>\n",
              "      <td>2</td>\n",
              "      <td>10</td>\n",
              "      <td>4</td>\n",
              "      <td>0</td>\n",
              "      <td>0</td>\n",
              "      <td>0</td>\n",
              "      <td>0</td>\n",
              "      <td>0</td>\n",
              "      <td>0</td>\n",
              "      <td>3</td>\n",
              "      <td>11</td>\n",
              "      <td>0</td>\n",
              "    </tr>\n",
              "    <tr>\n",
              "      <th>3</th>\n",
              "      <td>6182</td>\n",
              "      <td>1984</td>\n",
              "      <td>Graduation</td>\n",
              "      <td>Together</td>\n",
              "      <td>26646.0</td>\n",
              "      <td>1</td>\n",
              "      <td>0</td>\n",
              "      <td>10-02-2014</td>\n",
              "      <td>26</td>\n",
              "      <td>11</td>\n",
              "      <td>4</td>\n",
              "      <td>20</td>\n",
              "      <td>10</td>\n",
              "      <td>3</td>\n",
              "      <td>5</td>\n",
              "      <td>2</td>\n",
              "      <td>2</td>\n",
              "      <td>0</td>\n",
              "      <td>4</td>\n",
              "      <td>6</td>\n",
              "      <td>0</td>\n",
              "      <td>0</td>\n",
              "      <td>0</td>\n",
              "      <td>0</td>\n",
              "      <td>0</td>\n",
              "      <td>0</td>\n",
              "      <td>3</td>\n",
              "      <td>11</td>\n",
              "      <td>0</td>\n",
              "    </tr>\n",
              "    <tr>\n",
              "      <th>4</th>\n",
              "      <td>5324</td>\n",
              "      <td>1981</td>\n",
              "      <td>PhD</td>\n",
              "      <td>Married</td>\n",
              "      <td>58293.0</td>\n",
              "      <td>1</td>\n",
              "      <td>0</td>\n",
              "      <td>19-01-2014</td>\n",
              "      <td>94</td>\n",
              "      <td>173</td>\n",
              "      <td>43</td>\n",
              "      <td>118</td>\n",
              "      <td>46</td>\n",
              "      <td>27</td>\n",
              "      <td>15</td>\n",
              "      <td>5</td>\n",
              "      <td>5</td>\n",
              "      <td>3</td>\n",
              "      <td>6</td>\n",
              "      <td>5</td>\n",
              "      <td>0</td>\n",
              "      <td>0</td>\n",
              "      <td>0</td>\n",
              "      <td>0</td>\n",
              "      <td>0</td>\n",
              "      <td>0</td>\n",
              "      <td>3</td>\n",
              "      <td>11</td>\n",
              "      <td>0</td>\n",
              "    </tr>\n",
              "  </tbody>\n",
              "</table>\n",
              "</div>"
            ],
            "text/plain": [
              "     ID  Year_Birth   Education  ... Z_CostContact  Z_Revenue  Response\n",
              "0  5524        1957  Graduation  ...             3         11         1\n",
              "1  2174        1954  Graduation  ...             3         11         0\n",
              "2  4141        1965  Graduation  ...             3         11         0\n",
              "3  6182        1984  Graduation  ...             3         11         0\n",
              "4  5324        1981         PhD  ...             3         11         0\n",
              "\n",
              "[5 rows x 29 columns]"
            ]
          },
          "metadata": {},
          "execution_count": 2
        }
      ]
    },
    {
      "cell_type": "markdown",
      "metadata": {
        "id": "Gr_3l9LRvWQ4"
      },
      "source": [
        "# Descrição dos dados"
      ]
    },
    {
      "cell_type": "code",
      "metadata": {
        "id": "Nw1PNLehEXBq",
        "colab": {
          "base_uri": "https://localhost:8080/"
        },
        "outputId": "b75bdc3b-6dfd-4713-dd5c-fc316ffde94c"
      },
      "source": [
        "print('O dataset possui {} linhas e {} colunas.'.format(df.shape[0], df.shape[1]))"
      ],
      "execution_count": 3,
      "outputs": [
        {
          "output_type": "stream",
          "name": "stdout",
          "text": [
            "O dataset possui 2240 linhas e 29 colunas.\n"
          ]
        }
      ]
    },
    {
      "cell_type": "code",
      "metadata": {
        "colab": {
          "base_uri": "https://localhost:8080/"
        },
        "id": "GXBEtEkRk4rS",
        "outputId": "f18206b3-f87a-4b19-d3dd-c0173ff84123"
      },
      "source": [
        "# colunas do dataset\n",
        "df.columns"
      ],
      "execution_count": 4,
      "outputs": [
        {
          "output_type": "execute_result",
          "data": {
            "text/plain": [
              "Index(['ID', 'Year_Birth', 'Education', 'Marital_Status', 'Income', 'Kidhome',\n",
              "       'Teenhome', 'Dt_Customer', 'Recency', 'MntWines', 'MntFruits',\n",
              "       'MntMeatProducts', 'MntFishProducts', 'MntSweetProducts',\n",
              "       'MntGoldProds', 'NumDealsPurchases', 'NumWebPurchases',\n",
              "       'NumCatalogPurchases', 'NumStorePurchases', 'NumWebVisitsMonth',\n",
              "       'AcceptedCmp3', 'AcceptedCmp4', 'AcceptedCmp5', 'AcceptedCmp1',\n",
              "       'AcceptedCmp2', 'Complain', 'Z_CostContact', 'Z_Revenue', 'Response'],\n",
              "      dtype='object')"
            ]
          },
          "metadata": {},
          "execution_count": 4
        }
      ]
    },
    {
      "cell_type": "code",
      "metadata": {
        "colab": {
          "base_uri": "https://localhost:8080/"
        },
        "id": "aFv_uAb0vATX",
        "outputId": "5c0c2d95-18b9-4ad7-e5f6-ed6f460ebea7"
      },
      "source": [
        "# informações sobre as colunas\n",
        "df.info()"
      ],
      "execution_count": 5,
      "outputs": [
        {
          "output_type": "stream",
          "name": "stdout",
          "text": [
            "<class 'pandas.core.frame.DataFrame'>\n",
            "RangeIndex: 2240 entries, 0 to 2239\n",
            "Data columns (total 29 columns):\n",
            " #   Column               Non-Null Count  Dtype  \n",
            "---  ------               --------------  -----  \n",
            " 0   ID                   2240 non-null   int64  \n",
            " 1   Year_Birth           2240 non-null   int64  \n",
            " 2   Education            2240 non-null   object \n",
            " 3   Marital_Status       2240 non-null   object \n",
            " 4   Income               2216 non-null   float64\n",
            " 5   Kidhome              2240 non-null   int64  \n",
            " 6   Teenhome             2240 non-null   int64  \n",
            " 7   Dt_Customer          2240 non-null   object \n",
            " 8   Recency              2240 non-null   int64  \n",
            " 9   MntWines             2240 non-null   int64  \n",
            " 10  MntFruits            2240 non-null   int64  \n",
            " 11  MntMeatProducts      2240 non-null   int64  \n",
            " 12  MntFishProducts      2240 non-null   int64  \n",
            " 13  MntSweetProducts     2240 non-null   int64  \n",
            " 14  MntGoldProds         2240 non-null   int64  \n",
            " 15  NumDealsPurchases    2240 non-null   int64  \n",
            " 16  NumWebPurchases      2240 non-null   int64  \n",
            " 17  NumCatalogPurchases  2240 non-null   int64  \n",
            " 18  NumStorePurchases    2240 non-null   int64  \n",
            " 19  NumWebVisitsMonth    2240 non-null   int64  \n",
            " 20  AcceptedCmp3         2240 non-null   int64  \n",
            " 21  AcceptedCmp4         2240 non-null   int64  \n",
            " 22  AcceptedCmp5         2240 non-null   int64  \n",
            " 23  AcceptedCmp1         2240 non-null   int64  \n",
            " 24  AcceptedCmp2         2240 non-null   int64  \n",
            " 25  Complain             2240 non-null   int64  \n",
            " 26  Z_CostContact        2240 non-null   int64  \n",
            " 27  Z_Revenue            2240 non-null   int64  \n",
            " 28  Response             2240 non-null   int64  \n",
            "dtypes: float64(1), int64(25), object(3)\n",
            "memory usage: 507.6+ KB\n"
          ]
        }
      ]
    },
    {
      "cell_type": "code",
      "metadata": {
        "colab": {
          "base_uri": "https://localhost:8080/"
        },
        "id": "1d8QIa0fvHjn",
        "outputId": "2e00ba0d-95ef-4c36-f81c-4a7ac6bf95de"
      },
      "source": [
        "print(\"A coluna 'Income' é composta por valores com ponto flutuante.\")\n",
        "print(\"A coluna 'Dt_Costumer' apresenta datas e necessita de transformação.\")\n",
        "print(\"As colunas 'Education' e 'Marital_Status' são categóricas.\")\n",
        "print(\"Existem\", df.isnull().sum().sum(), \"valores nulos no dataset.\")\n",
        "print(\"Todos os valores nulos estão na coluna 'Income'.\")"
      ],
      "execution_count": 6,
      "outputs": [
        {
          "output_type": "stream",
          "name": "stdout",
          "text": [
            "A coluna 'Income' é composta por valores com ponto flutuante.\n",
            "A coluna 'Dt_Costumer' apresenta datas e necessita de transformação.\n",
            "As colunas 'Education' e 'Marital_Status' são categóricas.\n",
            "Existem 24 valores nulos no dataset.\n",
            "Todos os valores nulos estão na coluna 'Income'.\n"
          ]
        }
      ]
    },
    {
      "cell_type": "code",
      "metadata": {
        "colab": {
          "base_uri": "https://localhost:8080/"
        },
        "id": "UeNLyygzyyUC",
        "outputId": "a5b4bd5a-f8c4-4873-9039-b0797f3815e9"
      },
      "source": [
        "# Eliminado elementos duplicados\n",
        "df.drop_duplicates()\n",
        "print(f'Foram eliminados %d elementos duplicados.' % len(df[df.duplicated()]))"
      ],
      "execution_count": 7,
      "outputs": [
        {
          "output_type": "stream",
          "name": "stdout",
          "text": [
            "Foram eliminados 0 elementos duplicados.\n"
          ]
        }
      ]
    },
    {
      "cell_type": "markdown",
      "metadata": {
        "id": "KfhCz61fJ0h0"
      },
      "source": [
        "Análise preliminar"
      ]
    },
    {
      "cell_type": "code",
      "metadata": {
        "id": "4yWrQKStRw92",
        "colab": {
          "base_uri": "https://localhost:8080/",
          "height": 224
        },
        "outputId": "fdf03b7c-bd9f-4bd5-f432-bfb043b0883e"
      },
      "source": [
        "df.head()"
      ],
      "execution_count": 8,
      "outputs": [
        {
          "output_type": "execute_result",
          "data": {
            "text/html": [
              "<div>\n",
              "<style scoped>\n",
              "    .dataframe tbody tr th:only-of-type {\n",
              "        vertical-align: middle;\n",
              "    }\n",
              "\n",
              "    .dataframe tbody tr th {\n",
              "        vertical-align: top;\n",
              "    }\n",
              "\n",
              "    .dataframe thead th {\n",
              "        text-align: right;\n",
              "    }\n",
              "</style>\n",
              "<table border=\"1\" class=\"dataframe\">\n",
              "  <thead>\n",
              "    <tr style=\"text-align: right;\">\n",
              "      <th></th>\n",
              "      <th>ID</th>\n",
              "      <th>Year_Birth</th>\n",
              "      <th>Education</th>\n",
              "      <th>Marital_Status</th>\n",
              "      <th>Income</th>\n",
              "      <th>Kidhome</th>\n",
              "      <th>Teenhome</th>\n",
              "      <th>Dt_Customer</th>\n",
              "      <th>Recency</th>\n",
              "      <th>MntWines</th>\n",
              "      <th>MntFruits</th>\n",
              "      <th>MntMeatProducts</th>\n",
              "      <th>MntFishProducts</th>\n",
              "      <th>MntSweetProducts</th>\n",
              "      <th>MntGoldProds</th>\n",
              "      <th>NumDealsPurchases</th>\n",
              "      <th>NumWebPurchases</th>\n",
              "      <th>NumCatalogPurchases</th>\n",
              "      <th>NumStorePurchases</th>\n",
              "      <th>NumWebVisitsMonth</th>\n",
              "      <th>AcceptedCmp3</th>\n",
              "      <th>AcceptedCmp4</th>\n",
              "      <th>AcceptedCmp5</th>\n",
              "      <th>AcceptedCmp1</th>\n",
              "      <th>AcceptedCmp2</th>\n",
              "      <th>Complain</th>\n",
              "      <th>Z_CostContact</th>\n",
              "      <th>Z_Revenue</th>\n",
              "      <th>Response</th>\n",
              "    </tr>\n",
              "  </thead>\n",
              "  <tbody>\n",
              "    <tr>\n",
              "      <th>0</th>\n",
              "      <td>5524</td>\n",
              "      <td>1957</td>\n",
              "      <td>Graduation</td>\n",
              "      <td>Single</td>\n",
              "      <td>58138.0</td>\n",
              "      <td>0</td>\n",
              "      <td>0</td>\n",
              "      <td>04-09-2012</td>\n",
              "      <td>58</td>\n",
              "      <td>635</td>\n",
              "      <td>88</td>\n",
              "      <td>546</td>\n",
              "      <td>172</td>\n",
              "      <td>88</td>\n",
              "      <td>88</td>\n",
              "      <td>3</td>\n",
              "      <td>8</td>\n",
              "      <td>10</td>\n",
              "      <td>4</td>\n",
              "      <td>7</td>\n",
              "      <td>0</td>\n",
              "      <td>0</td>\n",
              "      <td>0</td>\n",
              "      <td>0</td>\n",
              "      <td>0</td>\n",
              "      <td>0</td>\n",
              "      <td>3</td>\n",
              "      <td>11</td>\n",
              "      <td>1</td>\n",
              "    </tr>\n",
              "    <tr>\n",
              "      <th>1</th>\n",
              "      <td>2174</td>\n",
              "      <td>1954</td>\n",
              "      <td>Graduation</td>\n",
              "      <td>Single</td>\n",
              "      <td>46344.0</td>\n",
              "      <td>1</td>\n",
              "      <td>1</td>\n",
              "      <td>08-03-2014</td>\n",
              "      <td>38</td>\n",
              "      <td>11</td>\n",
              "      <td>1</td>\n",
              "      <td>6</td>\n",
              "      <td>2</td>\n",
              "      <td>1</td>\n",
              "      <td>6</td>\n",
              "      <td>2</td>\n",
              "      <td>1</td>\n",
              "      <td>1</td>\n",
              "      <td>2</td>\n",
              "      <td>5</td>\n",
              "      <td>0</td>\n",
              "      <td>0</td>\n",
              "      <td>0</td>\n",
              "      <td>0</td>\n",
              "      <td>0</td>\n",
              "      <td>0</td>\n",
              "      <td>3</td>\n",
              "      <td>11</td>\n",
              "      <td>0</td>\n",
              "    </tr>\n",
              "    <tr>\n",
              "      <th>2</th>\n",
              "      <td>4141</td>\n",
              "      <td>1965</td>\n",
              "      <td>Graduation</td>\n",
              "      <td>Together</td>\n",
              "      <td>71613.0</td>\n",
              "      <td>0</td>\n",
              "      <td>0</td>\n",
              "      <td>21-08-2013</td>\n",
              "      <td>26</td>\n",
              "      <td>426</td>\n",
              "      <td>49</td>\n",
              "      <td>127</td>\n",
              "      <td>111</td>\n",
              "      <td>21</td>\n",
              "      <td>42</td>\n",
              "      <td>1</td>\n",
              "      <td>8</td>\n",
              "      <td>2</td>\n",
              "      <td>10</td>\n",
              "      <td>4</td>\n",
              "      <td>0</td>\n",
              "      <td>0</td>\n",
              "      <td>0</td>\n",
              "      <td>0</td>\n",
              "      <td>0</td>\n",
              "      <td>0</td>\n",
              "      <td>3</td>\n",
              "      <td>11</td>\n",
              "      <td>0</td>\n",
              "    </tr>\n",
              "    <tr>\n",
              "      <th>3</th>\n",
              "      <td>6182</td>\n",
              "      <td>1984</td>\n",
              "      <td>Graduation</td>\n",
              "      <td>Together</td>\n",
              "      <td>26646.0</td>\n",
              "      <td>1</td>\n",
              "      <td>0</td>\n",
              "      <td>10-02-2014</td>\n",
              "      <td>26</td>\n",
              "      <td>11</td>\n",
              "      <td>4</td>\n",
              "      <td>20</td>\n",
              "      <td>10</td>\n",
              "      <td>3</td>\n",
              "      <td>5</td>\n",
              "      <td>2</td>\n",
              "      <td>2</td>\n",
              "      <td>0</td>\n",
              "      <td>4</td>\n",
              "      <td>6</td>\n",
              "      <td>0</td>\n",
              "      <td>0</td>\n",
              "      <td>0</td>\n",
              "      <td>0</td>\n",
              "      <td>0</td>\n",
              "      <td>0</td>\n",
              "      <td>3</td>\n",
              "      <td>11</td>\n",
              "      <td>0</td>\n",
              "    </tr>\n",
              "    <tr>\n",
              "      <th>4</th>\n",
              "      <td>5324</td>\n",
              "      <td>1981</td>\n",
              "      <td>PhD</td>\n",
              "      <td>Married</td>\n",
              "      <td>58293.0</td>\n",
              "      <td>1</td>\n",
              "      <td>0</td>\n",
              "      <td>19-01-2014</td>\n",
              "      <td>94</td>\n",
              "      <td>173</td>\n",
              "      <td>43</td>\n",
              "      <td>118</td>\n",
              "      <td>46</td>\n",
              "      <td>27</td>\n",
              "      <td>15</td>\n",
              "      <td>5</td>\n",
              "      <td>5</td>\n",
              "      <td>3</td>\n",
              "      <td>6</td>\n",
              "      <td>5</td>\n",
              "      <td>0</td>\n",
              "      <td>0</td>\n",
              "      <td>0</td>\n",
              "      <td>0</td>\n",
              "      <td>0</td>\n",
              "      <td>0</td>\n",
              "      <td>3</td>\n",
              "      <td>11</td>\n",
              "      <td>0</td>\n",
              "    </tr>\n",
              "  </tbody>\n",
              "</table>\n",
              "</div>"
            ],
            "text/plain": [
              "     ID  Year_Birth   Education  ... Z_CostContact  Z_Revenue  Response\n",
              "0  5524        1957  Graduation  ...             3         11         1\n",
              "1  2174        1954  Graduation  ...             3         11         0\n",
              "2  4141        1965  Graduation  ...             3         11         0\n",
              "3  6182        1984  Graduation  ...             3         11         0\n",
              "4  5324        1981         PhD  ...             3         11         0\n",
              "\n",
              "[5 rows x 29 columns]"
            ]
          },
          "metadata": {},
          "execution_count": 8
        }
      ]
    },
    {
      "cell_type": "markdown",
      "metadata": {
        "id": "Fq5_3nHtSKoK"
      },
      "source": [
        "# Tratamento dos dados"
      ]
    },
    {
      "cell_type": "markdown",
      "metadata": {
        "id": "sQrKC0dmxGpg"
      },
      "source": [
        "Tratando valores nulos em 'Income'"
      ]
    },
    {
      "cell_type": "code",
      "metadata": {
        "colab": {
          "base_uri": "https://localhost:8080/"
        },
        "id": "cY3FufLuvyQ6",
        "outputId": "ca278d13-b9aa-4899-cb5a-0681ca4bed1c"
      },
      "source": [
        "print(\"A coluna 'Income' possui {} valores nulos\".\\\n",
        "      format(df.Income.isnull().sum()))"
      ],
      "execution_count": 9,
      "outputs": [
        {
          "output_type": "stream",
          "name": "stdout",
          "text": [
            "A coluna 'Income' possui 24 valores nulos\n"
          ]
        }
      ]
    },
    {
      "cell_type": "code",
      "metadata": {
        "colab": {
          "base_uri": "https://localhost:8080/",
          "height": 813
        },
        "id": "Ckw7WcHEx8nX",
        "outputId": "7dc23cf9-385c-4cae-ca89-683559505e59"
      },
      "source": [
        "# quais os elementos com valores nulos em 'Income'\n",
        "df_nan = df[df['Income'].isnull()]\n",
        "df_nan"
      ],
      "execution_count": 10,
      "outputs": [
        {
          "output_type": "execute_result",
          "data": {
            "text/html": [
              "<div>\n",
              "<style scoped>\n",
              "    .dataframe tbody tr th:only-of-type {\n",
              "        vertical-align: middle;\n",
              "    }\n",
              "\n",
              "    .dataframe tbody tr th {\n",
              "        vertical-align: top;\n",
              "    }\n",
              "\n",
              "    .dataframe thead th {\n",
              "        text-align: right;\n",
              "    }\n",
              "</style>\n",
              "<table border=\"1\" class=\"dataframe\">\n",
              "  <thead>\n",
              "    <tr style=\"text-align: right;\">\n",
              "      <th></th>\n",
              "      <th>ID</th>\n",
              "      <th>Year_Birth</th>\n",
              "      <th>Education</th>\n",
              "      <th>Marital_Status</th>\n",
              "      <th>Income</th>\n",
              "      <th>Kidhome</th>\n",
              "      <th>Teenhome</th>\n",
              "      <th>Dt_Customer</th>\n",
              "      <th>Recency</th>\n",
              "      <th>MntWines</th>\n",
              "      <th>MntFruits</th>\n",
              "      <th>MntMeatProducts</th>\n",
              "      <th>MntFishProducts</th>\n",
              "      <th>MntSweetProducts</th>\n",
              "      <th>MntGoldProds</th>\n",
              "      <th>NumDealsPurchases</th>\n",
              "      <th>NumWebPurchases</th>\n",
              "      <th>NumCatalogPurchases</th>\n",
              "      <th>NumStorePurchases</th>\n",
              "      <th>NumWebVisitsMonth</th>\n",
              "      <th>AcceptedCmp3</th>\n",
              "      <th>AcceptedCmp4</th>\n",
              "      <th>AcceptedCmp5</th>\n",
              "      <th>AcceptedCmp1</th>\n",
              "      <th>AcceptedCmp2</th>\n",
              "      <th>Complain</th>\n",
              "      <th>Z_CostContact</th>\n",
              "      <th>Z_Revenue</th>\n",
              "      <th>Response</th>\n",
              "    </tr>\n",
              "  </thead>\n",
              "  <tbody>\n",
              "    <tr>\n",
              "      <th>10</th>\n",
              "      <td>1994</td>\n",
              "      <td>1983</td>\n",
              "      <td>Graduation</td>\n",
              "      <td>Married</td>\n",
              "      <td>NaN</td>\n",
              "      <td>1</td>\n",
              "      <td>0</td>\n",
              "      <td>15-11-2013</td>\n",
              "      <td>11</td>\n",
              "      <td>5</td>\n",
              "      <td>5</td>\n",
              "      <td>6</td>\n",
              "      <td>0</td>\n",
              "      <td>2</td>\n",
              "      <td>1</td>\n",
              "      <td>1</td>\n",
              "      <td>1</td>\n",
              "      <td>0</td>\n",
              "      <td>2</td>\n",
              "      <td>7</td>\n",
              "      <td>0</td>\n",
              "      <td>0</td>\n",
              "      <td>0</td>\n",
              "      <td>0</td>\n",
              "      <td>0</td>\n",
              "      <td>0</td>\n",
              "      <td>3</td>\n",
              "      <td>11</td>\n",
              "      <td>0</td>\n",
              "    </tr>\n",
              "    <tr>\n",
              "      <th>27</th>\n",
              "      <td>5255</td>\n",
              "      <td>1986</td>\n",
              "      <td>Graduation</td>\n",
              "      <td>Single</td>\n",
              "      <td>NaN</td>\n",
              "      <td>1</td>\n",
              "      <td>0</td>\n",
              "      <td>20-02-2013</td>\n",
              "      <td>19</td>\n",
              "      <td>5</td>\n",
              "      <td>1</td>\n",
              "      <td>3</td>\n",
              "      <td>3</td>\n",
              "      <td>263</td>\n",
              "      <td>362</td>\n",
              "      <td>0</td>\n",
              "      <td>27</td>\n",
              "      <td>0</td>\n",
              "      <td>0</td>\n",
              "      <td>1</td>\n",
              "      <td>0</td>\n",
              "      <td>0</td>\n",
              "      <td>0</td>\n",
              "      <td>0</td>\n",
              "      <td>0</td>\n",
              "      <td>0</td>\n",
              "      <td>3</td>\n",
              "      <td>11</td>\n",
              "      <td>0</td>\n",
              "    </tr>\n",
              "    <tr>\n",
              "      <th>43</th>\n",
              "      <td>7281</td>\n",
              "      <td>1959</td>\n",
              "      <td>PhD</td>\n",
              "      <td>Single</td>\n",
              "      <td>NaN</td>\n",
              "      <td>0</td>\n",
              "      <td>0</td>\n",
              "      <td>05-11-2013</td>\n",
              "      <td>80</td>\n",
              "      <td>81</td>\n",
              "      <td>11</td>\n",
              "      <td>50</td>\n",
              "      <td>3</td>\n",
              "      <td>2</td>\n",
              "      <td>39</td>\n",
              "      <td>1</td>\n",
              "      <td>1</td>\n",
              "      <td>3</td>\n",
              "      <td>4</td>\n",
              "      <td>2</td>\n",
              "      <td>0</td>\n",
              "      <td>0</td>\n",
              "      <td>0</td>\n",
              "      <td>0</td>\n",
              "      <td>0</td>\n",
              "      <td>0</td>\n",
              "      <td>3</td>\n",
              "      <td>11</td>\n",
              "      <td>0</td>\n",
              "    </tr>\n",
              "    <tr>\n",
              "      <th>48</th>\n",
              "      <td>7244</td>\n",
              "      <td>1951</td>\n",
              "      <td>Graduation</td>\n",
              "      <td>Single</td>\n",
              "      <td>NaN</td>\n",
              "      <td>2</td>\n",
              "      <td>1</td>\n",
              "      <td>01-01-2014</td>\n",
              "      <td>96</td>\n",
              "      <td>48</td>\n",
              "      <td>5</td>\n",
              "      <td>48</td>\n",
              "      <td>6</td>\n",
              "      <td>10</td>\n",
              "      <td>7</td>\n",
              "      <td>3</td>\n",
              "      <td>2</td>\n",
              "      <td>1</td>\n",
              "      <td>4</td>\n",
              "      <td>6</td>\n",
              "      <td>0</td>\n",
              "      <td>0</td>\n",
              "      <td>0</td>\n",
              "      <td>0</td>\n",
              "      <td>0</td>\n",
              "      <td>0</td>\n",
              "      <td>3</td>\n",
              "      <td>11</td>\n",
              "      <td>0</td>\n",
              "    </tr>\n",
              "    <tr>\n",
              "      <th>58</th>\n",
              "      <td>8557</td>\n",
              "      <td>1982</td>\n",
              "      <td>Graduation</td>\n",
              "      <td>Single</td>\n",
              "      <td>NaN</td>\n",
              "      <td>1</td>\n",
              "      <td>0</td>\n",
              "      <td>17-06-2013</td>\n",
              "      <td>57</td>\n",
              "      <td>11</td>\n",
              "      <td>3</td>\n",
              "      <td>22</td>\n",
              "      <td>2</td>\n",
              "      <td>2</td>\n",
              "      <td>6</td>\n",
              "      <td>2</td>\n",
              "      <td>2</td>\n",
              "      <td>0</td>\n",
              "      <td>3</td>\n",
              "      <td>6</td>\n",
              "      <td>0</td>\n",
              "      <td>0</td>\n",
              "      <td>0</td>\n",
              "      <td>0</td>\n",
              "      <td>0</td>\n",
              "      <td>0</td>\n",
              "      <td>3</td>\n",
              "      <td>11</td>\n",
              "      <td>0</td>\n",
              "    </tr>\n",
              "    <tr>\n",
              "      <th>71</th>\n",
              "      <td>10629</td>\n",
              "      <td>1973</td>\n",
              "      <td>2n Cycle</td>\n",
              "      <td>Married</td>\n",
              "      <td>NaN</td>\n",
              "      <td>1</td>\n",
              "      <td>0</td>\n",
              "      <td>14-09-2012</td>\n",
              "      <td>25</td>\n",
              "      <td>25</td>\n",
              "      <td>3</td>\n",
              "      <td>43</td>\n",
              "      <td>17</td>\n",
              "      <td>4</td>\n",
              "      <td>17</td>\n",
              "      <td>3</td>\n",
              "      <td>3</td>\n",
              "      <td>0</td>\n",
              "      <td>3</td>\n",
              "      <td>8</td>\n",
              "      <td>0</td>\n",
              "      <td>0</td>\n",
              "      <td>0</td>\n",
              "      <td>0</td>\n",
              "      <td>0</td>\n",
              "      <td>0</td>\n",
              "      <td>3</td>\n",
              "      <td>11</td>\n",
              "      <td>0</td>\n",
              "    </tr>\n",
              "    <tr>\n",
              "      <th>90</th>\n",
              "      <td>8996</td>\n",
              "      <td>1957</td>\n",
              "      <td>PhD</td>\n",
              "      <td>Married</td>\n",
              "      <td>NaN</td>\n",
              "      <td>2</td>\n",
              "      <td>1</td>\n",
              "      <td>19-11-2012</td>\n",
              "      <td>4</td>\n",
              "      <td>230</td>\n",
              "      <td>42</td>\n",
              "      <td>192</td>\n",
              "      <td>49</td>\n",
              "      <td>37</td>\n",
              "      <td>53</td>\n",
              "      <td>12</td>\n",
              "      <td>7</td>\n",
              "      <td>2</td>\n",
              "      <td>8</td>\n",
              "      <td>9</td>\n",
              "      <td>0</td>\n",
              "      <td>0</td>\n",
              "      <td>0</td>\n",
              "      <td>0</td>\n",
              "      <td>0</td>\n",
              "      <td>0</td>\n",
              "      <td>3</td>\n",
              "      <td>11</td>\n",
              "      <td>0</td>\n",
              "    </tr>\n",
              "    <tr>\n",
              "      <th>91</th>\n",
              "      <td>9235</td>\n",
              "      <td>1957</td>\n",
              "      <td>Graduation</td>\n",
              "      <td>Single</td>\n",
              "      <td>NaN</td>\n",
              "      <td>1</td>\n",
              "      <td>1</td>\n",
              "      <td>27-05-2014</td>\n",
              "      <td>45</td>\n",
              "      <td>7</td>\n",
              "      <td>0</td>\n",
              "      <td>8</td>\n",
              "      <td>2</td>\n",
              "      <td>0</td>\n",
              "      <td>1</td>\n",
              "      <td>1</td>\n",
              "      <td>1</td>\n",
              "      <td>0</td>\n",
              "      <td>2</td>\n",
              "      <td>7</td>\n",
              "      <td>0</td>\n",
              "      <td>0</td>\n",
              "      <td>0</td>\n",
              "      <td>0</td>\n",
              "      <td>0</td>\n",
              "      <td>0</td>\n",
              "      <td>3</td>\n",
              "      <td>11</td>\n",
              "      <td>0</td>\n",
              "    </tr>\n",
              "    <tr>\n",
              "      <th>92</th>\n",
              "      <td>5798</td>\n",
              "      <td>1973</td>\n",
              "      <td>Master</td>\n",
              "      <td>Together</td>\n",
              "      <td>NaN</td>\n",
              "      <td>0</td>\n",
              "      <td>0</td>\n",
              "      <td>23-11-2013</td>\n",
              "      <td>87</td>\n",
              "      <td>445</td>\n",
              "      <td>37</td>\n",
              "      <td>359</td>\n",
              "      <td>98</td>\n",
              "      <td>28</td>\n",
              "      <td>18</td>\n",
              "      <td>1</td>\n",
              "      <td>2</td>\n",
              "      <td>4</td>\n",
              "      <td>8</td>\n",
              "      <td>1</td>\n",
              "      <td>0</td>\n",
              "      <td>0</td>\n",
              "      <td>0</td>\n",
              "      <td>0</td>\n",
              "      <td>0</td>\n",
              "      <td>0</td>\n",
              "      <td>3</td>\n",
              "      <td>11</td>\n",
              "      <td>0</td>\n",
              "    </tr>\n",
              "    <tr>\n",
              "      <th>128</th>\n",
              "      <td>8268</td>\n",
              "      <td>1961</td>\n",
              "      <td>PhD</td>\n",
              "      <td>Married</td>\n",
              "      <td>NaN</td>\n",
              "      <td>0</td>\n",
              "      <td>1</td>\n",
              "      <td>11-07-2013</td>\n",
              "      <td>23</td>\n",
              "      <td>352</td>\n",
              "      <td>0</td>\n",
              "      <td>27</td>\n",
              "      <td>10</td>\n",
              "      <td>0</td>\n",
              "      <td>15</td>\n",
              "      <td>3</td>\n",
              "      <td>6</td>\n",
              "      <td>1</td>\n",
              "      <td>7</td>\n",
              "      <td>6</td>\n",
              "      <td>0</td>\n",
              "      <td>0</td>\n",
              "      <td>0</td>\n",
              "      <td>0</td>\n",
              "      <td>0</td>\n",
              "      <td>0</td>\n",
              "      <td>3</td>\n",
              "      <td>11</td>\n",
              "      <td>0</td>\n",
              "    </tr>\n",
              "    <tr>\n",
              "      <th>133</th>\n",
              "      <td>1295</td>\n",
              "      <td>1963</td>\n",
              "      <td>Graduation</td>\n",
              "      <td>Married</td>\n",
              "      <td>NaN</td>\n",
              "      <td>0</td>\n",
              "      <td>1</td>\n",
              "      <td>11-08-2013</td>\n",
              "      <td>96</td>\n",
              "      <td>231</td>\n",
              "      <td>65</td>\n",
              "      <td>196</td>\n",
              "      <td>38</td>\n",
              "      <td>71</td>\n",
              "      <td>124</td>\n",
              "      <td>1</td>\n",
              "      <td>6</td>\n",
              "      <td>5</td>\n",
              "      <td>7</td>\n",
              "      <td>4</td>\n",
              "      <td>0</td>\n",
              "      <td>0</td>\n",
              "      <td>0</td>\n",
              "      <td>0</td>\n",
              "      <td>0</td>\n",
              "      <td>0</td>\n",
              "      <td>3</td>\n",
              "      <td>11</td>\n",
              "      <td>0</td>\n",
              "    </tr>\n",
              "    <tr>\n",
              "      <th>312</th>\n",
              "      <td>2437</td>\n",
              "      <td>1989</td>\n",
              "      <td>Graduation</td>\n",
              "      <td>Married</td>\n",
              "      <td>NaN</td>\n",
              "      <td>0</td>\n",
              "      <td>0</td>\n",
              "      <td>03-06-2013</td>\n",
              "      <td>69</td>\n",
              "      <td>861</td>\n",
              "      <td>138</td>\n",
              "      <td>461</td>\n",
              "      <td>60</td>\n",
              "      <td>30</td>\n",
              "      <td>61</td>\n",
              "      <td>1</td>\n",
              "      <td>6</td>\n",
              "      <td>5</td>\n",
              "      <td>12</td>\n",
              "      <td>3</td>\n",
              "      <td>0</td>\n",
              "      <td>1</td>\n",
              "      <td>0</td>\n",
              "      <td>1</td>\n",
              "      <td>0</td>\n",
              "      <td>0</td>\n",
              "      <td>3</td>\n",
              "      <td>11</td>\n",
              "      <td>0</td>\n",
              "    </tr>\n",
              "    <tr>\n",
              "      <th>319</th>\n",
              "      <td>2863</td>\n",
              "      <td>1970</td>\n",
              "      <td>Graduation</td>\n",
              "      <td>Single</td>\n",
              "      <td>NaN</td>\n",
              "      <td>1</td>\n",
              "      <td>2</td>\n",
              "      <td>23-08-2013</td>\n",
              "      <td>67</td>\n",
              "      <td>738</td>\n",
              "      <td>20</td>\n",
              "      <td>172</td>\n",
              "      <td>52</td>\n",
              "      <td>50</td>\n",
              "      <td>20</td>\n",
              "      <td>6</td>\n",
              "      <td>2</td>\n",
              "      <td>3</td>\n",
              "      <td>10</td>\n",
              "      <td>7</td>\n",
              "      <td>0</td>\n",
              "      <td>1</td>\n",
              "      <td>0</td>\n",
              "      <td>1</td>\n",
              "      <td>0</td>\n",
              "      <td>0</td>\n",
              "      <td>3</td>\n",
              "      <td>11</td>\n",
              "      <td>0</td>\n",
              "    </tr>\n",
              "    <tr>\n",
              "      <th>1379</th>\n",
              "      <td>10475</td>\n",
              "      <td>1970</td>\n",
              "      <td>Master</td>\n",
              "      <td>Together</td>\n",
              "      <td>NaN</td>\n",
              "      <td>0</td>\n",
              "      <td>1</td>\n",
              "      <td>01-04-2013</td>\n",
              "      <td>39</td>\n",
              "      <td>187</td>\n",
              "      <td>5</td>\n",
              "      <td>65</td>\n",
              "      <td>26</td>\n",
              "      <td>20</td>\n",
              "      <td>14</td>\n",
              "      <td>2</td>\n",
              "      <td>4</td>\n",
              "      <td>2</td>\n",
              "      <td>6</td>\n",
              "      <td>5</td>\n",
              "      <td>0</td>\n",
              "      <td>0</td>\n",
              "      <td>0</td>\n",
              "      <td>0</td>\n",
              "      <td>0</td>\n",
              "      <td>0</td>\n",
              "      <td>3</td>\n",
              "      <td>11</td>\n",
              "      <td>0</td>\n",
              "    </tr>\n",
              "    <tr>\n",
              "      <th>1382</th>\n",
              "      <td>2902</td>\n",
              "      <td>1958</td>\n",
              "      <td>Graduation</td>\n",
              "      <td>Together</td>\n",
              "      <td>NaN</td>\n",
              "      <td>1</td>\n",
              "      <td>1</td>\n",
              "      <td>03-09-2012</td>\n",
              "      <td>87</td>\n",
              "      <td>19</td>\n",
              "      <td>4</td>\n",
              "      <td>12</td>\n",
              "      <td>2</td>\n",
              "      <td>2</td>\n",
              "      <td>6</td>\n",
              "      <td>1</td>\n",
              "      <td>1</td>\n",
              "      <td>0</td>\n",
              "      <td>3</td>\n",
              "      <td>5</td>\n",
              "      <td>0</td>\n",
              "      <td>0</td>\n",
              "      <td>0</td>\n",
              "      <td>0</td>\n",
              "      <td>0</td>\n",
              "      <td>0</td>\n",
              "      <td>3</td>\n",
              "      <td>11</td>\n",
              "      <td>0</td>\n",
              "    </tr>\n",
              "    <tr>\n",
              "      <th>1383</th>\n",
              "      <td>4345</td>\n",
              "      <td>1964</td>\n",
              "      <td>2n Cycle</td>\n",
              "      <td>Single</td>\n",
              "      <td>NaN</td>\n",
              "      <td>1</td>\n",
              "      <td>1</td>\n",
              "      <td>12-01-2014</td>\n",
              "      <td>49</td>\n",
              "      <td>5</td>\n",
              "      <td>1</td>\n",
              "      <td>9</td>\n",
              "      <td>2</td>\n",
              "      <td>0</td>\n",
              "      <td>4</td>\n",
              "      <td>1</td>\n",
              "      <td>1</td>\n",
              "      <td>0</td>\n",
              "      <td>2</td>\n",
              "      <td>7</td>\n",
              "      <td>0</td>\n",
              "      <td>0</td>\n",
              "      <td>0</td>\n",
              "      <td>0</td>\n",
              "      <td>0</td>\n",
              "      <td>0</td>\n",
              "      <td>3</td>\n",
              "      <td>11</td>\n",
              "      <td>0</td>\n",
              "    </tr>\n",
              "    <tr>\n",
              "      <th>1386</th>\n",
              "      <td>3769</td>\n",
              "      <td>1972</td>\n",
              "      <td>PhD</td>\n",
              "      <td>Together</td>\n",
              "      <td>NaN</td>\n",
              "      <td>1</td>\n",
              "      <td>0</td>\n",
              "      <td>02-03-2014</td>\n",
              "      <td>17</td>\n",
              "      <td>25</td>\n",
              "      <td>1</td>\n",
              "      <td>13</td>\n",
              "      <td>0</td>\n",
              "      <td>0</td>\n",
              "      <td>3</td>\n",
              "      <td>1</td>\n",
              "      <td>1</td>\n",
              "      <td>0</td>\n",
              "      <td>3</td>\n",
              "      <td>7</td>\n",
              "      <td>0</td>\n",
              "      <td>0</td>\n",
              "      <td>0</td>\n",
              "      <td>0</td>\n",
              "      <td>0</td>\n",
              "      <td>0</td>\n",
              "      <td>3</td>\n",
              "      <td>11</td>\n",
              "      <td>0</td>\n",
              "    </tr>\n",
              "    <tr>\n",
              "      <th>2059</th>\n",
              "      <td>7187</td>\n",
              "      <td>1969</td>\n",
              "      <td>Master</td>\n",
              "      <td>Together</td>\n",
              "      <td>NaN</td>\n",
              "      <td>1</td>\n",
              "      <td>1</td>\n",
              "      <td>18-05-2013</td>\n",
              "      <td>52</td>\n",
              "      <td>375</td>\n",
              "      <td>42</td>\n",
              "      <td>48</td>\n",
              "      <td>94</td>\n",
              "      <td>66</td>\n",
              "      <td>96</td>\n",
              "      <td>7</td>\n",
              "      <td>4</td>\n",
              "      <td>10</td>\n",
              "      <td>4</td>\n",
              "      <td>3</td>\n",
              "      <td>0</td>\n",
              "      <td>0</td>\n",
              "      <td>0</td>\n",
              "      <td>0</td>\n",
              "      <td>0</td>\n",
              "      <td>0</td>\n",
              "      <td>3</td>\n",
              "      <td>11</td>\n",
              "      <td>0</td>\n",
              "    </tr>\n",
              "    <tr>\n",
              "      <th>2061</th>\n",
              "      <td>1612</td>\n",
              "      <td>1981</td>\n",
              "      <td>PhD</td>\n",
              "      <td>Single</td>\n",
              "      <td>NaN</td>\n",
              "      <td>1</td>\n",
              "      <td>0</td>\n",
              "      <td>31-05-2013</td>\n",
              "      <td>82</td>\n",
              "      <td>23</td>\n",
              "      <td>0</td>\n",
              "      <td>15</td>\n",
              "      <td>0</td>\n",
              "      <td>2</td>\n",
              "      <td>7</td>\n",
              "      <td>2</td>\n",
              "      <td>3</td>\n",
              "      <td>0</td>\n",
              "      <td>3</td>\n",
              "      <td>6</td>\n",
              "      <td>0</td>\n",
              "      <td>0</td>\n",
              "      <td>0</td>\n",
              "      <td>0</td>\n",
              "      <td>0</td>\n",
              "      <td>0</td>\n",
              "      <td>3</td>\n",
              "      <td>11</td>\n",
              "      <td>0</td>\n",
              "    </tr>\n",
              "    <tr>\n",
              "      <th>2078</th>\n",
              "      <td>5079</td>\n",
              "      <td>1971</td>\n",
              "      <td>Graduation</td>\n",
              "      <td>Married</td>\n",
              "      <td>NaN</td>\n",
              "      <td>1</td>\n",
              "      <td>1</td>\n",
              "      <td>03-03-2013</td>\n",
              "      <td>82</td>\n",
              "      <td>71</td>\n",
              "      <td>1</td>\n",
              "      <td>16</td>\n",
              "      <td>0</td>\n",
              "      <td>0</td>\n",
              "      <td>9</td>\n",
              "      <td>4</td>\n",
              "      <td>2</td>\n",
              "      <td>1</td>\n",
              "      <td>3</td>\n",
              "      <td>8</td>\n",
              "      <td>0</td>\n",
              "      <td>0</td>\n",
              "      <td>0</td>\n",
              "      <td>0</td>\n",
              "      <td>0</td>\n",
              "      <td>0</td>\n",
              "      <td>3</td>\n",
              "      <td>11</td>\n",
              "      <td>0</td>\n",
              "    </tr>\n",
              "    <tr>\n",
              "      <th>2079</th>\n",
              "      <td>10339</td>\n",
              "      <td>1954</td>\n",
              "      <td>Master</td>\n",
              "      <td>Together</td>\n",
              "      <td>NaN</td>\n",
              "      <td>0</td>\n",
              "      <td>1</td>\n",
              "      <td>23-06-2013</td>\n",
              "      <td>83</td>\n",
              "      <td>161</td>\n",
              "      <td>0</td>\n",
              "      <td>22</td>\n",
              "      <td>0</td>\n",
              "      <td>0</td>\n",
              "      <td>24</td>\n",
              "      <td>2</td>\n",
              "      <td>4</td>\n",
              "      <td>1</td>\n",
              "      <td>4</td>\n",
              "      <td>6</td>\n",
              "      <td>0</td>\n",
              "      <td>0</td>\n",
              "      <td>0</td>\n",
              "      <td>0</td>\n",
              "      <td>0</td>\n",
              "      <td>0</td>\n",
              "      <td>3</td>\n",
              "      <td>11</td>\n",
              "      <td>0</td>\n",
              "    </tr>\n",
              "    <tr>\n",
              "      <th>2081</th>\n",
              "      <td>3117</td>\n",
              "      <td>1955</td>\n",
              "      <td>Graduation</td>\n",
              "      <td>Single</td>\n",
              "      <td>NaN</td>\n",
              "      <td>0</td>\n",
              "      <td>1</td>\n",
              "      <td>18-10-2013</td>\n",
              "      <td>95</td>\n",
              "      <td>264</td>\n",
              "      <td>0</td>\n",
              "      <td>21</td>\n",
              "      <td>12</td>\n",
              "      <td>6</td>\n",
              "      <td>147</td>\n",
              "      <td>3</td>\n",
              "      <td>6</td>\n",
              "      <td>1</td>\n",
              "      <td>5</td>\n",
              "      <td>7</td>\n",
              "      <td>0</td>\n",
              "      <td>0</td>\n",
              "      <td>0</td>\n",
              "      <td>0</td>\n",
              "      <td>0</td>\n",
              "      <td>0</td>\n",
              "      <td>3</td>\n",
              "      <td>11</td>\n",
              "      <td>0</td>\n",
              "    </tr>\n",
              "    <tr>\n",
              "      <th>2084</th>\n",
              "      <td>5250</td>\n",
              "      <td>1943</td>\n",
              "      <td>Master</td>\n",
              "      <td>Widow</td>\n",
              "      <td>NaN</td>\n",
              "      <td>0</td>\n",
              "      <td>0</td>\n",
              "      <td>30-10-2013</td>\n",
              "      <td>75</td>\n",
              "      <td>532</td>\n",
              "      <td>126</td>\n",
              "      <td>490</td>\n",
              "      <td>164</td>\n",
              "      <td>126</td>\n",
              "      <td>126</td>\n",
              "      <td>1</td>\n",
              "      <td>5</td>\n",
              "      <td>5</td>\n",
              "      <td>11</td>\n",
              "      <td>1</td>\n",
              "      <td>0</td>\n",
              "      <td>0</td>\n",
              "      <td>1</td>\n",
              "      <td>0</td>\n",
              "      <td>0</td>\n",
              "      <td>0</td>\n",
              "      <td>3</td>\n",
              "      <td>11</td>\n",
              "      <td>1</td>\n",
              "    </tr>\n",
              "    <tr>\n",
              "      <th>2228</th>\n",
              "      <td>8720</td>\n",
              "      <td>1978</td>\n",
              "      <td>2n Cycle</td>\n",
              "      <td>Together</td>\n",
              "      <td>NaN</td>\n",
              "      <td>0</td>\n",
              "      <td>0</td>\n",
              "      <td>12-08-2012</td>\n",
              "      <td>53</td>\n",
              "      <td>32</td>\n",
              "      <td>2</td>\n",
              "      <td>1607</td>\n",
              "      <td>12</td>\n",
              "      <td>4</td>\n",
              "      <td>22</td>\n",
              "      <td>0</td>\n",
              "      <td>0</td>\n",
              "      <td>0</td>\n",
              "      <td>1</td>\n",
              "      <td>0</td>\n",
              "      <td>0</td>\n",
              "      <td>1</td>\n",
              "      <td>0</td>\n",
              "      <td>0</td>\n",
              "      <td>0</td>\n",
              "      <td>0</td>\n",
              "      <td>3</td>\n",
              "      <td>11</td>\n",
              "      <td>0</td>\n",
              "    </tr>\n",
              "  </tbody>\n",
              "</table>\n",
              "</div>"
            ],
            "text/plain": [
              "         ID  Year_Birth   Education  ... Z_CostContact  Z_Revenue  Response\n",
              "10     1994        1983  Graduation  ...             3         11         0\n",
              "27     5255        1986  Graduation  ...             3         11         0\n",
              "43     7281        1959         PhD  ...             3         11         0\n",
              "48     7244        1951  Graduation  ...             3         11         0\n",
              "58     8557        1982  Graduation  ...             3         11         0\n",
              "71    10629        1973    2n Cycle  ...             3         11         0\n",
              "90     8996        1957         PhD  ...             3         11         0\n",
              "91     9235        1957  Graduation  ...             3         11         0\n",
              "92     5798        1973      Master  ...             3         11         0\n",
              "128    8268        1961         PhD  ...             3         11         0\n",
              "133    1295        1963  Graduation  ...             3         11         0\n",
              "312    2437        1989  Graduation  ...             3         11         0\n",
              "319    2863        1970  Graduation  ...             3         11         0\n",
              "1379  10475        1970      Master  ...             3         11         0\n",
              "1382   2902        1958  Graduation  ...             3         11         0\n",
              "1383   4345        1964    2n Cycle  ...             3         11         0\n",
              "1386   3769        1972         PhD  ...             3         11         0\n",
              "2059   7187        1969      Master  ...             3         11         0\n",
              "2061   1612        1981         PhD  ...             3         11         0\n",
              "2078   5079        1971  Graduation  ...             3         11         0\n",
              "2079  10339        1954      Master  ...             3         11         0\n",
              "2081   3117        1955  Graduation  ...             3         11         0\n",
              "2084   5250        1943      Master  ...             3         11         1\n",
              "2228   8720        1978    2n Cycle  ...             3         11         0\n",
              "\n",
              "[24 rows x 29 columns]"
            ]
          },
          "metadata": {},
          "execution_count": 10
        }
      ]
    },
    {
      "cell_type": "code",
      "metadata": {
        "colab": {
          "base_uri": "https://localhost:8080/"
        },
        "id": "D-ZR1PW_xUQX",
        "outputId": "effe3f65-8eca-4812-e8c8-8daecb193513"
      },
      "source": [
        "# proporção de valores nulos\n",
        "print(\"{:.2f} % dos valores da coluna 'Income' são nulos.\".\\\n",
        "      format((df.Income.isnull().sum() / df.shape[0]) * 100))"
      ],
      "execution_count": 11,
      "outputs": [
        {
          "output_type": "stream",
          "name": "stdout",
          "text": [
            "1.07 % dos valores da coluna 'Income' são nulos.\n"
          ]
        }
      ]
    },
    {
      "cell_type": "code",
      "metadata": {
        "id": "dX73obnSyI3p",
        "colab": {
          "base_uri": "https://localhost:8080/"
        },
        "outputId": "52220945-a38f-4f79-c69c-9bd8baffa987"
      },
      "source": [
        "# removendo valores nulos do dataset\n",
        "df = df.dropna()\n",
        "df.isnull().sum().sum()"
      ],
      "execution_count": 12,
      "outputs": [
        {
          "output_type": "execute_result",
          "data": {
            "text/plain": [
              "0"
            ]
          },
          "metadata": {},
          "execution_count": 12
        }
      ]
    },
    {
      "cell_type": "markdown",
      "metadata": {
        "id": "4se4GI1ypJxE"
      },
      "source": [
        "Transformando a coluna 'Dt_Customer' em uma variável numérica contínua"
      ]
    },
    {
      "cell_type": "code",
      "metadata": {
        "id": "k_INgNr9Rw7B"
      },
      "source": [
        "# alterando para datetime\n",
        "df['Dt_Customer'] = pd.to_datetime(df['Dt_Customer'], \n",
        "                                   dayfirst=True, \n",
        "                                   format = '%d-%m-%Y')"
      ],
      "execution_count": 13,
      "outputs": []
    },
    {
      "cell_type": "code",
      "metadata": {
        "id": "wA_oe7lx08JU"
      },
      "source": [
        "# convertendo a data de inscrição (datetime) para dias inscritos (int)\n",
        "current_date = df['Dt_Customer'].max()\n",
        "df['Dt_Customer'] = (current_date - df['Dt_Customer']).dt.days"
      ],
      "execution_count": 14,
      "outputs": []
    },
    {
      "cell_type": "code",
      "metadata": {
        "colab": {
          "base_uri": "https://localhost:8080/"
        },
        "id": "w4F77SA11bU1",
        "outputId": "dde327a8-4135-4fd7-8990-6af4f7c94d66"
      },
      "source": [
        "df['Dt_Customer'].head()"
      ],
      "execution_count": 15,
      "outputs": [
        {
          "output_type": "execute_result",
          "data": {
            "text/plain": [
              "0    663\n",
              "1    113\n",
              "2    312\n",
              "3    139\n",
              "4    161\n",
              "Name: Dt_Customer, dtype: int64"
            ]
          },
          "metadata": {},
          "execution_count": 15
        }
      ]
    },
    {
      "cell_type": "code",
      "metadata": {
        "colab": {
          "base_uri": "https://localhost:8080/"
        },
        "id": "nJSwjfSsVlQ7",
        "outputId": "9afeff2f-c4a4-4038-cb86-b1334af5ef0c"
      },
      "source": [
        "# quantidade de valores distintos em cada coluna\n",
        "df.nunique()"
      ],
      "execution_count": 16,
      "outputs": [
        {
          "output_type": "execute_result",
          "data": {
            "text/plain": [
              "ID                     2216\n",
              "Year_Birth               59\n",
              "Education                 5\n",
              "Marital_Status            8\n",
              "Income                 1974\n",
              "Kidhome                   3\n",
              "Teenhome                  3\n",
              "Dt_Customer             662\n",
              "Recency                 100\n",
              "MntWines                776\n",
              "MntFruits               158\n",
              "MntMeatProducts         554\n",
              "MntFishProducts         182\n",
              "MntSweetProducts        176\n",
              "MntGoldProds            212\n",
              "NumDealsPurchases        15\n",
              "NumWebPurchases          15\n",
              "NumCatalogPurchases      14\n",
              "NumStorePurchases        14\n",
              "NumWebVisitsMonth        16\n",
              "AcceptedCmp3              2\n",
              "AcceptedCmp4              2\n",
              "AcceptedCmp5              2\n",
              "AcceptedCmp1              2\n",
              "AcceptedCmp2              2\n",
              "Complain                  2\n",
              "Z_CostContact             1\n",
              "Z_Revenue                 1\n",
              "Response                  2\n",
              "dtype: int64"
            ]
          },
          "metadata": {},
          "execution_count": 16
        }
      ]
    },
    {
      "cell_type": "code",
      "metadata": {
        "id": "-UDrsm8zpZog",
        "colab": {
          "base_uri": "https://localhost:8080/",
          "height": 317
        },
        "outputId": "090e2c00-8b75-4a07-d255-caf144230c7c"
      },
      "source": [
        "df.describe()"
      ],
      "execution_count": 17,
      "outputs": [
        {
          "output_type": "execute_result",
          "data": {
            "text/html": [
              "<div>\n",
              "<style scoped>\n",
              "    .dataframe tbody tr th:only-of-type {\n",
              "        vertical-align: middle;\n",
              "    }\n",
              "\n",
              "    .dataframe tbody tr th {\n",
              "        vertical-align: top;\n",
              "    }\n",
              "\n",
              "    .dataframe thead th {\n",
              "        text-align: right;\n",
              "    }\n",
              "</style>\n",
              "<table border=\"1\" class=\"dataframe\">\n",
              "  <thead>\n",
              "    <tr style=\"text-align: right;\">\n",
              "      <th></th>\n",
              "      <th>ID</th>\n",
              "      <th>Year_Birth</th>\n",
              "      <th>Income</th>\n",
              "      <th>Kidhome</th>\n",
              "      <th>Teenhome</th>\n",
              "      <th>Dt_Customer</th>\n",
              "      <th>Recency</th>\n",
              "      <th>MntWines</th>\n",
              "      <th>MntFruits</th>\n",
              "      <th>MntMeatProducts</th>\n",
              "      <th>MntFishProducts</th>\n",
              "      <th>MntSweetProducts</th>\n",
              "      <th>MntGoldProds</th>\n",
              "      <th>NumDealsPurchases</th>\n",
              "      <th>NumWebPurchases</th>\n",
              "      <th>NumCatalogPurchases</th>\n",
              "      <th>NumStorePurchases</th>\n",
              "      <th>NumWebVisitsMonth</th>\n",
              "      <th>AcceptedCmp3</th>\n",
              "      <th>AcceptedCmp4</th>\n",
              "      <th>AcceptedCmp5</th>\n",
              "      <th>AcceptedCmp1</th>\n",
              "      <th>AcceptedCmp2</th>\n",
              "      <th>Complain</th>\n",
              "      <th>Z_CostContact</th>\n",
              "      <th>Z_Revenue</th>\n",
              "      <th>Response</th>\n",
              "    </tr>\n",
              "  </thead>\n",
              "  <tbody>\n",
              "    <tr>\n",
              "      <th>count</th>\n",
              "      <td>2216.000000</td>\n",
              "      <td>2216.000000</td>\n",
              "      <td>2216.000000</td>\n",
              "      <td>2216.000000</td>\n",
              "      <td>2216.000000</td>\n",
              "      <td>2216.000000</td>\n",
              "      <td>2216.000000</td>\n",
              "      <td>2216.000000</td>\n",
              "      <td>2216.000000</td>\n",
              "      <td>2216.000000</td>\n",
              "      <td>2216.000000</td>\n",
              "      <td>2216.000000</td>\n",
              "      <td>2216.000000</td>\n",
              "      <td>2216.000000</td>\n",
              "      <td>2216.000000</td>\n",
              "      <td>2216.000000</td>\n",
              "      <td>2216.000000</td>\n",
              "      <td>2216.000000</td>\n",
              "      <td>2216.000000</td>\n",
              "      <td>2216.000000</td>\n",
              "      <td>2216.000000</td>\n",
              "      <td>2216.000000</td>\n",
              "      <td>2216.000000</td>\n",
              "      <td>2216.000000</td>\n",
              "      <td>2216.0</td>\n",
              "      <td>2216.0</td>\n",
              "      <td>2216.000000</td>\n",
              "    </tr>\n",
              "    <tr>\n",
              "      <th>mean</th>\n",
              "      <td>5588.353339</td>\n",
              "      <td>1968.820397</td>\n",
              "      <td>52247.251354</td>\n",
              "      <td>0.441787</td>\n",
              "      <td>0.505415</td>\n",
              "      <td>353.521209</td>\n",
              "      <td>49.012635</td>\n",
              "      <td>305.091606</td>\n",
              "      <td>26.356047</td>\n",
              "      <td>166.995939</td>\n",
              "      <td>37.637635</td>\n",
              "      <td>27.028881</td>\n",
              "      <td>43.965253</td>\n",
              "      <td>2.323556</td>\n",
              "      <td>4.085289</td>\n",
              "      <td>2.671029</td>\n",
              "      <td>5.800993</td>\n",
              "      <td>5.319043</td>\n",
              "      <td>0.073556</td>\n",
              "      <td>0.074007</td>\n",
              "      <td>0.073105</td>\n",
              "      <td>0.064079</td>\n",
              "      <td>0.013538</td>\n",
              "      <td>0.009477</td>\n",
              "      <td>3.0</td>\n",
              "      <td>11.0</td>\n",
              "      <td>0.150271</td>\n",
              "    </tr>\n",
              "    <tr>\n",
              "      <th>std</th>\n",
              "      <td>3249.376275</td>\n",
              "      <td>11.985554</td>\n",
              "      <td>25173.076661</td>\n",
              "      <td>0.536896</td>\n",
              "      <td>0.544181</td>\n",
              "      <td>202.434667</td>\n",
              "      <td>28.948352</td>\n",
              "      <td>337.327920</td>\n",
              "      <td>39.793917</td>\n",
              "      <td>224.283273</td>\n",
              "      <td>54.752082</td>\n",
              "      <td>41.072046</td>\n",
              "      <td>51.815414</td>\n",
              "      <td>1.923716</td>\n",
              "      <td>2.740951</td>\n",
              "      <td>2.926734</td>\n",
              "      <td>3.250785</td>\n",
              "      <td>2.425359</td>\n",
              "      <td>0.261106</td>\n",
              "      <td>0.261842</td>\n",
              "      <td>0.260367</td>\n",
              "      <td>0.244950</td>\n",
              "      <td>0.115588</td>\n",
              "      <td>0.096907</td>\n",
              "      <td>0.0</td>\n",
              "      <td>0.0</td>\n",
              "      <td>0.357417</td>\n",
              "    </tr>\n",
              "    <tr>\n",
              "      <th>min</th>\n",
              "      <td>0.000000</td>\n",
              "      <td>1893.000000</td>\n",
              "      <td>1730.000000</td>\n",
              "      <td>0.000000</td>\n",
              "      <td>0.000000</td>\n",
              "      <td>0.000000</td>\n",
              "      <td>0.000000</td>\n",
              "      <td>0.000000</td>\n",
              "      <td>0.000000</td>\n",
              "      <td>0.000000</td>\n",
              "      <td>0.000000</td>\n",
              "      <td>0.000000</td>\n",
              "      <td>0.000000</td>\n",
              "      <td>0.000000</td>\n",
              "      <td>0.000000</td>\n",
              "      <td>0.000000</td>\n",
              "      <td>0.000000</td>\n",
              "      <td>0.000000</td>\n",
              "      <td>0.000000</td>\n",
              "      <td>0.000000</td>\n",
              "      <td>0.000000</td>\n",
              "      <td>0.000000</td>\n",
              "      <td>0.000000</td>\n",
              "      <td>0.000000</td>\n",
              "      <td>3.0</td>\n",
              "      <td>11.0</td>\n",
              "      <td>0.000000</td>\n",
              "    </tr>\n",
              "    <tr>\n",
              "      <th>25%</th>\n",
              "      <td>2814.750000</td>\n",
              "      <td>1959.000000</td>\n",
              "      <td>35303.000000</td>\n",
              "      <td>0.000000</td>\n",
              "      <td>0.000000</td>\n",
              "      <td>180.000000</td>\n",
              "      <td>24.000000</td>\n",
              "      <td>24.000000</td>\n",
              "      <td>2.000000</td>\n",
              "      <td>16.000000</td>\n",
              "      <td>3.000000</td>\n",
              "      <td>1.000000</td>\n",
              "      <td>9.000000</td>\n",
              "      <td>1.000000</td>\n",
              "      <td>2.000000</td>\n",
              "      <td>0.000000</td>\n",
              "      <td>3.000000</td>\n",
              "      <td>3.000000</td>\n",
              "      <td>0.000000</td>\n",
              "      <td>0.000000</td>\n",
              "      <td>0.000000</td>\n",
              "      <td>0.000000</td>\n",
              "      <td>0.000000</td>\n",
              "      <td>0.000000</td>\n",
              "      <td>3.0</td>\n",
              "      <td>11.0</td>\n",
              "      <td>0.000000</td>\n",
              "    </tr>\n",
              "    <tr>\n",
              "      <th>50%</th>\n",
              "      <td>5458.500000</td>\n",
              "      <td>1970.000000</td>\n",
              "      <td>51381.500000</td>\n",
              "      <td>0.000000</td>\n",
              "      <td>0.000000</td>\n",
              "      <td>355.500000</td>\n",
              "      <td>49.000000</td>\n",
              "      <td>174.500000</td>\n",
              "      <td>8.000000</td>\n",
              "      <td>68.000000</td>\n",
              "      <td>12.000000</td>\n",
              "      <td>8.000000</td>\n",
              "      <td>24.500000</td>\n",
              "      <td>2.000000</td>\n",
              "      <td>4.000000</td>\n",
              "      <td>2.000000</td>\n",
              "      <td>5.000000</td>\n",
              "      <td>6.000000</td>\n",
              "      <td>0.000000</td>\n",
              "      <td>0.000000</td>\n",
              "      <td>0.000000</td>\n",
              "      <td>0.000000</td>\n",
              "      <td>0.000000</td>\n",
              "      <td>0.000000</td>\n",
              "      <td>3.0</td>\n",
              "      <td>11.0</td>\n",
              "      <td>0.000000</td>\n",
              "    </tr>\n",
              "    <tr>\n",
              "      <th>75%</th>\n",
              "      <td>8421.750000</td>\n",
              "      <td>1977.000000</td>\n",
              "      <td>68522.000000</td>\n",
              "      <td>1.000000</td>\n",
              "      <td>1.000000</td>\n",
              "      <td>529.000000</td>\n",
              "      <td>74.000000</td>\n",
              "      <td>505.000000</td>\n",
              "      <td>33.000000</td>\n",
              "      <td>232.250000</td>\n",
              "      <td>50.000000</td>\n",
              "      <td>33.000000</td>\n",
              "      <td>56.000000</td>\n",
              "      <td>3.000000</td>\n",
              "      <td>6.000000</td>\n",
              "      <td>4.000000</td>\n",
              "      <td>8.000000</td>\n",
              "      <td>7.000000</td>\n",
              "      <td>0.000000</td>\n",
              "      <td>0.000000</td>\n",
              "      <td>0.000000</td>\n",
              "      <td>0.000000</td>\n",
              "      <td>0.000000</td>\n",
              "      <td>0.000000</td>\n",
              "      <td>3.0</td>\n",
              "      <td>11.0</td>\n",
              "      <td>0.000000</td>\n",
              "    </tr>\n",
              "    <tr>\n",
              "      <th>max</th>\n",
              "      <td>11191.000000</td>\n",
              "      <td>1996.000000</td>\n",
              "      <td>666666.000000</td>\n",
              "      <td>2.000000</td>\n",
              "      <td>2.000000</td>\n",
              "      <td>699.000000</td>\n",
              "      <td>99.000000</td>\n",
              "      <td>1493.000000</td>\n",
              "      <td>199.000000</td>\n",
              "      <td>1725.000000</td>\n",
              "      <td>259.000000</td>\n",
              "      <td>262.000000</td>\n",
              "      <td>321.000000</td>\n",
              "      <td>15.000000</td>\n",
              "      <td>27.000000</td>\n",
              "      <td>28.000000</td>\n",
              "      <td>13.000000</td>\n",
              "      <td>20.000000</td>\n",
              "      <td>1.000000</td>\n",
              "      <td>1.000000</td>\n",
              "      <td>1.000000</td>\n",
              "      <td>1.000000</td>\n",
              "      <td>1.000000</td>\n",
              "      <td>1.000000</td>\n",
              "      <td>3.0</td>\n",
              "      <td>11.0</td>\n",
              "      <td>1.000000</td>\n",
              "    </tr>\n",
              "  </tbody>\n",
              "</table>\n",
              "</div>"
            ],
            "text/plain": [
              "                 ID   Year_Birth  ...  Z_Revenue     Response\n",
              "count   2216.000000  2216.000000  ...     2216.0  2216.000000\n",
              "mean    5588.353339  1968.820397  ...       11.0     0.150271\n",
              "std     3249.376275    11.985554  ...        0.0     0.357417\n",
              "min        0.000000  1893.000000  ...       11.0     0.000000\n",
              "25%     2814.750000  1959.000000  ...       11.0     0.000000\n",
              "50%     5458.500000  1970.000000  ...       11.0     0.000000\n",
              "75%     8421.750000  1977.000000  ...       11.0     0.000000\n",
              "max    11191.000000  1996.000000  ...       11.0     1.000000\n",
              "\n",
              "[8 rows x 27 columns]"
            ]
          },
          "metadata": {},
          "execution_count": 17
        }
      ]
    },
    {
      "cell_type": "markdown",
      "metadata": {
        "id": "OeGecwSsKfxa"
      },
      "source": [
        "As colunas 'Z_CostContract' e 'Z_Revenue' não possuem variância de dados.\n",
        "A coluna ID não possui relevância para a análise aqui proposta;\n",
        "Em ambos os casos, as colunas serão descartadas. "
      ]
    },
    {
      "cell_type": "code",
      "metadata": {
        "colab": {
          "base_uri": "https://localhost:8080/"
        },
        "id": "ZgkxVRenKvmr",
        "outputId": "2094e9ea-b690-4bec-aea6-8f0adf19d405"
      },
      "source": [
        "df.drop(columns=['ID', 'Z_CostContact', 'Z_Revenue'], inplace=True)\n",
        "df.columns"
      ],
      "execution_count": 18,
      "outputs": [
        {
          "output_type": "execute_result",
          "data": {
            "text/plain": [
              "Index(['Year_Birth', 'Education', 'Marital_Status', 'Income', 'Kidhome',\n",
              "       'Teenhome', 'Dt_Customer', 'Recency', 'MntWines', 'MntFruits',\n",
              "       'MntMeatProducts', 'MntFishProducts', 'MntSweetProducts',\n",
              "       'MntGoldProds', 'NumDealsPurchases', 'NumWebPurchases',\n",
              "       'NumCatalogPurchases', 'NumStorePurchases', 'NumWebVisitsMonth',\n",
              "       'AcceptedCmp3', 'AcceptedCmp4', 'AcceptedCmp5', 'AcceptedCmp1',\n",
              "       'AcceptedCmp2', 'Complain', 'Response'],\n",
              "      dtype='object')"
            ]
          },
          "metadata": {},
          "execution_count": 18
        }
      ]
    },
    {
      "cell_type": "markdown",
      "metadata": {
        "id": "g-TD78isDlLl"
      },
      "source": [
        "Redução de valores em 'Marital_Status'"
      ]
    },
    {
      "cell_type": "code",
      "metadata": {
        "colab": {
          "base_uri": "https://localhost:8080/"
        },
        "id": "Vo2l9-KQrDFE",
        "outputId": "45953ea1-c5d9-4bc7-d3ea-536e6b6c4ed3"
      },
      "source": [
        "df['Marital_Status'].value_counts()"
      ],
      "execution_count": 19,
      "outputs": [
        {
          "output_type": "execute_result",
          "data": {
            "text/plain": [
              "Married     857\n",
              "Together    573\n",
              "Single      471\n",
              "Divorced    232\n",
              "Widow        76\n",
              "Alone         3\n",
              "YOLO          2\n",
              "Absurd        2\n",
              "Name: Marital_Status, dtype: int64"
            ]
          },
          "metadata": {},
          "execution_count": 19
        }
      ]
    },
    {
      "cell_type": "code",
      "metadata": {
        "colab": {
          "base_uri": "https://localhost:8080/"
        },
        "id": "cmEvqwPBrTnU",
        "outputId": "cc67f833-3ef2-45c5-f347-59a6af654f91"
      },
      "source": [
        "# reduzindo os valores de 'Marital_Status' para uma variável binária\n",
        "df['Marital_Status'] = df['Marital_Status'].replace(['Married', \n",
        "                                                     'Together'],\n",
        "                                                    'relationship')\n",
        "\n",
        "df['Marital_Status'] = df['Marital_Status'].replace(['Divorced', \n",
        "                                                     'Widow', \n",
        "                                                     'Alone', \n",
        "                                                     'YOLO', \n",
        "                                                     'Absurd',\n",
        "                                                     'Single'],\n",
        "                                                    'single')\n",
        "\n",
        "df['Marital_Status'].value_counts()"
      ],
      "execution_count": 20,
      "outputs": [
        {
          "output_type": "execute_result",
          "data": {
            "text/plain": [
              "relationship    1430\n",
              "single           786\n",
              "Name: Marital_Status, dtype: int64"
            ]
          },
          "metadata": {},
          "execution_count": 20
        }
      ]
    },
    {
      "cell_type": "markdown",
      "metadata": {
        "id": "a27owavEDqB9"
      },
      "source": [
        "### Redução de dimensionalidade"
      ]
    },
    {
      "cell_type": "markdown",
      "metadata": {
        "id": "QD4HMIGWDwDH"
      },
      "source": [
        "Agrupando as colunas por temática"
      ]
    },
    {
      "cell_type": "code",
      "metadata": {
        "id": "djG-B6C6D8rl"
      },
      "source": [
        "df['Children'] = df['Kidhome'] + df['Teenhome']\n",
        "\n",
        "df['Expenses'] = df['MntWines'] + df['MntFruits'] + df['MntMeatProducts'] + df['MntFishProducts'] + df['MntSweetProducts'] + df['MntGoldProds']\n",
        "\n",
        "df['TotalAcceptedCmp'] = df['AcceptedCmp1'] + df['AcceptedCmp2'] + df['AcceptedCmp3'] + df['AcceptedCmp4'] + df['AcceptedCmp5'] + df['Response']\n",
        "\n",
        "df['NumTotalPurchases'] = df['NumWebPurchases'] + df['NumCatalogPurchases'] + df['NumStorePurchases'] + df['NumDealsPurchases']"
      ],
      "execution_count": 21,
      "outputs": []
    },
    {
      "cell_type": "markdown",
      "metadata": {
        "id": "vKc74esJGAEW"
      },
      "source": [
        "Transformação da coluna 'Year_Birth' em 'Age'"
      ]
    },
    {
      "cell_type": "code",
      "metadata": {
        "id": "XFwPqPTjGrkm"
      },
      "source": [
        "year = current_date.year"
      ],
      "execution_count": 22,
      "outputs": []
    },
    {
      "cell_type": "code",
      "metadata": {
        "id": "dq-V9Q6hF-Uh"
      },
      "source": [
        "df['Age'] = year - df['Year_Birth']"
      ],
      "execution_count": 23,
      "outputs": []
    },
    {
      "cell_type": "code",
      "metadata": {
        "id": "2oUSlMqiEWP9"
      },
      "source": [
        "col_del = [\"AcceptedCmp1\" , \n",
        "           \"AcceptedCmp2\", \n",
        "           \"AcceptedCmp3\" , \n",
        "           \"AcceptedCmp4\",\n",
        "           \"AcceptedCmp5\", \n",
        "           \"Response\",\n",
        "           \"NumWebVisitsMonth\", \n",
        "           \"NumWebPurchases\",\n",
        "           \"NumCatalogPurchases\",\n",
        "           \"NumStorePurchases\",\n",
        "           \"NumDealsPurchases\" , \n",
        "           \"Kidhome\", \n",
        "           \"Teenhome\",\n",
        "           \"MntWines\", \n",
        "           \"MntFruits\", \n",
        "           \"MntMeatProducts\", \n",
        "           \"MntFishProducts\", \n",
        "           \"MntSweetProducts\", \n",
        "           \"MntGoldProds\",\n",
        "           \"Year_Birth\"]\n",
        "\n",
        "df=df.drop(columns=col_del,axis=1)"
      ],
      "execution_count": 24,
      "outputs": []
    },
    {
      "cell_type": "markdown",
      "metadata": {
        "id": "W2QY_KhbouFy"
      },
      "source": [
        "## Classificando as colunas do dataset"
      ]
    },
    {
      "cell_type": "markdown",
      "metadata": {
        "id": "ozCMcMXKmDaZ"
      },
      "source": [
        "Variveis numéricas contínuas"
      ]
    },
    {
      "cell_type": "code",
      "metadata": {
        "id": "7NanMULXkcwJ"
      },
      "source": [
        "cont_variables = df[['Age', \n",
        "                     'Income',\n",
        "                     'Dt_Customer', \n",
        "                     'Recency', \n",
        "                     'Expenses',\n",
        "                     'NumTotalPurchases'\n",
        "                     ]]"
      ],
      "execution_count": 25,
      "outputs": []
    },
    {
      "cell_type": "markdown",
      "metadata": {
        "id": "RfwSiNg_nGJK"
      },
      "source": [
        "Variáveis discretas"
      ]
    },
    {
      "cell_type": "code",
      "metadata": {
        "id": "7Q4R1iFxmPwi"
      },
      "source": [
        "disc_variables = df[['Children',\n",
        "                     'TotalAcceptedCmp', \n",
        "                     'Complain',\n",
        "                     'Marital_Status'\n",
        "                     ]]                "
      ],
      "execution_count": 26,
      "outputs": []
    },
    {
      "cell_type": "markdown",
      "metadata": {
        "id": "LLPuG0v6n01L"
      },
      "source": [
        "Variáveis categóricas"
      ]
    },
    {
      "cell_type": "code",
      "metadata": {
        "id": "RxEJM1HRnvdL"
      },
      "source": [
        "categ_variables = df[['Education']]"
      ],
      "execution_count": 27,
      "outputs": []
    },
    {
      "cell_type": "markdown",
      "metadata": {
        "id": "OofyAjvDpjJC"
      },
      "source": [
        "# Análise exploratória"
      ]
    },
    {
      "cell_type": "code",
      "metadata": {
        "id": "GthWS_QqpZvl",
        "colab": {
          "base_uri": "https://localhost:8080/",
          "height": 1000
        },
        "outputId": "6a935b50-a639-4c2b-fc90-bfaee1895c2e"
      },
      "source": [
        "# pairplot das variáveis numéricas \n",
        "\n",
        "def histogram(variable):\n",
        "  sns.set_style(\"whitegrid\")\n",
        "  ax = sns.histplot(data=df,\n",
        "                    x=variable,\n",
        "                    kde=True)\n",
        "  ax.figure.set_size_inches(10,6)\n",
        "  plt.title(label=variable+\" histogram\")\n",
        "  plt.show()\n",
        "\n",
        "for i in cont_variables:\n",
        "  histogram(i)"
      ],
      "execution_count": 28,
      "outputs": [
        {
          "output_type": "display_data",
          "data": {
            "image/png": "[encoded data removed]",
            "text/plain": [
              "<Figure size 720x432 with 1 Axes>"
            ]
          },
          "metadata": {}
        },
        {
          "output_type": "display_data",
          "data": {
            "image/png": "[encoded data removed]",
            "text/plain": [
              "<Figure size 720x432 with 1 Axes>"
            ]
          },
          "metadata": {}
        },
        {
          "output_type": "display_data",
          "data": {
            "image/png": "[encoded data removed]",
            "text/plain": [
              "<Figure size 720x432 with 1 Axes>"
            ]
          },
          "metadata": {}
        },
        {
          "output_type": "display_data",
          "data": {
            "image/png": "[encoded data removed]",
            "text/plain": [
              "<Figure size 720x432 with 1 Axes>"
            ]
          },
          "metadata": {}
        },
        {
          "output_type": "display_data",
          "data": {
            "image/png": "[encoded data removed]",
            "text/plain": [
              "<Figure size 720x432 with 1 Axes>"
            ]
          },
          "metadata": {}
        },
        {
          "output_type": "display_data",
          "data": {
            "image/png": "[encoded data removed]",
            "text/plain": [
              "<Figure size 720x432 with 1 Axes>"
            ]
          },
          "metadata": {}
        }
      ]
    },
    {
      "cell_type": "code",
      "metadata": {
        "id": "vkDoJCYehvVP"
      },
      "source": [
        "def plot_categ(variable):\n",
        "  ax = sns.catplot(x=variable, \n",
        "                   kind=\"count\", \n",
        "                   data=df,\n",
        "                   palette='icefire', \n",
        "                   legend=False)\n",
        "  plt.title(label=variable+\" histogram\")\n",
        "  ax.set_xticklabels(rotation=45)\n",
        "  ax"
      ],
      "execution_count": 29,
      "outputs": []
    },
    {
      "cell_type": "code",
      "metadata": {
        "colab": {
          "base_uri": "https://localhost:8080/",
          "height": 1000
        },
        "id": "eAH6wZUoIXSj",
        "outputId": "43ffdf50-9fc4-4198-fa0b-9e4fee9568d1"
      },
      "source": [
        "# histogramas das variáveis numéricas discretas\n",
        "for i in disc_variables:\n",
        "  plot_categ(i) "
      ],
      "execution_count": 30,
      "outputs": [
        {
          "output_type": "display_data",
          "data": {
            "image/png": "[encoded data removed]",
            "text/plain": [
              "<Figure size 360x360 with 1 Axes>"
            ]
          },
          "metadata": {}
        },
        {
          "output_type": "display_data",
          "data": {
            "image/png": "[encoded data removed]",
            "text/plain": [
              "<Figure size 360x360 with 1 Axes>"
            ]
          },
          "metadata": {}
        },
        {
          "output_type": "display_data",
          "data": {
            "image/png": "[encoded data removed]",
            "text/plain": [
              "<Figure size 360x360 with 1 Axes>"
            ]
          },
          "metadata": {}
        },
        {
          "output_type": "display_data",
          "data": {
            "image/png": "[encoded data removed]",
            "text/plain": [
              "<Figure size 360x360 with 1 Axes>"
            ]
          },
          "metadata": {}
        }
      ]
    },
    {
      "cell_type": "code",
      "metadata": {
        "colab": {
          "base_uri": "https://localhost:8080/",
          "height": 422
        },
        "id": "9JGz0HgeIPkp",
        "outputId": "79c0c9f6-0fca-4c1e-85e1-2e656391de7d"
      },
      "source": [
        "# histogramas das variáveis categóricas\n",
        "for i in categ_variables:\n",
        "  plot_categ(i)  "
      ],
      "execution_count": 31,
      "outputs": [
        {
          "output_type": "display_data",
          "data": {
            "image/png": "[encoded data removed]",
            "text/plain": [
              "<Figure size 360x360 with 1 Axes>"
            ]
          },
          "metadata": {}
        }
      ]
    },
    {
      "cell_type": "code",
      "metadata": {
        "colab": {
          "base_uri": "https://localhost:8080/",
          "height": 297
        },
        "id": "FCWobBrXgS7u",
        "outputId": "915a3fbe-d021-460a-cbdc-2ac24e4c9fa1"
      },
      "source": [
        "df.describe()"
      ],
      "execution_count": 32,
      "outputs": [
        {
          "output_type": "execute_result",
          "data": {
            "text/html": [
              "<div>\n",
              "<style scoped>\n",
              "    .dataframe tbody tr th:only-of-type {\n",
              "        vertical-align: middle;\n",
              "    }\n",
              "\n",
              "    .dataframe tbody tr th {\n",
              "        vertical-align: top;\n",
              "    }\n",
              "\n",
              "    .dataframe thead th {\n",
              "        text-align: right;\n",
              "    }\n",
              "</style>\n",
              "<table border=\"1\" class=\"dataframe\">\n",
              "  <thead>\n",
              "    <tr style=\"text-align: right;\">\n",
              "      <th></th>\n",
              "      <th>Income</th>\n",
              "      <th>Dt_Customer</th>\n",
              "      <th>Recency</th>\n",
              "      <th>Complain</th>\n",
              "      <th>Children</th>\n",
              "      <th>Expenses</th>\n",
              "      <th>TotalAcceptedCmp</th>\n",
              "      <th>NumTotalPurchases</th>\n",
              "      <th>Age</th>\n",
              "    </tr>\n",
              "  </thead>\n",
              "  <tbody>\n",
              "    <tr>\n",
              "      <th>count</th>\n",
              "      <td>2216.000000</td>\n",
              "      <td>2216.000000</td>\n",
              "      <td>2216.000000</td>\n",
              "      <td>2216.000000</td>\n",
              "      <td>2216.000000</td>\n",
              "      <td>2216.000000</td>\n",
              "      <td>2216.000000</td>\n",
              "      <td>2216.000000</td>\n",
              "      <td>2216.000000</td>\n",
              "    </tr>\n",
              "    <tr>\n",
              "      <th>mean</th>\n",
              "      <td>52247.251354</td>\n",
              "      <td>353.521209</td>\n",
              "      <td>49.012635</td>\n",
              "      <td>0.009477</td>\n",
              "      <td>0.947202</td>\n",
              "      <td>607.075361</td>\n",
              "      <td>0.448556</td>\n",
              "      <td>14.880866</td>\n",
              "      <td>45.179603</td>\n",
              "    </tr>\n",
              "    <tr>\n",
              "      <th>std</th>\n",
              "      <td>25173.076661</td>\n",
              "      <td>202.434667</td>\n",
              "      <td>28.948352</td>\n",
              "      <td>0.096907</td>\n",
              "      <td>0.749062</td>\n",
              "      <td>602.900476</td>\n",
              "      <td>0.892440</td>\n",
              "      <td>7.670957</td>\n",
              "      <td>11.985554</td>\n",
              "    </tr>\n",
              "    <tr>\n",
              "      <th>min</th>\n",
              "      <td>1730.000000</td>\n",
              "      <td>0.000000</td>\n",
              "      <td>0.000000</td>\n",
              "      <td>0.000000</td>\n",
              "      <td>0.000000</td>\n",
              "      <td>5.000000</td>\n",
              "      <td>0.000000</td>\n",
              "      <td>0.000000</td>\n",
              "      <td>18.000000</td>\n",
              "    </tr>\n",
              "    <tr>\n",
              "      <th>25%</th>\n",
              "      <td>35303.000000</td>\n",
              "      <td>180.000000</td>\n",
              "      <td>24.000000</td>\n",
              "      <td>0.000000</td>\n",
              "      <td>0.000000</td>\n",
              "      <td>69.000000</td>\n",
              "      <td>0.000000</td>\n",
              "      <td>8.000000</td>\n",
              "      <td>37.000000</td>\n",
              "    </tr>\n",
              "    <tr>\n",
              "      <th>50%</th>\n",
              "      <td>51381.500000</td>\n",
              "      <td>355.500000</td>\n",
              "      <td>49.000000</td>\n",
              "      <td>0.000000</td>\n",
              "      <td>1.000000</td>\n",
              "      <td>396.500000</td>\n",
              "      <td>0.000000</td>\n",
              "      <td>15.000000</td>\n",
              "      <td>44.000000</td>\n",
              "    </tr>\n",
              "    <tr>\n",
              "      <th>75%</th>\n",
              "      <td>68522.000000</td>\n",
              "      <td>529.000000</td>\n",
              "      <td>74.000000</td>\n",
              "      <td>0.000000</td>\n",
              "      <td>1.000000</td>\n",
              "      <td>1048.000000</td>\n",
              "      <td>1.000000</td>\n",
              "      <td>21.000000</td>\n",
              "      <td>55.000000</td>\n",
              "    </tr>\n",
              "    <tr>\n",
              "      <th>max</th>\n",
              "      <td>666666.000000</td>\n",
              "      <td>699.000000</td>\n",
              "      <td>99.000000</td>\n",
              "      <td>1.000000</td>\n",
              "      <td>3.000000</td>\n",
              "      <td>2525.000000</td>\n",
              "      <td>5.000000</td>\n",
              "      <td>44.000000</td>\n",
              "      <td>121.000000</td>\n",
              "    </tr>\n",
              "  </tbody>\n",
              "</table>\n",
              "</div>"
            ],
            "text/plain": [
              "              Income  Dt_Customer  ...  NumTotalPurchases          Age\n",
              "count    2216.000000  2216.000000  ...        2216.000000  2216.000000\n",
              "mean    52247.251354   353.521209  ...          14.880866    45.179603\n",
              "std     25173.076661   202.434667  ...           7.670957    11.985554\n",
              "min      1730.000000     0.000000  ...           0.000000    18.000000\n",
              "25%     35303.000000   180.000000  ...           8.000000    37.000000\n",
              "50%     51381.500000   355.500000  ...          15.000000    44.000000\n",
              "75%     68522.000000   529.000000  ...          21.000000    55.000000\n",
              "max    666666.000000   699.000000  ...          44.000000   121.000000\n",
              "\n",
              "[8 rows x 9 columns]"
            ]
          },
          "metadata": {},
          "execution_count": 32
        }
      ]
    },
    {
      "cell_type": "markdown",
      "metadata": {
        "id": "ZzOgW2wSQUJ9"
      },
      "source": [
        "## Tratando outliers em variáveis contínuas"
      ]
    },
    {
      "cell_type": "code",
      "metadata": {
        "colab": {
          "base_uri": "https://localhost:8080/",
          "height": 419
        },
        "id": "O3o-L-isRRHE",
        "outputId": "47abb971-2b9c-4dda-ca14-30ca3420f8c3"
      },
      "source": [
        "cont_variables"
      ],
      "execution_count": 33,
      "outputs": [
        {
          "output_type": "execute_result",
          "data": {
            "text/html": [
              "<div>\n",
              "<style scoped>\n",
              "    .dataframe tbody tr th:only-of-type {\n",
              "        vertical-align: middle;\n",
              "    }\n",
              "\n",
              "    .dataframe tbody tr th {\n",
              "        vertical-align: top;\n",
              "    }\n",
              "\n",
              "    .dataframe thead th {\n",
              "        text-align: right;\n",
              "    }\n",
              "</style>\n",
              "<table border=\"1\" class=\"dataframe\">\n",
              "  <thead>\n",
              "    <tr style=\"text-align: right;\">\n",
              "      <th></th>\n",
              "      <th>Age</th>\n",
              "      <th>Income</th>\n",
              "      <th>Dt_Customer</th>\n",
              "      <th>Recency</th>\n",
              "      <th>Expenses</th>\n",
              "      <th>NumTotalPurchases</th>\n",
              "    </tr>\n",
              "  </thead>\n",
              "  <tbody>\n",
              "    <tr>\n",
              "      <th>0</th>\n",
              "      <td>57</td>\n",
              "      <td>58138.0</td>\n",
              "      <td>663</td>\n",
              "      <td>58</td>\n",
              "      <td>1617</td>\n",
              "      <td>25</td>\n",
              "    </tr>\n",
              "    <tr>\n",
              "      <th>1</th>\n",
              "      <td>60</td>\n",
              "      <td>46344.0</td>\n",
              "      <td>113</td>\n",
              "      <td>38</td>\n",
              "      <td>27</td>\n",
              "      <td>6</td>\n",
              "    </tr>\n",
              "    <tr>\n",
              "      <th>2</th>\n",
              "      <td>49</td>\n",
              "      <td>71613.0</td>\n",
              "      <td>312</td>\n",
              "      <td>26</td>\n",
              "      <td>776</td>\n",
              "      <td>21</td>\n",
              "    </tr>\n",
              "    <tr>\n",
              "      <th>3</th>\n",
              "      <td>30</td>\n",
              "      <td>26646.0</td>\n",
              "      <td>139</td>\n",
              "      <td>26</td>\n",
              "      <td>53</td>\n",
              "      <td>8</td>\n",
              "    </tr>\n",
              "    <tr>\n",
              "      <th>4</th>\n",
              "      <td>33</td>\n",
              "      <td>58293.0</td>\n",
              "      <td>161</td>\n",
              "      <td>94</td>\n",
              "      <td>422</td>\n",
              "      <td>19</td>\n",
              "    </tr>\n",
              "    <tr>\n",
              "      <th>...</th>\n",
              "      <td>...</td>\n",
              "      <td>...</td>\n",
              "      <td>...</td>\n",
              "      <td>...</td>\n",
              "      <td>...</td>\n",
              "      <td>...</td>\n",
              "    </tr>\n",
              "    <tr>\n",
              "      <th>2235</th>\n",
              "      <td>47</td>\n",
              "      <td>61223.0</td>\n",
              "      <td>381</td>\n",
              "      <td>46</td>\n",
              "      <td>1341</td>\n",
              "      <td>18</td>\n",
              "    </tr>\n",
              "    <tr>\n",
              "      <th>2236</th>\n",
              "      <td>68</td>\n",
              "      <td>64014.0</td>\n",
              "      <td>19</td>\n",
              "      <td>56</td>\n",
              "      <td>444</td>\n",
              "      <td>22</td>\n",
              "    </tr>\n",
              "    <tr>\n",
              "      <th>2237</th>\n",
              "      <td>33</td>\n",
              "      <td>56981.0</td>\n",
              "      <td>155</td>\n",
              "      <td>91</td>\n",
              "      <td>1241</td>\n",
              "      <td>19</td>\n",
              "    </tr>\n",
              "    <tr>\n",
              "      <th>2238</th>\n",
              "      <td>58</td>\n",
              "      <td>69245.0</td>\n",
              "      <td>156</td>\n",
              "      <td>8</td>\n",
              "      <td>843</td>\n",
              "      <td>23</td>\n",
              "    </tr>\n",
              "    <tr>\n",
              "      <th>2239</th>\n",
              "      <td>60</td>\n",
              "      <td>52869.0</td>\n",
              "      <td>622</td>\n",
              "      <td>40</td>\n",
              "      <td>172</td>\n",
              "      <td>11</td>\n",
              "    </tr>\n",
              "  </tbody>\n",
              "</table>\n",
              "<p>2216 rows × 6 columns</p>\n",
              "</div>"
            ],
            "text/plain": [
              "      Age   Income  Dt_Customer  Recency  Expenses  NumTotalPurchases\n",
              "0      57  58138.0          663       58      1617                 25\n",
              "1      60  46344.0          113       38        27                  6\n",
              "2      49  71613.0          312       26       776                 21\n",
              "3      30  26646.0          139       26        53                  8\n",
              "4      33  58293.0          161       94       422                 19\n",
              "...   ...      ...          ...      ...       ...                ...\n",
              "2235   47  61223.0          381       46      1341                 18\n",
              "2236   68  64014.0           19       56       444                 22\n",
              "2237   33  56981.0          155       91      1241                 19\n",
              "2238   58  69245.0          156        8       843                 23\n",
              "2239   60  52869.0          622       40       172                 11\n",
              "\n",
              "[2216 rows x 6 columns]"
            ]
          },
          "metadata": {},
          "execution_count": 33
        }
      ]
    },
    {
      "cell_type": "code",
      "metadata": {
        "colab": {
          "base_uri": "https://localhost:8080/",
          "height": 333
        },
        "id": "njo3wv1igWE7",
        "outputId": "93f34513-0c40-4423-db7d-657cac0d7dc6"
      },
      "source": [
        "sns.boxplot(df['Age']);"
      ],
      "execution_count": 34,
      "outputs": [
        {
          "output_type": "stream",
          "name": "stderr",
          "text": [
            "/usr/local/lib/python3.7/dist-packages/seaborn/_decorators.py:43: FutureWarning: Pass the following variable as a keyword arg: x. From version 0.12, the only valid positional argument will be `data`, and passing other arguments without an explicit keyword will result in an error or misinterpretation.\n",
            "  FutureWarning\n"
          ]
        },
        {
          "output_type": "display_data",
          "data": {
            "image/png": "[encoded data removed]",
            "text/plain": [
              "<Figure size 432x288 with 1 Axes>"
            ]
          },
          "metadata": {}
        }
      ]
    },
    {
      "cell_type": "code",
      "metadata": {
        "colab": {
          "base_uri": "https://localhost:8080/",
          "height": 279
        },
        "id": "5fE5jzKnhoNS",
        "outputId": "da4c9d7c-0677-4400-bf41-beb6166f9455"
      },
      "source": [
        "sns.boxplot(x=df['Income']);"
      ],
      "execution_count": 59,
      "outputs": [
        {
          "output_type": "display_data",
          "data": {
            "image/png": "[encoded data removed]",
            "text/plain": [
              "<Figure size 432x288 with 1 Axes>"
            ]
          },
          "metadata": {}
        }
      ]
    },
    {
      "cell_type": "code",
      "metadata": {
        "colab": {
          "base_uri": "https://localhost:8080/",
          "height": 279
        },
        "id": "z8L-TR4nhoLK",
        "outputId": "2443d0b8-c4ed-4a5e-c807-3a10f7e7ffc5"
      },
      "source": [
        "sns.boxplot(x=df['Recency']);"
      ],
      "execution_count": 60,
      "outputs": [
        {
          "output_type": "display_data",
          "data": {
            "image/png": "[encoded data removed]",
            "text/plain": [
              "<Figure size 432x288 with 1 Axes>"
            ]
          },
          "metadata": {}
        }
      ]
    },
    {
      "cell_type": "code",
      "metadata": {
        "colab": {
          "base_uri": "https://localhost:8080/",
          "height": 280
        },
        "id": "W6-j4vMyhoIS",
        "outputId": "32542892-589d-4f62-f41d-710dbb715d87"
      },
      "source": [
        "sns.boxplot(x=df['Dt_Customer']);"
      ],
      "execution_count": 61,
      "outputs": [
        {
          "output_type": "display_data",
          "data": {
            "image/png": "[encoded data removed]",
            "text/plain": [
              "<Figure size 432x288 with 1 Axes>"
            ]
          },
          "metadata": {}
        }
      ]
    },
    {
      "cell_type": "code",
      "metadata": {
        "colab": {
          "base_uri": "https://localhost:8080/",
          "height": 279
        },
        "id": "qlQZ7yM7hoFs",
        "outputId": "8a14ec06-a98f-41cd-ff86-5c4807430fc3"
      },
      "source": [
        "sns.boxplot(x=df['Expenses']);"
      ],
      "execution_count": 62,
      "outputs": [
        {
          "output_type": "display_data",
          "data": {
            "image/png": "[encoded data removed]",
            "text/plain": [
              "<Figure size 432x288 with 1 Axes>"
            ]
          },
          "metadata": {}
        }
      ]
    },
    {
      "cell_type": "code",
      "metadata": {
        "colab": {
          "base_uri": "https://localhost:8080/",
          "height": 279
        },
        "id": "iBnmylo5hn_D",
        "outputId": "1016681a-8bb5-4aab-dc79-5ef58d681403"
      },
      "source": [
        "sns.boxplot(x=df['NumTotalPurchases']);"
      ],
      "execution_count": 63,
      "outputs": [
        {
          "output_type": "display_data",
          "data": {
            "image/png": "[encoded data removed]",
            "text/plain": [
              "<Figure size 432x288 with 1 Axes>"
            ]
          },
          "metadata": {}
        }
      ]
    },
    {
      "cell_type": "code",
      "metadata": {
        "id": "C6gF_Ta3kKJl"
      },
      "source": [
        "df_remove = df.loc[((df['Age'] > 100) | \n",
        "                    (df['Income'] > 600000))]\n",
        "\n",
        "df = df.drop(df_remove.index)"
      ],
      "execution_count": 40,
      "outputs": []
    },
    {
      "cell_type": "code",
      "metadata": {
        "colab": {
          "base_uri": "https://localhost:8080/",
          "height": 279
        },
        "id": "fllFS8cvm9O6",
        "outputId": "fba2cdd9-134b-4b90-8223-936d12018051"
      },
      "source": [
        "sns.boxplot(x=df['Age']);"
      ],
      "execution_count": 64,
      "outputs": [
        {
          "output_type": "display_data",
          "data": {
            "image/png": "[encoded data removed]",
            "text/plain": [
              "<Figure size 432x288 with 1 Axes>"
            ]
          },
          "metadata": {}
        }
      ]
    },
    {
      "cell_type": "code",
      "metadata": {
        "colab": {
          "base_uri": "https://localhost:8080/",
          "height": 279
        },
        "id": "bTMMuht-m9IF",
        "outputId": "5223d2cc-2ea0-4b98-b1f7-fb6451998256"
      },
      "source": [
        "sns.boxplot(x=df['Income']);"
      ],
      "execution_count": 65,
      "outputs": [
        {
          "output_type": "display_data",
          "data": {
            "image/png": "[encoded data removed]",
            "text/plain": [
              "<Figure size 432x288 with 1 Axes>"
            ]
          },
          "metadata": {}
        }
      ]
    },
    {
      "cell_type": "code",
      "metadata": {
        "id": "9yK7sHDYpZr-",
        "colab": {
          "base_uri": "https://localhost:8080/",
          "height": 553
        },
        "outputId": "f04381a2-ee4e-4bf7-c2b8-fc67d9165b31"
      },
      "source": [
        "# observando correlações\n",
        "corr = cont_variables.corr().round(3)\n",
        "cmap = sns.color_palette(\"ch:s=-.2,r=.6\", as_cmap=True)\n",
        "plt.subplots(figsize=(12,8))\n",
        "sns.heatmap(corr, \n",
        "            annot=True, \n",
        "            linewidths=0.2,\n",
        "            cmap=cmap,\n",
        "            annot_kws={\"size\": 18})\n",
        "plt.yticks(rotation=45)\n",
        "plt.xticks(rotation=45);\n"
      ],
      "execution_count": 43,
      "outputs": [
        {
          "output_type": "display_data",
          "data": {
            "image/png": "[encoded data removed]",
            "text/plain": [
              "<Figure size 864x576 with 2 Axes>"
            ]
          },
          "metadata": {}
        }
      ]
    },
    {
      "cell_type": "code",
      "metadata": {
        "colab": {
          "base_uri": "https://localhost:8080/",
          "height": 204
        },
        "id": "bSR2yu7OsUEx",
        "outputId": "273ac087-baa6-4986-8538-7fc87f0fd84d"
      },
      "source": [
        "df.head()"
      ],
      "execution_count": 44,
      "outputs": [
        {
          "output_type": "execute_result",
          "data": {
            "text/html": [
              "<div>\n",
              "<style scoped>\n",
              "    .dataframe tbody tr th:only-of-type {\n",
              "        vertical-align: middle;\n",
              "    }\n",
              "\n",
              "    .dataframe tbody tr th {\n",
              "        vertical-align: top;\n",
              "    }\n",
              "\n",
              "    .dataframe thead th {\n",
              "        text-align: right;\n",
              "    }\n",
              "</style>\n",
              "<table border=\"1\" class=\"dataframe\">\n",
              "  <thead>\n",
              "    <tr style=\"text-align: right;\">\n",
              "      <th></th>\n",
              "      <th>Education</th>\n",
              "      <th>Marital_Status</th>\n",
              "      <th>Income</th>\n",
              "      <th>Dt_Customer</th>\n",
              "      <th>Recency</th>\n",
              "      <th>Complain</th>\n",
              "      <th>Children</th>\n",
              "      <th>Expenses</th>\n",
              "      <th>TotalAcceptedCmp</th>\n",
              "      <th>NumTotalPurchases</th>\n",
              "      <th>Age</th>\n",
              "    </tr>\n",
              "  </thead>\n",
              "  <tbody>\n",
              "    <tr>\n",
              "      <th>0</th>\n",
              "      <td>Graduation</td>\n",
              "      <td>single</td>\n",
              "      <td>58138.0</td>\n",
              "      <td>663</td>\n",
              "      <td>58</td>\n",
              "      <td>0</td>\n",
              "      <td>0</td>\n",
              "      <td>1617</td>\n",
              "      <td>1</td>\n",
              "      <td>25</td>\n",
              "      <td>57</td>\n",
              "    </tr>\n",
              "    <tr>\n",
              "      <th>1</th>\n",
              "      <td>Graduation</td>\n",
              "      <td>single</td>\n",
              "      <td>46344.0</td>\n",
              "      <td>113</td>\n",
              "      <td>38</td>\n",
              "      <td>0</td>\n",
              "      <td>2</td>\n",
              "      <td>27</td>\n",
              "      <td>0</td>\n",
              "      <td>6</td>\n",
              "      <td>60</td>\n",
              "    </tr>\n",
              "    <tr>\n",
              "      <th>2</th>\n",
              "      <td>Graduation</td>\n",
              "      <td>relationship</td>\n",
              "      <td>71613.0</td>\n",
              "      <td>312</td>\n",
              "      <td>26</td>\n",
              "      <td>0</td>\n",
              "      <td>0</td>\n",
              "      <td>776</td>\n",
              "      <td>0</td>\n",
              "      <td>21</td>\n",
              "      <td>49</td>\n",
              "    </tr>\n",
              "    <tr>\n",
              "      <th>3</th>\n",
              "      <td>Graduation</td>\n",
              "      <td>relationship</td>\n",
              "      <td>26646.0</td>\n",
              "      <td>139</td>\n",
              "      <td>26</td>\n",
              "      <td>0</td>\n",
              "      <td>1</td>\n",
              "      <td>53</td>\n",
              "      <td>0</td>\n",
              "      <td>8</td>\n",
              "      <td>30</td>\n",
              "    </tr>\n",
              "    <tr>\n",
              "      <th>4</th>\n",
              "      <td>PhD</td>\n",
              "      <td>relationship</td>\n",
              "      <td>58293.0</td>\n",
              "      <td>161</td>\n",
              "      <td>94</td>\n",
              "      <td>0</td>\n",
              "      <td>1</td>\n",
              "      <td>422</td>\n",
              "      <td>0</td>\n",
              "      <td>19</td>\n",
              "      <td>33</td>\n",
              "    </tr>\n",
              "  </tbody>\n",
              "</table>\n",
              "</div>"
            ],
            "text/plain": [
              "    Education Marital_Status   Income  ...  TotalAcceptedCmp  NumTotalPurchases  Age\n",
              "0  Graduation         single  58138.0  ...                 1                 25   57\n",
              "1  Graduation         single  46344.0  ...                 0                  6   60\n",
              "2  Graduation   relationship  71613.0  ...                 0                 21   49\n",
              "3  Graduation   relationship  26646.0  ...                 0                  8   30\n",
              "4         PhD   relationship  58293.0  ...                 0                 19   33\n",
              "\n",
              "[5 rows x 11 columns]"
            ]
          },
          "metadata": {},
          "execution_count": 44
        }
      ]
    },
    {
      "cell_type": "markdown",
      "metadata": {
        "id": "BmTRFA5JuF6h"
      },
      "source": [
        "# Pré processamento"
      ]
    },
    {
      "cell_type": "markdown",
      "metadata": {
        "id": "0RFKFaV-vnhe"
      },
      "source": [
        "Transformação da coluna 'Education' para variável numérica discreta"
      ]
    },
    {
      "cell_type": "code",
      "metadata": {
        "colab": {
          "base_uri": "https://localhost:8080/"
        },
        "id": "fZ3RncyauKrS",
        "outputId": "675e2959-f3fd-4fe8-fbfb-09221aac1c20"
      },
      "source": [
        "df['Education'].unique()"
      ],
      "execution_count": 45,
      "outputs": [
        {
          "output_type": "execute_result",
          "data": {
            "text/plain": [
              "array(['Graduation', 'PhD', 'Master', 'Basic', '2n Cycle'], dtype=object)"
            ]
          },
          "metadata": {},
          "execution_count": 45
        }
      ]
    },
    {
      "cell_type": "code",
      "metadata": {
        "id": "J2yLmaWfuKnx"
      },
      "source": [
        "swap = {\n",
        "        'Graduation':1,\n",
        "        'PhD':3, \n",
        "        'Master':2, \n",
        "        'Basic':0, \n",
        "        '2n Cycle':2\n",
        "}\n",
        "\n",
        "df['Education'] = df['Education'].map(swap)"
      ],
      "execution_count": 46,
      "outputs": []
    },
    {
      "cell_type": "markdown",
      "metadata": {
        "id": "Qx9v9CyRvlWC"
      },
      "source": [
        "Transformação da colunas 'Marital_Status' para variável binária\n",
        "\n"
      ]
    },
    {
      "cell_type": "code",
      "metadata": {
        "id": "vQy-CLLYrqxx"
      },
      "source": [
        "swap = {\n",
        "        'single':0,\n",
        "        'relationship':1\n",
        "}\n",
        "\n",
        "df['Marital_Status'] = df['Marital_Status'].map(swap)"
      ],
      "execution_count": 47,
      "outputs": []
    },
    {
      "cell_type": "code",
      "metadata": {
        "colab": {
          "base_uri": "https://localhost:8080/",
          "height": 204
        },
        "id": "wiCl3Bz6uKt6",
        "outputId": "f423ea1c-3130-4055-aa8a-abf183a9c6ab"
      },
      "source": [
        "df.head()"
      ],
      "execution_count": 48,
      "outputs": [
        {
          "output_type": "execute_result",
          "data": {
            "text/html": [
              "<div>\n",
              "<style scoped>\n",
              "    .dataframe tbody tr th:only-of-type {\n",
              "        vertical-align: middle;\n",
              "    }\n",
              "\n",
              "    .dataframe tbody tr th {\n",
              "        vertical-align: top;\n",
              "    }\n",
              "\n",
              "    .dataframe thead th {\n",
              "        text-align: right;\n",
              "    }\n",
              "</style>\n",
              "<table border=\"1\" class=\"dataframe\">\n",
              "  <thead>\n",
              "    <tr style=\"text-align: right;\">\n",
              "      <th></th>\n",
              "      <th>Education</th>\n",
              "      <th>Marital_Status</th>\n",
              "      <th>Income</th>\n",
              "      <th>Dt_Customer</th>\n",
              "      <th>Recency</th>\n",
              "      <th>Complain</th>\n",
              "      <th>Children</th>\n",
              "      <th>Expenses</th>\n",
              "      <th>TotalAcceptedCmp</th>\n",
              "      <th>NumTotalPurchases</th>\n",
              "      <th>Age</th>\n",
              "    </tr>\n",
              "  </thead>\n",
              "  <tbody>\n",
              "    <tr>\n",
              "      <th>0</th>\n",
              "      <td>1</td>\n",
              "      <td>0</td>\n",
              "      <td>58138.0</td>\n",
              "      <td>663</td>\n",
              "      <td>58</td>\n",
              "      <td>0</td>\n",
              "      <td>0</td>\n",
              "      <td>1617</td>\n",
              "      <td>1</td>\n",
              "      <td>25</td>\n",
              "      <td>57</td>\n",
              "    </tr>\n",
              "    <tr>\n",
              "      <th>1</th>\n",
              "      <td>1</td>\n",
              "      <td>0</td>\n",
              "      <td>46344.0</td>\n",
              "      <td>113</td>\n",
              "      <td>38</td>\n",
              "      <td>0</td>\n",
              "      <td>2</td>\n",
              "      <td>27</td>\n",
              "      <td>0</td>\n",
              "      <td>6</td>\n",
              "      <td>60</td>\n",
              "    </tr>\n",
              "    <tr>\n",
              "      <th>2</th>\n",
              "      <td>1</td>\n",
              "      <td>1</td>\n",
              "      <td>71613.0</td>\n",
              "      <td>312</td>\n",
              "      <td>26</td>\n",
              "      <td>0</td>\n",
              "      <td>0</td>\n",
              "      <td>776</td>\n",
              "      <td>0</td>\n",
              "      <td>21</td>\n",
              "      <td>49</td>\n",
              "    </tr>\n",
              "    <tr>\n",
              "      <th>3</th>\n",
              "      <td>1</td>\n",
              "      <td>1</td>\n",
              "      <td>26646.0</td>\n",
              "      <td>139</td>\n",
              "      <td>26</td>\n",
              "      <td>0</td>\n",
              "      <td>1</td>\n",
              "      <td>53</td>\n",
              "      <td>0</td>\n",
              "      <td>8</td>\n",
              "      <td>30</td>\n",
              "    </tr>\n",
              "    <tr>\n",
              "      <th>4</th>\n",
              "      <td>3</td>\n",
              "      <td>1</td>\n",
              "      <td>58293.0</td>\n",
              "      <td>161</td>\n",
              "      <td>94</td>\n",
              "      <td>0</td>\n",
              "      <td>1</td>\n",
              "      <td>422</td>\n",
              "      <td>0</td>\n",
              "      <td>19</td>\n",
              "      <td>33</td>\n",
              "    </tr>\n",
              "  </tbody>\n",
              "</table>\n",
              "</div>"
            ],
            "text/plain": [
              "   Education  Marital_Status   Income  ...  TotalAcceptedCmp  NumTotalPurchases  Age\n",
              "0          1               0  58138.0  ...                 1                 25   57\n",
              "1          1               0  46344.0  ...                 0                  6   60\n",
              "2          1               1  71613.0  ...                 0                 21   49\n",
              "3          1               1  26646.0  ...                 0                  8   30\n",
              "4          3               1  58293.0  ...                 0                 19   33\n",
              "\n",
              "[5 rows x 11 columns]"
            ]
          },
          "metadata": {},
          "execution_count": 48
        }
      ]
    },
    {
      "cell_type": "code",
      "metadata": {
        "colab": {
          "base_uri": "https://localhost:8080/",
          "height": 297
        },
        "id": "8Yflz8-S0OmO",
        "outputId": "9e4544dc-acef-444d-d46a-bda328d5223d"
      },
      "source": [
        "df.describe()"
      ],
      "execution_count": 49,
      "outputs": [
        {
          "output_type": "execute_result",
          "data": {
            "text/html": [
              "<div>\n",
              "<style scoped>\n",
              "    .dataframe tbody tr th:only-of-type {\n",
              "        vertical-align: middle;\n",
              "    }\n",
              "\n",
              "    .dataframe tbody tr th {\n",
              "        vertical-align: top;\n",
              "    }\n",
              "\n",
              "    .dataframe thead th {\n",
              "        text-align: right;\n",
              "    }\n",
              "</style>\n",
              "<table border=\"1\" class=\"dataframe\">\n",
              "  <thead>\n",
              "    <tr style=\"text-align: right;\">\n",
              "      <th></th>\n",
              "      <th>Education</th>\n",
              "      <th>Marital_Status</th>\n",
              "      <th>Income</th>\n",
              "      <th>Dt_Customer</th>\n",
              "      <th>Recency</th>\n",
              "      <th>Complain</th>\n",
              "      <th>Children</th>\n",
              "      <th>Expenses</th>\n",
              "      <th>TotalAcceptedCmp</th>\n",
              "      <th>NumTotalPurchases</th>\n",
              "      <th>Age</th>\n",
              "    </tr>\n",
              "  </thead>\n",
              "  <tbody>\n",
              "    <tr>\n",
              "      <th>count</th>\n",
              "      <td>2212.000000</td>\n",
              "      <td>2212.000000</td>\n",
              "      <td>2212.000000</td>\n",
              "      <td>2212.000000</td>\n",
              "      <td>2212.000000</td>\n",
              "      <td>2212.000000</td>\n",
              "      <td>2212.000000</td>\n",
              "      <td>2212.000000</td>\n",
              "      <td>2212.000000</td>\n",
              "      <td>2212.000000</td>\n",
              "      <td>2212.000000</td>\n",
              "    </tr>\n",
              "    <tr>\n",
              "      <th>mean</th>\n",
              "      <td>1.664105</td>\n",
              "      <td>0.645570</td>\n",
              "      <td>51958.810579</td>\n",
              "      <td>353.714286</td>\n",
              "      <td>49.019439</td>\n",
              "      <td>0.009042</td>\n",
              "      <td>0.947559</td>\n",
              "      <td>607.268083</td>\n",
              "      <td>0.448915</td>\n",
              "      <td>14.891501</td>\n",
              "      <td>45.086347</td>\n",
              "    </tr>\n",
              "    <tr>\n",
              "      <th>std</th>\n",
              "      <td>0.840363</td>\n",
              "      <td>0.478449</td>\n",
              "      <td>21527.278844</td>\n",
              "      <td>202.494886</td>\n",
              "      <td>28.943121</td>\n",
              "      <td>0.094678</td>\n",
              "      <td>0.749466</td>\n",
              "      <td>602.513364</td>\n",
              "      <td>0.893017</td>\n",
              "      <td>7.671629</td>\n",
              "      <td>11.701599</td>\n",
              "    </tr>\n",
              "    <tr>\n",
              "      <th>min</th>\n",
              "      <td>0.000000</td>\n",
              "      <td>0.000000</td>\n",
              "      <td>1730.000000</td>\n",
              "      <td>0.000000</td>\n",
              "      <td>0.000000</td>\n",
              "      <td>0.000000</td>\n",
              "      <td>0.000000</td>\n",
              "      <td>5.000000</td>\n",
              "      <td>0.000000</td>\n",
              "      <td>0.000000</td>\n",
              "      <td>18.000000</td>\n",
              "    </tr>\n",
              "    <tr>\n",
              "      <th>25%</th>\n",
              "      <td>1.000000</td>\n",
              "      <td>0.000000</td>\n",
              "      <td>35233.500000</td>\n",
              "      <td>180.000000</td>\n",
              "      <td>24.000000</td>\n",
              "      <td>0.000000</td>\n",
              "      <td>0.000000</td>\n",
              "      <td>69.000000</td>\n",
              "      <td>0.000000</td>\n",
              "      <td>8.000000</td>\n",
              "      <td>37.000000</td>\n",
              "    </tr>\n",
              "    <tr>\n",
              "      <th>50%</th>\n",
              "      <td>1.000000</td>\n",
              "      <td>1.000000</td>\n",
              "      <td>51371.000000</td>\n",
              "      <td>356.000000</td>\n",
              "      <td>49.000000</td>\n",
              "      <td>0.000000</td>\n",
              "      <td>1.000000</td>\n",
              "      <td>397.000000</td>\n",
              "      <td>0.000000</td>\n",
              "      <td>15.000000</td>\n",
              "      <td>44.000000</td>\n",
              "    </tr>\n",
              "    <tr>\n",
              "      <th>75%</th>\n",
              "      <td>2.000000</td>\n",
              "      <td>1.000000</td>\n",
              "      <td>68487.000000</td>\n",
              "      <td>529.000000</td>\n",
              "      <td>74.000000</td>\n",
              "      <td>0.000000</td>\n",
              "      <td>1.000000</td>\n",
              "      <td>1048.000000</td>\n",
              "      <td>1.000000</td>\n",
              "      <td>21.000000</td>\n",
              "      <td>55.000000</td>\n",
              "    </tr>\n",
              "    <tr>\n",
              "      <th>max</th>\n",
              "      <td>3.000000</td>\n",
              "      <td>1.000000</td>\n",
              "      <td>162397.000000</td>\n",
              "      <td>699.000000</td>\n",
              "      <td>99.000000</td>\n",
              "      <td>1.000000</td>\n",
              "      <td>3.000000</td>\n",
              "      <td>2525.000000</td>\n",
              "      <td>5.000000</td>\n",
              "      <td>44.000000</td>\n",
              "      <td>74.000000</td>\n",
              "    </tr>\n",
              "  </tbody>\n",
              "</table>\n",
              "</div>"
            ],
            "text/plain": [
              "         Education  Marital_Status  ...  NumTotalPurchases          Age\n",
              "count  2212.000000     2212.000000  ...        2212.000000  2212.000000\n",
              "mean      1.664105        0.645570  ...          14.891501    45.086347\n",
              "std       0.840363        0.478449  ...           7.671629    11.701599\n",
              "min       0.000000        0.000000  ...           0.000000    18.000000\n",
              "25%       1.000000        0.000000  ...           8.000000    37.000000\n",
              "50%       1.000000        1.000000  ...          15.000000    44.000000\n",
              "75%       2.000000        1.000000  ...          21.000000    55.000000\n",
              "max       3.000000        1.000000  ...          44.000000    74.000000\n",
              "\n",
              "[8 rows x 11 columns]"
            ]
          },
          "metadata": {},
          "execution_count": 49
        }
      ]
    },
    {
      "cell_type": "markdown",
      "metadata": {
        "id": "lt62qD31wFQC"
      },
      "source": [
        "Padronização das variáveis"
      ]
    },
    {
      "cell_type": "code",
      "metadata": {
        "colab": {
          "base_uri": "https://localhost:8080/"
        },
        "id": "nUWDqcFuQ03B",
        "outputId": "87aee59e-86ef-4f67-b9ec-c15cea31de06"
      },
      "source": [
        "# padronização das variáveis com um scaler menos senv\n",
        "from sklearn.preprocessing import RobustScaler\n",
        "\n",
        "values = RobustScaler().fit_transform(df.values)\n",
        "print(values)"
      ],
      "execution_count": 50,
      "outputs": [
        {
          "output_type": "stream",
          "name": "stdout",
          "text": [
            "[[ 0.         -1.          0.20349738 ...  1.          0.76923077\n",
            "   0.72222222]\n",
            " [ 0.         -1.         -0.15117206 ...  0.         -0.69230769\n",
            "   0.88888889]\n",
            " [ 0.          0.          0.60871788 ...  0.          0.46153846\n",
            "   0.27777778]\n",
            " ...\n",
            " [ 0.         -1.          0.16870405 ...  1.          0.30769231\n",
            "  -0.61111111]\n",
            " [ 1.          0.          0.53750733 ...  0.          0.61538462\n",
            "   0.77777778]\n",
            " [ 2.          0.          0.04504789 ...  1.         -0.30769231\n",
            "   0.88888889]]\n"
          ]
        }
      ]
    },
    {
      "cell_type": "code",
      "metadata": {
        "id": "wy4QbjCBQXyg"
      },
      "source": [
        "# treinando o modelo de clusterização\n",
        "from sklearn.cluster import KMeans\n",
        "\n",
        "kmeans = KMeans(n_clusters=3, \n",
        "                n_init=10,\n",
        "                max_iter=300)\n",
        "y_pred = kmeans.fit_predict(values)"
      ],
      "execution_count": 51,
      "outputs": []
    },
    {
      "cell_type": "code",
      "metadata": {
        "colab": {
          "base_uri": "https://localhost:8080/"
        },
        "id": "1CwyTJvcQb7C",
        "outputId": "3ca066e3-f64b-4089-e271-e052bb9bdea0"
      },
      "source": [
        "#calculando o coeficiente de silhouette\n",
        "from sklearn import metrics\n",
        "labels = kmeans.labels_\n",
        "silhouette = metrics.silhouette_score(values, \n",
        "                                      labels, \n",
        "                                      metric='euclidean')\n",
        "print(silhouette)"
      ],
      "execution_count": 52,
      "outputs": [
        {
          "output_type": "stream",
          "name": "stdout",
          "text": [
            "0.19373149667449627\n"
          ]
        }
      ]
    },
    {
      "cell_type": "code",
      "metadata": {
        "colab": {
          "base_uri": "https://localhost:8080/"
        },
        "id": "3UwzrR34Rl4l",
        "outputId": "6f4d2b8d-3a1e-4c4f-a78f-b8ce31530113"
      },
      "source": [
        "# utilizando a métrica de avaliação da compactação dos clusters\n",
        "dbs = metrics.davies_bouldin_score(values, \n",
        "                                   labels)\n",
        "print(dbs)"
      ],
      "execution_count": 53,
      "outputs": [
        {
          "output_type": "stream",
          "name": "stdout",
          "text": [
            "1.7327911284213497\n"
          ]
        }
      ]
    },
    {
      "cell_type": "code",
      "metadata": {
        "colab": {
          "base_uri": "https://localhost:8080/"
        },
        "id": "IJ6Xo9dZRl1_",
        "outputId": "ddcc29ab-630f-4cac-991a-cee64b9f182e"
      },
      "source": [
        "# utilizando a métrica de avaliação da dispersão de pontos dentro de um cluster\n",
        "calinski = metrics.calinski_harabasz_score(values, \n",
        "                                           labels)\n",
        "print(calinski)"
      ],
      "execution_count": 54,
      "outputs": [
        {
          "output_type": "stream",
          "name": "stdout",
          "text": [
            "514.72936137338\n"
          ]
        }
      ]
    },
    {
      "cell_type": "markdown",
      "metadata": {
        "id": "TIrn57ilf8of"
      },
      "source": [
        "# Validação dos resultados"
      ]
    },
    {
      "cell_type": "markdown",
      "metadata": {
        "id": "_41wCItRpWfJ"
      },
      "source": [
        "##Validação relativa"
      ]
    },
    {
      "cell_type": "code",
      "metadata": {
        "id": "sbU7Fr0IRlzZ"
      },
      "source": [
        "# função de validação relativa\n",
        "def clustering_algorithm(n_clusters, dataset):\n",
        "    kmeans = KMeans(n_clusters=n_clusters,\n",
        "                    n_init=10,\n",
        "                    max_iter=300)\n",
        "    labels = kmeans.fit_predict(dataset)\n",
        "    s = metrics.silhouette_score(dataset, \n",
        "                                 labels, \n",
        "                                 metric='euclidean')\n",
        "    dbs = metrics.davies_bouldin_score(dataset, labels)\n",
        "    calinski = metrics.calinski_harabasz_score(dataset, \n",
        "                                               labels)\n",
        "    return s, dbs, calinski "
      ],
      "execution_count": 55,
      "outputs": []
    },
    {
      "cell_type": "code",
      "metadata": {
        "colab": {
          "base_uri": "https://localhost:8080/"
        },
        "id": "3R82yxucRlwt",
        "outputId": "3b006050-e5c4-4ca0-a4c4-ec53c6064412"
      },
      "source": [
        "s1, dbs1, calinski1 = clustering_algorithm(2, values)\n",
        "print('Métricas s, dbs e calinski com 2 clusters \\n', s1, dbs1, calinski1)\n",
        "s2, dbs2, calinski2 = clustering_algorithm(3, values)\n",
        "print('Métricas s, dbs e calinski com 3 clusters \\n', s2, dbs2, calinski2)\n",
        "s3, dbs3, calinski3 = clustering_algorithm(4, values)\n",
        "print('Métricas s, dbs e calinski com 4 clusters \\n', s3, dbs3, calinski3)\n",
        "s4, dbs4, calinski4 = clustering_algorithm(5, values)\n",
        "print('Métricas s, dbs e calinski com 5 clusters \\n', s4, dbs4, calinski4)\n",
        "s7, dbs7, calinski7 = clustering_algorithm(7, values)\n",
        "print('Métricas s, dbs e calinski com 7 clusters \\n', s7, dbs7, calinski7)\n",
        "s10, dbs10, calinski10 = clustering_algorithm(10, values)\n",
        "print('Métricas s, dbs e calinski com 10 clusters \\n', s10, dbs10, calinski10)"
      ],
      "execution_count": 56,
      "outputs": [
        {
          "output_type": "stream",
          "name": "stdout",
          "text": [
            "Métricas s, dbs e calinski com 2 clusters \n",
            " 0.2084065253932816 1.8394366203649564 605.401785124319\n",
            "Métricas s, dbs e calinski com 3 clusters \n",
            " 0.19342149108160747 1.7330488215180997 514.7139093033867\n",
            "Métricas s, dbs e calinski com 4 clusters \n",
            " 0.1738451540724828 1.6819178345043424 472.13440373151343\n",
            "Métricas s, dbs e calinski com 5 clusters \n",
            " 0.15547282942047302 1.8701531542952963 419.5047438534181\n",
            "Métricas s, dbs e calinski com 7 clusters \n",
            " 0.14251569294617494 1.847869797399109 349.3290361763668\n",
            "Métricas s, dbs e calinski com 10 clusters \n",
            " 0.13644834609747775 1.878815780406158 280.76866610938526\n"
          ]
        }
      ]
    },
    {
      "cell_type": "markdown",
      "metadata": {
        "id": "8tJBHi4-WfPb"
      },
      "source": [
        "O número de clusters escolhido é : 3 "
      ]
    },
    {
      "cell_type": "markdown",
      "metadata": {
        "id": "Y-U7l9sMLoNo"
      },
      "source": [
        "##Validação por comparação"
      ]
    },
    {
      "cell_type": "code",
      "metadata": {
        "colab": {
          "base_uri": "https://localhost:8080/"
        },
        "id": "DCt3v24k5IMx",
        "outputId": "43187c4e-c367-4472-d9b8-0cb9f7ff7196"
      },
      "source": [
        "from sklearn.cluster import DBSCAN, estimate_bandwidth\n",
        "\n",
        "agrupador_kmeans = KMeans(n_clusters = 3)\n",
        "agrupador_DBSCAN = DBSCAN(eps = 2.7, min_samples= 81, metric = \"manhattan\")\n",
        "\n",
        "BW = estimate_bandwidth(values, quantile = 0.18)\n",
        "\n",
        "labels_kmeans = agrupador_kmeans.fit_predict(values)\n",
        "labels_dbscan = agrupador_DBSCAN.fit_predict(values)\n",
        "\n",
        "print(\"Labels K-Means: \", labels_kmeans)\n",
        "print(\"Labels DBSCAN: \", labels_dbscan)"
      ],
      "execution_count": 57,
      "outputs": [
        {
          "output_type": "stream",
          "name": "stdout",
          "text": [
            "Labels K-Means:  [2 0 2 ... 2 2 0]\n",
            "Labels DBSCAN:  [-1  0  0 ... -1  0 -1]\n"
          ]
        }
      ]
    },
    {
      "cell_type": "code",
      "metadata": {
        "colab": {
          "base_uri": "https://localhost:8080/"
        },
        "id": "MqLZZ8au5WzG",
        "outputId": "44567030-695d-4fae-821e-5679d223385b"
      },
      "source": [
        "from sklearn.metrics import silhouette_score\n",
        "\n",
        "print(\"O coeficiente de silhueta do K-Means é: \", silhouette_score(df, labels_kmeans))\n",
        "print(\"O coeficiente de silhueta do DBSCAN é: \", silhouette_score(df, labels_dbscan))\n"
      ],
      "execution_count": 67,
      "outputs": [
        {
          "output_type": "stream",
          "name": "stdout",
          "text": [
            "O coeficiente de silhueta do K-Means é:  0.28061305478095766\n",
            "O coeficiente de silhueta do DBSCAN é:  0.20545592339174915\n"
          ]
        }
      ]
    },
    {
      "cell_type": "markdown",
      "metadata": {
        "id": "1rD0YatOw3WG"
      },
      "source": [
        "##Validação de estabilidade dos clusters"
      ]
    },
    {
      "cell_type": "code",
      "metadata": {
        "colab": {
          "base_uri": "https://localhost:8080/"
        },
        "id": "I4sv7PMIRluC",
        "outputId": "7baf9af8-9900-41e0-d8d7-b582ce801b9c"
      },
      "source": [
        "# separando o dataset e testando o agrupamento\n",
        "import numpy as np\n",
        "set1, set2 , set3 = np.array_split(values, 3)\n",
        "\n",
        "s1, dbs1, calinski1 = clustering_algorithm(3, set1)\n",
        "print('\\nMétricas s, dbs e calinski com 3 clusters \\n', s1, dbs1, calinski1)\n",
        "\n",
        "s2, dbs2, calinski2 = clustering_algorithm(3, set2)\n",
        "print('Métricas s, dbs e calinski com 3 clusters \\n', s2, dbs2, calinski2)\n",
        "\n",
        "s3, dbs3, calinski3 = clustering_algorithm(3, set3)\n",
        "print('Métricas s, dbs e calinski com 3 clusters \\n', s3, dbs3, calinski3)"
      ],
      "execution_count": 68,
      "outputs": [
        {
          "output_type": "stream",
          "name": "stdout",
          "text": [
            "\n",
            "Métricas s, dbs e calinski com 3 clusters \n",
            " 0.19483802825158367 1.7053897225122971 167.4984093959026\n",
            "Métricas s, dbs e calinski com 3 clusters \n",
            " 0.1893223887604079 1.7385994059889052 175.66170309237873\n",
            "Métricas s, dbs e calinski com 3 clusters \n",
            " 0.19519681701501734 1.742510369910274 172.92301005226514\n"
          ]
        }
      ]
    },
    {
      "cell_type": "markdown",
      "metadata": {
        "id": "bzuaEWxcWpvb"
      },
      "source": [
        "A estabilidade dos clusters foi satisfatória."
      ]
    },
    {
      "cell_type": "code",
      "metadata": {
        "colab": {
          "base_uri": "https://localhost:8080/",
          "height": 253
        },
        "id": "nah_S7rLRlrA",
        "outputId": "71ae70e6-959d-49b6-ee14-67686241e7b9"
      },
      "source": [
        "# inserindo coluna com o cluster atribuído ao elemento\n",
        "df['cluster'] = labels\n",
        "\n",
        "# poderíamos analisar os clusters observando as estátisticas descritivas\n",
        "df.groupby(df['cluster']).describe()"
      ],
      "execution_count": 69,
      "outputs": [
        {
          "output_type": "execute_result",
          "data": {
            "text/html": [
              "<div>\n",
              "<style scoped>\n",
              "    .dataframe tbody tr th:only-of-type {\n",
              "        vertical-align: middle;\n",
              "    }\n",
              "\n",
              "    .dataframe tbody tr th {\n",
              "        vertical-align: top;\n",
              "    }\n",
              "\n",
              "    .dataframe thead tr th {\n",
              "        text-align: left;\n",
              "    }\n",
              "\n",
              "    .dataframe thead tr:last-of-type th {\n",
              "        text-align: right;\n",
              "    }\n",
              "</style>\n",
              "<table border=\"1\" class=\"dataframe\">\n",
              "  <thead>\n",
              "    <tr>\n",
              "      <th></th>\n",
              "      <th colspan=\"8\" halign=\"left\">Education</th>\n",
              "      <th colspan=\"8\" halign=\"left\">Marital_Status</th>\n",
              "      <th colspan=\"8\" halign=\"left\">Income</th>\n",
              "      <th colspan=\"8\" halign=\"left\">Dt_Customer</th>\n",
              "      <th colspan=\"8\" halign=\"left\">Recency</th>\n",
              "      <th>...</th>\n",
              "      <th colspan=\"8\" halign=\"left\">Children</th>\n",
              "      <th colspan=\"8\" halign=\"left\">Expenses</th>\n",
              "      <th colspan=\"8\" halign=\"left\">TotalAcceptedCmp</th>\n",
              "      <th colspan=\"8\" halign=\"left\">NumTotalPurchases</th>\n",
              "      <th colspan=\"8\" halign=\"left\">Age</th>\n",
              "    </tr>\n",
              "    <tr>\n",
              "      <th></th>\n",
              "      <th>count</th>\n",
              "      <th>mean</th>\n",
              "      <th>std</th>\n",
              "      <th>min</th>\n",
              "      <th>25%</th>\n",
              "      <th>50%</th>\n",
              "      <th>75%</th>\n",
              "      <th>max</th>\n",
              "      <th>count</th>\n",
              "      <th>mean</th>\n",
              "      <th>std</th>\n",
              "      <th>min</th>\n",
              "      <th>25%</th>\n",
              "      <th>50%</th>\n",
              "      <th>75%</th>\n",
              "      <th>max</th>\n",
              "      <th>count</th>\n",
              "      <th>mean</th>\n",
              "      <th>std</th>\n",
              "      <th>min</th>\n",
              "      <th>25%</th>\n",
              "      <th>50%</th>\n",
              "      <th>75%</th>\n",
              "      <th>max</th>\n",
              "      <th>count</th>\n",
              "      <th>mean</th>\n",
              "      <th>std</th>\n",
              "      <th>min</th>\n",
              "      <th>25%</th>\n",
              "      <th>50%</th>\n",
              "      <th>75%</th>\n",
              "      <th>max</th>\n",
              "      <th>count</th>\n",
              "      <th>mean</th>\n",
              "      <th>std</th>\n",
              "      <th>min</th>\n",
              "      <th>25%</th>\n",
              "      <th>50%</th>\n",
              "      <th>75%</th>\n",
              "      <th>max</th>\n",
              "      <th>...</th>\n",
              "      <th>count</th>\n",
              "      <th>mean</th>\n",
              "      <th>std</th>\n",
              "      <th>min</th>\n",
              "      <th>25%</th>\n",
              "      <th>50%</th>\n",
              "      <th>75%</th>\n",
              "      <th>max</th>\n",
              "      <th>count</th>\n",
              "      <th>mean</th>\n",
              "      <th>std</th>\n",
              "      <th>min</th>\n",
              "      <th>25%</th>\n",
              "      <th>50%</th>\n",
              "      <th>75%</th>\n",
              "      <th>max</th>\n",
              "      <th>count</th>\n",
              "      <th>mean</th>\n",
              "      <th>std</th>\n",
              "      <th>min</th>\n",
              "      <th>25%</th>\n",
              "      <th>50%</th>\n",
              "      <th>75%</th>\n",
              "      <th>max</th>\n",
              "      <th>count</th>\n",
              "      <th>mean</th>\n",
              "      <th>std</th>\n",
              "      <th>min</th>\n",
              "      <th>25%</th>\n",
              "      <th>50%</th>\n",
              "      <th>75%</th>\n",
              "      <th>max</th>\n",
              "      <th>count</th>\n",
              "      <th>mean</th>\n",
              "      <th>std</th>\n",
              "      <th>min</th>\n",
              "      <th>25%</th>\n",
              "      <th>50%</th>\n",
              "      <th>75%</th>\n",
              "      <th>max</th>\n",
              "    </tr>\n",
              "    <tr>\n",
              "      <th>cluster</th>\n",
              "      <th></th>\n",
              "      <th></th>\n",
              "      <th></th>\n",
              "      <th></th>\n",
              "      <th></th>\n",
              "      <th></th>\n",
              "      <th></th>\n",
              "      <th></th>\n",
              "      <th></th>\n",
              "      <th></th>\n",
              "      <th></th>\n",
              "      <th></th>\n",
              "      <th></th>\n",
              "      <th></th>\n",
              "      <th></th>\n",
              "      <th></th>\n",
              "      <th></th>\n",
              "      <th></th>\n",
              "      <th></th>\n",
              "      <th></th>\n",
              "      <th></th>\n",
              "      <th></th>\n",
              "      <th></th>\n",
              "      <th></th>\n",
              "      <th></th>\n",
              "      <th></th>\n",
              "      <th></th>\n",
              "      <th></th>\n",
              "      <th></th>\n",
              "      <th></th>\n",
              "      <th></th>\n",
              "      <th></th>\n",
              "      <th></th>\n",
              "      <th></th>\n",
              "      <th></th>\n",
              "      <th></th>\n",
              "      <th></th>\n",
              "      <th></th>\n",
              "      <th></th>\n",
              "      <th></th>\n",
              "      <th></th>\n",
              "      <th></th>\n",
              "      <th></th>\n",
              "      <th></th>\n",
              "      <th></th>\n",
              "      <th></th>\n",
              "      <th></th>\n",
              "      <th></th>\n",
              "      <th></th>\n",
              "      <th></th>\n",
              "      <th></th>\n",
              "      <th></th>\n",
              "      <th></th>\n",
              "      <th></th>\n",
              "      <th></th>\n",
              "      <th></th>\n",
              "      <th></th>\n",
              "      <th></th>\n",
              "      <th></th>\n",
              "      <th></th>\n",
              "      <th></th>\n",
              "      <th></th>\n",
              "      <th></th>\n",
              "      <th></th>\n",
              "      <th></th>\n",
              "      <th></th>\n",
              "      <th></th>\n",
              "      <th></th>\n",
              "      <th></th>\n",
              "      <th></th>\n",
              "      <th></th>\n",
              "      <th></th>\n",
              "      <th></th>\n",
              "      <th></th>\n",
              "      <th></th>\n",
              "      <th></th>\n",
              "      <th></th>\n",
              "      <th></th>\n",
              "      <th></th>\n",
              "      <th></th>\n",
              "      <th></th>\n",
              "    </tr>\n",
              "  </thead>\n",
              "  <tbody>\n",
              "    <tr>\n",
              "      <th>0</th>\n",
              "      <td>1176.0</td>\n",
              "      <td>1.571429</td>\n",
              "      <td>0.826168</td>\n",
              "      <td>0.0</td>\n",
              "      <td>1.0</td>\n",
              "      <td>1.0</td>\n",
              "      <td>2.0</td>\n",
              "      <td>3.0</td>\n",
              "      <td>1176.0</td>\n",
              "      <td>0.661565</td>\n",
              "      <td>0.473379</td>\n",
              "      <td>0.0</td>\n",
              "      <td>0.0</td>\n",
              "      <td>1.0</td>\n",
              "      <td>1.0</td>\n",
              "      <td>1.0</td>\n",
              "      <td>1176.0</td>\n",
              "      <td>36408.335884</td>\n",
              "      <td>13000.885811</td>\n",
              "      <td>1730.0</td>\n",
              "      <td>27092.75</td>\n",
              "      <td>36362.5</td>\n",
              "      <td>45850.0</td>\n",
              "      <td>71427.0</td>\n",
              "      <td>1176.0</td>\n",
              "      <td>332.312075</td>\n",
              "      <td>200.750919</td>\n",
              "      <td>0.0</td>\n",
              "      <td>153.00</td>\n",
              "      <td>322.0</td>\n",
              "      <td>501.25</td>\n",
              "      <td>699.0</td>\n",
              "      <td>1176.0</td>\n",
              "      <td>48.75085</td>\n",
              "      <td>28.807594</td>\n",
              "      <td>0.0</td>\n",
              "      <td>24.00</td>\n",
              "      <td>49.0</td>\n",
              "      <td>74.00</td>\n",
              "      <td>99.0</td>\n",
              "      <td>...</td>\n",
              "      <td>1176.0</td>\n",
              "      <td>1.284864</td>\n",
              "      <td>0.692557</td>\n",
              "      <td>0.0</td>\n",
              "      <td>1.0</td>\n",
              "      <td>1.0</td>\n",
              "      <td>2.0</td>\n",
              "      <td>3.0</td>\n",
              "      <td>1176.0</td>\n",
              "      <td>140.142007</td>\n",
              "      <td>142.610552</td>\n",
              "      <td>5.0</td>\n",
              "      <td>42.75</td>\n",
              "      <td>75.0</td>\n",
              "      <td>199.0</td>\n",
              "      <td>902.0</td>\n",
              "      <td>1176.0</td>\n",
              "      <td>0.182823</td>\n",
              "      <td>0.459132</td>\n",
              "      <td>0.0</td>\n",
              "      <td>0.0</td>\n",
              "      <td>0.0</td>\n",
              "      <td>0.0</td>\n",
              "      <td>2.0</td>\n",
              "      <td>1176.0</td>\n",
              "      <td>9.249150</td>\n",
              "      <td>4.641350</td>\n",
              "      <td>0.0</td>\n",
              "      <td>6.0</td>\n",
              "      <td>8.0</td>\n",
              "      <td>12.0</td>\n",
              "      <td>26.0</td>\n",
              "      <td>1176.0</td>\n",
              "      <td>42.840986</td>\n",
              "      <td>10.785856</td>\n",
              "      <td>18.0</td>\n",
              "      <td>35.75</td>\n",
              "      <td>42.0</td>\n",
              "      <td>50.0</td>\n",
              "      <td>68.0</td>\n",
              "    </tr>\n",
              "    <tr>\n",
              "      <th>1</th>\n",
              "      <td>836.0</td>\n",
              "      <td>1.760766</td>\n",
              "      <td>0.840696</td>\n",
              "      <td>0.0</td>\n",
              "      <td>1.0</td>\n",
              "      <td>2.0</td>\n",
              "      <td>3.0</td>\n",
              "      <td>3.0</td>\n",
              "      <td>836.0</td>\n",
              "      <td>0.636364</td>\n",
              "      <td>0.481334</td>\n",
              "      <td>0.0</td>\n",
              "      <td>0.0</td>\n",
              "      <td>1.0</td>\n",
              "      <td>1.0</td>\n",
              "      <td>1.0</td>\n",
              "      <td>836.0</td>\n",
              "      <td>68053.212919</td>\n",
              "      <td>14246.220373</td>\n",
              "      <td>2447.0</td>\n",
              "      <td>60222.50</td>\n",
              "      <td>67445.0</td>\n",
              "      <td>75779.0</td>\n",
              "      <td>162397.0</td>\n",
              "      <td>836.0</td>\n",
              "      <td>374.717703</td>\n",
              "      <td>201.705255</td>\n",
              "      <td>0.0</td>\n",
              "      <td>209.75</td>\n",
              "      <td>391.0</td>\n",
              "      <td>543.00</td>\n",
              "      <td>698.0</td>\n",
              "      <td>836.0</td>\n",
              "      <td>50.62799</td>\n",
              "      <td>28.841821</td>\n",
              "      <td>0.0</td>\n",
              "      <td>27.00</td>\n",
              "      <td>52.0</td>\n",
              "      <td>74.25</td>\n",
              "      <td>99.0</td>\n",
              "      <td>...</td>\n",
              "      <td>836.0</td>\n",
              "      <td>0.618421</td>\n",
              "      <td>0.616418</td>\n",
              "      <td>0.0</td>\n",
              "      <td>0.0</td>\n",
              "      <td>1.0</td>\n",
              "      <td>1.0</td>\n",
              "      <td>3.0</td>\n",
              "      <td>836.0</td>\n",
              "      <td>1058.250000</td>\n",
              "      <td>427.949340</td>\n",
              "      <td>6.0</td>\n",
              "      <td>746.00</td>\n",
              "      <td>1019.5</td>\n",
              "      <td>1336.0</td>\n",
              "      <td>2525.0</td>\n",
              "      <td>836.0</td>\n",
              "      <td>0.269139</td>\n",
              "      <td>0.443778</td>\n",
              "      <td>0.0</td>\n",
              "      <td>0.0</td>\n",
              "      <td>0.0</td>\n",
              "      <td>1.0</td>\n",
              "      <td>1.0</td>\n",
              "      <td>836.0</td>\n",
              "      <td>21.333732</td>\n",
              "      <td>5.005134</td>\n",
              "      <td>0.0</td>\n",
              "      <td>18.0</td>\n",
              "      <td>21.0</td>\n",
              "      <td>25.0</td>\n",
              "      <td>44.0</td>\n",
              "      <td>836.0</td>\n",
              "      <td>48.289474</td>\n",
              "      <td>11.667753</td>\n",
              "      <td>19.0</td>\n",
              "      <td>40.00</td>\n",
              "      <td>49.0</td>\n",
              "      <td>58.0</td>\n",
              "      <td>74.0</td>\n",
              "    </tr>\n",
              "    <tr>\n",
              "      <th>2</th>\n",
              "      <td>200.0</td>\n",
              "      <td>1.805000</td>\n",
              "      <td>0.860627</td>\n",
              "      <td>1.0</td>\n",
              "      <td>1.0</td>\n",
              "      <td>2.0</td>\n",
              "      <td>3.0</td>\n",
              "      <td>3.0</td>\n",
              "      <td>200.0</td>\n",
              "      <td>0.590000</td>\n",
              "      <td>0.493068</td>\n",
              "      <td>0.0</td>\n",
              "      <td>0.0</td>\n",
              "      <td>1.0</td>\n",
              "      <td>1.0</td>\n",
              "      <td>1.0</td>\n",
              "      <td>200.0</td>\n",
              "      <td>76121.000000</td>\n",
              "      <td>13976.340001</td>\n",
              "      <td>36130.0</td>\n",
              "      <td>69306.25</td>\n",
              "      <td>78628.0</td>\n",
              "      <td>84906.0</td>\n",
              "      <td>105471.0</td>\n",
              "      <td>200.0</td>\n",
              "      <td>391.765000</td>\n",
              "      <td>202.219120</td>\n",
              "      <td>6.0</td>\n",
              "      <td>219.50</td>\n",
              "      <td>419.0</td>\n",
              "      <td>578.00</td>\n",
              "      <td>697.0</td>\n",
              "      <td>200.0</td>\n",
              "      <td>43.87500</td>\n",
              "      <td>29.648008</td>\n",
              "      <td>0.0</td>\n",
              "      <td>17.75</td>\n",
              "      <td>40.0</td>\n",
              "      <td>69.25</td>\n",
              "      <td>99.0</td>\n",
              "      <td>...</td>\n",
              "      <td>200.0</td>\n",
              "      <td>0.340000</td>\n",
              "      <td>0.562121</td>\n",
              "      <td>0.0</td>\n",
              "      <td>0.0</td>\n",
              "      <td>0.0</td>\n",
              "      <td>1.0</td>\n",
              "      <td>3.0</td>\n",
              "      <td>200.0</td>\n",
              "      <td>1468.865000</td>\n",
              "      <td>504.813510</td>\n",
              "      <td>265.0</td>\n",
              "      <td>1181.00</td>\n",
              "      <td>1506.5</td>\n",
              "      <td>1820.5</td>\n",
              "      <td>2525.0</td>\n",
              "      <td>200.0</td>\n",
              "      <td>2.765000</td>\n",
              "      <td>0.918692</td>\n",
              "      <td>2.0</td>\n",
              "      <td>2.0</td>\n",
              "      <td>2.0</td>\n",
              "      <td>3.0</td>\n",
              "      <td>5.0</td>\n",
              "      <td>200.0</td>\n",
              "      <td>21.140000</td>\n",
              "      <td>4.456422</td>\n",
              "      <td>10.0</td>\n",
              "      <td>18.0</td>\n",
              "      <td>21.0</td>\n",
              "      <td>24.0</td>\n",
              "      <td>34.0</td>\n",
              "      <td>200.0</td>\n",
              "      <td>44.900000</td>\n",
              "      <td>13.794253</td>\n",
              "      <td>19.0</td>\n",
              "      <td>33.00</td>\n",
              "      <td>44.0</td>\n",
              "      <td>57.0</td>\n",
              "      <td>71.0</td>\n",
              "    </tr>\n",
              "  </tbody>\n",
              "</table>\n",
              "<p>3 rows × 88 columns</p>\n",
              "</div>"
            ],
            "text/plain": [
              "        Education                                ...   Age                         \n",
              "            count      mean       std  min  25%  ...   min    25%   50%   75%   max\n",
              "cluster                                          ...                               \n",
              "0          1176.0  1.571429  0.826168  0.0  1.0  ...  18.0  35.75  42.0  50.0  68.0\n",
              "1           836.0  1.760766  0.840696  0.0  1.0  ...  19.0  40.00  49.0  58.0  74.0\n",
              "2           200.0  1.805000  0.860627  1.0  1.0  ...  19.0  33.00  44.0  57.0  71.0\n",
              "\n",
              "[3 rows x 88 columns]"
            ]
          },
          "metadata": {},
          "execution_count": 69
        }
      ]
    },
    {
      "cell_type": "markdown",
      "metadata": {
        "id": "86JJ3QZsL0NP"
      },
      "source": [
        "# Visualização dos resultados"
      ]
    },
    {
      "cell_type": "code",
      "metadata": {
        "colab": {
          "base_uri": "https://localhost:8080/"
        },
        "id": "SpCF-6bNS8XD",
        "outputId": "1f95080a-98f8-429a-f51f-bf3b911c2eb2"
      },
      "source": [
        "df.cluster.value_counts()"
      ],
      "execution_count": 70,
      "outputs": [
        {
          "output_type": "execute_result",
          "data": {
            "text/plain": [
              "0    1176\n",
              "1     836\n",
              "2     200\n",
              "Name: cluster, dtype: int64"
            ]
          },
          "metadata": {},
          "execution_count": 70
        }
      ]
    },
    {
      "cell_type": "code",
      "metadata": {
        "colab": {
          "base_uri": "https://localhost:8080/",
          "height": 295
        },
        "id": "vU_HTBDNXGnz",
        "outputId": "4248826a-a3af-4a25-ab2c-60f605fb6b50"
      },
      "source": [
        "# plot da distribuição dos clusters \n",
        "ax = sns.countplot(x=df[\"cluster\"], palette='icefire',)\n",
        "ax.set_title(\"Distribuição dos Clusters\")\n",
        "plt.show()"
      ],
      "execution_count": 71,
      "outputs": [
        {
          "output_type": "display_data",
          "data": {
            "image/png": "[encoded data removed]",
            "text/plain": [
              "<Figure size 432x288 with 1 Axes>"
            ]
          },
          "metadata": {}
        }
      ]
    },
    {
      "cell_type": "markdown",
      "metadata": {
        "id": "sTnfv8ZH5mK7"
      },
      "source": [
        "Visualização dos clusters"
      ]
    },
    {
      "cell_type": "code",
      "metadata": {
        "colab": {
          "base_uri": "https://localhost:8080/",
          "height": 542
        },
        "id": "0Gry5il-nXYq",
        "outputId": "fa14a392-46b4-49d1-c7a8-04195b0e08fe"
      },
      "source": [
        "from sklearn.cluster import KMeans\n",
        "import plotly.graph_objects as go\n",
        "import numpy as np\n",
        "\n",
        "fig = go.Figure()\n",
        "fig.add_trace(go.Scatter3d(x = df['Income'],\n",
        "                           y = df['Children'],\n",
        "                           z = df['TotalAcceptedCmp'],\n",
        "                           mode = 'markers',\n",
        "                           marker = dict(color = labels.astype(np.float)),\n",
        "                           text = labels))\n",
        "fig.update_layout(scene = dict(\n",
        "                    xaxis_title='Income',\n",
        "                    yaxis_title='Children',\n",
        "                    zaxis_title='Total Accepted Promo'),\n",
        "                    width=700,\n",
        "                    margin=dict(r=20, b=10, l=10, t=10))\n",
        "fig.show()"
      ],
      "execution_count": 72,
      "outputs": [
        {
          "output_type": "display_data",
          "data": {
            "text/html": [
              "<html>\n",
              "<head><meta charset=\"utf-8\" /></head>\n",
              "<body>\n",
              "    <div>\n",
              "            <script src=\"https://cdnjs.cloudflare.com/ajax/libs/mathjax/2.7.5/MathJax.js?config=TeX-AMS-MML_SVG\"></script><script type=\"text/javascript\">if (window.MathJax) {MathJax.Hub.Config({SVG: {font: \"STIX-Web\"}});}</script>\n",
              "                <script type=\"text/javascript\">window.PlotlyConfig = {MathJaxConfig: 'local'};</script>\n",
              "        <script src=\"https://cdn.plot.ly/plotly-latest.min.js\"></script>    \n",
              "            <div id=\"0451ffeb-9abb-44df-ae43-5e271f1ba40a\" class=\"plotly-graph-div\" style=\"height:525px; width:700px;\"></div>\n",
              "            <script type=\"text/javascript\">\n",
              "                \n",
              "                    window.PLOTLYENV=window.PLOTLYENV || {};\n",
              "                    \n",
              "                if (document.getElementById(\"0451ffeb-9abb-44df-ae43-5e271f1ba40a\")) {\n",
              "                    Plotly.newPlot(\n",
              "                        '0451ffeb-9abb-44df-ae43-5e271f1ba40a',\n",
              "                        [{\"marker\": {\"color\": [1.0, 0.0, 1.0, 0.0, 1.0, 1.0, 1.0, 0.0, 0.0, 0.0, 0.0, 1.0, 0.0, 0.0, 2.0, 0.0, 1.0, 1.0, 0.0, 0.0, 1.0, 1.0, 1.0, 1.0, 0.0, 0.0, 0.0, 1.0, 0.0, 0.0, 0.0, 0.0, 1.0, 0.0, 1.0, 0.0, 0.0, 2.0, 1.0, 0.0, 0.0, 0.0, 1.0, 0.0, 0.0, 1.0, 1.0, 1.0, 0.0, 2.0, 0.0, 2.0, 1.0, 0.0, 1.0, 2.0, 1.0, 1.0, 1.0, 1.0, 0.0, 0.0, 2.0, 1.0, 1.0, 1.0, 1.0, 1.0, 0.0, 0.0, 1.0, 2.0, 0.0, 2.0, 0.0, 0.0, 0.0, 0.0, 1.0, 0.0, 0.0, 2.0, 1.0, 0.0, 0.0, 0.0, 0.0, 1.0, 0.0, 1.0, 1.0, 0.0, 0.0, 1.0, 1.0, 1.0, 0.0, 0.0, 1.0, 0.0, 1.0, 1.0, 2.0, 1.0, 2.0, 1.0, 0.0, 2.0, 0.0, 0.0, 0.0, 1.0, 0.0, 0.0, 0.0, 2.0, 1.0, 1.0, 0.0, 1.0, 1.0, 1.0, 1.0, 0.0, 1.0, 0.0, 0.0, 0.0, 0.0, 1.0, 1.0, 1.0, 1.0, 0.0, 0.0, 0.0, 0.0, 0.0, 0.0, 0.0, 1.0, 0.0, 0.0, 1.0, 2.0, 0.0, 0.0, 0.0, 1.0, 0.0, 1.0, 0.0, 1.0, 1.0, 0.0, 1.0, 1.0, 1.0, 0.0, 0.0, 0.0, 0.0, 0.0, 0.0, 1.0, 2.0, 0.0, 0.0, 1.0, 0.0, 0.0, 1.0, 0.0, 0.0, 0.0, 0.0, 1.0, 1.0, 0.0, 0.0, 1.0, 0.0, 0.0, 0.0, 1.0, 1.0, 1.0, 0.0, 1.0, 1.0, 1.0, 2.0, 0.0, 0.0, 0.0, 0.0, 0.0, 2.0, 0.0, 1.0, 0.0, 0.0, 1.0, 0.0, 0.0, 2.0, 0.0, 1.0, 0.0, 1.0, 1.0, 0.0, 1.0, 0.0, 0.0, 1.0, 1.0, 0.0, 0.0, 1.0, 0.0, 0.0, 1.0, 0.0, 0.0, 1.0, 0.0, 1.0, 1.0, 0.0, 2.0, 1.0, 0.0, 2.0, 1.0, 1.0, 1.0, 0.0, 0.0, 2.0, 0.0, 1.0, 0.0, 1.0, 0.0, 0.0, 0.0, 0.0, 1.0, 0.0, 0.0, 0.0, 0.0, 1.0, 0.0, 1.0, 0.0, 1.0, 0.0, 0.0, 0.0, 0.0, 1.0, 1.0, 1.0, 2.0, 1.0, 0.0, 0.0, 1.0, 1.0, 0.0, 0.0, 1.0, 1.0, 1.0, 1.0, 0.0, 0.0, 1.0, 0.0, 0.0, 2.0, 0.0, 0.0, 1.0, 1.0, 0.0, 1.0, 0.0, 0.0, 0.0, 1.0, 0.0, 1.0, 1.0, 0.0, 0.0, 0.0, 1.0, 0.0, 0.0, 0.0, 0.0, 0.0, 1.0, 0.0, 0.0, 1.0, 1.0, 1.0, 0.0, 0.0, 0.0, 0.0, 0.0, 0.0, 1.0, 0.0, 0.0, 1.0, 2.0, 0.0, 2.0, 1.0, 0.0, 2.0, 1.0, 0.0, 1.0, 0.0, 1.0, 0.0, 0.0, 1.0, 2.0, 1.0, 1.0, 1.0, 0.0, 0.0, 1.0, 1.0, 0.0, 1.0, 1.0, 0.0, 0.0, 0.0, 1.0, 1.0, 0.0, 1.0, 1.0, 0.0, 0.0, 0.0, 1.0, 0.0, 0.0, 0.0, 0.0, 1.0, 0.0, 0.0, 0.0, 0.0, 0.0, 0.0, 0.0, 2.0, 1.0, 0.0, 1.0, 1.0, 0.0, 1.0, 1.0, 1.0, 1.0, 0.0, 0.0, 0.0, 0.0, 0.0, 1.0, 0.0, 0.0, 0.0, 0.0, 0.0, 0.0, 0.0, 0.0, 0.0, 1.0, 1.0, 0.0, 1.0, 1.0, 0.0, 2.0, 2.0, 1.0, 0.0, 0.0, 0.0, 2.0, 1.0, 0.0, 2.0, 2.0, 0.0, 1.0, 2.0, 0.0, 1.0, 1.0, 0.0, 0.0, 1.0, 1.0, 0.0, 0.0, 0.0, 0.0, 0.0, 0.0, 0.0, 0.0, 0.0, 2.0, 0.0, 1.0, 1.0, 1.0, 0.0, 0.0, 1.0, 0.0, 2.0, 0.0, 0.0, 1.0, 2.0, 1.0, 0.0, 1.0, 0.0, 1.0, 2.0, 0.0, 0.0, 1.0, 1.0, 0.0, 2.0, 0.0, 0.0, 1.0, 0.0, 0.0, 1.0, 0.0, 0.0, 0.0, 0.0, 0.0, 1.0, 1.0, 1.0, 1.0, 0.0, 0.0, 1.0, 0.0, 1.0, 1.0, 1.0, 1.0, 0.0, 1.0, 1.0, 1.0, 0.0, 0.0, 0.0, 1.0, 0.0, 1.0, 1.0, 1.0, 0.0, 1.0, 0.0, 1.0, 0.0, 1.0, 1.0, 1.0, 0.0, 0.0, 1.0, 2.0, 0.0, 1.0, 0.0, 2.0, 0.0, 0.0, 1.0, 1.0, 1.0, 0.0, 1.0, 1.0, 0.0, 0.0, 0.0, 0.0, 0.0, 2.0, 0.0, 0.0, 0.0, 0.0, 0.0, 2.0, 1.0, 0.0, 1.0, 0.0, 0.0, 0.0, 0.0, 0.0, 1.0, 0.0, 1.0, 0.0, 1.0, 1.0, 0.0, 2.0, 0.0, 1.0, 1.0, 1.0, 0.0, 0.0, 1.0, 0.0, 0.0, 0.0, 0.0, 0.0, 0.0, 0.0, 0.0, 2.0, 0.0, 0.0, 0.0, 0.0, 0.0, 1.0, 0.0, 0.0, 0.0, 0.0, 2.0, 1.0, 1.0, 0.0, 0.0, 2.0, 1.0, 0.0, 1.0, 0.0, 0.0, 0.0, 0.0, 0.0, 0.0, 1.0, 1.0, 1.0, 0.0, 0.0, 0.0, 0.0, 0.0, 1.0, 0.0, 1.0, 0.0, 0.0, 1.0, 0.0, 0.0, 1.0, 0.0, 0.0, 1.0, 0.0, 2.0, 0.0, 1.0, 0.0, 1.0, 1.0, 0.0, 0.0, 1.0, 1.0, 1.0, 0.0, 1.0, 0.0, 1.0, 0.0, 1.0, 1.0, 1.0, 1.0, 1.0, 0.0, 2.0, 0.0, 2.0, 0.0, 1.0, 1.0, 1.0, 0.0, 1.0, 0.0, 0.0, 1.0, 0.0, 0.0, 1.0, 0.0, 1.0, 0.0, 1.0, 0.0, 0.0, 0.0, 0.0, 0.0, 0.0, 0.0, 1.0, 1.0, 1.0, 1.0, 1.0, 0.0, 2.0, 1.0, 0.0, 1.0, 1.0, 1.0, 0.0, 0.0, 1.0, 1.0, 1.0, 1.0, 2.0, 1.0, 2.0, 1.0, 0.0, 0.0, 0.0, 0.0, 0.0, 0.0, 1.0, 1.0, 1.0, 0.0, 1.0, 2.0, 0.0, 2.0, 0.0, 1.0, 1.0, 0.0, 0.0, 1.0, 0.0, 1.0, 0.0, 1.0, 2.0, 0.0, 1.0, 0.0, 1.0, 1.0, 0.0, 1.0, 0.0, 0.0, 1.0, 1.0, 0.0, 1.0, 0.0, 1.0, 0.0, 0.0, 2.0, 2.0, 1.0, 1.0, 0.0, 1.0, 1.0, 0.0, 0.0, 0.0, 1.0, 1.0, 0.0, 1.0, 0.0, 2.0, 1.0, 1.0, 1.0, 2.0, 1.0, 1.0, 1.0, 1.0, 0.0, 0.0, 0.0, 1.0, 1.0, 0.0, 1.0, 0.0, 1.0, 1.0, 0.0, 1.0, 1.0, 1.0, 0.0, 0.0, 0.0, 0.0, 0.0, 1.0, 0.0, 1.0, 1.0, 0.0, 0.0, 0.0, 0.0, 0.0, 0.0, 2.0, 1.0, 0.0, 1.0, 2.0, 0.0, 0.0, 0.0, 1.0, 1.0, 1.0, 1.0, 0.0, 1.0, 0.0, 0.0, 1.0, 2.0, 0.0, 0.0, 0.0, 1.0, 1.0, 0.0, 0.0, 1.0, 1.0, 1.0, 1.0, 0.0, 1.0, 1.0, 0.0, 2.0, 0.0, 2.0, 0.0, 2.0, 1.0, 2.0, 0.0, 1.0, 0.0, 0.0, 1.0, 0.0, 0.0, 0.0, 1.0, 0.0, 1.0, 0.0, 1.0, 0.0, 0.0, 0.0, 0.0, 1.0, 2.0, 1.0, 1.0, 0.0, 0.0, 0.0, 1.0, 2.0, 0.0, 2.0, 1.0, 0.0, 0.0, 0.0, 1.0, 0.0, 0.0, 0.0, 0.0, 0.0, 1.0, 0.0, 0.0, 0.0, 0.0, 2.0, 1.0, 0.0, 0.0, 1.0, 2.0, 0.0, 0.0, 1.0, 0.0, 0.0, 0.0, 0.0, 0.0, 1.0, 1.0, 0.0, 0.0, 0.0, 1.0, 0.0, 0.0, 1.0, 0.0, 2.0, 1.0, 1.0, 1.0, 0.0, 0.0, 1.0, 0.0, 1.0, 1.0, 0.0, 1.0, 2.0, 0.0, 0.0, 0.0, 1.0, 1.0, 1.0, 0.0, 2.0, 1.0, 1.0, 2.0, 0.0, 1.0, 0.0, 1.0, 0.0, 0.0, 1.0, 0.0, 1.0, 1.0, 1.0, 1.0, 1.0, 0.0, 1.0, 0.0, 1.0, 0.0, 1.0, 1.0, 1.0, 1.0, 1.0, 1.0, 2.0, 2.0, 0.0, 2.0, 1.0, 0.0, 0.0, 1.0, 0.0, 0.0, 0.0, 0.0, 0.0, 0.0, 1.0, 1.0, 0.0, 1.0, 1.0, 1.0, 0.0, 0.0, 0.0, 1.0, 2.0, 0.0, 0.0, 1.0, 1.0, 0.0, 0.0, 1.0, 1.0, 1.0, 1.0, 0.0, 0.0, 1.0, 0.0, 0.0, 0.0, 1.0, 2.0, 1.0, 1.0, 2.0, 1.0, 0.0, 2.0, 0.0, 1.0, 1.0, 0.0, 0.0, 1.0, 0.0, 1.0, 0.0, 2.0, 2.0, 2.0, 0.0, 0.0, 2.0, 1.0, 1.0, 0.0, 0.0, 2.0, 0.0, 0.0, 0.0, 0.0, 1.0, 1.0, 0.0, 0.0, 0.0, 0.0, 0.0, 1.0, 0.0, 0.0, 1.0, 0.0, 0.0, 0.0, 1.0, 2.0, 1.0, 1.0, 0.0, 1.0, 0.0, 0.0, 0.0, 0.0, 1.0, 1.0, 0.0, 0.0, 1.0, 0.0, 0.0, 0.0, 1.0, 0.0, 1.0, 1.0, 0.0, 1.0, 0.0, 0.0, 1.0, 0.0, 1.0, 1.0, 1.0, 1.0, 1.0, 1.0, 0.0, 1.0, 0.0, 2.0, 1.0, 0.0, 1.0, 0.0, 1.0, 1.0, 0.0, 1.0, 1.0, 2.0, 0.0, 0.0, 0.0, 1.0, 0.0, 1.0, 0.0, 2.0, 1.0, 0.0, 2.0, 0.0, 1.0, 1.0, 0.0, 1.0, 0.0, 0.0, 0.0, 1.0, 1.0, 0.0, 1.0, 2.0, 0.0, 0.0, 0.0, 0.0, 1.0, 0.0, 0.0, 1.0, 0.0, 1.0, 2.0, 0.0, 1.0, 0.0, 2.0, 0.0, 2.0, 0.0, 1.0, 1.0, 0.0, 0.0, 0.0, 0.0, 0.0, 1.0, 0.0, 0.0, 1.0, 1.0, 0.0, 0.0, 1.0, 2.0, 0.0, 0.0, 1.0, 0.0, 0.0, 1.0, 0.0, 0.0, 0.0, 1.0, 0.0, 0.0, 1.0, 1.0, 0.0, 1.0, 1.0, 0.0, 2.0, 0.0, 0.0, 0.0, 1.0, 1.0, 1.0, 0.0, 1.0, 1.0, 1.0, 0.0, 1.0, 0.0, 0.0, 1.0, 1.0, 0.0, 0.0, 1.0, 0.0, 0.0, 0.0, 0.0, 0.0, 0.0, 1.0, 1.0, 0.0, 2.0, 0.0, 0.0, 0.0, 0.0, 1.0, 0.0, 0.0, 1.0, 2.0, 0.0, 0.0, 0.0, 1.0, 0.0, 1.0, 1.0, 1.0, 0.0, 1.0, 0.0, 0.0, 1.0, 1.0, 1.0, 0.0, 0.0, 0.0, 0.0, 1.0, 1.0, 1.0, 0.0, 0.0, 1.0, 0.0, 1.0, 0.0, 0.0, 0.0, 1.0, 0.0, 0.0, 1.0, 1.0, 0.0, 0.0, 0.0, 0.0, 0.0, 0.0, 0.0, 0.0, 1.0, 0.0, 2.0, 0.0, 0.0, 0.0, 0.0, 1.0, 1.0, 0.0, 0.0, 0.0, 0.0, 0.0, 1.0, 2.0, 1.0, 2.0, 1.0, 1.0, 0.0, 1.0, 1.0, 0.0, 2.0, 0.0, 2.0, 2.0, 0.0, 0.0, 2.0, 1.0, 0.0, 0.0, 1.0, 1.0, 1.0, 0.0, 1.0, 0.0, 1.0, 0.0, 0.0, 1.0, 0.0, 2.0, 2.0, 0.0, 1.0, 0.0, 0.0, 2.0, 0.0, 2.0, 1.0, 0.0, 0.0, 0.0, 0.0, 0.0, 0.0, 0.0, 1.0, 2.0, 0.0, 1.0, 2.0, 0.0, 0.0, 1.0, 1.0, 0.0, 2.0, 2.0, 1.0, 1.0, 1.0, 0.0, 1.0, 0.0, 0.0, 0.0, 0.0, 0.0, 0.0, 1.0, 0.0, 1.0, 0.0, 0.0, 1.0, 0.0, 0.0, 0.0, 2.0, 0.0, 0.0, 2.0, 1.0, 2.0, 0.0, 1.0, 0.0, 0.0, 0.0, 0.0, 0.0, 2.0, 0.0, 0.0, 0.0, 0.0, 1.0, 1.0, 1.0, 1.0, 1.0, 0.0, 0.0, 2.0, 1.0, 0.0, 1.0, 1.0, 0.0, 0.0, 0.0, 0.0, 1.0, 1.0, 1.0, 0.0, 0.0, 0.0, 0.0, 0.0, 0.0, 0.0, 1.0, 1.0, 0.0, 0.0, 0.0, 0.0, 0.0, 0.0, 0.0, 2.0, 0.0, 0.0, 1.0, 0.0, 0.0, 0.0, 0.0, 0.0, 1.0, 0.0, 0.0, 1.0, 0.0, 0.0, 1.0, 0.0, 0.0, 1.0, 0.0, 0.0, 1.0, 1.0, 0.0, 1.0, 2.0, 0.0, 2.0, 0.0, 1.0, 0.0, 0.0, 0.0, 0.0, 0.0, 1.0, 1.0, 0.0, 0.0, 0.0, 0.0, 0.0, 0.0, 0.0, 0.0, 0.0, 2.0, 0.0, 0.0, 0.0, 0.0, 0.0, 0.0, 0.0, 0.0, 0.0, 0.0, 2.0, 2.0, 1.0, 1.0, 1.0, 1.0, 1.0, 0.0, 1.0, 1.0, 0.0, 1.0, 1.0, 0.0, 0.0, 2.0, 1.0, 1.0, 1.0, 0.0, 0.0, 0.0, 1.0, 1.0, 1.0, 0.0, 1.0, 0.0, 0.0, 0.0, 2.0, 1.0, 0.0, 1.0, 0.0, 0.0, 1.0, 1.0, 1.0, 0.0, 0.0, 1.0, 1.0, 1.0, 0.0, 1.0, 0.0, 1.0, 0.0, 2.0, 1.0, 0.0, 1.0, 0.0, 2.0, 1.0, 1.0, 0.0, 0.0, 0.0, 1.0, 2.0, 1.0, 1.0, 1.0, 1.0, 1.0, 1.0, 0.0, 1.0, 1.0, 0.0, 0.0, 1.0, 0.0, 0.0, 0.0, 1.0, 1.0, 0.0, 0.0, 0.0, 1.0, 1.0, 0.0, 2.0, 0.0, 1.0, 0.0, 1.0, 0.0, 0.0, 0.0, 0.0, 1.0, 1.0, 1.0, 0.0, 1.0, 1.0, 0.0, 1.0, 0.0, 0.0, 0.0, 1.0, 0.0, 0.0, 1.0, 1.0, 1.0, 1.0, 0.0, 0.0, 0.0, 0.0, 1.0, 0.0, 0.0, 0.0, 1.0, 0.0, 0.0, 1.0, 1.0, 1.0, 1.0, 2.0, 0.0, 2.0, 0.0, 0.0, 0.0, 0.0, 2.0, 0.0, 1.0, 0.0, 1.0, 1.0, 0.0, 1.0, 0.0, 0.0, 1.0, 0.0, 1.0, 0.0, 1.0, 0.0, 0.0, 0.0, 1.0, 0.0, 0.0, 1.0, 0.0, 1.0, 1.0, 1.0, 0.0, 0.0, 0.0, 1.0, 1.0, 1.0, 1.0, 1.0, 0.0, 2.0, 0.0, 0.0, 1.0, 0.0, 0.0, 0.0, 1.0, 0.0, 0.0, 1.0, 0.0, 0.0, 0.0, 1.0, 1.0, 0.0, 0.0, 1.0, 0.0, 0.0, 0.0, 0.0, 1.0, 1.0, 1.0, 0.0, 0.0, 0.0, 2.0, 0.0, 0.0, 1.0, 0.0, 0.0, 1.0, 1.0, 0.0, 0.0, 1.0, 0.0, 1.0, 0.0, 0.0, 0.0, 1.0, 1.0, 2.0, 1.0, 0.0, 1.0, 0.0, 0.0, 0.0, 1.0, 0.0, 1.0, 2.0, 2.0, 1.0, 2.0, 1.0, 1.0, 0.0, 0.0, 0.0, 0.0, 0.0, 1.0, 0.0, 0.0, 0.0, 0.0, 0.0, 1.0, 2.0, 1.0, 1.0, 1.0, 1.0, 0.0, 0.0, 0.0, 1.0, 0.0, 1.0, 0.0, 1.0, 1.0, 0.0, 0.0, 1.0, 0.0, 0.0, 1.0, 0.0, 1.0, 0.0, 2.0, 2.0, 0.0, 1.0, 0.0, 0.0, 1.0, 0.0, 0.0, 2.0, 0.0, 2.0, 2.0, 1.0, 0.0, 0.0, 0.0, 0.0, 1.0, 1.0, 0.0, 0.0, 0.0, 1.0, 1.0, 1.0, 1.0, 1.0, 0.0, 0.0, 0.0, 0.0, 1.0, 1.0, 1.0, 1.0, 0.0, 1.0, 1.0, 2.0, 2.0, 0.0, 0.0, 2.0, 0.0, 0.0, 0.0, 0.0, 0.0, 1.0, 1.0, 0.0, 0.0, 1.0, 0.0, 1.0, 0.0, 1.0, 0.0, 0.0, 0.0, 1.0, 1.0, 1.0, 0.0, 0.0, 0.0, 0.0, 0.0, 1.0, 0.0, 0.0, 1.0, 1.0, 0.0, 0.0, 0.0, 0.0, 1.0, 1.0, 0.0, 0.0, 1.0, 0.0, 0.0, 0.0, 1.0, 0.0, 0.0, 1.0, 1.0, 1.0, 0.0, 0.0, 0.0, 1.0, 0.0, 0.0, 1.0, 1.0, 0.0, 1.0, 1.0, 1.0, 1.0, 0.0, 1.0, 1.0, 0.0, 0.0, 1.0, 0.0, 0.0, 1.0, 1.0, 0.0, 1.0, 1.0, 1.0, 0.0, 0.0, 0.0, 1.0, 0.0, 0.0, 0.0, 1.0, 0.0, 1.0, 1.0, 0.0, 2.0, 0.0, 1.0, 0.0, 2.0, 0.0, 0.0, 1.0, 0.0, 2.0, 0.0, 1.0, 1.0, 1.0, 2.0, 0.0, 0.0, 1.0, 0.0, 1.0, 0.0, 0.0, 1.0, 2.0, 2.0, 0.0, 0.0, 0.0, 2.0, 0.0, 1.0, 0.0, 1.0, 0.0, 0.0, 1.0, 1.0, 1.0, 1.0, 1.0, 0.0, 0.0, 1.0, 0.0, 0.0, 0.0, 2.0, 1.0, 0.0, 1.0, 2.0, 0.0, 2.0, 1.0, 0.0, 0.0, 1.0, 1.0, 1.0, 0.0, 0.0, 1.0, 0.0, 0.0, 1.0, 1.0, 0.0, 0.0, 0.0, 1.0, 1.0, 1.0, 2.0, 1.0, 2.0, 0.0, 0.0, 0.0, 0.0, 0.0, 1.0, 2.0, 1.0, 1.0, 0.0, 2.0, 1.0, 1.0, 1.0, 0.0, 1.0, 0.0, 0.0, 1.0, 0.0, 1.0, 1.0, 0.0, 0.0, 2.0, 0.0, 0.0, 1.0, 0.0, 1.0, 1.0, 1.0, 0.0, 0.0, 1.0, 0.0, 1.0, 1.0, 1.0, 1.0, 0.0, 1.0, 2.0, 0.0, 1.0, 2.0, 0.0, 0.0, 0.0, 1.0, 1.0, 1.0, 2.0, 2.0, 1.0, 0.0, 0.0, 0.0, 0.0, 0.0, 1.0, 0.0, 0.0, 0.0, 0.0, 0.0, 2.0, 0.0, 0.0, 0.0, 0.0, 0.0, 0.0, 0.0, 2.0, 0.0, 2.0, 2.0, 0.0, 2.0, 2.0, 1.0, 0.0, 0.0, 0.0, 0.0, 0.0, 0.0, 0.0, 0.0, 1.0, 0.0, 1.0, 1.0, 1.0, 0.0, 2.0, 1.0, 1.0, 0.0, 0.0, 0.0, 0.0, 0.0, 0.0, 0.0, 0.0, 1.0, 1.0, 0.0, 0.0, 0.0, 2.0, 0.0, 2.0, 1.0, 0.0, 1.0, 0.0, 1.0, 1.0, 1.0, 0.0, 1.0, 1.0, 1.0, 0.0, 0.0, 0.0, 0.0, 0.0, 2.0, 1.0, 1.0, 0.0, 0.0, 1.0, 0.0, 0.0, 0.0, 1.0, 1.0, 1.0, 0.0, 1.0, 0.0, 1.0, 1.0, 0.0, 1.0, 0.0, 0.0, 1.0, 1.0, 0.0, 1.0, 1.0, 1.0, 0.0, 0.0, 0.0, 0.0, 1.0, 1.0, 1.0, 1.0, 0.0, 0.0, 0.0, 0.0, 0.0, 2.0, 2.0, 0.0, 1.0, 0.0, 2.0, 2.0, 0.0, 1.0, 0.0, 2.0, 0.0, 0.0, 0.0, 2.0, 0.0, 2.0, 1.0, 1.0, 0.0, 0.0, 1.0, 1.0, 0.0, 1.0, 1.0, 0.0, 0.0, 0.0, 0.0, 1.0, 0.0, 2.0, 1.0, 2.0, 1.0, 0.0, 0.0, 2.0, 1.0, 0.0, 1.0, 0.0, 0.0, 0.0, 0.0, 0.0, 0.0, 0.0, 0.0, 0.0, 2.0, 2.0, 0.0, 0.0, 0.0, 0.0, 0.0, 1.0, 0.0, 0.0, 0.0, 0.0, 0.0, 0.0, 1.0, 0.0, 1.0, 0.0, 0.0, 1.0, 0.0, 0.0, 1.0, 2.0, 2.0, 0.0, 1.0, 2.0, 1.0, 1.0, 2.0, 2.0, 1.0, 1.0, 0.0, 0.0, 0.0, 1.0, 0.0, 0.0, 0.0, 1.0, 1.0, 1.0, 1.0, 0.0, 1.0, 0.0, 0.0, 2.0, 2.0, 0.0, 0.0, 0.0, 0.0, 0.0, 0.0, 1.0, 1.0, 1.0, 0.0, 0.0, 1.0, 0.0, 0.0, 0.0, 1.0, 1.0, 0.0, 1.0, 0.0, 0.0, 0.0, 1.0, 0.0, 0.0, 0.0, 2.0, 0.0, 0.0, 1.0, 0.0, 1.0, 1.0, 0.0, 0.0, 1.0, 0.0, 0.0, 1.0, 0.0, 1.0, 1.0, 0.0]}, \"mode\": \"markers\", \"text\": [1.0, 0.0, 1.0, 0.0, 1.0, 1.0, 1.0, 0.0, 0.0, 0.0, 0.0, 1.0, 0.0, 0.0, 2.0, 0.0, 1.0, 1.0, 0.0, 0.0, 1.0, 1.0, 1.0, 1.0, 0.0, 0.0, 0.0, 1.0, 0.0, 0.0, 0.0, 0.0, 1.0, 0.0, 1.0, 0.0, 0.0, 2.0, 1.0, 0.0, 0.0, 0.0, 1.0, 0.0, 0.0, 1.0, 1.0, 1.0, 0.0, 2.0, 0.0, 2.0, 1.0, 0.0, 1.0, 2.0, 1.0, 1.0, 1.0, 1.0, 0.0, 0.0, 2.0, 1.0, 1.0, 1.0, 1.0, 1.0, 0.0, 0.0, 1.0, 2.0, 0.0, 2.0, 0.0, 0.0, 0.0, 0.0, 1.0, 0.0, 0.0, 2.0, 1.0, 0.0, 0.0, 0.0, 0.0, 1.0, 0.0, 1.0, 1.0, 0.0, 0.0, 1.0, 1.0, 1.0, 0.0, 0.0, 1.0, 0.0, 1.0, 1.0, 2.0, 1.0, 2.0, 1.0, 0.0, 2.0, 0.0, 0.0, 0.0, 1.0, 0.0, 0.0, 0.0, 2.0, 1.0, 1.0, 0.0, 1.0, 1.0, 1.0, 1.0, 0.0, 1.0, 0.0, 0.0, 0.0, 0.0, 1.0, 1.0, 1.0, 1.0, 0.0, 0.0, 0.0, 0.0, 0.0, 0.0, 0.0, 1.0, 0.0, 0.0, 1.0, 2.0, 0.0, 0.0, 0.0, 1.0, 0.0, 1.0, 0.0, 1.0, 1.0, 0.0, 1.0, 1.0, 1.0, 0.0, 0.0, 0.0, 0.0, 0.0, 0.0, 1.0, 2.0, 0.0, 0.0, 1.0, 0.0, 0.0, 1.0, 0.0, 0.0, 0.0, 0.0, 1.0, 1.0, 0.0, 0.0, 1.0, 0.0, 0.0, 0.0, 1.0, 1.0, 1.0, 0.0, 1.0, 1.0, 1.0, 2.0, 0.0, 0.0, 0.0, 0.0, 0.0, 2.0, 0.0, 1.0, 0.0, 0.0, 1.0, 0.0, 0.0, 2.0, 0.0, 1.0, 0.0, 1.0, 1.0, 0.0, 1.0, 0.0, 0.0, 1.0, 1.0, 0.0, 0.0, 1.0, 0.0, 0.0, 1.0, 0.0, 0.0, 1.0, 0.0, 1.0, 1.0, 0.0, 2.0, 1.0, 0.0, 2.0, 1.0, 1.0, 1.0, 0.0, 0.0, 2.0, 0.0, 1.0, 0.0, 1.0, 0.0, 0.0, 0.0, 0.0, 1.0, 0.0, 0.0, 0.0, 0.0, 1.0, 0.0, 1.0, 0.0, 1.0, 0.0, 0.0, 0.0, 0.0, 1.0, 1.0, 1.0, 2.0, 1.0, 0.0, 0.0, 1.0, 1.0, 0.0, 0.0, 1.0, 1.0, 1.0, 1.0, 0.0, 0.0, 1.0, 0.0, 0.0, 2.0, 0.0, 0.0, 1.0, 1.0, 0.0, 1.0, 0.0, 0.0, 0.0, 1.0, 0.0, 1.0, 1.0, 0.0, 0.0, 0.0, 1.0, 0.0, 0.0, 0.0, 0.0, 0.0, 1.0, 0.0, 0.0, 1.0, 1.0, 1.0, 0.0, 0.0, 0.0, 0.0, 0.0, 0.0, 1.0, 0.0, 0.0, 1.0, 2.0, 0.0, 2.0, 1.0, 0.0, 2.0, 1.0, 0.0, 1.0, 0.0, 1.0, 0.0, 0.0, 1.0, 2.0, 1.0, 1.0, 1.0, 0.0, 0.0, 1.0, 1.0, 0.0, 1.0, 1.0, 0.0, 0.0, 0.0, 1.0, 1.0, 0.0, 1.0, 1.0, 0.0, 0.0, 0.0, 1.0, 0.0, 0.0, 0.0, 0.0, 1.0, 0.0, 0.0, 0.0, 0.0, 0.0, 0.0, 0.0, 2.0, 1.0, 0.0, 1.0, 1.0, 0.0, 1.0, 1.0, 1.0, 1.0, 0.0, 0.0, 0.0, 0.0, 0.0, 1.0, 0.0, 0.0, 0.0, 0.0, 0.0, 0.0, 0.0, 0.0, 0.0, 1.0, 1.0, 0.0, 1.0, 1.0, 0.0, 2.0, 2.0, 1.0, 0.0, 0.0, 0.0, 2.0, 1.0, 0.0, 2.0, 2.0, 0.0, 1.0, 2.0, 0.0, 1.0, 1.0, 0.0, 0.0, 1.0, 1.0, 0.0, 0.0, 0.0, 0.0, 0.0, 0.0, 0.0, 0.0, 0.0, 2.0, 0.0, 1.0, 1.0, 1.0, 0.0, 0.0, 1.0, 0.0, 2.0, 0.0, 0.0, 1.0, 2.0, 1.0, 0.0, 1.0, 0.0, 1.0, 2.0, 0.0, 0.0, 1.0, 1.0, 0.0, 2.0, 0.0, 0.0, 1.0, 0.0, 0.0, 1.0, 0.0, 0.0, 0.0, 0.0, 0.0, 1.0, 1.0, 1.0, 1.0, 0.0, 0.0, 1.0, 0.0, 1.0, 1.0, 1.0, 1.0, 0.0, 1.0, 1.0, 1.0, 0.0, 0.0, 0.0, 1.0, 0.0, 1.0, 1.0, 1.0, 0.0, 1.0, 0.0, 1.0, 0.0, 1.0, 1.0, 1.0, 0.0, 0.0, 1.0, 2.0, 0.0, 1.0, 0.0, 2.0, 0.0, 0.0, 1.0, 1.0, 1.0, 0.0, 1.0, 1.0, 0.0, 0.0, 0.0, 0.0, 0.0, 2.0, 0.0, 0.0, 0.0, 0.0, 0.0, 2.0, 1.0, 0.0, 1.0, 0.0, 0.0, 0.0, 0.0, 0.0, 1.0, 0.0, 1.0, 0.0, 1.0, 1.0, 0.0, 2.0, 0.0, 1.0, 1.0, 1.0, 0.0, 0.0, 1.0, 0.0, 0.0, 0.0, 0.0, 0.0, 0.0, 0.0, 0.0, 2.0, 0.0, 0.0, 0.0, 0.0, 0.0, 1.0, 0.0, 0.0, 0.0, 0.0, 2.0, 1.0, 1.0, 0.0, 0.0, 2.0, 1.0, 0.0, 1.0, 0.0, 0.0, 0.0, 0.0, 0.0, 0.0, 1.0, 1.0, 1.0, 0.0, 0.0, 0.0, 0.0, 0.0, 1.0, 0.0, 1.0, 0.0, 0.0, 1.0, 0.0, 0.0, 1.0, 0.0, 0.0, 1.0, 0.0, 2.0, 0.0, 1.0, 0.0, 1.0, 1.0, 0.0, 0.0, 1.0, 1.0, 1.0, 0.0, 1.0, 0.0, 1.0, 0.0, 1.0, 1.0, 1.0, 1.0, 1.0, 0.0, 2.0, 0.0, 2.0, 0.0, 1.0, 1.0, 1.0, 0.0, 1.0, 0.0, 0.0, 1.0, 0.0, 0.0, 1.0, 0.0, 1.0, 0.0, 1.0, 0.0, 0.0, 0.0, 0.0, 0.0, 0.0, 0.0, 1.0, 1.0, 1.0, 1.0, 1.0, 0.0, 2.0, 1.0, 0.0, 1.0, 1.0, 1.0, 0.0, 0.0, 1.0, 1.0, 1.0, 1.0, 2.0, 1.0, 2.0, 1.0, 0.0, 0.0, 0.0, 0.0, 0.0, 0.0, 1.0, 1.0, 1.0, 0.0, 1.0, 2.0, 0.0, 2.0, 0.0, 1.0, 1.0, 0.0, 0.0, 1.0, 0.0, 1.0, 0.0, 1.0, 2.0, 0.0, 1.0, 0.0, 1.0, 1.0, 0.0, 1.0, 0.0, 0.0, 1.0, 1.0, 0.0, 1.0, 0.0, 1.0, 0.0, 0.0, 2.0, 2.0, 1.0, 1.0, 0.0, 1.0, 1.0, 0.0, 0.0, 0.0, 1.0, 1.0, 0.0, 1.0, 0.0, 2.0, 1.0, 1.0, 1.0, 2.0, 1.0, 1.0, 1.0, 1.0, 0.0, 0.0, 0.0, 1.0, 1.0, 0.0, 1.0, 0.0, 1.0, 1.0, 0.0, 1.0, 1.0, 1.0, 0.0, 0.0, 0.0, 0.0, 0.0, 1.0, 0.0, 1.0, 1.0, 0.0, 0.0, 0.0, 0.0, 0.0, 0.0, 2.0, 1.0, 0.0, 1.0, 2.0, 0.0, 0.0, 0.0, 1.0, 1.0, 1.0, 1.0, 0.0, 1.0, 0.0, 0.0, 1.0, 2.0, 0.0, 0.0, 0.0, 1.0, 1.0, 0.0, 0.0, 1.0, 1.0, 1.0, 1.0, 0.0, 1.0, 1.0, 0.0, 2.0, 0.0, 2.0, 0.0, 2.0, 1.0, 2.0, 0.0, 1.0, 0.0, 0.0, 1.0, 0.0, 0.0, 0.0, 1.0, 0.0, 1.0, 0.0, 1.0, 0.0, 0.0, 0.0, 0.0, 1.0, 2.0, 1.0, 1.0, 0.0, 0.0, 0.0, 1.0, 2.0, 0.0, 2.0, 1.0, 0.0, 0.0, 0.0, 1.0, 0.0, 0.0, 0.0, 0.0, 0.0, 1.0, 0.0, 0.0, 0.0, 0.0, 2.0, 1.0, 0.0, 0.0, 1.0, 2.0, 0.0, 0.0, 1.0, 0.0, 0.0, 0.0, 0.0, 0.0, 1.0, 1.0, 0.0, 0.0, 0.0, 1.0, 0.0, 0.0, 1.0, 0.0, 2.0, 1.0, 1.0, 1.0, 0.0, 0.0, 1.0, 0.0, 1.0, 1.0, 0.0, 1.0, 2.0, 0.0, 0.0, 0.0, 1.0, 1.0, 1.0, 0.0, 2.0, 1.0, 1.0, 2.0, 0.0, 1.0, 0.0, 1.0, 0.0, 0.0, 1.0, 0.0, 1.0, 1.0, 1.0, 1.0, 1.0, 0.0, 1.0, 0.0, 1.0, 0.0, 1.0, 1.0, 1.0, 1.0, 1.0, 1.0, 2.0, 2.0, 0.0, 2.0, 1.0, 0.0, 0.0, 1.0, 0.0, 0.0, 0.0, 0.0, 0.0, 0.0, 1.0, 1.0, 0.0, 1.0, 1.0, 1.0, 0.0, 0.0, 0.0, 1.0, 2.0, 0.0, 0.0, 1.0, 1.0, 0.0, 0.0, 1.0, 1.0, 1.0, 1.0, 0.0, 0.0, 1.0, 0.0, 0.0, 0.0, 1.0, 2.0, 1.0, 1.0, 2.0, 1.0, 0.0, 2.0, 0.0, 1.0, 1.0, 0.0, 0.0, 1.0, 0.0, 1.0, 0.0, 2.0, 2.0, 2.0, 0.0, 0.0, 2.0, 1.0, 1.0, 0.0, 0.0, 2.0, 0.0, 0.0, 0.0, 0.0, 1.0, 1.0, 0.0, 0.0, 0.0, 0.0, 0.0, 1.0, 0.0, 0.0, 1.0, 0.0, 0.0, 0.0, 1.0, 2.0, 1.0, 1.0, 0.0, 1.0, 0.0, 0.0, 0.0, 0.0, 1.0, 1.0, 0.0, 0.0, 1.0, 0.0, 0.0, 0.0, 1.0, 0.0, 1.0, 1.0, 0.0, 1.0, 0.0, 0.0, 1.0, 0.0, 1.0, 1.0, 1.0, 1.0, 1.0, 1.0, 0.0, 1.0, 0.0, 2.0, 1.0, 0.0, 1.0, 0.0, 1.0, 1.0, 0.0, 1.0, 1.0, 2.0, 0.0, 0.0, 0.0, 1.0, 0.0, 1.0, 0.0, 2.0, 1.0, 0.0, 2.0, 0.0, 1.0, 1.0, 0.0, 1.0, 0.0, 0.0, 0.0, 1.0, 1.0, 0.0, 1.0, 2.0, 0.0, 0.0, 0.0, 0.0, 1.0, 0.0, 0.0, 1.0, 0.0, 1.0, 2.0, 0.0, 1.0, 0.0, 2.0, 0.0, 2.0, 0.0, 1.0, 1.0, 0.0, 0.0, 0.0, 0.0, 0.0, 1.0, 0.0, 0.0, 1.0, 1.0, 0.0, 0.0, 1.0, 2.0, 0.0, 0.0, 1.0, 0.0, 0.0, 1.0, 0.0, 0.0, 0.0, 1.0, 0.0, 0.0, 1.0, 1.0, 0.0, 1.0, 1.0, 0.0, 2.0, 0.0, 0.0, 0.0, 1.0, 1.0, 1.0, 0.0, 1.0, 1.0, 1.0, 0.0, 1.0, 0.0, 0.0, 1.0, 1.0, 0.0, 0.0, 1.0, 0.0, 0.0, 0.0, 0.0, 0.0, 0.0, 1.0, 1.0, 0.0, 2.0, 0.0, 0.0, 0.0, 0.0, 1.0, 0.0, 0.0, 1.0, 2.0, 0.0, 0.0, 0.0, 1.0, 0.0, 1.0, 1.0, 1.0, 0.0, 1.0, 0.0, 0.0, 1.0, 1.0, 1.0, 0.0, 0.0, 0.0, 0.0, 1.0, 1.0, 1.0, 0.0, 0.0, 1.0, 0.0, 1.0, 0.0, 0.0, 0.0, 1.0, 0.0, 0.0, 1.0, 1.0, 0.0, 0.0, 0.0, 0.0, 0.0, 0.0, 0.0, 0.0, 1.0, 0.0, 2.0, 0.0, 0.0, 0.0, 0.0, 1.0, 1.0, 0.0, 0.0, 0.0, 0.0, 0.0, 1.0, 2.0, 1.0, 2.0, 1.0, 1.0, 0.0, 1.0, 1.0, 0.0, 2.0, 0.0, 2.0, 2.0, 0.0, 0.0, 2.0, 1.0, 0.0, 0.0, 1.0, 1.0, 1.0, 0.0, 1.0, 0.0, 1.0, 0.0, 0.0, 1.0, 0.0, 2.0, 2.0, 0.0, 1.0, 0.0, 0.0, 2.0, 0.0, 2.0, 1.0, 0.0, 0.0, 0.0, 0.0, 0.0, 0.0, 0.0, 1.0, 2.0, 0.0, 1.0, 2.0, 0.0, 0.0, 1.0, 1.0, 0.0, 2.0, 2.0, 1.0, 1.0, 1.0, 0.0, 1.0, 0.0, 0.0, 0.0, 0.0, 0.0, 0.0, 1.0, 0.0, 1.0, 0.0, 0.0, 1.0, 0.0, 0.0, 0.0, 2.0, 0.0, 0.0, 2.0, 1.0, 2.0, 0.0, 1.0, 0.0, 0.0, 0.0, 0.0, 0.0, 2.0, 0.0, 0.0, 0.0, 0.0, 1.0, 1.0, 1.0, 1.0, 1.0, 0.0, 0.0, 2.0, 1.0, 0.0, 1.0, 1.0, 0.0, 0.0, 0.0, 0.0, 1.0, 1.0, 1.0, 0.0, 0.0, 0.0, 0.0, 0.0, 0.0, 0.0, 1.0, 1.0, 0.0, 0.0, 0.0, 0.0, 0.0, 0.0, 0.0, 2.0, 0.0, 0.0, 1.0, 0.0, 0.0, 0.0, 0.0, 0.0, 1.0, 0.0, 0.0, 1.0, 0.0, 0.0, 1.0, 0.0, 0.0, 1.0, 0.0, 0.0, 1.0, 1.0, 0.0, 1.0, 2.0, 0.0, 2.0, 0.0, 1.0, 0.0, 0.0, 0.0, 0.0, 0.0, 1.0, 1.0, 0.0, 0.0, 0.0, 0.0, 0.0, 0.0, 0.0, 0.0, 0.0, 2.0, 0.0, 0.0, 0.0, 0.0, 0.0, 0.0, 0.0, 0.0, 0.0, 0.0, 2.0, 2.0, 1.0, 1.0, 1.0, 1.0, 1.0, 0.0, 1.0, 1.0, 0.0, 1.0, 1.0, 0.0, 0.0, 2.0, 1.0, 1.0, 1.0, 0.0, 0.0, 0.0, 1.0, 1.0, 1.0, 0.0, 1.0, 0.0, 0.0, 0.0, 2.0, 1.0, 0.0, 1.0, 0.0, 0.0, 1.0, 1.0, 1.0, 0.0, 0.0, 1.0, 1.0, 1.0, 0.0, 1.0, 0.0, 1.0, 0.0, 2.0, 1.0, 0.0, 1.0, 0.0, 2.0, 1.0, 1.0, 0.0, 0.0, 0.0, 1.0, 2.0, 1.0, 1.0, 1.0, 1.0, 1.0, 1.0, 0.0, 1.0, 1.0, 0.0, 0.0, 1.0, 0.0, 0.0, 0.0, 1.0, 1.0, 0.0, 0.0, 0.0, 1.0, 1.0, 0.0, 2.0, 0.0, 1.0, 0.0, 1.0, 0.0, 0.0, 0.0, 0.0, 1.0, 1.0, 1.0, 0.0, 1.0, 1.0, 0.0, 1.0, 0.0, 0.0, 0.0, 1.0, 0.0, 0.0, 1.0, 1.0, 1.0, 1.0, 0.0, 0.0, 0.0, 0.0, 1.0, 0.0, 0.0, 0.0, 1.0, 0.0, 0.0, 1.0, 1.0, 1.0, 1.0, 2.0, 0.0, 2.0, 0.0, 0.0, 0.0, 0.0, 2.0, 0.0, 1.0, 0.0, 1.0, 1.0, 0.0, 1.0, 0.0, 0.0, 1.0, 0.0, 1.0, 0.0, 1.0, 0.0, 0.0, 0.0, 1.0, 0.0, 0.0, 1.0, 0.0, 1.0, 1.0, 1.0, 0.0, 0.0, 0.0, 1.0, 1.0, 1.0, 1.0, 1.0, 0.0, 2.0, 0.0, 0.0, 1.0, 0.0, 0.0, 0.0, 1.0, 0.0, 0.0, 1.0, 0.0, 0.0, 0.0, 1.0, 1.0, 0.0, 0.0, 1.0, 0.0, 0.0, 0.0, 0.0, 1.0, 1.0, 1.0, 0.0, 0.0, 0.0, 2.0, 0.0, 0.0, 1.0, 0.0, 0.0, 1.0, 1.0, 0.0, 0.0, 1.0, 0.0, 1.0, 0.0, 0.0, 0.0, 1.0, 1.0, 2.0, 1.0, 0.0, 1.0, 0.0, 0.0, 0.0, 1.0, 0.0, 1.0, 2.0, 2.0, 1.0, 2.0, 1.0, 1.0, 0.0, 0.0, 0.0, 0.0, 0.0, 1.0, 0.0, 0.0, 0.0, 0.0, 0.0, 1.0, 2.0, 1.0, 1.0, 1.0, 1.0, 0.0, 0.0, 0.0, 1.0, 0.0, 1.0, 0.0, 1.0, 1.0, 0.0, 0.0, 1.0, 0.0, 0.0, 1.0, 0.0, 1.0, 0.0, 2.0, 2.0, 0.0, 1.0, 0.0, 0.0, 1.0, 0.0, 0.0, 2.0, 0.0, 2.0, 2.0, 1.0, 0.0, 0.0, 0.0, 0.0, 1.0, 1.0, 0.0, 0.0, 0.0, 1.0, 1.0, 1.0, 1.0, 1.0, 0.0, 0.0, 0.0, 0.0, 1.0, 1.0, 1.0, 1.0, 0.0, 1.0, 1.0, 2.0, 2.0, 0.0, 0.0, 2.0, 0.0, 0.0, 0.0, 0.0, 0.0, 1.0, 1.0, 0.0, 0.0, 1.0, 0.0, 1.0, 0.0, 1.0, 0.0, 0.0, 0.0, 1.0, 1.0, 1.0, 0.0, 0.0, 0.0, 0.0, 0.0, 1.0, 0.0, 0.0, 1.0, 1.0, 0.0, 0.0, 0.0, 0.0, 1.0, 1.0, 0.0, 0.0, 1.0, 0.0, 0.0, 0.0, 1.0, 0.0, 0.0, 1.0, 1.0, 1.0, 0.0, 0.0, 0.0, 1.0, 0.0, 0.0, 1.0, 1.0, 0.0, 1.0, 1.0, 1.0, 1.0, 0.0, 1.0, 1.0, 0.0, 0.0, 1.0, 0.0, 0.0, 1.0, 1.0, 0.0, 1.0, 1.0, 1.0, 0.0, 0.0, 0.0, 1.0, 0.0, 0.0, 0.0, 1.0, 0.0, 1.0, 1.0, 0.0, 2.0, 0.0, 1.0, 0.0, 2.0, 0.0, 0.0, 1.0, 0.0, 2.0, 0.0, 1.0, 1.0, 1.0, 2.0, 0.0, 0.0, 1.0, 0.0, 1.0, 0.0, 0.0, 1.0, 2.0, 2.0, 0.0, 0.0, 0.0, 2.0, 0.0, 1.0, 0.0, 1.0, 0.0, 0.0, 1.0, 1.0, 1.0, 1.0, 1.0, 0.0, 0.0, 1.0, 0.0, 0.0, 0.0, 2.0, 1.0, 0.0, 1.0, 2.0, 0.0, 2.0, 1.0, 0.0, 0.0, 1.0, 1.0, 1.0, 0.0, 0.0, 1.0, 0.0, 0.0, 1.0, 1.0, 0.0, 0.0, 0.0, 1.0, 1.0, 1.0, 2.0, 1.0, 2.0, 0.0, 0.0, 0.0, 0.0, 0.0, 1.0, 2.0, 1.0, 1.0, 0.0, 2.0, 1.0, 1.0, 1.0, 0.0, 1.0, 0.0, 0.0, 1.0, 0.0, 1.0, 1.0, 0.0, 0.0, 2.0, 0.0, 0.0, 1.0, 0.0, 1.0, 1.0, 1.0, 0.0, 0.0, 1.0, 0.0, 1.0, 1.0, 1.0, 1.0, 0.0, 1.0, 2.0, 0.0, 1.0, 2.0, 0.0, 0.0, 0.0, 1.0, 1.0, 1.0, 2.0, 2.0, 1.0, 0.0, 0.0, 0.0, 0.0, 0.0, 1.0, 0.0, 0.0, 0.0, 0.0, 0.0, 2.0, 0.0, 0.0, 0.0, 0.0, 0.0, 0.0, 0.0, 2.0, 0.0, 2.0, 2.0, 0.0, 2.0, 2.0, 1.0, 0.0, 0.0, 0.0, 0.0, 0.0, 0.0, 0.0, 0.0, 1.0, 0.0, 1.0, 1.0, 1.0, 0.0, 2.0, 1.0, 1.0, 0.0, 0.0, 0.0, 0.0, 0.0, 0.0, 0.0, 0.0, 1.0, 1.0, 0.0, 0.0, 0.0, 2.0, 0.0, 2.0, 1.0, 0.0, 1.0, 0.0, 1.0, 1.0, 1.0, 0.0, 1.0, 1.0, 1.0, 0.0, 0.0, 0.0, 0.0, 0.0, 2.0, 1.0, 1.0, 0.0, 0.0, 1.0, 0.0, 0.0, 0.0, 1.0, 1.0, 1.0, 0.0, 1.0, 0.0, 1.0, 1.0, 0.0, 1.0, 0.0, 0.0, 1.0, 1.0, 0.0, 1.0, 1.0, 1.0, 0.0, 0.0, 0.0, 0.0, 1.0, 1.0, 1.0, 1.0, 0.0, 0.0, 0.0, 0.0, 0.0, 2.0, 2.0, 0.0, 1.0, 0.0, 2.0, 2.0, 0.0, 1.0, 0.0, 2.0, 0.0, 0.0, 0.0, 2.0, 0.0, 2.0, 1.0, 1.0, 0.0, 0.0, 1.0, 1.0, 0.0, 1.0, 1.0, 0.0, 0.0, 0.0, 0.0, 1.0, 0.0, 2.0, 1.0, 2.0, 1.0, 0.0, 0.0, 2.0, 1.0, 0.0, 1.0, 0.0, 0.0, 0.0, 0.0, 0.0, 0.0, 0.0, 0.0, 0.0, 2.0, 2.0, 0.0, 0.0, 0.0, 0.0, 0.0, 1.0, 0.0, 0.0, 0.0, 0.0, 0.0, 0.0, 1.0, 0.0, 1.0, 0.0, 0.0, 1.0, 0.0, 0.0, 1.0, 2.0, 2.0, 0.0, 1.0, 2.0, 1.0, 1.0, 2.0, 2.0, 1.0, 1.0, 0.0, 0.0, 0.0, 1.0, 0.0, 0.0, 0.0, 1.0, 1.0, 1.0, 1.0, 0.0, 1.0, 0.0, 0.0, 2.0, 2.0, 0.0, 0.0, 0.0, 0.0, 0.0, 0.0, 1.0, 1.0, 1.0, 0.0, 0.0, 1.0, 0.0, 0.0, 0.0, 1.0, 1.0, 0.0, 1.0, 0.0, 0.0, 0.0, 1.0, 0.0, 0.0, 0.0, 2.0, 0.0, 0.0, 1.0, 0.0, 1.0, 1.0, 0.0, 0.0, 1.0, 0.0, 0.0, 1.0, 0.0, 1.0, 1.0, 0.0], \"type\": \"scatter3d\", \"x\": [58138.0, 46344.0, 71613.0, 26646.0, 58293.0, 62513.0, 55635.0, 33454.0, 30351.0, 5648.0, 7500.0, 63033.0, 59354.0, 17323.0, 82800.0, 41850.0, 37760.0, 76995.0, 33812.0, 37040.0, 2447.0, 58607.0, 65324.0, 40689.0, 18589.0, 53359.0, 38360.0, 84618.0, 10979.0, 38620.0, 40548.0, 46610.0, 68657.0, 49389.0, 67353.0, 23718.0, 42429.0, 48948.0, 80011.0, 20559.0, 21994.0, 7500.0, 79941.0, 7500.0, 41728.0, 72550.0, 65486.0, 79143.0, 35790.0, 82582.0, 66373.0, 82384.0, 70287.0, 27938.0, 55954.0, 75777.0, 66653.0, 61823.0, 67680.0, 70666.0, 25721.0, 32474.0, 88194.0, 69096.0, 74854.0, 66991.0, 65031.0, 60631.0, 28332.0, 40246.0, 75251.0, 75825.0, 26326.0, 56046.0, 29760.0, 26304.0, 23559.0, 38620.0, 81361.0, 29440.0, 36138.0, 50388.0, 79593.0, 54178.0, 42394.0, 23626.0, 30096.0, 47916.0, 51813.0, 78497.0, 50150.0, 47823.0, 34554.0, 85693.0, 65846.0, 87195.0, 24594.0, 49096.0, 52413.0, 38557.0, 89058.0, 77298.0, 68126.0, 57288.0, 86037.0, 43974.0, 50785.0, 90765.0, 36550.0, 30753.0, 21918.0, 56129.0, 32557.0, 19510.0, 30992.0, 101970.0, 71488.0, 79607.0, 54348.0, 77376.0, 62998.0, 61331.0, 73448.0, 41551.0, 62981.0, 9548.0, 33762.0, 35860.0, 36921.0, 92859.0, 65104.0, 86111.0, 68352.0, 41883.0, 59809.0, 23957.0, 38547.0, 35688.0, 49605.0, 59354.0, 65747.0, 46344.0, 34176.0, 61010.0, 69372.0, 49967.0, 60199.0, 55375.0, 80317.0, 30523.0, 70356.0, 23228.0, 74165.0, 157243.0, 43482.0, 62551.0, 52332.0, 66951.0, 26091.0, 33456.0, 28718.0, 50447.0, 53537.0, 52074.0, 80427.0, 83837.0, 38853.0, 38285.0, 78497.0, 51650.0, 16248.0, 66835.0, 30477.0, 28249.0, 25271.0, 32303.0, 61286.0, 74068.0, 45759.0, 24882.0, 66973.0, 38872.0, 51148.0, 31353.0, 69661.0, 80067.0, 86718.0, 46854.0, 69142.0, 75922.0, 63693.0, 102160.0, 40637.0, 18890.0, 29604.0, 48721.0, 44794.0, 64497.0, 46097.0, 77972.0, 44377.0, 46014.0, 70951.0, 41443.0, 52195.0, 83790.0, 44551.0, 69508.0, 45204.0, 72460.0, 77622.0, 30732.0, 63887.0, 42011.0, 51369.0, 51537.0, 79930.0, 34320.0, 37070.0, 81975.0, 38590.0, 15033.0, 62745.0, 22212.0, 23661.0, 79761.0, 7500.0, 73455.0, 64961.0, 22804.0, 73687.0, 61074.0, 31686.0, 80134.0, 75027.0, 67546.0, 65176.0, 31160.0, 29938.0, 102692.0, 26490.0, 75702.0, 30899.0, 63342.0, 45989.0, 18701.0, 40737.0, 15287.0, 69674.0, 44159.0, 37717.0, 43776.0, 38179.0, 80124.0, 38097.0, 72940.0, 22070.0, 69267.0, 31788.0, 61905.0, 29315.0, 33378.0, 66313.0, 60714.0, 77882.0, 69867.0, 63841.0, 24480.0, 51369.0, 37760.0, 65640.0, 44319.0, 30631.0, 75278.0, 50898.0, 79946.0, 35416.0, 32414.0, 38361.0, 82497.0, 16626.0, 29672.0, 55951.0, 35388.0, 42386.0, 68627.0, 57912.0, 35246.0, 58821.0, 46377.0, 39747.0, 23976.0, 80950.0, 27038.0, 77457.0, 64100.0, 42670.0, 12571.0, 22574.0, 70893.0, 54198.0, 28839.0, 40321.0, 66503.0, 30833.0, 64795.0, 34421.0, 47025.0, 64325.0, 40464.0, 62187.0, 14849.0, 27255.0, 54432.0, 29999.0, 24072.0, 33996.0, 66334.0, 35178.0, 22010.0, 62204.0, 75693.0, 30675.0, 83003.0, 68655.0, 41411.0, 55212.0, 59292.0, 27190.0, 82623.0, 44300.0, 84835.0, 30372.0, 33181.0, 71113.0, 71952.0, 69759.0, 72099.0, 60000.0, 38643.0, 50737.0, 68462.0, 65073.0, 46681.0, 78618.0, 62187.0, 28442.0, 37717.0, 51479.0, 54803.0, 79530.0, 31615.0, 72025.0, 52614.0, 35684.0, 48178.0, 29548.0, 63810.0, 38578.0, 46098.0, 22585.0, 30279.0, 66426.0, 30822.0, 33581.0, 19986.0, 27421.0, 35688.0, 36143.0, 10245.0, 43795.0, 63381.0, 38823.0, 83664.0, 90300.0, 62499.0, 74293.0, 51012.0, 70777.0, 68682.0, 43824.0, 15345.0, 23442.0, 14515.0, 31395.0, 75276.0, 42373.0, 30507.0, 55521.0, 48006.0, 27213.0, 65808.0, 30351.0, 50437.0, 23616.0, 53858.0, 66465.0, 46923.0, 75072.0, 75865.0, 19789.0, 80134.0, 91065.0, 49505.0, 37401.0, 30096.0, 18492.0, 82584.0, 93027.0, 48686.0, 92910.0, 75433.0, 10404.0, 61314.0, 84865.0, 42387.0, 67309.0, 75236.0, 30015.0, 50943.0, 67272.0, 51529.0, 32011.0, 7500.0, 28691.0, 56223.0, 18100.0, 30279.0, 20130.0, 23295.0, 42618.0, 81246.0, 24027.0, 55707.0, 57959.0, 56796.0, 36230.0, 70829.0, 65991.0, 38988.0, 89572.0, 42207.0, 50300.0, 66664.0, 60597.0, 70165.0, 50520.0, 80124.0, 33183.0, 66582.0, 75261.0, 31880.0, 53790.0, 49269.0, 61456.0, 37406.0, 56937.0, 38415.0, 20518.0, 62503.0, 41644.0, 55842.0, 62010.0, 41124.0, 38961.0, 37760.0, 32233.0, 43057.0, 83151.0, 78825.0, 65104.0, 60093.0, 14045.0, 28457.0, 78952.0, 46310.0, 76005.0, 58308.0, 55614.0, 59432.0, 55563.0, 78642.0, 67911.0, 65275.0, 27203.0, 48330.0, 24279.0, 64355.0, 50943.0, 53653.0, 65665.0, 81217.0, 34935.0, 61250.0, 39665.0, 60152.0, 48920.0, 89120.0, 44124.0, 81169.0, 36443.0, 26095.0, 71367.0, 80184.0, 30630.0, 73454.0, 42691.0, 70503.0, 25545.0, 32880.0, 77863.0, 50353.0, 61839.0, 49154.0, 47682.0, 72679.0, 57954.0, 65316.0, 28567.0, 47352.0, 44931.0, 76982.0, 57247.0, 22944.0, 25315.0, 43638.0, 42710.0, 84169.0, 54058.0, 24683.0, 85620.0, 47850.0, 19514.0, 27159.0, 39548.0, 21474.0, 60504.0, 22419.0, 81698.0, 43462.0, 54880.0, 79908.0, 15315.0, 87771.0, 33039.0, 81741.0, 71499.0, 62466.0, 48799.0, 52157.0, 66565.0, 29298.0, 47691.0, 38200.0, 44989.0, 38443.0, 38593.0, 64413.0, 36959.0, 61996.0, 51287.0, 13260.0, 47472.0, 54603.0, 45207.0, 40689.0, 47821.0, 27450.0, 39453.0, 26850.0, 79800.0, 61794.0, 53863.0, 24221.0, 39684.0, 92163.0, 69882.0, 33178.0, 59973.0, 17459.0, 23910.0, 42169.0, 26224.0, 31089.0, 30081.0, 62807.0, 72906.0, 61467.0, 49618.0, 21888.0, 42429.0, 26150.0, 30801.0, 81168.0, 26877.0, 45006.0, 18978.0, 22574.0, 48240.0, 45837.0, 35791.0, 162397.0, 54162.0, 30522.0, 54456.0, 31632.0, 72298.0, 36975.0, 72635.0, 13624.0, 84196.0, 70971.0, 34487.0, 28769.0, 69084.0, 65488.0, 62466.0, 32218.0, 83917.0, 46102.0, 84574.0, 56181.0, 63120.0, 73691.0, 63381.0, 76140.0, 62859.0, 45906.0, 77632.0, 46463.0, 105471.0, 55282.0, 78710.0, 66886.0, 98777.0, 29103.0, 67445.0, 50616.0, 49431.0, 153924.0, 61278.0, 26490.0, 73059.0, 46734.0, 56253.0, 19986.0, 58330.0, 25965.0, 14661.0, 18690.0, 45068.0, 21063.0, 29187.0, 54690.0, 59304.0, 59247.0, 66731.0, 77353.0, 52614.0, 26751.0, 81300.0, 70337.0, 36145.0, 65295.0, 68118.0, 68743.0, 41039.0, 38946.0, 65777.0, 66476.0, 86857.0, 160803.0, 77845.0, 69476.0, 50611.0, 61209.0, 42315.0, 13084.0, 47570.0, 61923.0, 34824.0, 26518.0, 45938.0, 78468.0, 78901.0, 71427.0, 71022.0, 90247.0, 41335.0, 71952.0, 35682.0, 43185.0, 66375.0, 35178.0, 25252.0, 55250.0, 33249.0, 58398.0, 50272.0, 76618.0, 87305.0, 25851.0, 58710.0, 45160.0, 74806.0, 59111.0, 18988.0, 72190.0, 7500.0, 44794.0, 80395.0, 75012.0, 56962.0, 89891.0, 35946.0, 53593.0, 66373.0, 45072.0, 89694.0, 72025.0, 67432.0, 70545.0, 17487.0, 62882.0, 64108.0, 34941.0, 48767.0, 38702.0, 82224.0, 83844.0, 17003.0, 71163.0, 33697.0, 63564.0, 83443.0, 51518.0, 58330.0, 80952.0, 75507.0, 63855.0, 62220.0, 58512.0, 40662.0, 38829.0, 35523.0, 79146.0, 78285.0, 31626.0, 75127.0, 48726.0, 74985.0, 67430.0, 46891.0, 62058.0, 72063.0, 78939.0, 42720.0, 33622.0, 6835.0, 41452.0, 40760.0, 74250.0, 51124.0, 72258.0, 71466.0, 36283.0, 20587.0, 30467.0, 31590.0, 20425.0, 17144.0, 42564.0, 43783.0, 40780.0, 62847.0, 82017.0, 16813.0, 51267.0, 46524.0, 45183.0, 70421.0, 60161.0, 73926.0, 19329.0, 61872.0, 46984.0, 34838.0, 82716.0, 48192.0, 49681.0, 56850.0, 55267.0, 59666.0, 72504.0, 26872.0, 21359.0, 73170.0, 52750.0, 91820.0, 65968.0, 30772.0, 22507.0, 65685.0, 25804.0, 76412.0, 22063.0, 57091.0, 22419.0, 87771.0, 78353.0, 93404.0, 37859.0, 80995.0, 16529.0, 55412.0, 48789.0, 56575.0, 25130.0, 35441.0, 71391.0, 49494.0, 81702.0, 45889.0, 56628.0, 34026.0, 40049.0, 34176.0, 19419.0, 82504.0, 81205.0, 61618.0, 55284.0, 49980.0, 15072.0, 49166.0, 65324.0, 82347.0, 30843.0, 46374.0, 60474.0, 38576.0, 55357.0, 37758.0, 85710.0, 23228.0, 44602.0, 7500.0, 38683.0, 49514.0, 57906.0, 43456.0, 19485.0, 53172.0, 30545.0, 70123.0, 62450.0, 21675.0, 42395.0, 61346.0, 80812.0, 42835.0, 39922.0, 86424.0, 17117.0, 24762.0, 35797.0, 36627.0, 51111.0, 86857.0, 82072.0, 46231.0, 42243.0, 51195.0, 68092.0, 31814.0, 51390.0, 76630.0, 26868.0, 48948.0, 55260.0, 64090.0, 78331.0, 37087.0, 21846.0, 81320.0, 54137.0, 66825.0, 57100.0, 58917.0, 85072.0, 86429.0, 45684.0, 47889.0, 45921.0, 78420.0, 75114.0, 52278.0, 35641.0, 95529.0, 62820.0, 73113.0, 84169.0, 42607.0, 74637.0, 46015.0, 72354.0, 39858.0, 34469.0, 83033.0, 24401.0, 77583.0, 74116.0, 74293.0, 68397.0, 79632.0, 46107.0, 64950.0, 25443.0, 75127.0, 32892.0, 71796.0, 67536.0, 55239.0, 60554.0, 64831.0, 56067.0, 82025.0, 94384.0, 14906.0, 51563.0, 57937.0, 68274.0, 39771.0, 67893.0, 27922.0, 52190.0, 44051.0, 42767.0, 46106.0, 16927.0, 59754.0, 53700.0, 59041.0, 54237.0, 70647.0, 52597.0, 41021.0, 40233.0, 50183.0, 54753.0, 92955.0, 33471.0, 34596.0, 44010.0, 84219.0, 40706.0, 15716.0, 59052.0, 80573.0, 83715.0, 82576.0, 56962.0, 35704.0, 53103.0, 46779.0, 4861.0, 33462.0, 63693.0, 80763.0, 65352.0, 82170.0, 75759.0, 79689.0, 35340.0, 85683.0, 24884.0, 42021.0, 64449.0, 64587.0, 34824.0, 75437.0, 26091.0, 52845.0, 46086.0, 78028.0, 95169.0, 56337.0, 22434.0, 36930.0, 36130.0, 65569.0, 83844.0, 19514.0, 36736.0, 77568.0, 49187.0, 30168.0, 34053.0, 38196.0, 59412.0, 70924.0, 54165.0, 32300.0, 20180.0, 34961.0, 28440.0, 64504.0, 33564.0, 17345.0, 56320.0, 28647.0, 15038.0, 32173.0, 68316.0, 74538.0, 91700.0, 68695.0, 31056.0, 79593.0, 28071.0, 37334.0, 46423.0, 37126.0, 47703.0, 61180.0, 38998.0, 8028.0, 76081.0, 34728.0, 33168.0, 33585.0, 77037.0, 35196.0, 44529.0, 70924.0, 28764.0, 69098.0, 25959.0, 27100.0, 70596.0, 42557.0, 53312.0, 72228.0, 67605.0, 62845.0, 65196.0, 42000.0, 35860.0, 65526.0, 16860.0, 83528.0, 64176.0, 22304.0, 67023.0, 32892.0, 70713.0, 59925.0, 39722.0, 46610.0, 88347.0, 87171.0, 26907.0, 50014.0, 41014.0, 66294.0, 36715.0, 79456.0, 40479.0, 75345.0, 54233.0, 24163.0, 84460.0, 43776.0, 71691.0, 85844.0, 39190.0, 71367.0, 38578.0, 57236.0, 61825.0, 79803.0, 80910.0, 27590.0, 56775.0, 83829.0, 54210.0, 38508.0, 53187.0, 30023.0, 76045.0, 50870.0, 15315.0, 65463.0, 66480.0, 76773.0, 81698.0, 54466.0, 98777.0, 16269.0, 71819.0, 33569.0, 36262.0, 22634.0, 47025.0, 70566.0, 31605.0, 52034.0, 48526.0, 46734.0, 39552.0, 86358.0, 46931.0, 16581.0, 63998.0, 67381.0, 25930.0, 42693.0, 85606.0, 72903.0, 49669.0, 36778.0, 85696.0, 10979.0, 49678.0, 56129.0, 37155.0, 21282.0, 33419.0, 63285.0, 21255.0, 42162.0, 54450.0, 57744.0, 26576.0, 57513.0, 68142.0, 7500.0, 83145.0, 54197.0, 23091.0, 46049.0, 56715.0, 79410.0, 57304.0, 44375.0, 54450.0, 59594.0, 80685.0, 40344.0, 62710.0, 48985.0, 35322.0, 77142.0, 81657.0, 14421.0, 20130.0, 74214.0, 66726.0, 23724.0, 47353.0, 33444.0, 54386.0, 28510.0, 90638.0, 48070.0, 43140.0, 54959.0, 15056.0, 26954.0, 22327.0, 44393.0, 62000.0, 31497.0, 45894.0, 78579.0, 67369.0, 58401.0, 62307.0, 43641.0, 63841.0, 46891.0, 70091.0, 78075.0, 59184.0, 54809.0, 58113.0, 51412.0, 15287.0, 66636.0, 50965.0, 84618.0, 18351.0, 40451.0, 36317.0, 42213.0, 65748.0, 77044.0, 74918.0, 56721.0, 42160.0, 61559.0, 33629.0, 68682.0, 34377.0, 8940.0, 26228.0, 77297.0, 40211.0, 33438.0, 75032.0, 61284.0, 22518.0, 54730.0, 38452.0, 44421.0, 38197.0, 41986.0, 28427.0, 37395.0, 64722.0, 55249.0, 84906.0, 28691.0, 44213.0, 25707.0, 59062.0, 76624.0, 66000.0, 27683.0, 1730.0, 7500.0, 40521.0, 20427.0, 65106.0, 69969.0, 67433.0, 77766.0, 74716.0, 68118.0, 55158.0, 62972.0, 74190.0, 39356.0, 76653.0, 35860.0, 90687.0, 73450.0, 31454.0, 47139.0, 83829.0, 53378.0, 19656.0, 45579.0, 85485.0, 55956.0, 64191.0, 38808.0, 57183.0, 23748.0, 66303.0, 37368.0, 40800.0, 71847.0, 46149.0, 78687.0, 49118.0, 37633.0, 39767.0, 26997.0, 33986.0, 57091.0, 46831.0, 83151.0, 52531.0, 15759.0, 22804.0, 43050.0, 42997.0, 48918.0, 60033.0, 34043.0, 57811.0, 78569.0, 7500.0, 157733.0, 94384.0, 23148.0, 44267.0, 71626.0, 60894.0, 50200.0, 81051.0, 65169.0, 59868.0, 65695.0, 64857.0, 45143.0, 74805.0, 59060.0, 27238.0, 47009.0, 46094.0, 40321.0, 37235.0, 81843.0, 46692.0, 77382.0, 37774.0, 18393.0, 72828.0, 24711.0, 45503.0, 6560.0, 71604.0, 27244.0, 48752.0, 71434.0, 90842.0, 88097.0, 51948.0, 71853.0, 35876.0, 40049.0, 39660.0, 50127.0, 43263.0, 62845.0, 18929.0, 24367.0, 33249.0, 26887.0, 50150.0, 62061.0, 85696.0, 76542.0, 70515.0, 18227.0, 69139.0, 69109.0, 69627.0, 38136.0, 62159.0, 80695.0, 33316.0, 58554.0, 17256.0, 53034.0, 52203.0, 59601.0, 75154.0, 47025.0, 37971.0, 41335.0, 67267.0, 57338.0, 50523.0, 35791.0, 50611.0, 56242.0, 48904.0, 56243.0, 21355.0, 57420.0, 46390.0, 54342.0, 20895.0, 92344.0, 26907.0, 44964.0, 75507.0, 53761.0, 22682.0, 38887.0, 41658.0, 29791.0, 63915.0, 39996.0, 26759.0, 63841.0, 51039.0, 60544.0, 65685.0, 37716.0, 36864.0, 44511.0, 36947.0, 47352.0, 67087.0, 57045.0, 36957.0, 69389.0, 80134.0, 43142.0, 80589.0, 34412.0, 57537.0, 22634.0, 51315.0, 36026.0, 24639.0, 34578.0, 65704.0, 63810.0, 54132.0, 18690.0, 28164.0, 34596.0, 43269.0, 38741.0, 31907.0, 27100.0, 31163.0, 92533.0, 34853.0, 70844.0, 31086.0, 60544.0, 20491.0, 42523.0, 39922.0, 33402.0, 36408.0, 21645.0, 78427.0, 82657.0, 51876.0, 78041.0, 52852.0, 70038.0, 69401.0, 46053.0, 77343.0, 73892.0, 40304.0, 32727.0, 68695.0, 43300.0, 26290.0, 93790.0, 38410.0, 64866.0, 57957.0, 46015.0, 16531.0, 28072.0, 49476.0, 50725.0, 83844.0, 41145.0, 67419.0, 23162.0, 34380.0, 34704.0, 94871.0, 65148.0, 39898.0, 64857.0, 59892.0, 41020.0, 57072.0, 60474.0, 62807.0, 19414.0, 19107.0, 75484.0, 70379.0, 79419.0, 64014.0, 76998.0, 49854.0, 60585.0, 42873.0, 87679.0, 57867.0, 35765.0, 65492.0, 32952.0, 53374.0, 71706.0, 68487.0, 53253.0, 31163.0, 42014.0, 54108.0, 49667.0, 63206.0, 57136.0, 46772.0, 78931.0, 53977.0, 84219.0, 46098.0, 73538.0, 79529.0, 20981.0, 51766.0, 55759.0, 33039.0, 37787.0, 27242.0, 87188.0, 69930.0, 37697.0, 37401.0, 3502.0, 58597.0, 82032.0, 28087.0, 74004.0, 19740.0, 57036.0, 53083.0, 69283.0, 46098.0, 23331.0, 23331.0, 9255.0, 67786.0, 71969.0, 59235.0, 31928.0, 74881.0, 65819.0, 51411.0, 51983.0, 42386.0, 30390.0, 30983.0, 66033.0, 37284.0, 57530.0, 76800.0, 63943.0, 76081.0, 67445.0, 37054.0, 47175.0, 31859.0, 27215.0, 70179.0, 39922.0, 49681.0, 24645.0, 79865.0, 44322.0, 47958.0, 63972.0, 75315.0, 55517.0, 75283.0, 82800.0, 38998.0, 90638.0, 27161.0, 42014.0, 38201.0, 45203.0, 81574.0, 34935.0, 60482.0, 34633.0, 78093.0, 82460.0, 45903.0, 81361.0, 35860.0, 40442.0, 61482.0, 34968.0, 75794.0, 31497.0, 74268.0, 13724.0, 45143.0, 52569.0, 48432.0, 17144.0, 36108.0, 76445.0, 36663.0, 53843.0, 90226.0, 70638.0, 44512.0, 27116.0, 54072.0, 71855.0, 51250.0, 60432.0, 65526.0, 68655.0, 12393.0, 64509.0, 33955.0, 31353.0, 55434.0, 28359.0, 57100.0, 69139.0, 52973.0, 51717.0, 18793.0, 66664.0, 50664.0, 54414.0, 54549.0, 47111.0, 41003.0, 19444.0, 36301.0, 73059.0, 42731.0, 52854.0, 22775.0, 46681.0, 59821.0, 50002.0, 69755.0, 44078.0, 30560.0, 35924.0, 64140.0, 56386.0, 24594.0, 75774.0, 39228.0, 58494.0, 58684.0, 57136.0, 56551.0, 22448.0, 82014.0, 34213.0, 157146.0, 25358.0, 35544.0, 36634.0, 62670.0, 50334.0, 72066.0, 50729.0, 34916.0, 64892.0, 43602.0, 33996.0, 41473.0, 63246.0, 36732.0, 69084.0, 77766.0, 37929.0, 86610.0, 80141.0, 72635.0, 69016.0, 20193.0, 27573.0, 15862.0, 49544.0, 33228.0, 70440.0, 38232.0, 22554.0, 23536.0, 49413.0, 42231.0, 78789.0, 56534.0, 58350.0, 81217.0, 49090.0, 61787.0, 18169.0, 24336.0, 18222.0, 62335.0, 42033.0, 86580.0, 41437.0, 73705.0, 61064.0, 38452.0, 18358.0, 55012.0, 9722.0, 38175.0, 58656.0, 52117.0, 64813.0, 54222.0, 83512.0, 77520.0, 41154.0, 80398.0, 18746.0, 35196.0, 60230.0, 22108.0, 44392.0, 55424.0, 17688.0, 92491.0, 90273.0, 82571.0, 38513.0, 16653.0, 42586.0, 23529.0, 74881.0, 71107.0, 46910.0, 18690.0, 37244.0, 82427.0, 75342.0, 70044.0, 79146.0, 77437.0, 54984.0, 42403.0, 55761.0, 37292.0, 45576.0, 70321.0, 58086.0, 81795.0, 28389.0, 66835.0, 69901.0, 80360.0, 63342.0, 44989.0, 31859.0, 51569.0, 30372.0, 16014.0, 41120.0, 39763.0, 38725.0, 77981.0, 62905.0, 13533.0, 59481.0, 72117.0, 21955.0, 67131.0, 36802.0, 71853.0, 28249.0, 47808.0, 25509.0, 51012.0, 70596.0, 85431.0, 42664.0, 42586.0, 29760.0, 28973.0, 39435.0, 65370.0, 20194.0, 42473.0, 64590.0, 71232.0, 34600.0, 46904.0, 49094.0, 36075.0, 60839.0, 77298.0, 34026.0, 48918.0, 82122.0, 37697.0, 34074.0, 28520.0, 62535.0, 36273.0, 63404.0, 75774.0, 78416.0, 75702.0, 59385.0, 37070.0, 44689.0, 53977.0, 7144.0, 18701.0, 90369.0, 63159.0, 37758.0, 46757.0, 79734.0, 63207.0, 72071.0, 21840.0, 58582.0, 72282.0, 50387.0, 32583.0, 62568.0, 44635.0, 33316.0, 63967.0, 52513.0, 25293.0, 54111.0, 78394.0, 80739.0, 22669.0, 29236.0, 44911.0, 54693.0, 48186.0, 54809.0, 41580.0, 80336.0, 47743.0, 62972.0, 57333.0, 32313.0, 84953.0, 27071.0, 68148.0, 65735.0, 86836.0, 4023.0, 30093.0, 57705.0, 25008.0, 83257.0, 22280.0, 72159.0, 64260.0, 82733.0, 74290.0, 58217.0, 21024.0, 70116.0, 54006.0, 69063.0, 11448.0, 61825.0, 70886.0, 69109.0, 60208.0, 32889.0, 34738.0, 30538.0, 82326.0, 26642.0, 69932.0, 44503.0, 60200.0, 49638.0, 23830.0, 33051.0, 72905.0, 69702.0, 70300.0, 70643.0, 30396.0, 50616.0, 62772.0, 30298.0, 52413.0, 44155.0, 86979.0, 76532.0, 42081.0, 67546.0, 88420.0, 31158.0, 61671.0, 69719.0, 49160.0, 24882.0, 90933.0, 113734.0, 59292.0, 45759.0, 22148.0, 73395.0, 29819.0, 45688.0, 62820.0, 60491.0, 33235.0, 35701.0, 31535.0, 92556.0, 67384.0, 80573.0, 77870.0, 52278.0, 57107.0, 18929.0, 36038.0, 20180.0, 34230.0, 31878.0, 70932.0, 91249.0, 77598.0, 80982.0, 22701.0, 55212.0, 70617.0, 64849.0, 62694.0, 61917.0, 67472.0, 21059.0, 29543.0, 75903.0, 34984.0, 54998.0, 54356.0, 34242.0, 25410.0, 73356.0, 28320.0, 23763.0, 72570.0, 34529.0, 70792.0, 63211.0, 83891.0, 36065.0, 39898.0, 51141.0, 56939.0, 80872.0, 72335.0, 61798.0, 76842.0, 29478.0, 46998.0, 96843.0, 56551.0, 70053.0, 71670.0, 44359.0, 40887.0, 48877.0, 74485.0, 64474.0, 77226.0, 72643.0, 85738.0, 55686.0, 39062.0, 34600.0, 40794.0, 54690.0, 4428.0, 32632.0, 38236.0, 36781.0, 31385.0, 24570.0, 25509.0, 94642.0, 58646.0, 53201.0, 21994.0, 57113.0, 51373.0, 23477.0, 58116.0, 72968.0, 39791.0, 91712.0, 94472.0, 13672.0, 96547.0, 79205.0, 56559.0, 32644.0, 67506.0, 24206.0, 28420.0, 22979.0, 33279.0, 46423.0, 30368.0, 63684.0, 41638.0, 68805.0, 65814.0, 71964.0, 39146.0, 96876.0, 34445.0, 68281.0, 37284.0, 36790.0, 27943.0, 22263.0, 30261.0, 28587.0, 43815.0, 48195.0, 77027.0, 71322.0, 32765.0, 29672.0, 23272.0, 49912.0, 7500.0, 68117.0, 67225.0, 17649.0, 55914.0, 40059.0, 60905.0, 75330.0, 60689.0, 38680.0, 61416.0, 49767.0, 83273.0, 29009.0, 45057.0, 37150.0, 43020.0, 53154.0, 65308.0, 76467.0, 81044.0, 32871.0, 55801.0, 76320.0, 36927.0, 48794.0, 23478.0, 71128.0, 70179.0, 59462.0, 38361.0, 70038.0, 42554.0, 67445.0, 67046.0, 42192.0, 77610.0, 31761.0, 34350.0, 54591.0, 71866.0, 25293.0, 42000.0, 69520.0, 64713.0, 27889.0, 22123.0, 27803.0, 51651.0, 68487.0, 56796.0, 87000.0, 79823.0, 30828.0, 34109.0, 53367.0, 22390.0, 71322.0, 79244.0, 49912.0, 48699.0, 80144.0, 54252.0, 81929.0, 76068.0, 53204.0, 67911.0, 14796.0, 78128.0, 14188.0, 20425.0, 58646.0, 72967.0, 48150.0, 82332.0, 58275.0, 44953.0, 34587.0, 43018.0, 45736.0, 66476.0, 27733.0, 69805.0, 72217.0, 25818.0, 37509.0, 25176.0, 43586.0, 53230.0, 50116.0, 84906.0, 61286.0, 82333.0, 65220.0, 33590.0, 30992.0, 72309.0, 156924.0, 16005.0, 65487.0, 58692.0, 40590.0, 20587.0, 62637.0, 29435.0, 19346.0, 35788.0, 36997.0, 23539.0, 65333.0, 78499.0, 29732.0, 41275.0, 63516.0, 42769.0, 49572.0, 69209.0, 17148.0, 40590.0, 30560.0, 32146.0, 41713.0, 34176.0, 58482.0, 59686.0, 60896.0, 62994.0, 47320.0, 74859.0, 15253.0, 31560.0, 72071.0, 91172.0, 90000.0, 41967.0, 69263.0, 65706.0, 60934.0, 71965.0, 65210.0, 79174.0, 81380.0, 48432.0, 52914.0, 38946.0, 26067.0, 44325.0, 42523.0, 26487.0, 53233.0, 67716.0, 76234.0, 84117.0, 65487.0, 25224.0, 89616.0, 40851.0, 27469.0, 82347.0, 73803.0, 8820.0, 43322.0, 55593.0, 50501.0, 37085.0, 16185.0, 57731.0, 48432.0, 73807.0, 18929.0, 35893.0, 61014.0, 32144.0, 14918.0, 45146.0, 41769.0, 88325.0, 38054.0, 80617.0, 5305.0, 36807.0, 28427.0, 82032.0, 22775.0, 40101.0, 58025.0, 75777.0, 7500.0, 33562.0, 57642.0, 58554.0, 63777.0, 57967.0, 24434.0, 11012.0, 44802.0, 26816.0, 34421.0, 61223.0, 64014.0, 56981.0, 69245.0, 52869.0], \"y\": [0, 2, 0, 1, 1, 1, 1, 1, 1, 2, 0, 0, 2, 0, 0, 2, 0, 1, 1, 0, 1, 1, 1, 1, 0, 2, 1, 0, 0, 0, 1, 2, 0, 2, 1, 1, 1, 0, 1, 1, 1, 1, 0, 0, 1, 2, 1, 0, 1, 0, 2, 0, 0, 1, 1, 0, 2, 1, 1, 0, 1, 2, 1, 1, 3, 0, 1, 2, 0, 1, 0, 0, 0, 0, 1, 1, 1, 0, 0, 2, 2, 1, 0, 1, 1, 1, 1, 1, 2, 0, 0, 1, 1, 1, 0, 0, 1, 2, 2, 1, 0, 1, 0, 1, 0, 1, 2, 0, 1, 2, 1, 1, 1, 2, 1, 0, 0, 0, 2, 2, 1, 2, 0, 2, 0, 1, 3, 2, 2, 0, 1, 0, 1, 1, 2, 1, 1, 3, 0, 2, 1, 1, 1, 1, 0, 1, 3, 1, 0, 3, 0, 1, 0, 1, 3, 0, 0, 0, 2, 2, 1, 2, 2, 1, 1, 0, 2, 3, 0, 1, 1, 0, 1, 0, 1, 1, 1, 0, 2, 1, 0, 1, 2, 2, 0, 0, 0, 2, 1, 0, 1, 0, 2, 0, 1, 2, 1, 1, 1, 0, 2, 2, 0, 1, 3, 0, 1, 1, 1, 0, 2, 1, 1, 1, 1, 1, 0, 1, 2, 1, 1, 0, 1, 1, 1, 1, 1, 0, 1, 1, 0, 1, 2, 1, 1, 0, 1, 1, 1, 0, 0, 2, 1, 1, 1, 2, 3, 1, 2, 1, 1, 2, 2, 0, 2, 0, 1, 0, 1, 1, 2, 2, 1, 0, 0, 0, 1, 1, 1, 0, 1, 2, 1, 0, 2, 0, 0, 0, 1, 0, 2, 2, 1, 1, 1, 0, 1, 2, 1, 1, 1, 1, 0, 0, 0, 1, 0, 1, 3, 0, 2, 2, 2, 1, 2, 1, 1, 2, 1, 1, 0, 1, 1, 3, 1, 1, 0, 1, 1, 1, 2, 0, 1, 0, 0, 0, 1, 1, 1, 0, 2, 0, 2, 1, 1, 1, 0, 0, 1, 2, 1, 0, 0, 2, 0, 1, 2, 1, 2, 1, 0, 1, 0, 1, 1, 2, 1, 1, 2, 2, 0, 1, 1, 1, 2, 1, 0, 3, 1, 1, 1, 1, 1, 2, 0, 1, 0, 0, 1, 0, 2, 1, 1, 1, 2, 0, 2, 0, 3, 2, 1, 2, 1, 2, 1, 1, 1, 1, 1, 0, 1, 0, 0, 2, 1, 1, 1, 0, 0, 3, 0, 1, 1, 1, 0, 1, 2, 1, 1, 1, 1, 1, 1, 1, 1, 1, 0, 1, 0, 0, 1, 0, 1, 1, 1, 1, 1, 2, 1, 3, 0, 1, 1, 0, 1, 0, 1, 0, 1, 0, 0, 1, 2, 1, 1, 1, 1, 2, 1, 1, 2, 1, 1, 1, 1, 1, 1, 1, 0, 0, 1, 1, 1, 0, 1, 1, 0, 1, 0, 1, 1, 1, 1, 0, 2, 1, 0, 1, 1, 0, 1, 0, 0, 1, 1, 1, 2, 0, 1, 0, 2, 1, 0, 0, 2, 0, 0, 0, 1, 1, 0, 0, 0, 2, 1, 1, 2, 2, 1, 1, 1, 0, 1, 1, 1, 1, 1, 0, 1, 1, 0, 1, 2, 2, 2, 1, 1, 0, 0, 2, 1, 0, 0, 1, 1, 0, 1, 1, 1, 1, 1, 2, 1, 2, 1, 2, 1, 1, 1, 1, 2, 2, 2, 2, 2, 1, 2, 0, 1, 2, 0, 1, 1, 0, 1, 0, 0, 1, 0, 1, 1, 2, 1, 1, 1, 1, 0, 2, 2, 1, 1, 3, 1, 0, 0, 0, 1, 3, 0, 2, 3, 2, 2, 1, 1, 0, 0, 1, 0, 1, 1, 1, 2, 1, 1, 0, 1, 0, 0, 3, 0, 1, 1, 1, 1, 0, 1, 1, 0, 2, 0, 1, 1, 1, 0, 1, 1, 1, 1, 0, 1, 0, 1, 3, 1, 1, 1, 0, 0, 0, 1, 1, 1, 2, 1, 2, 1, 1, 1, 2, 1, 0, 1, 0, 1, 0, 0, 1, 0, 1, 0, 0, 0, 0, 1, 0, 1, 0, 2, 2, 0, 2, 0, 0, 1, 2, 1, 0, 1, 1, 1, 1, 1, 1, 1, 1, 1, 0, 1, 0, 0, 1, 1, 2, 1, 0, 1, 0, 1, 1, 0, 0, 3, 0, 2, 2, 2, 3, 2, 0, 1, 1, 1, 1, 1, 2, 3, 1, 0, 0, 1, 0, 1, 0, 0, 1, 1, 0, 0, 0, 1, 1, 1, 1, 1, 2, 0, 1, 0, 1, 0, 0, 1, 1, 1, 0, 2, 2, 1, 2, 1, 0, 2, 1, 0, 2, 1, 1, 1, 1, 2, 1, 1, 1, 0, 0, 0, 2, 1, 0, 1, 1, 0, 1, 1, 2, 2, 0, 0, 2, 1, 1, 2, 1, 0, 1, 0, 1, 0, 1, 2, 0, 1, 1, 0, 1, 0, 0, 1, 1, 3, 3, 1, 1, 2, 0, 2, 1, 2, 1, 1, 0, 1, 1, 2, 1, 1, 1, 0, 0, 0, 1, 1, 2, 1, 1, 0, 2, 1, 1, 1, 2, 2, 0, 1, 2, 0, 1, 1, 1, 1, 2, 1, 1, 0, 1, 1, 2, 1, 0, 2, 1, 0, 1, 1, 1, 2, 2, 0, 0, 3, 2, 2, 0, 1, 2, 0, 1, 0, 1, 1, 1, 1, 1, 0, 1, 0, 0, 3, 0, 0, 1, 1, 0, 0, 0, 1, 1, 0, 0, 0, 0, 1, 0, 2, 0, 1, 2, 1, 0, 0, 0, 0, 1, 0, 1, 1, 1, 0, 1, 0, 1, 1, 1, 2, 1, 0, 0, 0, 0, 1, 2, 1, 1, 1, 2, 2, 2, 2, 2, 1, 1, 2, 1, 1, 1, 1, 1, 2, 1, 0, 1, 1, 1, 0, 3, 1, 1, 0, 0, 0, 3, 2, 1, 2, 0, 1, 1, 0, 1, 0, 0, 0, 2, 0, 1, 1, 1, 2, 0, 0, 2, 1, 1, 1, 0, 2, 1, 1, 1, 1, 0, 2, 2, 1, 1, 1, 1, 2, 0, 0, 0, 1, 0, 1, 1, 3, 1, 1, 1, 1, 1, 1, 1, 0, 0, 0, 1, 0, 0, 2, 2, 1, 1, 1, 2, 0, 0, 1, 1, 1, 1, 1, 1, 0, 2, 0, 2, 1, 0, 1, 0, 0, 0, 2, 2, 0, 2, 1, 2, 0, 1, 0, 0, 1, 1, 1, 1, 0, 0, 0, 2, 1, 1, 0, 1, 0, 1, 0, 1, 2, 0, 1, 0, 0, 1, 0, 2, 2, 1, 1, 0, 1, 1, 0, 1, 1, 1, 1, 0, 1, 0, 1, 2, 0, 0, 2, 0, 1, 1, 1, 0, 0, 1, 1, 1, 2, 1, 1, 2, 2, 3, 0, 0, 1, 2, 1, 1, 0, 1, 2, 0, 0, 1, 1, 1, 1, 1, 0, 1, 1, 2, 1, 1, 0, 1, 1, 0, 1, 2, 2, 0, 0, 1, 1, 2, 1, 0, 1, 1, 1, 3, 0, 0, 0, 0, 0, 2, 1, 1, 2, 1, 2, 0, 1, 1, 1, 2, 1, 1, 2, 1, 1, 2, 0, 1, 1, 1, 2, 1, 1, 1, 0, 1, 2, 1, 1, 1, 0, 1, 0, 0, 2, 1, 1, 1, 1, 0, 2, 2, 1, 2, 0, 1, 1, 1, 0, 2, 2, 1, 0, 1, 1, 2, 2, 1, 1, 1, 1, 1, 1, 0, 1, 2, 1, 3, 1, 0, 1, 0, 1, 2, 1, 1, 0, 2, 1, 1, 1, 2, 1, 1, 2, 0, 2, 0, 0, 2, 2, 0, 2, 1, 1, 0, 0, 1, 1, 2, 1, 1, 1, 3, 0, 1, 0, 0, 2, 0, 0, 1, 1, 2, 0, 0, 0, 1, 1, 2, 2, 1, 1, 1, 0, 2, 1, 0, 0, 2, 0, 1, 2, 0, 0, 1, 1, 0, 1, 1, 1, 2, 1, 2, 2, 1, 0, 1, 1, 2, 1, 1, 0, 1, 0, 0, 1, 2, 1, 0, 1, 1, 0, 0, 1, 1, 1, 1, 2, 0, 1, 1, 1, 0, 1, 0, 0, 0, 1, 1, 0, 1, 1, 0, 0, 2, 2, 1, 2, 0, 1, 1, 1, 1, 1, 1, 1, 2, 3, 1, 1, 1, 3, 1, 1, 1, 2, 1, 0, 2, 2, 0, 2, 1, 1, 2, 1, 2, 2, 1, 1, 2, 2, 1, 1, 1, 1, 2, 1, 1, 1, 2, 1, 1, 2, 0, 1, 1, 0, 0, 3, 2, 3, 0, 1, 1, 0, 1, 1, 1, 2, 0, 1, 1, 0, 2, 2, 2, 2, 0, 0, 1, 2, 2, 1, 0, 0, 0, 0, 1, 0, 1, 1, 0, 0, 1, 0, 0, 1, 2, 0, 0, 1, 1, 2, 1, 1, 1, 1, 0, 2, 1, 2, 1, 1, 2, 1, 1, 0, 1, 0, 1, 1, 1, 1, 1, 1, 1, 0, 3, 1, 1, 2, 2, 0, 1, 1, 0, 1, 1, 1, 0, 2, 1, 1, 2, 0, 0, 2, 1, 0, 1, 0, 2, 1, 0, 0, 1, 1, 1, 1, 1, 0, 0, 1, 1, 1, 2, 0, 2, 0, 1, 1, 2, 1, 2, 1, 1, 1, 0, 1, 1, 1, 2, 0, 3, 1, 1, 0, 0, 1, 2, 1, 0, 1, 0, 1, 2, 2, 1, 3, 1, 1, 2, 1, 1, 1, 1, 1, 1, 2, 3, 0, 2, 0, 1, 1, 1, 2, 0, 0, 1, 3, 0, 0, 1, 0, 2, 2, 0, 1, 0, 1, 0, 1, 1, 1, 1, 2, 1, 1, 1, 1, 0, 0, 2, 2, 2, 1, 1, 1, 1, 0, 0, 0, 1, 2, 1, 1, 1, 1, 1, 1, 1, 0, 2, 2, 1, 1, 0, 1, 1, 1, 1, 2, 1, 2, 1, 1, 0, 2, 1, 2, 2, 2, 1, 1, 0, 1, 0, 0, 2, 1, 0, 2, 0, 1, 1, 1, 1, 1, 0, 2, 2, 1, 2, 0, 1, 2, 2, 1, 1, 0, 0, 0, 0, 1, 0, 1, 1, 1, 1, 0, 2, 2, 1, 1, 2, 0, 1, 1, 0, 1, 0, 1, 1, 0, 1, 2, 0, 2, 2, 1, 2, 1, 1, 1, 1, 1, 1, 1, 1, 0, 1, 1, 0, 1, 1, 1, 2, 2, 1, 1, 0, 0, 0, 1, 1, 2, 1, 2, 1, 2, 0, 2, 0, 1, 1, 2, 0, 1, 1, 1, 1, 0, 0, 1, 0, 0, 0, 1, 0, 1, 1, 1, 1, 2, 2, 2, 1, 2, 1, 1, 1, 1, 1, 1, 1, 1, 0, 0, 1, 1, 0, 0, 0, 1, 2, 1, 0, 1, 0, 1, 2, 0, 1, 2, 2, 1, 1, 2, 1, 2, 2, 0, 1, 2, 2, 1, 1, 2, 1, 1, 1, 2, 2, 2, 1, 2, 2, 0, 0, 2, 1, 0, 0, 1, 1, 1, 0, 2, 2, 1, 2, 2, 1, 0, 1, 1, 0, 0, 1, 1, 1, 1, 1, 2, 2, 0, 1, 1, 1, 1, 0, 1, 0, 2, 0, 2, 0, 1, 1, 0, 1, 0, 0, 0, 1, 3, 0, 0, 1, 1, 0, 1, 1, 0, 2, 2, 1, 1, 0, 1, 1, 2, 1, 1, 0, 0, 0, 1, 1, 0, 1, 1, 1, 0, 1, 2, 0, 2, 1, 0, 0, 1, 1, 0, 1, 1, 0, 0, 1, 2, 0, 0, 1, 1, 0, 1, 1, 0, 1, 0, 1, 0, 1, 1, 1, 0, 1, 0, 2, 1, 1, 0, 0, 2, 1, 1, 0, 0, 2, 2, 1, 1, 2, 1, 2, 1, 1, 1, 1, 0, 1, 1, 0, 1, 0, 0, 1, 2, 1, 0, 1, 0, 0, 0, 0, 1, 1, 0, 2, 1, 0, 2, 2, 1, 0, 1, 1, 0, 0, 1, 1, 2, 1, 2, 1, 0, 2, 1, 1, 1, 1, 0, 1, 2, 1, 2, 0, 1, 1, 0, 1, 0, 1, 2, 0, 0, 1, 1, 1, 1, 1, 1, 0, 2, 1, 1, 1, 1, 1, 0, 1, 0, 0, 0, 2, 0, 2, 2, 3, 1, 1, 2, 1, 1, 1, 2, 0, 1, 1, 1, 1, 1, 1, 1, 1, 2, 1, 1, 0, 0, 3, 1, 1, 1, 1, 1, 0, 1, 0, 2, 2, 1, 2, 2, 0, 1, 1, 1, 1, 0, 2, 1, 1, 0, 1, 1, 1, 1, 1, 1, 0, 0, 1, 1, 0, 1, 1, 0, 1, 0, 1, 1, 1, 2, 0, 1, 0, 1, 2, 0, 2, 1, 1, 2, 1, 1, 1, 0, 1, 1, 1, 1, 0, 2, 0, 2, 1, 1, 1, 1, 1, 0, 1, 1, 2, 1, 1, 2, 0, 1, 0, 0, 3, 1, 0, 0, 1, 0, 1, 2, 1, 1, 2, 1, 2, 2, 0, 1, 0, 1, 3, 2, 1, 2, 0, 1, 2, 1, 1, 2, 1, 1, 1, 1, 1, 1, 0, 1, 1, 1, 0, 0, 2, 1, 0, 1, 1, 1, 0, 0, 1, 1, 1, 1, 1, 0, 1, 1, 1, 1, 0, 0, 1, 0, 2, 0, 0, 1, 2, 0, 1, 2, 2, 1, 1, 1, 1, 0, 2, 1, 2, 1, 2, 1, 0, 2, 0, 1, 2, 1, 0, 1, 1, 1, 0, 1, 3, 1, 2, 2, 1, 2, 1, 0, 0, 1, 1, 3, 0, 1, 2], \"z\": [1, 0, 0, 0, 0, 0, 0, 0, 1, 1, 0, 0, 0, 0, 3, 0, 0, 1, 0, 0, 0, 1, 0, 0, 0, 0, 0, 1, 0, 0, 1, 1, 0, 0, 0, 0, 0, 2, 0, 0, 0, 0, 0, 1, 0, 0, 0, 0, 0, 3, 0, 2, 1, 0, 0, 3, 0, 0, 0, 0, 1, 0, 3, 0, 0, 0, 0, 1, 0, 0, 1, 2, 0, 2, 0, 0, 0, 0, 0, 0, 1, 3, 1, 0, 0, 0, 0, 1, 0, 1, 0, 0, 0, 0, 0, 1, 0, 0, 0, 0, 0, 0, 2, 1, 3, 0, 0, 2, 0, 0, 0, 0, 1, 0, 0, 4, 0, 1, 0, 0, 0, 0, 0, 0, 1, 0, 0, 2, 0, 0, 1, 0, 0, 0, 0, 1, 0, 0, 0, 0, 1, 0, 0, 0, 3, 0, 0, 0, 0, 0, 0, 0, 0, 0, 0, 1, 1, 0, 0, 0, 0, 0, 0, 1, 0, 3, 0, 0, 1, 0, 0, 0, 0, 0, 0, 0, 0, 0, 0, 1, 0, 0, 0, 0, 0, 1, 0, 2, 1, 0, 0, 4, 0, 2, 1, 0, 0, 2, 0, 0, 0, 0, 0, 0, 0, 2, 0, 0, 0, 0, 0, 0, 0, 0, 0, 0, 0, 0, 1, 1, 0, 0, 0, 0, 0, 0, 0, 1, 0, 0, 2, 0, 0, 4, 0, 0, 0, 0, 0, 5, 0, 0, 0, 1, 0, 0, 0, 2, 0, 0, 0, 1, 0, 1, 2, 0, 0, 1, 0, 0, 0, 0, 0, 1, 0, 2, 0, 0, 0, 0, 0, 0, 0, 0, 0, 0, 0, 1, 0, 1, 0, 0, 2, 0, 0, 0, 1, 0, 0, 0, 0, 0, 1, 1, 1, 1, 0, 0, 0, 0, 0, 0, 0, 0, 0, 0, 0, 0, 0, 0, 0, 0, 0, 0, 0, 0, 0, 1, 2, 0, 0, 4, 0, 2, 0, 0, 2, 0, 2, 0, 0, 1, 0, 1, 0, 2, 1, 0, 0, 0, 1, 0, 0, 0, 1, 0, 0, 0, 0, 0, 0, 0, 0, 0, 0, 0, 1, 1, 1, 0, 2, 0, 0, 0, 0, 0, 0, 0, 0, 0, 2, 0, 0, 0, 1, 0, 0, 0, 0, 0, 0, 1, 0, 1, 0, 0, 0, 0, 2, 0, 1, 0, 0, 0, 1, 0, 1, 0, 0, 0, 1, 4, 3, 0, 0, 0, 0, 3, 1, 0, 3, 2, 0, 0, 5, 0, 0, 0, 0, 0, 0, 0, 0, 0, 0, 0, 0, 0, 0, 0, 0, 2, 0, 0, 0, 0, 0, 0, 0, 0, 3, 2, 0, 0, 2, 0, 0, 1, 0, 0, 3, 0, 0, 0, 0, 1, 2, 0, 0, 0, 0, 0, 0, 0, 0, 0, 2, 0, 0, 1, 0, 0, 0, 0, 0, 0, 1, 0, 1, 0, 0, 0, 0, 0, 0, 0, 0, 0, 0, 0, 0, 0, 0, 0, 1, 0, 1, 1, 0, 0, 0, 0, 0, 2, 0, 1, 0, 2, 1, 0, 0, 0, 0, 0, 0, 0, 1, 0, 0, 0, 0, 2, 0, 0, 0, 0, 0, 3, 0, 0, 1, 0, 2, 0, 0, 2, 0, 0, 1, 0, 0, 1, 0, 5, 0, 0, 0, 0, 0, 0, 0, 0, 0, 0, 0, 0, 0, 0, 0, 4, 0, 0, 0, 0, 1, 0, 0, 0, 0, 0, 4, 0, 1, 0, 1, 3, 0, 0, 0, 1, 0, 0, 0, 0, 0, 0, 0, 0, 0, 1, 0, 0, 0, 1, 0, 0, 0, 0, 1, 0, 0, 0, 0, 0, 0, 0, 2, 0, 1, 0, 0, 1, 0, 0, 0, 0, 0, 2, 1, 0, 0, 0, 1, 1, 0, 0, 0, 1, 3, 0, 3, 0, 0, 0, 1, 0, 0, 0, 0, 0, 0, 0, 0, 1, 0, 0, 0, 0, 0, 0, 0, 0, 0, 0, 0, 0, 0, 0, 0, 0, 2, 0, 2, 0, 0, 0, 0, 0, 0, 0, 1, 0, 2, 0, 2, 0, 0, 0, 1, 0, 0, 1, 0, 1, 0, 0, 1, 4, 0, 2, 0, 0, 1, 2, 0, 0, 0, 0, 0, 0, 2, 0, 0, 0, 0, 0, 0, 0, 2, 0, 1, 0, 0, 1, 0, 0, 0, 0, 3, 4, 0, 0, 0, 0, 0, 0, 0, 0, 1, 1, 0, 0, 1, 2, 0, 0, 0, 4, 0, 0, 1, 0, 0, 0, 0, 0, 0, 2, 0, 0, 0, 0, 0, 0, 0, 0, 1, 0, 0, 0, 0, 0, 0, 0, 0, 0, 0, 0, 0, 0, 0, 2, 1, 0, 0, 4, 1, 0, 0, 1, 0, 0, 0, 0, 0, 0, 0, 0, 4, 0, 0, 0, 1, 0, 0, 1, 0, 0, 0, 0, 0, 0, 0, 0, 3, 0, 2, 0, 5, 0, 2, 0, 0, 0, 0, 0, 0, 0, 0, 0, 0, 0, 0, 1, 0, 0, 0, 0, 0, 4, 0, 0, 0, 0, 0, 0, 2, 1, 3, 0, 0, 0, 0, 1, 0, 0, 0, 0, 0, 0, 0, 0, 0, 0, 2, 1, 0, 0, 0, 3, 0, 0, 0, 0, 2, 0, 0, 0, 1, 0, 0, 0, 0, 0, 1, 0, 0, 0, 2, 0, 1, 0, 0, 0, 0, 0, 0, 0, 0, 0, 2, 0, 0, 0, 0, 0, 1, 1, 2, 0, 0, 3, 0, 1, 2, 0, 1, 0, 1, 0, 1, 1, 0, 0, 0, 0, 1, 0, 0, 0, 0, 1, 0, 0, 0, 0, 2, 4, 0, 2, 0, 0, 0, 0, 0, 1, 1, 0, 0, 0, 1, 0, 0, 0, 0, 0, 1, 0, 0, 0, 3, 0, 1, 0, 0, 0, 0, 0, 0, 0, 1, 0, 0, 1, 0, 0, 0, 0, 3, 0, 0, 4, 0, 0, 5, 0, 1, 0, 0, 0, 1, 0, 1, 0, 3, 3, 3, 0, 0, 2, 0, 1, 1, 0, 3, 0, 0, 0, 0, 0, 1, 0, 0, 0, 0, 0, 1, 0, 0, 0, 2, 0, 0, 0, 2, 1, 0, 0, 1, 0, 0, 0, 2, 0, 1, 0, 0, 1, 1, 0, 0, 0, 1, 1, 1, 1, 0, 1, 0, 0, 0, 0, 0, 0, 1, 1, 1, 1, 0, 0, 3, 0, 0, 0, 0, 0, 0, 0, 0, 1, 2, 0, 0, 0, 0, 1, 1, 0, 2, 0, 0, 5, 0, 1, 1, 0, 0, 0, 0, 0, 0, 0, 0, 0, 4, 0, 0, 0, 0, 1, 0, 0, 1, 0, 0, 2, 0, 1, 0, 2, 2, 2, 0, 0, 0, 0, 0, 0, 0, 1, 0, 0, 0, 1, 1, 0, 0, 1, 4, 0, 0, 1, 0, 0, 0, 0, 0, 0, 0, 0, 2, 0, 0, 2, 0, 0, 0, 2, 0, 0, 1, 0, 0, 0, 0, 0, 1, 0, 0, 0, 0, 0, 0, 0, 1, 0, 0, 1, 0, 0, 0, 0, 0, 1, 0, 0, 2, 0, 0, 0, 0, 1, 0, 0, 1, 3, 0, 0, 0, 0, 0, 1, 0, 0, 0, 0, 0, 2, 0, 1, 1, 0, 1, 0, 1, 0, 1, 1, 0, 1, 0, 0, 0, 0, 0, 0, 1, 1, 0, 0, 1, 2, 0, 0, 0, 0, 0, 0, 0, 0, 0, 3, 0, 0, 0, 0, 1, 0, 0, 0, 0, 0, 0, 1, 3, 1, 2, 0, 0, 1, 1, 0, 1, 2, 1, 2, 2, 0, 1, 4, 1, 0, 0, 0, 1, 0, 2, 0, 0, 1, 1, 0, 1, 0, 2, 3, 0, 0, 0, 0, 2, 0, 4, 0, 0, 0, 0, 0, 0, 0, 0, 1, 2, 0, 0, 4, 0, 0, 1, 0, 0, 2, 5, 0, 0, 0, 0, 0, 0, 0, 0, 0, 0, 0, 0, 0, 1, 2, 0, 0, 0, 0, 0, 2, 0, 1, 2, 0, 4, 0, 0, 0, 0, 1, 1, 0, 2, 0, 0, 0, 0, 0, 1, 1, 0, 1, 0, 0, 2, 0, 1, 0, 0, 0, 0, 1, 0, 0, 1, 1, 0, 0, 0, 0, 0, 0, 0, 1, 0, 0, 0, 2, 1, 0, 0, 0, 2, 0, 0, 0, 0, 0, 0, 0, 0, 0, 0, 0, 0, 0, 0, 0, 0, 1, 0, 0, 0, 0, 0, 1, 0, 4, 0, 2, 0, 0, 0, 0, 0, 0, 0, 0, 1, 0, 0, 0, 0, 0, 0, 0, 0, 0, 2, 0, 0, 1, 0, 0, 0, 0, 0, 0, 1, 2, 2, 0, 0, 1, 0, 0, 0, 0, 1, 0, 0, 0, 1, 0, 4, 1, 1, 0, 2, 0, 0, 0, 0, 1, 0, 0, 0, 0, 0, 3, 0, 0, 0, 0, 0, 1, 0, 0, 0, 0, 0, 0, 0, 1, 1, 0, 1, 0, 4, 0, 0, 0, 0, 2, 0, 0, 0, 0, 1, 0, 2, 1, 0, 1, 0, 0, 0, 0, 0, 0, 1, 0, 0, 0, 0, 1, 1, 0, 0, 0, 0, 0, 0, 0, 3, 0, 1, 1, 0, 1, 0, 0, 0, 1, 1, 0, 0, 0, 0, 0, 0, 0, 0, 1, 0, 0, 0, 0, 0, 1, 0, 0, 2, 0, 0, 0, 0, 0, 0, 0, 0, 0, 1, 0, 1, 0, 3, 0, 2, 0, 1, 0, 1, 2, 0, 0, 0, 0, 0, 0, 1, 2, 1, 0, 0, 1, 0, 0, 1, 0, 0, 1, 0, 1, 0, 0, 0, 1, 1, 0, 0, 0, 0, 1, 0, 0, 0, 0, 2, 0, 1, 0, 0, 0, 0, 0, 1, 0, 0, 0, 0, 0, 0, 0, 1, 0, 0, 0, 0, 0, 0, 0, 0, 0, 0, 0, 0, 4, 0, 0, 0, 0, 0, 1, 1, 0, 0, 1, 1, 0, 0, 0, 0, 0, 0, 3, 0, 0, 0, 0, 0, 0, 0, 0, 0, 2, 3, 0, 2, 1, 0, 0, 0, 0, 0, 0, 1, 0, 0, 0, 0, 0, 1, 3, 0, 0, 0, 0, 0, 0, 0, 0, 0, 1, 0, 0, 0, 0, 0, 0, 1, 0, 1, 0, 0, 0, 5, 4, 0, 1, 0, 0, 0, 0, 0, 2, 0, 4, 4, 1, 1, 1, 1, 0, 0, 0, 0, 0, 1, 1, 0, 0, 0, 1, 1, 0, 1, 0, 1, 1, 0, 0, 0, 0, 0, 3, 2, 0, 0, 2, 0, 0, 0, 1, 0, 0, 0, 0, 0, 0, 0, 0, 0, 0, 0, 1, 1, 0, 0, 0, 0, 1, 0, 0, 0, 0, 0, 0, 0, 0, 1, 0, 0, 0, 0, 0, 0, 0, 1, 0, 1, 0, 0, 0, 1, 0, 0, 1, 0, 1, 1, 0, 0, 0, 1, 1, 0, 0, 1, 1, 0, 0, 1, 1, 0, 0, 1, 0, 0, 0, 0, 0, 0, 1, 0, 1, 0, 0, 0, 0, 1, 0, 0, 1, 0, 1, 0, 4, 0, 0, 0, 4, 0, 0, 0, 0, 3, 0, 0, 1, 1, 2, 0, 0, 0, 0, 0, 0, 0, 0, 2, 2, 0, 0, 0, 4, 0, 0, 0, 0, 0, 0, 1, 1, 0, 0, 1, 2, 0, 1, 0, 0, 0, 2, 0, 1, 0, 3, 0, 2, 0, 0, 1, 1, 0, 0, 0, 0, 0, 0, 1, 0, 0, 0, 0, 1, 0, 1, 0, 3, 0, 3, 0, 0, 0, 0, 0, 0, 5, 1, 0, 0, 2, 0, 1, 0, 0, 0, 0, 0, 0, 0, 1, 1, 0, 0, 4, 0, 0, 0, 0, 0, 1, 0, 0, 0, 0, 0, 0, 1, 0, 0, 0, 1, 2, 0, 0, 4, 0, 1, 0, 0, 0, 0, 2, 2, 1, 1, 1, 0, 0, 0, 0, 0, 1, 2, 0, 1, 2, 0, 0, 0, 0, 0, 0, 0, 2, 0, 2, 2, 0, 4, 2, 0, 1, 0, 0, 0, 1, 0, 0, 0, 0, 1, 0, 0, 0, 0, 4, 0, 1, 0, 1, 0, 0, 0, 0, 0, 0, 0, 0, 0, 0, 0, 2, 0, 2, 0, 0, 0, 1, 0, 0, 0, 0, 1, 0, 0, 0, 0, 0, 0, 0, 2, 1, 0, 0, 1, 0, 0, 0, 0, 0, 0, 0, 0, 0, 0, 0, 0, 0, 0, 0, 0, 0, 0, 0, 1, 0, 1, 0, 0, 0, 0, 0, 0, 0, 1, 0, 0, 1, 0, 0, 3, 2, 0, 0, 0, 3, 2, 0, 0, 1, 2, 0, 0, 0, 2, 0, 2, 0, 1, 0, 0, 0, 0, 0, 0, 0, 0, 0, 0, 0, 0, 1, 3, 0, 2, 1, 0, 0, 2, 0, 0, 0, 0, 1, 0, 0, 1, 0, 0, 0, 0, 2, 2, 0, 0, 0, 0, 0, 1, 0, 1, 0, 0, 0, 0, 1, 0, 1, 0, 0, 1, 0, 0, 0, 5, 3, 0, 1, 4, 0, 0, 2, 3, 0, 0, 1, 0, 0, 1, 0, 0, 0, 1, 1, 1, 0, 0, 1, 0, 0, 3, 2, 0, 0, 1, 2, 0, 0, 0, 1, 0, 0, 0, 0, 1, 0, 0, 0, 0, 0, 0, 0, 0, 0, 0, 0, 0, 0, 3, 0, 0, 1, 0, 0, 0, 0, 1, 0, 0, 0, 0, 1, 1, 0, 1]}],\n",
              "                        {\"margin\": {\"b\": 10, \"l\": 10, \"r\": 20, \"t\": 10}, \"scene\": {\"xaxis\": {\"title\": {\"text\": \"Income\"}}, \"yaxis\": {\"title\": {\"text\": \"Children\"}}, \"zaxis\": {\"title\": {\"text\": \"Total Accepted Promo\"}}}, \"template\": {\"data\": {\"bar\": [{\"error_x\": {\"color\": \"#2a3f5f\"}, \"error_y\": {\"color\": \"#2a3f5f\"}, \"marker\": {\"line\": {\"color\": \"#E5ECF6\", \"width\": 0.5}}, \"type\": \"bar\"}], \"barpolar\": [{\"marker\": {\"line\": {\"color\": \"#E5ECF6\", \"width\": 0.5}}, \"type\": \"barpolar\"}], \"carpet\": [{\"aaxis\": {\"endlinecolor\": \"#2a3f5f\", \"gridcolor\": \"white\", \"linecolor\": \"white\", \"minorgridcolor\": \"white\", \"startlinecolor\": \"#2a3f5f\"}, \"baxis\": {\"endlinecolor\": \"#2a3f5f\", \"gridcolor\": \"white\", \"linecolor\": \"white\", \"minorgridcolor\": \"white\", \"startlinecolor\": \"#2a3f5f\"}, \"type\": \"carpet\"}], \"choropleth\": [{\"colorbar\": {\"outlinewidth\": 0, \"ticks\": \"\"}, \"type\": \"choropleth\"}], \"contour\": [{\"colorbar\": {\"outlinewidth\": 0, \"ticks\": \"\"}, \"colorscale\": [[0.0, \"#0d0887\"], [0.1111111111111111, \"#46039f\"], [0.2222222222222222, \"#7201a8\"], [0.3333333333333333, \"#9c179e\"], [0.4444444444444444, \"#bd3786\"], [0.5555555555555556, \"#d8576b\"], [0.6666666666666666, \"#ed7953\"], [0.7777777777777778, \"#fb9f3a\"], [0.8888888888888888, \"#fdca26\"], [1.0, \"#f0f921\"]], \"type\": \"contour\"}], \"contourcarpet\": [{\"colorbar\": {\"outlinewidth\": 0, \"ticks\": \"\"}, \"type\": \"contourcarpet\"}], \"heatmap\": [{\"colorbar\": {\"outlinewidth\": 0, \"ticks\": \"\"}, \"colorscale\": [[0.0, \"#0d0887\"], [0.1111111111111111, \"#46039f\"], [0.2222222222222222, \"#7201a8\"], [0.3333333333333333, \"#9c179e\"], [0.4444444444444444, \"#bd3786\"], [0.5555555555555556, \"#d8576b\"], [0.6666666666666666, \"#ed7953\"], [0.7777777777777778, \"#fb9f3a\"], [0.8888888888888888, \"#fdca26\"], [1.0, \"#f0f921\"]], \"type\": \"heatmap\"}], \"heatmapgl\": [{\"colorbar\": {\"outlinewidth\": 0, \"ticks\": \"\"}, \"colorscale\": [[0.0, \"#0d0887\"], [0.1111111111111111, \"#46039f\"], [0.2222222222222222, \"#7201a8\"], [0.3333333333333333, \"#9c179e\"], [0.4444444444444444, \"#bd3786\"], [0.5555555555555556, \"#d8576b\"], [0.6666666666666666, \"#ed7953\"], [0.7777777777777778, \"#fb9f3a\"], [0.8888888888888888, \"#fdca26\"], [1.0, \"#f0f921\"]], \"type\": \"heatmapgl\"}], \"histogram\": [{\"marker\": {\"colorbar\": {\"outlinewidth\": 0, \"ticks\": \"\"}}, \"type\": \"histogram\"}], \"histogram2d\": [{\"colorbar\": {\"outlinewidth\": 0, \"ticks\": \"\"}, \"colorscale\": [[0.0, \"#0d0887\"], [0.1111111111111111, \"#46039f\"], [0.2222222222222222, \"#7201a8\"], [0.3333333333333333, \"#9c179e\"], [0.4444444444444444, \"#bd3786\"], [0.5555555555555556, \"#d8576b\"], [0.6666666666666666, \"#ed7953\"], [0.7777777777777778, \"#fb9f3a\"], [0.8888888888888888, \"#fdca26\"], [1.0, \"#f0f921\"]], \"type\": \"histogram2d\"}], \"histogram2dcontour\": [{\"colorbar\": {\"outlinewidth\": 0, \"ticks\": \"\"}, \"colorscale\": [[0.0, \"#0d0887\"], [0.1111111111111111, \"#46039f\"], [0.2222222222222222, \"#7201a8\"], [0.3333333333333333, \"#9c179e\"], [0.4444444444444444, \"#bd3786\"], [0.5555555555555556, \"#d8576b\"], [0.6666666666666666, \"#ed7953\"], [0.7777777777777778, \"#fb9f3a\"], [0.8888888888888888, \"#fdca26\"], [1.0, \"#f0f921\"]], \"type\": \"histogram2dcontour\"}], \"mesh3d\": [{\"colorbar\": {\"outlinewidth\": 0, \"ticks\": \"\"}, \"type\": \"mesh3d\"}], \"parcoords\": [{\"line\": {\"colorbar\": {\"outlinewidth\": 0, \"ticks\": \"\"}}, \"type\": \"parcoords\"}], \"pie\": [{\"automargin\": true, \"type\": \"pie\"}], \"scatter\": [{\"marker\": {\"colorbar\": {\"outlinewidth\": 0, \"ticks\": \"\"}}, \"type\": \"scatter\"}], \"scatter3d\": [{\"line\": {\"colorbar\": {\"outlinewidth\": 0, \"ticks\": \"\"}}, \"marker\": {\"colorbar\": {\"outlinewidth\": 0, \"ticks\": \"\"}}, \"type\": \"scatter3d\"}], \"scattercarpet\": [{\"marker\": {\"colorbar\": {\"outlinewidth\": 0, \"ticks\": \"\"}}, \"type\": \"scattercarpet\"}], \"scattergeo\": [{\"marker\": {\"colorbar\": {\"outlinewidth\": 0, \"ticks\": \"\"}}, \"type\": \"scattergeo\"}], \"scattergl\": [{\"marker\": {\"colorbar\": {\"outlinewidth\": 0, \"ticks\": \"\"}}, \"type\": \"scattergl\"}], \"scattermapbox\": [{\"marker\": {\"colorbar\": {\"outlinewidth\": 0, \"ticks\": \"\"}}, \"type\": \"scattermapbox\"}], \"scatterpolar\": [{\"marker\": {\"colorbar\": {\"outlinewidth\": 0, \"ticks\": \"\"}}, \"type\": \"scatterpolar\"}], \"scatterpolargl\": [{\"marker\": {\"colorbar\": {\"outlinewidth\": 0, \"ticks\": \"\"}}, \"type\": \"scatterpolargl\"}], \"scatterternary\": [{\"marker\": {\"colorbar\": {\"outlinewidth\": 0, \"ticks\": \"\"}}, \"type\": \"scatterternary\"}], \"surface\": [{\"colorbar\": {\"outlinewidth\": 0, \"ticks\": \"\"}, \"colorscale\": [[0.0, \"#0d0887\"], [0.1111111111111111, \"#46039f\"], [0.2222222222222222, \"#7201a8\"], [0.3333333333333333, \"#9c179e\"], [0.4444444444444444, \"#bd3786\"], [0.5555555555555556, \"#d8576b\"], [0.6666666666666666, \"#ed7953\"], [0.7777777777777778, \"#fb9f3a\"], [0.8888888888888888, \"#fdca26\"], [1.0, \"#f0f921\"]], \"type\": \"surface\"}], \"table\": [{\"cells\": {\"fill\": {\"color\": \"#EBF0F8\"}, \"line\": {\"color\": \"white\"}}, \"header\": {\"fill\": {\"color\": \"#C8D4E3\"}, \"line\": {\"color\": \"white\"}}, \"type\": \"table\"}]}, \"layout\": {\"annotationdefaults\": {\"arrowcolor\": \"#2a3f5f\", \"arrowhead\": 0, \"arrowwidth\": 1}, \"coloraxis\": {\"colorbar\": {\"outlinewidth\": 0, \"ticks\": \"\"}}, \"colorscale\": {\"diverging\": [[0, \"#8e0152\"], [0.1, \"#c51b7d\"], [0.2, \"#de77ae\"], [0.3, \"#f1b6da\"], [0.4, \"#fde0ef\"], [0.5, \"#f7f7f7\"], [0.6, \"#e6f5d0\"], [0.7, \"#b8e186\"], [0.8, \"#7fbc41\"], [0.9, \"#4d9221\"], [1, \"#276419\"]], \"sequential\": [[0.0, \"#0d0887\"], [0.1111111111111111, \"#46039f\"], [0.2222222222222222, \"#7201a8\"], [0.3333333333333333, \"#9c179e\"], [0.4444444444444444, \"#bd3786\"], [0.5555555555555556, \"#d8576b\"], [0.6666666666666666, \"#ed7953\"], [0.7777777777777778, \"#fb9f3a\"], [0.8888888888888888, \"#fdca26\"], [1.0, \"#f0f921\"]], \"sequentialminus\": [[0.0, \"#0d0887\"], [0.1111111111111111, \"#46039f\"], [0.2222222222222222, \"#7201a8\"], [0.3333333333333333, \"#9c179e\"], [0.4444444444444444, \"#bd3786\"], [0.5555555555555556, \"#d8576b\"], [0.6666666666666666, \"#ed7953\"], [0.7777777777777778, \"#fb9f3a\"], [0.8888888888888888, \"#fdca26\"], [1.0, \"#f0f921\"]]}, \"colorway\": [\"#636efa\", \"#EF553B\", \"#00cc96\", \"#ab63fa\", \"#FFA15A\", \"#19d3f3\", \"#FF6692\", \"#B6E880\", \"#FF97FF\", \"#FECB52\"], \"font\": {\"color\": \"#2a3f5f\"}, \"geo\": {\"bgcolor\": \"white\", \"lakecolor\": \"white\", \"landcolor\": \"#E5ECF6\", \"showlakes\": true, \"showland\": true, \"subunitcolor\": \"white\"}, \"hoverlabel\": {\"align\": \"left\"}, \"hovermode\": \"closest\", \"mapbox\": {\"style\": \"light\"}, \"paper_bgcolor\": \"white\", \"plot_bgcolor\": \"#E5ECF6\", \"polar\": {\"angularaxis\": {\"gridcolor\": \"white\", \"linecolor\": \"white\", \"ticks\": \"\"}, \"bgcolor\": \"#E5ECF6\", \"radialaxis\": {\"gridcolor\": \"white\", \"linecolor\": \"white\", \"ticks\": \"\"}}, \"scene\": {\"xaxis\": {\"backgroundcolor\": \"#E5ECF6\", \"gridcolor\": \"white\", \"gridwidth\": 2, \"linecolor\": \"white\", \"showbackground\": true, \"ticks\": \"\", \"zerolinecolor\": \"white\"}, \"yaxis\": {\"backgroundcolor\": \"#E5ECF6\", \"gridcolor\": \"white\", \"gridwidth\": 2, \"linecolor\": \"white\", \"showbackground\": true, \"ticks\": \"\", \"zerolinecolor\": \"white\"}, \"zaxis\": {\"backgroundcolor\": \"#E5ECF6\", \"gridcolor\": \"white\", \"gridwidth\": 2, \"linecolor\": \"white\", \"showbackground\": true, \"ticks\": \"\", \"zerolinecolor\": \"white\"}}, \"shapedefaults\": {\"line\": {\"color\": \"#2a3f5f\"}}, \"ternary\": {\"aaxis\": {\"gridcolor\": \"white\", \"linecolor\": \"white\", \"ticks\": \"\"}, \"baxis\": {\"gridcolor\": \"white\", \"linecolor\": \"white\", \"ticks\": \"\"}, \"bgcolor\": \"#E5ECF6\", \"caxis\": {\"gridcolor\": \"white\", \"linecolor\": \"white\", \"ticks\": \"\"}}, \"title\": {\"x\": 0.05}, \"xaxis\": {\"automargin\": true, \"gridcolor\": \"white\", \"linecolor\": \"white\", \"ticks\": \"\", \"title\": {\"standoff\": 15}, \"zerolinecolor\": \"white\", \"zerolinewidth\": 2}, \"yaxis\": {\"automargin\": true, \"gridcolor\": \"white\", \"linecolor\": \"white\", \"ticks\": \"\", \"title\": {\"standoff\": 15}, \"zerolinecolor\": \"white\", \"zerolinewidth\": 2}}}, \"width\": 700},\n",
              "                        {\"responsive\": true}\n",
              "                    ).then(function(){\n",
              "                            \n",
              "var gd = document.getElementById('0451ffeb-9abb-44df-ae43-5e271f1ba40a');\n",
              "var x = new MutationObserver(function (mutations, observer) {{\n",
              "        var display = window.getComputedStyle(gd).display;\n",
              "        if (!display || display === 'none') {{\n",
              "            console.log([gd, 'removed!']);\n",
              "            Plotly.purge(gd);\n",
              "            observer.disconnect();\n",
              "        }}\n",
              "}});\n",
              "\n",
              "// Listen for the removal of the full notebook cells\n",
              "var notebookContainer = gd.closest('#notebook-container');\n",
              "if (notebookContainer) {{\n",
              "    x.observe(notebookContainer, {childList: true});\n",
              "}}\n",
              "\n",
              "// Listen for the clearing of the current output cell\n",
              "var outputEl = gd.closest('.output');\n",
              "if (outputEl) {{\n",
              "    x.observe(outputEl, {childList: true});\n",
              "}}\n",
              "\n",
              "                        })\n",
              "                };\n",
              "                \n",
              "            </script>\n",
              "        </div>\n",
              "</body>\n",
              "</html>"
            ]
          },
          "metadata": {}
        }
      ]
    },
    {
      "cell_type": "code",
      "metadata": {
        "colab": {
          "base_uri": "https://localhost:8080/",
          "height": 542
        },
        "id": "7jtPbx_GuY61",
        "outputId": "9e5a62e2-d830-4796-a4cd-d3c033523c4b"
      },
      "source": [
        "fig = go.Figure()\n",
        "fig.add_trace(go.Scatter3d(x = df['Income'],\n",
        "                           y = df['Expenses'],\n",
        "                           z = df['NumTotalPurchases'],\n",
        "                           mode = 'markers',\n",
        "                           marker = dict(color = labels.astype(np.float)),\n",
        "                           text = labels))\n",
        "fig.update_layout(scene = dict(xaxis_title='Income',\n",
        "                               yaxis_title='Expenses',\n",
        "                               zaxis_title='Total Purchases'), \n",
        "                  width=700, \n",
        "                  margin=dict(r=20, b=10, l=10, t=10))\n",
        "fig.show()"
      ],
      "execution_count": 73,
      "outputs": [
        {
          "output_type": "display_data",
          "data": {
            "text/html": [
              "<html>\n",
              "<head><meta charset=\"utf-8\" /></head>\n",
              "<body>\n",
              "    <div>\n",
              "            <script src=\"https://cdnjs.cloudflare.com/ajax/libs/mathjax/2.7.5/MathJax.js?config=TeX-AMS-MML_SVG\"></script><script type=\"text/javascript\">if (window.MathJax) {MathJax.Hub.Config({SVG: {font: \"STIX-Web\"}});}</script>\n",
              "                <script type=\"text/javascript\">window.PlotlyConfig = {MathJaxConfig: 'local'};</script>\n",
              "        <script src=\"https://cdn.plot.ly/plotly-latest.min.js\"></script>    \n",
              "            <div id=\"0754902e-6140-4b8c-ac12-df0d42a96909\" class=\"plotly-graph-div\" style=\"height:525px; width:700px;\"></div>\n",
              "            <script type=\"text/javascript\">\n",
              "                \n",
              "                    window.PLOTLYENV=window.PLOTLYENV || {};\n",
              "                    \n",
              "                if (document.getElementById(\"0754902e-6140-4b8c-ac12-df0d42a96909\")) {\n",
              "                    Plotly.newPlot(\n",
              "                        '0754902e-6140-4b8c-ac12-df0d42a96909',\n",
              "                        [{\"marker\": {\"color\": [1.0, 0.0, 1.0, 0.0, 1.0, 1.0, 1.0, 0.0, 0.0, 0.0, 0.0, 1.0, 0.0, 0.0, 2.0, 0.0, 1.0, 1.0, 0.0, 0.0, 1.0, 1.0, 1.0, 1.0, 0.0, 0.0, 0.0, 1.0, 0.0, 0.0, 0.0, 0.0, 1.0, 0.0, 1.0, 0.0, 0.0, 2.0, 1.0, 0.0, 0.0, 0.0, 1.0, 0.0, 0.0, 1.0, 1.0, 1.0, 0.0, 2.0, 0.0, 2.0, 1.0, 0.0, 1.0, 2.0, 1.0, 1.0, 1.0, 1.0, 0.0, 0.0, 2.0, 1.0, 1.0, 1.0, 1.0, 1.0, 0.0, 0.0, 1.0, 2.0, 0.0, 2.0, 0.0, 0.0, 0.0, 0.0, 1.0, 0.0, 0.0, 2.0, 1.0, 0.0, 0.0, 0.0, 0.0, 1.0, 0.0, 1.0, 1.0, 0.0, 0.0, 1.0, 1.0, 1.0, 0.0, 0.0, 1.0, 0.0, 1.0, 1.0, 2.0, 1.0, 2.0, 1.0, 0.0, 2.0, 0.0, 0.0, 0.0, 1.0, 0.0, 0.0, 0.0, 2.0, 1.0, 1.0, 0.0, 1.0, 1.0, 1.0, 1.0, 0.0, 1.0, 0.0, 0.0, 0.0, 0.0, 1.0, 1.0, 1.0, 1.0, 0.0, 0.0, 0.0, 0.0, 0.0, 0.0, 0.0, 1.0, 0.0, 0.0, 1.0, 2.0, 0.0, 0.0, 0.0, 1.0, 0.0, 1.0, 0.0, 1.0, 1.0, 0.0, 1.0, 1.0, 1.0, 0.0, 0.0, 0.0, 0.0, 0.0, 0.0, 1.0, 2.0, 0.0, 0.0, 1.0, 0.0, 0.0, 1.0, 0.0, 0.0, 0.0, 0.0, 1.0, 1.0, 0.0, 0.0, 1.0, 0.0, 0.0, 0.0, 1.0, 1.0, 1.0, 0.0, 1.0, 1.0, 1.0, 2.0, 0.0, 0.0, 0.0, 0.0, 0.0, 2.0, 0.0, 1.0, 0.0, 0.0, 1.0, 0.0, 0.0, 2.0, 0.0, 1.0, 0.0, 1.0, 1.0, 0.0, 1.0, 0.0, 0.0, 1.0, 1.0, 0.0, 0.0, 1.0, 0.0, 0.0, 1.0, 0.0, 0.0, 1.0, 0.0, 1.0, 1.0, 0.0, 2.0, 1.0, 0.0, 2.0, 1.0, 1.0, 1.0, 0.0, 0.0, 2.0, 0.0, 1.0, 0.0, 1.0, 0.0, 0.0, 0.0, 0.0, 1.0, 0.0, 0.0, 0.0, 0.0, 1.0, 0.0, 1.0, 0.0, 1.0, 0.0, 0.0, 0.0, 0.0, 1.0, 1.0, 1.0, 2.0, 1.0, 0.0, 0.0, 1.0, 1.0, 0.0, 0.0, 1.0, 1.0, 1.0, 1.0, 0.0, 0.0, 1.0, 0.0, 0.0, 2.0, 0.0, 0.0, 1.0, 1.0, 0.0, 1.0, 0.0, 0.0, 0.0, 1.0, 0.0, 1.0, 1.0, 0.0, 0.0, 0.0, 1.0, 0.0, 0.0, 0.0, 0.0, 0.0, 1.0, 0.0, 0.0, 1.0, 1.0, 1.0, 0.0, 0.0, 0.0, 0.0, 0.0, 0.0, 1.0, 0.0, 0.0, 1.0, 2.0, 0.0, 2.0, 1.0, 0.0, 2.0, 1.0, 0.0, 1.0, 0.0, 1.0, 0.0, 0.0, 1.0, 2.0, 1.0, 1.0, 1.0, 0.0, 0.0, 1.0, 1.0, 0.0, 1.0, 1.0, 0.0, 0.0, 0.0, 1.0, 1.0, 0.0, 1.0, 1.0, 0.0, 0.0, 0.0, 1.0, 0.0, 0.0, 0.0, 0.0, 1.0, 0.0, 0.0, 0.0, 0.0, 0.0, 0.0, 0.0, 2.0, 1.0, 0.0, 1.0, 1.0, 0.0, 1.0, 1.0, 1.0, 1.0, 0.0, 0.0, 0.0, 0.0, 0.0, 1.0, 0.0, 0.0, 0.0, 0.0, 0.0, 0.0, 0.0, 0.0, 0.0, 1.0, 1.0, 0.0, 1.0, 1.0, 0.0, 2.0, 2.0, 1.0, 0.0, 0.0, 0.0, 2.0, 1.0, 0.0, 2.0, 2.0, 0.0, 1.0, 2.0, 0.0, 1.0, 1.0, 0.0, 0.0, 1.0, 1.0, 0.0, 0.0, 0.0, 0.0, 0.0, 0.0, 0.0, 0.0, 0.0, 2.0, 0.0, 1.0, 1.0, 1.0, 0.0, 0.0, 1.0, 0.0, 2.0, 0.0, 0.0, 1.0, 2.0, 1.0, 0.0, 1.0, 0.0, 1.0, 2.0, 0.0, 0.0, 1.0, 1.0, 0.0, 2.0, 0.0, 0.0, 1.0, 0.0, 0.0, 1.0, 0.0, 0.0, 0.0, 0.0, 0.0, 1.0, 1.0, 1.0, 1.0, 0.0, 0.0, 1.0, 0.0, 1.0, 1.0, 1.0, 1.0, 0.0, 1.0, 1.0, 1.0, 0.0, 0.0, 0.0, 1.0, 0.0, 1.0, 1.0, 1.0, 0.0, 1.0, 0.0, 1.0, 0.0, 1.0, 1.0, 1.0, 0.0, 0.0, 1.0, 2.0, 0.0, 1.0, 0.0, 2.0, 0.0, 0.0, 1.0, 1.0, 1.0, 0.0, 1.0, 1.0, 0.0, 0.0, 0.0, 0.0, 0.0, 2.0, 0.0, 0.0, 0.0, 0.0, 0.0, 2.0, 1.0, 0.0, 1.0, 0.0, 0.0, 0.0, 0.0, 0.0, 1.0, 0.0, 1.0, 0.0, 1.0, 1.0, 0.0, 2.0, 0.0, 1.0, 1.0, 1.0, 0.0, 0.0, 1.0, 0.0, 0.0, 0.0, 0.0, 0.0, 0.0, 0.0, 0.0, 2.0, 0.0, 0.0, 0.0, 0.0, 0.0, 1.0, 0.0, 0.0, 0.0, 0.0, 2.0, 1.0, 1.0, 0.0, 0.0, 2.0, 1.0, 0.0, 1.0, 0.0, 0.0, 0.0, 0.0, 0.0, 0.0, 1.0, 1.0, 1.0, 0.0, 0.0, 0.0, 0.0, 0.0, 1.0, 0.0, 1.0, 0.0, 0.0, 1.0, 0.0, 0.0, 1.0, 0.0, 0.0, 1.0, 0.0, 2.0, 0.0, 1.0, 0.0, 1.0, 1.0, 0.0, 0.0, 1.0, 1.0, 1.0, 0.0, 1.0, 0.0, 1.0, 0.0, 1.0, 1.0, 1.0, 1.0, 1.0, 0.0, 2.0, 0.0, 2.0, 0.0, 1.0, 1.0, 1.0, 0.0, 1.0, 0.0, 0.0, 1.0, 0.0, 0.0, 1.0, 0.0, 1.0, 0.0, 1.0, 0.0, 0.0, 0.0, 0.0, 0.0, 0.0, 0.0, 1.0, 1.0, 1.0, 1.0, 1.0, 0.0, 2.0, 1.0, 0.0, 1.0, 1.0, 1.0, 0.0, 0.0, 1.0, 1.0, 1.0, 1.0, 2.0, 1.0, 2.0, 1.0, 0.0, 0.0, 0.0, 0.0, 0.0, 0.0, 1.0, 1.0, 1.0, 0.0, 1.0, 2.0, 0.0, 2.0, 0.0, 1.0, 1.0, 0.0, 0.0, 1.0, 0.0, 1.0, 0.0, 1.0, 2.0, 0.0, 1.0, 0.0, 1.0, 1.0, 0.0, 1.0, 0.0, 0.0, 1.0, 1.0, 0.0, 1.0, 0.0, 1.0, 0.0, 0.0, 2.0, 2.0, 1.0, 1.0, 0.0, 1.0, 1.0, 0.0, 0.0, 0.0, 1.0, 1.0, 0.0, 1.0, 0.0, 2.0, 1.0, 1.0, 1.0, 2.0, 1.0, 1.0, 1.0, 1.0, 0.0, 0.0, 0.0, 1.0, 1.0, 0.0, 1.0, 0.0, 1.0, 1.0, 0.0, 1.0, 1.0, 1.0, 0.0, 0.0, 0.0, 0.0, 0.0, 1.0, 0.0, 1.0, 1.0, 0.0, 0.0, 0.0, 0.0, 0.0, 0.0, 2.0, 1.0, 0.0, 1.0, 2.0, 0.0, 0.0, 0.0, 1.0, 1.0, 1.0, 1.0, 0.0, 1.0, 0.0, 0.0, 1.0, 2.0, 0.0, 0.0, 0.0, 1.0, 1.0, 0.0, 0.0, 1.0, 1.0, 1.0, 1.0, 0.0, 1.0, 1.0, 0.0, 2.0, 0.0, 2.0, 0.0, 2.0, 1.0, 2.0, 0.0, 1.0, 0.0, 0.0, 1.0, 0.0, 0.0, 0.0, 1.0, 0.0, 1.0, 0.0, 1.0, 0.0, 0.0, 0.0, 0.0, 1.0, 2.0, 1.0, 1.0, 0.0, 0.0, 0.0, 1.0, 2.0, 0.0, 2.0, 1.0, 0.0, 0.0, 0.0, 1.0, 0.0, 0.0, 0.0, 0.0, 0.0, 1.0, 0.0, 0.0, 0.0, 0.0, 2.0, 1.0, 0.0, 0.0, 1.0, 2.0, 0.0, 0.0, 1.0, 0.0, 0.0, 0.0, 0.0, 0.0, 1.0, 1.0, 0.0, 0.0, 0.0, 1.0, 0.0, 0.0, 1.0, 0.0, 2.0, 1.0, 1.0, 1.0, 0.0, 0.0, 1.0, 0.0, 1.0, 1.0, 0.0, 1.0, 2.0, 0.0, 0.0, 0.0, 1.0, 1.0, 1.0, 0.0, 2.0, 1.0, 1.0, 2.0, 0.0, 1.0, 0.0, 1.0, 0.0, 0.0, 1.0, 0.0, 1.0, 1.0, 1.0, 1.0, 1.0, 0.0, 1.0, 0.0, 1.0, 0.0, 1.0, 1.0, 1.0, 1.0, 1.0, 1.0, 2.0, 2.0, 0.0, 2.0, 1.0, 0.0, 0.0, 1.0, 0.0, 0.0, 0.0, 0.0, 0.0, 0.0, 1.0, 1.0, 0.0, 1.0, 1.0, 1.0, 0.0, 0.0, 0.0, 1.0, 2.0, 0.0, 0.0, 1.0, 1.0, 0.0, 0.0, 1.0, 1.0, 1.0, 1.0, 0.0, 0.0, 1.0, 0.0, 0.0, 0.0, 1.0, 2.0, 1.0, 1.0, 2.0, 1.0, 0.0, 2.0, 0.0, 1.0, 1.0, 0.0, 0.0, 1.0, 0.0, 1.0, 0.0, 2.0, 2.0, 2.0, 0.0, 0.0, 2.0, 1.0, 1.0, 0.0, 0.0, 2.0, 0.0, 0.0, 0.0, 0.0, 1.0, 1.0, 0.0, 0.0, 0.0, 0.0, 0.0, 1.0, 0.0, 0.0, 1.0, 0.0, 0.0, 0.0, 1.0, 2.0, 1.0, 1.0, 0.0, 1.0, 0.0, 0.0, 0.0, 0.0, 1.0, 1.0, 0.0, 0.0, 1.0, 0.0, 0.0, 0.0, 1.0, 0.0, 1.0, 1.0, 0.0, 1.0, 0.0, 0.0, 1.0, 0.0, 1.0, 1.0, 1.0, 1.0, 1.0, 1.0, 0.0, 1.0, 0.0, 2.0, 1.0, 0.0, 1.0, 0.0, 1.0, 1.0, 0.0, 1.0, 1.0, 2.0, 0.0, 0.0, 0.0, 1.0, 0.0, 1.0, 0.0, 2.0, 1.0, 0.0, 2.0, 0.0, 1.0, 1.0, 0.0, 1.0, 0.0, 0.0, 0.0, 1.0, 1.0, 0.0, 1.0, 2.0, 0.0, 0.0, 0.0, 0.0, 1.0, 0.0, 0.0, 1.0, 0.0, 1.0, 2.0, 0.0, 1.0, 0.0, 2.0, 0.0, 2.0, 0.0, 1.0, 1.0, 0.0, 0.0, 0.0, 0.0, 0.0, 1.0, 0.0, 0.0, 1.0, 1.0, 0.0, 0.0, 1.0, 2.0, 0.0, 0.0, 1.0, 0.0, 0.0, 1.0, 0.0, 0.0, 0.0, 1.0, 0.0, 0.0, 1.0, 1.0, 0.0, 1.0, 1.0, 0.0, 2.0, 0.0, 0.0, 0.0, 1.0, 1.0, 1.0, 0.0, 1.0, 1.0, 1.0, 0.0, 1.0, 0.0, 0.0, 1.0, 1.0, 0.0, 0.0, 1.0, 0.0, 0.0, 0.0, 0.0, 0.0, 0.0, 1.0, 1.0, 0.0, 2.0, 0.0, 0.0, 0.0, 0.0, 1.0, 0.0, 0.0, 1.0, 2.0, 0.0, 0.0, 0.0, 1.0, 0.0, 1.0, 1.0, 1.0, 0.0, 1.0, 0.0, 0.0, 1.0, 1.0, 1.0, 0.0, 0.0, 0.0, 0.0, 1.0, 1.0, 1.0, 0.0, 0.0, 1.0, 0.0, 1.0, 0.0, 0.0, 0.0, 1.0, 0.0, 0.0, 1.0, 1.0, 0.0, 0.0, 0.0, 0.0, 0.0, 0.0, 0.0, 0.0, 1.0, 0.0, 2.0, 0.0, 0.0, 0.0, 0.0, 1.0, 1.0, 0.0, 0.0, 0.0, 0.0, 0.0, 1.0, 2.0, 1.0, 2.0, 1.0, 1.0, 0.0, 1.0, 1.0, 0.0, 2.0, 0.0, 2.0, 2.0, 0.0, 0.0, 2.0, 1.0, 0.0, 0.0, 1.0, 1.0, 1.0, 0.0, 1.0, 0.0, 1.0, 0.0, 0.0, 1.0, 0.0, 2.0, 2.0, 0.0, 1.0, 0.0, 0.0, 2.0, 0.0, 2.0, 1.0, 0.0, 0.0, 0.0, 0.0, 0.0, 0.0, 0.0, 1.0, 2.0, 0.0, 1.0, 2.0, 0.0, 0.0, 1.0, 1.0, 0.0, 2.0, 2.0, 1.0, 1.0, 1.0, 0.0, 1.0, 0.0, 0.0, 0.0, 0.0, 0.0, 0.0, 1.0, 0.0, 1.0, 0.0, 0.0, 1.0, 0.0, 0.0, 0.0, 2.0, 0.0, 0.0, 2.0, 1.0, 2.0, 0.0, 1.0, 0.0, 0.0, 0.0, 0.0, 0.0, 2.0, 0.0, 0.0, 0.0, 0.0, 1.0, 1.0, 1.0, 1.0, 1.0, 0.0, 0.0, 2.0, 1.0, 0.0, 1.0, 1.0, 0.0, 0.0, 0.0, 0.0, 1.0, 1.0, 1.0, 0.0, 0.0, 0.0, 0.0, 0.0, 0.0, 0.0, 1.0, 1.0, 0.0, 0.0, 0.0, 0.0, 0.0, 0.0, 0.0, 2.0, 0.0, 0.0, 1.0, 0.0, 0.0, 0.0, 0.0, 0.0, 1.0, 0.0, 0.0, 1.0, 0.0, 0.0, 1.0, 0.0, 0.0, 1.0, 0.0, 0.0, 1.0, 1.0, 0.0, 1.0, 2.0, 0.0, 2.0, 0.0, 1.0, 0.0, 0.0, 0.0, 0.0, 0.0, 1.0, 1.0, 0.0, 0.0, 0.0, 0.0, 0.0, 0.0, 0.0, 0.0, 0.0, 2.0, 0.0, 0.0, 0.0, 0.0, 0.0, 0.0, 0.0, 0.0, 0.0, 0.0, 2.0, 2.0, 1.0, 1.0, 1.0, 1.0, 1.0, 0.0, 1.0, 1.0, 0.0, 1.0, 1.0, 0.0, 0.0, 2.0, 1.0, 1.0, 1.0, 0.0, 0.0, 0.0, 1.0, 1.0, 1.0, 0.0, 1.0, 0.0, 0.0, 0.0, 2.0, 1.0, 0.0, 1.0, 0.0, 0.0, 1.0, 1.0, 1.0, 0.0, 0.0, 1.0, 1.0, 1.0, 0.0, 1.0, 0.0, 1.0, 0.0, 2.0, 1.0, 0.0, 1.0, 0.0, 2.0, 1.0, 1.0, 0.0, 0.0, 0.0, 1.0, 2.0, 1.0, 1.0, 1.0, 1.0, 1.0, 1.0, 0.0, 1.0, 1.0, 0.0, 0.0, 1.0, 0.0, 0.0, 0.0, 1.0, 1.0, 0.0, 0.0, 0.0, 1.0, 1.0, 0.0, 2.0, 0.0, 1.0, 0.0, 1.0, 0.0, 0.0, 0.0, 0.0, 1.0, 1.0, 1.0, 0.0, 1.0, 1.0, 0.0, 1.0, 0.0, 0.0, 0.0, 1.0, 0.0, 0.0, 1.0, 1.0, 1.0, 1.0, 0.0, 0.0, 0.0, 0.0, 1.0, 0.0, 0.0, 0.0, 1.0, 0.0, 0.0, 1.0, 1.0, 1.0, 1.0, 2.0, 0.0, 2.0, 0.0, 0.0, 0.0, 0.0, 2.0, 0.0, 1.0, 0.0, 1.0, 1.0, 0.0, 1.0, 0.0, 0.0, 1.0, 0.0, 1.0, 0.0, 1.0, 0.0, 0.0, 0.0, 1.0, 0.0, 0.0, 1.0, 0.0, 1.0, 1.0, 1.0, 0.0, 0.0, 0.0, 1.0, 1.0, 1.0, 1.0, 1.0, 0.0, 2.0, 0.0, 0.0, 1.0, 0.0, 0.0, 0.0, 1.0, 0.0, 0.0, 1.0, 0.0, 0.0, 0.0, 1.0, 1.0, 0.0, 0.0, 1.0, 0.0, 0.0, 0.0, 0.0, 1.0, 1.0, 1.0, 0.0, 0.0, 0.0, 2.0, 0.0, 0.0, 1.0, 0.0, 0.0, 1.0, 1.0, 0.0, 0.0, 1.0, 0.0, 1.0, 0.0, 0.0, 0.0, 1.0, 1.0, 2.0, 1.0, 0.0, 1.0, 0.0, 0.0, 0.0, 1.0, 0.0, 1.0, 2.0, 2.0, 1.0, 2.0, 1.0, 1.0, 0.0, 0.0, 0.0, 0.0, 0.0, 1.0, 0.0, 0.0, 0.0, 0.0, 0.0, 1.0, 2.0, 1.0, 1.0, 1.0, 1.0, 0.0, 0.0, 0.0, 1.0, 0.0, 1.0, 0.0, 1.0, 1.0, 0.0, 0.0, 1.0, 0.0, 0.0, 1.0, 0.0, 1.0, 0.0, 2.0, 2.0, 0.0, 1.0, 0.0, 0.0, 1.0, 0.0, 0.0, 2.0, 0.0, 2.0, 2.0, 1.0, 0.0, 0.0, 0.0, 0.0, 1.0, 1.0, 0.0, 0.0, 0.0, 1.0, 1.0, 1.0, 1.0, 1.0, 0.0, 0.0, 0.0, 0.0, 1.0, 1.0, 1.0, 1.0, 0.0, 1.0, 1.0, 2.0, 2.0, 0.0, 0.0, 2.0, 0.0, 0.0, 0.0, 0.0, 0.0, 1.0, 1.0, 0.0, 0.0, 1.0, 0.0, 1.0, 0.0, 1.0, 0.0, 0.0, 0.0, 1.0, 1.0, 1.0, 0.0, 0.0, 0.0, 0.0, 0.0, 1.0, 0.0, 0.0, 1.0, 1.0, 0.0, 0.0, 0.0, 0.0, 1.0, 1.0, 0.0, 0.0, 1.0, 0.0, 0.0, 0.0, 1.0, 0.0, 0.0, 1.0, 1.0, 1.0, 0.0, 0.0, 0.0, 1.0, 0.0, 0.0, 1.0, 1.0, 0.0, 1.0, 1.0, 1.0, 1.0, 0.0, 1.0, 1.0, 0.0, 0.0, 1.0, 0.0, 0.0, 1.0, 1.0, 0.0, 1.0, 1.0, 1.0, 0.0, 0.0, 0.0, 1.0, 0.0, 0.0, 0.0, 1.0, 0.0, 1.0, 1.0, 0.0, 2.0, 0.0, 1.0, 0.0, 2.0, 0.0, 0.0, 1.0, 0.0, 2.0, 0.0, 1.0, 1.0, 1.0, 2.0, 0.0, 0.0, 1.0, 0.0, 1.0, 0.0, 0.0, 1.0, 2.0, 2.0, 0.0, 0.0, 0.0, 2.0, 0.0, 1.0, 0.0, 1.0, 0.0, 0.0, 1.0, 1.0, 1.0, 1.0, 1.0, 0.0, 0.0, 1.0, 0.0, 0.0, 0.0, 2.0, 1.0, 0.0, 1.0, 2.0, 0.0, 2.0, 1.0, 0.0, 0.0, 1.0, 1.0, 1.0, 0.0, 0.0, 1.0, 0.0, 0.0, 1.0, 1.0, 0.0, 0.0, 0.0, 1.0, 1.0, 1.0, 2.0, 1.0, 2.0, 0.0, 0.0, 0.0, 0.0, 0.0, 1.0, 2.0, 1.0, 1.0, 0.0, 2.0, 1.0, 1.0, 1.0, 0.0, 1.0, 0.0, 0.0, 1.0, 0.0, 1.0, 1.0, 0.0, 0.0, 2.0, 0.0, 0.0, 1.0, 0.0, 1.0, 1.0, 1.0, 0.0, 0.0, 1.0, 0.0, 1.0, 1.0, 1.0, 1.0, 0.0, 1.0, 2.0, 0.0, 1.0, 2.0, 0.0, 0.0, 0.0, 1.0, 1.0, 1.0, 2.0, 2.0, 1.0, 0.0, 0.0, 0.0, 0.0, 0.0, 1.0, 0.0, 0.0, 0.0, 0.0, 0.0, 2.0, 0.0, 0.0, 0.0, 0.0, 0.0, 0.0, 0.0, 2.0, 0.0, 2.0, 2.0, 0.0, 2.0, 2.0, 1.0, 0.0, 0.0, 0.0, 0.0, 0.0, 0.0, 0.0, 0.0, 1.0, 0.0, 1.0, 1.0, 1.0, 0.0, 2.0, 1.0, 1.0, 0.0, 0.0, 0.0, 0.0, 0.0, 0.0, 0.0, 0.0, 1.0, 1.0, 0.0, 0.0, 0.0, 2.0, 0.0, 2.0, 1.0, 0.0, 1.0, 0.0, 1.0, 1.0, 1.0, 0.0, 1.0, 1.0, 1.0, 0.0, 0.0, 0.0, 0.0, 0.0, 2.0, 1.0, 1.0, 0.0, 0.0, 1.0, 0.0, 0.0, 0.0, 1.0, 1.0, 1.0, 0.0, 1.0, 0.0, 1.0, 1.0, 0.0, 1.0, 0.0, 0.0, 1.0, 1.0, 0.0, 1.0, 1.0, 1.0, 0.0, 0.0, 0.0, 0.0, 1.0, 1.0, 1.0, 1.0, 0.0, 0.0, 0.0, 0.0, 0.0, 2.0, 2.0, 0.0, 1.0, 0.0, 2.0, 2.0, 0.0, 1.0, 0.0, 2.0, 0.0, 0.0, 0.0, 2.0, 0.0, 2.0, 1.0, 1.0, 0.0, 0.0, 1.0, 1.0, 0.0, 1.0, 1.0, 0.0, 0.0, 0.0, 0.0, 1.0, 0.0, 2.0, 1.0, 2.0, 1.0, 0.0, 0.0, 2.0, 1.0, 0.0, 1.0, 0.0, 0.0, 0.0, 0.0, 0.0, 0.0, 0.0, 0.0, 0.0, 2.0, 2.0, 0.0, 0.0, 0.0, 0.0, 0.0, 1.0, 0.0, 0.0, 0.0, 0.0, 0.0, 0.0, 1.0, 0.0, 1.0, 0.0, 0.0, 1.0, 0.0, 0.0, 1.0, 2.0, 2.0, 0.0, 1.0, 2.0, 1.0, 1.0, 2.0, 2.0, 1.0, 1.0, 0.0, 0.0, 0.0, 1.0, 0.0, 0.0, 0.0, 1.0, 1.0, 1.0, 1.0, 0.0, 1.0, 0.0, 0.0, 2.0, 2.0, 0.0, 0.0, 0.0, 0.0, 0.0, 0.0, 1.0, 1.0, 1.0, 0.0, 0.0, 1.0, 0.0, 0.0, 0.0, 1.0, 1.0, 0.0, 1.0, 0.0, 0.0, 0.0, 1.0, 0.0, 0.0, 0.0, 2.0, 0.0, 0.0, 1.0, 0.0, 1.0, 1.0, 0.0, 0.0, 1.0, 0.0, 0.0, 1.0, 0.0, 1.0, 1.0, 0.0]}, \"mode\": \"markers\", \"text\": [1.0, 0.0, 1.0, 0.0, 1.0, 1.0, 1.0, 0.0, 0.0, 0.0, 0.0, 1.0, 0.0, 0.0, 2.0, 0.0, 1.0, 1.0, 0.0, 0.0, 1.0, 1.0, 1.0, 1.0, 0.0, 0.0, 0.0, 1.0, 0.0, 0.0, 0.0, 0.0, 1.0, 0.0, 1.0, 0.0, 0.0, 2.0, 1.0, 0.0, 0.0, 0.0, 1.0, 0.0, 0.0, 1.0, 1.0, 1.0, 0.0, 2.0, 0.0, 2.0, 1.0, 0.0, 1.0, 2.0, 1.0, 1.0, 1.0, 1.0, 0.0, 0.0, 2.0, 1.0, 1.0, 1.0, 1.0, 1.0, 0.0, 0.0, 1.0, 2.0, 0.0, 2.0, 0.0, 0.0, 0.0, 0.0, 1.0, 0.0, 0.0, 2.0, 1.0, 0.0, 0.0, 0.0, 0.0, 1.0, 0.0, 1.0, 1.0, 0.0, 0.0, 1.0, 1.0, 1.0, 0.0, 0.0, 1.0, 0.0, 1.0, 1.0, 2.0, 1.0, 2.0, 1.0, 0.0, 2.0, 0.0, 0.0, 0.0, 1.0, 0.0, 0.0, 0.0, 2.0, 1.0, 1.0, 0.0, 1.0, 1.0, 1.0, 1.0, 0.0, 1.0, 0.0, 0.0, 0.0, 0.0, 1.0, 1.0, 1.0, 1.0, 0.0, 0.0, 0.0, 0.0, 0.0, 0.0, 0.0, 1.0, 0.0, 0.0, 1.0, 2.0, 0.0, 0.0, 0.0, 1.0, 0.0, 1.0, 0.0, 1.0, 1.0, 0.0, 1.0, 1.0, 1.0, 0.0, 0.0, 0.0, 0.0, 0.0, 0.0, 1.0, 2.0, 0.0, 0.0, 1.0, 0.0, 0.0, 1.0, 0.0, 0.0, 0.0, 0.0, 1.0, 1.0, 0.0, 0.0, 1.0, 0.0, 0.0, 0.0, 1.0, 1.0, 1.0, 0.0, 1.0, 1.0, 1.0, 2.0, 0.0, 0.0, 0.0, 0.0, 0.0, 2.0, 0.0, 1.0, 0.0, 0.0, 1.0, 0.0, 0.0, 2.0, 0.0, 1.0, 0.0, 1.0, 1.0, 0.0, 1.0, 0.0, 0.0, 1.0, 1.0, 0.0, 0.0, 1.0, 0.0, 0.0, 1.0, 0.0, 0.0, 1.0, 0.0, 1.0, 1.0, 0.0, 2.0, 1.0, 0.0, 2.0, 1.0, 1.0, 1.0, 0.0, 0.0, 2.0, 0.0, 1.0, 0.0, 1.0, 0.0, 0.0, 0.0, 0.0, 1.0, 0.0, 0.0, 0.0, 0.0, 1.0, 0.0, 1.0, 0.0, 1.0, 0.0, 0.0, 0.0, 0.0, 1.0, 1.0, 1.0, 2.0, 1.0, 0.0, 0.0, 1.0, 1.0, 0.0, 0.0, 1.0, 1.0, 1.0, 1.0, 0.0, 0.0, 1.0, 0.0, 0.0, 2.0, 0.0, 0.0, 1.0, 1.0, 0.0, 1.0, 0.0, 0.0, 0.0, 1.0, 0.0, 1.0, 1.0, 0.0, 0.0, 0.0, 1.0, 0.0, 0.0, 0.0, 0.0, 0.0, 1.0, 0.0, 0.0, 1.0, 1.0, 1.0, 0.0, 0.0, 0.0, 0.0, 0.0, 0.0, 1.0, 0.0, 0.0, 1.0, 2.0, 0.0, 2.0, 1.0, 0.0, 2.0, 1.0, 0.0, 1.0, 0.0, 1.0, 0.0, 0.0, 1.0, 2.0, 1.0, 1.0, 1.0, 0.0, 0.0, 1.0, 1.0, 0.0, 1.0, 1.0, 0.0, 0.0, 0.0, 1.0, 1.0, 0.0, 1.0, 1.0, 0.0, 0.0, 0.0, 1.0, 0.0, 0.0, 0.0, 0.0, 1.0, 0.0, 0.0, 0.0, 0.0, 0.0, 0.0, 0.0, 2.0, 1.0, 0.0, 1.0, 1.0, 0.0, 1.0, 1.0, 1.0, 1.0, 0.0, 0.0, 0.0, 0.0, 0.0, 1.0, 0.0, 0.0, 0.0, 0.0, 0.0, 0.0, 0.0, 0.0, 0.0, 1.0, 1.0, 0.0, 1.0, 1.0, 0.0, 2.0, 2.0, 1.0, 0.0, 0.0, 0.0, 2.0, 1.0, 0.0, 2.0, 2.0, 0.0, 1.0, 2.0, 0.0, 1.0, 1.0, 0.0, 0.0, 1.0, 1.0, 0.0, 0.0, 0.0, 0.0, 0.0, 0.0, 0.0, 0.0, 0.0, 2.0, 0.0, 1.0, 1.0, 1.0, 0.0, 0.0, 1.0, 0.0, 2.0, 0.0, 0.0, 1.0, 2.0, 1.0, 0.0, 1.0, 0.0, 1.0, 2.0, 0.0, 0.0, 1.0, 1.0, 0.0, 2.0, 0.0, 0.0, 1.0, 0.0, 0.0, 1.0, 0.0, 0.0, 0.0, 0.0, 0.0, 1.0, 1.0, 1.0, 1.0, 0.0, 0.0, 1.0, 0.0, 1.0, 1.0, 1.0, 1.0, 0.0, 1.0, 1.0, 1.0, 0.0, 0.0, 0.0, 1.0, 0.0, 1.0, 1.0, 1.0, 0.0, 1.0, 0.0, 1.0, 0.0, 1.0, 1.0, 1.0, 0.0, 0.0, 1.0, 2.0, 0.0, 1.0, 0.0, 2.0, 0.0, 0.0, 1.0, 1.0, 1.0, 0.0, 1.0, 1.0, 0.0, 0.0, 0.0, 0.0, 0.0, 2.0, 0.0, 0.0, 0.0, 0.0, 0.0, 2.0, 1.0, 0.0, 1.0, 0.0, 0.0, 0.0, 0.0, 0.0, 1.0, 0.0, 1.0, 0.0, 1.0, 1.0, 0.0, 2.0, 0.0, 1.0, 1.0, 1.0, 0.0, 0.0, 1.0, 0.0, 0.0, 0.0, 0.0, 0.0, 0.0, 0.0, 0.0, 2.0, 0.0, 0.0, 0.0, 0.0, 0.0, 1.0, 0.0, 0.0, 0.0, 0.0, 2.0, 1.0, 1.0, 0.0, 0.0, 2.0, 1.0, 0.0, 1.0, 0.0, 0.0, 0.0, 0.0, 0.0, 0.0, 1.0, 1.0, 1.0, 0.0, 0.0, 0.0, 0.0, 0.0, 1.0, 0.0, 1.0, 0.0, 0.0, 1.0, 0.0, 0.0, 1.0, 0.0, 0.0, 1.0, 0.0, 2.0, 0.0, 1.0, 0.0, 1.0, 1.0, 0.0, 0.0, 1.0, 1.0, 1.0, 0.0, 1.0, 0.0, 1.0, 0.0, 1.0, 1.0, 1.0, 1.0, 1.0, 0.0, 2.0, 0.0, 2.0, 0.0, 1.0, 1.0, 1.0, 0.0, 1.0, 0.0, 0.0, 1.0, 0.0, 0.0, 1.0, 0.0, 1.0, 0.0, 1.0, 0.0, 0.0, 0.0, 0.0, 0.0, 0.0, 0.0, 1.0, 1.0, 1.0, 1.0, 1.0, 0.0, 2.0, 1.0, 0.0, 1.0, 1.0, 1.0, 0.0, 0.0, 1.0, 1.0, 1.0, 1.0, 2.0, 1.0, 2.0, 1.0, 0.0, 0.0, 0.0, 0.0, 0.0, 0.0, 1.0, 1.0, 1.0, 0.0, 1.0, 2.0, 0.0, 2.0, 0.0, 1.0, 1.0, 0.0, 0.0, 1.0, 0.0, 1.0, 0.0, 1.0, 2.0, 0.0, 1.0, 0.0, 1.0, 1.0, 0.0, 1.0, 0.0, 0.0, 1.0, 1.0, 0.0, 1.0, 0.0, 1.0, 0.0, 0.0, 2.0, 2.0, 1.0, 1.0, 0.0, 1.0, 1.0, 0.0, 0.0, 0.0, 1.0, 1.0, 0.0, 1.0, 0.0, 2.0, 1.0, 1.0, 1.0, 2.0, 1.0, 1.0, 1.0, 1.0, 0.0, 0.0, 0.0, 1.0, 1.0, 0.0, 1.0, 0.0, 1.0, 1.0, 0.0, 1.0, 1.0, 1.0, 0.0, 0.0, 0.0, 0.0, 0.0, 1.0, 0.0, 1.0, 1.0, 0.0, 0.0, 0.0, 0.0, 0.0, 0.0, 2.0, 1.0, 0.0, 1.0, 2.0, 0.0, 0.0, 0.0, 1.0, 1.0, 1.0, 1.0, 0.0, 1.0, 0.0, 0.0, 1.0, 2.0, 0.0, 0.0, 0.0, 1.0, 1.0, 0.0, 0.0, 1.0, 1.0, 1.0, 1.0, 0.0, 1.0, 1.0, 0.0, 2.0, 0.0, 2.0, 0.0, 2.0, 1.0, 2.0, 0.0, 1.0, 0.0, 0.0, 1.0, 0.0, 0.0, 0.0, 1.0, 0.0, 1.0, 0.0, 1.0, 0.0, 0.0, 0.0, 0.0, 1.0, 2.0, 1.0, 1.0, 0.0, 0.0, 0.0, 1.0, 2.0, 0.0, 2.0, 1.0, 0.0, 0.0, 0.0, 1.0, 0.0, 0.0, 0.0, 0.0, 0.0, 1.0, 0.0, 0.0, 0.0, 0.0, 2.0, 1.0, 0.0, 0.0, 1.0, 2.0, 0.0, 0.0, 1.0, 0.0, 0.0, 0.0, 0.0, 0.0, 1.0, 1.0, 0.0, 0.0, 0.0, 1.0, 0.0, 0.0, 1.0, 0.0, 2.0, 1.0, 1.0, 1.0, 0.0, 0.0, 1.0, 0.0, 1.0, 1.0, 0.0, 1.0, 2.0, 0.0, 0.0, 0.0, 1.0, 1.0, 1.0, 0.0, 2.0, 1.0, 1.0, 2.0, 0.0, 1.0, 0.0, 1.0, 0.0, 0.0, 1.0, 0.0, 1.0, 1.0, 1.0, 1.0, 1.0, 0.0, 1.0, 0.0, 1.0, 0.0, 1.0, 1.0, 1.0, 1.0, 1.0, 1.0, 2.0, 2.0, 0.0, 2.0, 1.0, 0.0, 0.0, 1.0, 0.0, 0.0, 0.0, 0.0, 0.0, 0.0, 1.0, 1.0, 0.0, 1.0, 1.0, 1.0, 0.0, 0.0, 0.0, 1.0, 2.0, 0.0, 0.0, 1.0, 1.0, 0.0, 0.0, 1.0, 1.0, 1.0, 1.0, 0.0, 0.0, 1.0, 0.0, 0.0, 0.0, 1.0, 2.0, 1.0, 1.0, 2.0, 1.0, 0.0, 2.0, 0.0, 1.0, 1.0, 0.0, 0.0, 1.0, 0.0, 1.0, 0.0, 2.0, 2.0, 2.0, 0.0, 0.0, 2.0, 1.0, 1.0, 0.0, 0.0, 2.0, 0.0, 0.0, 0.0, 0.0, 1.0, 1.0, 0.0, 0.0, 0.0, 0.0, 0.0, 1.0, 0.0, 0.0, 1.0, 0.0, 0.0, 0.0, 1.0, 2.0, 1.0, 1.0, 0.0, 1.0, 0.0, 0.0, 0.0, 0.0, 1.0, 1.0, 0.0, 0.0, 1.0, 0.0, 0.0, 0.0, 1.0, 0.0, 1.0, 1.0, 0.0, 1.0, 0.0, 0.0, 1.0, 0.0, 1.0, 1.0, 1.0, 1.0, 1.0, 1.0, 0.0, 1.0, 0.0, 2.0, 1.0, 0.0, 1.0, 0.0, 1.0, 1.0, 0.0, 1.0, 1.0, 2.0, 0.0, 0.0, 0.0, 1.0, 0.0, 1.0, 0.0, 2.0, 1.0, 0.0, 2.0, 0.0, 1.0, 1.0, 0.0, 1.0, 0.0, 0.0, 0.0, 1.0, 1.0, 0.0, 1.0, 2.0, 0.0, 0.0, 0.0, 0.0, 1.0, 0.0, 0.0, 1.0, 0.0, 1.0, 2.0, 0.0, 1.0, 0.0, 2.0, 0.0, 2.0, 0.0, 1.0, 1.0, 0.0, 0.0, 0.0, 0.0, 0.0, 1.0, 0.0, 0.0, 1.0, 1.0, 0.0, 0.0, 1.0, 2.0, 0.0, 0.0, 1.0, 0.0, 0.0, 1.0, 0.0, 0.0, 0.0, 1.0, 0.0, 0.0, 1.0, 1.0, 0.0, 1.0, 1.0, 0.0, 2.0, 0.0, 0.0, 0.0, 1.0, 1.0, 1.0, 0.0, 1.0, 1.0, 1.0, 0.0, 1.0, 0.0, 0.0, 1.0, 1.0, 0.0, 0.0, 1.0, 0.0, 0.0, 0.0, 0.0, 0.0, 0.0, 1.0, 1.0, 0.0, 2.0, 0.0, 0.0, 0.0, 0.0, 1.0, 0.0, 0.0, 1.0, 2.0, 0.0, 0.0, 0.0, 1.0, 0.0, 1.0, 1.0, 1.0, 0.0, 1.0, 0.0, 0.0, 1.0, 1.0, 1.0, 0.0, 0.0, 0.0, 0.0, 1.0, 1.0, 1.0, 0.0, 0.0, 1.0, 0.0, 1.0, 0.0, 0.0, 0.0, 1.0, 0.0, 0.0, 1.0, 1.0, 0.0, 0.0, 0.0, 0.0, 0.0, 0.0, 0.0, 0.0, 1.0, 0.0, 2.0, 0.0, 0.0, 0.0, 0.0, 1.0, 1.0, 0.0, 0.0, 0.0, 0.0, 0.0, 1.0, 2.0, 1.0, 2.0, 1.0, 1.0, 0.0, 1.0, 1.0, 0.0, 2.0, 0.0, 2.0, 2.0, 0.0, 0.0, 2.0, 1.0, 0.0, 0.0, 1.0, 1.0, 1.0, 0.0, 1.0, 0.0, 1.0, 0.0, 0.0, 1.0, 0.0, 2.0, 2.0, 0.0, 1.0, 0.0, 0.0, 2.0, 0.0, 2.0, 1.0, 0.0, 0.0, 0.0, 0.0, 0.0, 0.0, 0.0, 1.0, 2.0, 0.0, 1.0, 2.0, 0.0, 0.0, 1.0, 1.0, 0.0, 2.0, 2.0, 1.0, 1.0, 1.0, 0.0, 1.0, 0.0, 0.0, 0.0, 0.0, 0.0, 0.0, 1.0, 0.0, 1.0, 0.0, 0.0, 1.0, 0.0, 0.0, 0.0, 2.0, 0.0, 0.0, 2.0, 1.0, 2.0, 0.0, 1.0, 0.0, 0.0, 0.0, 0.0, 0.0, 2.0, 0.0, 0.0, 0.0, 0.0, 1.0, 1.0, 1.0, 1.0, 1.0, 0.0, 0.0, 2.0, 1.0, 0.0, 1.0, 1.0, 0.0, 0.0, 0.0, 0.0, 1.0, 1.0, 1.0, 0.0, 0.0, 0.0, 0.0, 0.0, 0.0, 0.0, 1.0, 1.0, 0.0, 0.0, 0.0, 0.0, 0.0, 0.0, 0.0, 2.0, 0.0, 0.0, 1.0, 0.0, 0.0, 0.0, 0.0, 0.0, 1.0, 0.0, 0.0, 1.0, 0.0, 0.0, 1.0, 0.0, 0.0, 1.0, 0.0, 0.0, 1.0, 1.0, 0.0, 1.0, 2.0, 0.0, 2.0, 0.0, 1.0, 0.0, 0.0, 0.0, 0.0, 0.0, 1.0, 1.0, 0.0, 0.0, 0.0, 0.0, 0.0, 0.0, 0.0, 0.0, 0.0, 2.0, 0.0, 0.0, 0.0, 0.0, 0.0, 0.0, 0.0, 0.0, 0.0, 0.0, 2.0, 2.0, 1.0, 1.0, 1.0, 1.0, 1.0, 0.0, 1.0, 1.0, 0.0, 1.0, 1.0, 0.0, 0.0, 2.0, 1.0, 1.0, 1.0, 0.0, 0.0, 0.0, 1.0, 1.0, 1.0, 0.0, 1.0, 0.0, 0.0, 0.0, 2.0, 1.0, 0.0, 1.0, 0.0, 0.0, 1.0, 1.0, 1.0, 0.0, 0.0, 1.0, 1.0, 1.0, 0.0, 1.0, 0.0, 1.0, 0.0, 2.0, 1.0, 0.0, 1.0, 0.0, 2.0, 1.0, 1.0, 0.0, 0.0, 0.0, 1.0, 2.0, 1.0, 1.0, 1.0, 1.0, 1.0, 1.0, 0.0, 1.0, 1.0, 0.0, 0.0, 1.0, 0.0, 0.0, 0.0, 1.0, 1.0, 0.0, 0.0, 0.0, 1.0, 1.0, 0.0, 2.0, 0.0, 1.0, 0.0, 1.0, 0.0, 0.0, 0.0, 0.0, 1.0, 1.0, 1.0, 0.0, 1.0, 1.0, 0.0, 1.0, 0.0, 0.0, 0.0, 1.0, 0.0, 0.0, 1.0, 1.0, 1.0, 1.0, 0.0, 0.0, 0.0, 0.0, 1.0, 0.0, 0.0, 0.0, 1.0, 0.0, 0.0, 1.0, 1.0, 1.0, 1.0, 2.0, 0.0, 2.0, 0.0, 0.0, 0.0, 0.0, 2.0, 0.0, 1.0, 0.0, 1.0, 1.0, 0.0, 1.0, 0.0, 0.0, 1.0, 0.0, 1.0, 0.0, 1.0, 0.0, 0.0, 0.0, 1.0, 0.0, 0.0, 1.0, 0.0, 1.0, 1.0, 1.0, 0.0, 0.0, 0.0, 1.0, 1.0, 1.0, 1.0, 1.0, 0.0, 2.0, 0.0, 0.0, 1.0, 0.0, 0.0, 0.0, 1.0, 0.0, 0.0, 1.0, 0.0, 0.0, 0.0, 1.0, 1.0, 0.0, 0.0, 1.0, 0.0, 0.0, 0.0, 0.0, 1.0, 1.0, 1.0, 0.0, 0.0, 0.0, 2.0, 0.0, 0.0, 1.0, 0.0, 0.0, 1.0, 1.0, 0.0, 0.0, 1.0, 0.0, 1.0, 0.0, 0.0, 0.0, 1.0, 1.0, 2.0, 1.0, 0.0, 1.0, 0.0, 0.0, 0.0, 1.0, 0.0, 1.0, 2.0, 2.0, 1.0, 2.0, 1.0, 1.0, 0.0, 0.0, 0.0, 0.0, 0.0, 1.0, 0.0, 0.0, 0.0, 0.0, 0.0, 1.0, 2.0, 1.0, 1.0, 1.0, 1.0, 0.0, 0.0, 0.0, 1.0, 0.0, 1.0, 0.0, 1.0, 1.0, 0.0, 0.0, 1.0, 0.0, 0.0, 1.0, 0.0, 1.0, 0.0, 2.0, 2.0, 0.0, 1.0, 0.0, 0.0, 1.0, 0.0, 0.0, 2.0, 0.0, 2.0, 2.0, 1.0, 0.0, 0.0, 0.0, 0.0, 1.0, 1.0, 0.0, 0.0, 0.0, 1.0, 1.0, 1.0, 1.0, 1.0, 0.0, 0.0, 0.0, 0.0, 1.0, 1.0, 1.0, 1.0, 0.0, 1.0, 1.0, 2.0, 2.0, 0.0, 0.0, 2.0, 0.0, 0.0, 0.0, 0.0, 0.0, 1.0, 1.0, 0.0, 0.0, 1.0, 0.0, 1.0, 0.0, 1.0, 0.0, 0.0, 0.0, 1.0, 1.0, 1.0, 0.0, 0.0, 0.0, 0.0, 0.0, 1.0, 0.0, 0.0, 1.0, 1.0, 0.0, 0.0, 0.0, 0.0, 1.0, 1.0, 0.0, 0.0, 1.0, 0.0, 0.0, 0.0, 1.0, 0.0, 0.0, 1.0, 1.0, 1.0, 0.0, 0.0, 0.0, 1.0, 0.0, 0.0, 1.0, 1.0, 0.0, 1.0, 1.0, 1.0, 1.0, 0.0, 1.0, 1.0, 0.0, 0.0, 1.0, 0.0, 0.0, 1.0, 1.0, 0.0, 1.0, 1.0, 1.0, 0.0, 0.0, 0.0, 1.0, 0.0, 0.0, 0.0, 1.0, 0.0, 1.0, 1.0, 0.0, 2.0, 0.0, 1.0, 0.0, 2.0, 0.0, 0.0, 1.0, 0.0, 2.0, 0.0, 1.0, 1.0, 1.0, 2.0, 0.0, 0.0, 1.0, 0.0, 1.0, 0.0, 0.0, 1.0, 2.0, 2.0, 0.0, 0.0, 0.0, 2.0, 0.0, 1.0, 0.0, 1.0, 0.0, 0.0, 1.0, 1.0, 1.0, 1.0, 1.0, 0.0, 0.0, 1.0, 0.0, 0.0, 0.0, 2.0, 1.0, 0.0, 1.0, 2.0, 0.0, 2.0, 1.0, 0.0, 0.0, 1.0, 1.0, 1.0, 0.0, 0.0, 1.0, 0.0, 0.0, 1.0, 1.0, 0.0, 0.0, 0.0, 1.0, 1.0, 1.0, 2.0, 1.0, 2.0, 0.0, 0.0, 0.0, 0.0, 0.0, 1.0, 2.0, 1.0, 1.0, 0.0, 2.0, 1.0, 1.0, 1.0, 0.0, 1.0, 0.0, 0.0, 1.0, 0.0, 1.0, 1.0, 0.0, 0.0, 2.0, 0.0, 0.0, 1.0, 0.0, 1.0, 1.0, 1.0, 0.0, 0.0, 1.0, 0.0, 1.0, 1.0, 1.0, 1.0, 0.0, 1.0, 2.0, 0.0, 1.0, 2.0, 0.0, 0.0, 0.0, 1.0, 1.0, 1.0, 2.0, 2.0, 1.0, 0.0, 0.0, 0.0, 0.0, 0.0, 1.0, 0.0, 0.0, 0.0, 0.0, 0.0, 2.0, 0.0, 0.0, 0.0, 0.0, 0.0, 0.0, 0.0, 2.0, 0.0, 2.0, 2.0, 0.0, 2.0, 2.0, 1.0, 0.0, 0.0, 0.0, 0.0, 0.0, 0.0, 0.0, 0.0, 1.0, 0.0, 1.0, 1.0, 1.0, 0.0, 2.0, 1.0, 1.0, 0.0, 0.0, 0.0, 0.0, 0.0, 0.0, 0.0, 0.0, 1.0, 1.0, 0.0, 0.0, 0.0, 2.0, 0.0, 2.0, 1.0, 0.0, 1.0, 0.0, 1.0, 1.0, 1.0, 0.0, 1.0, 1.0, 1.0, 0.0, 0.0, 0.0, 0.0, 0.0, 2.0, 1.0, 1.0, 0.0, 0.0, 1.0, 0.0, 0.0, 0.0, 1.0, 1.0, 1.0, 0.0, 1.0, 0.0, 1.0, 1.0, 0.0, 1.0, 0.0, 0.0, 1.0, 1.0, 0.0, 1.0, 1.0, 1.0, 0.0, 0.0, 0.0, 0.0, 1.0, 1.0, 1.0, 1.0, 0.0, 0.0, 0.0, 0.0, 0.0, 2.0, 2.0, 0.0, 1.0, 0.0, 2.0, 2.0, 0.0, 1.0, 0.0, 2.0, 0.0, 0.0, 0.0, 2.0, 0.0, 2.0, 1.0, 1.0, 0.0, 0.0, 1.0, 1.0, 0.0, 1.0, 1.0, 0.0, 0.0, 0.0, 0.0, 1.0, 0.0, 2.0, 1.0, 2.0, 1.0, 0.0, 0.0, 2.0, 1.0, 0.0, 1.0, 0.0, 0.0, 0.0, 0.0, 0.0, 0.0, 0.0, 0.0, 0.0, 2.0, 2.0, 0.0, 0.0, 0.0, 0.0, 0.0, 1.0, 0.0, 0.0, 0.0, 0.0, 0.0, 0.0, 1.0, 0.0, 1.0, 0.0, 0.0, 1.0, 0.0, 0.0, 1.0, 2.0, 2.0, 0.0, 1.0, 2.0, 1.0, 1.0, 2.0, 2.0, 1.0, 1.0, 0.0, 0.0, 0.0, 1.0, 0.0, 0.0, 0.0, 1.0, 1.0, 1.0, 1.0, 0.0, 1.0, 0.0, 0.0, 2.0, 2.0, 0.0, 0.0, 0.0, 0.0, 0.0, 0.0, 1.0, 1.0, 1.0, 0.0, 0.0, 1.0, 0.0, 0.0, 0.0, 1.0, 1.0, 0.0, 1.0, 0.0, 0.0, 0.0, 1.0, 0.0, 0.0, 0.0, 2.0, 0.0, 0.0, 1.0, 0.0, 1.0, 1.0, 0.0, 0.0, 1.0, 0.0, 0.0, 1.0, 0.0, 1.0, 1.0, 0.0], \"type\": \"scatter3d\", \"x\": [58138.0, 46344.0, 71613.0, 26646.0, 58293.0, 62513.0, 55635.0, 33454.0, 30351.0, 5648.0, 7500.0, 63033.0, 59354.0, 17323.0, 82800.0, 41850.0, 37760.0, 76995.0, 33812.0, 37040.0, 2447.0, 58607.0, 65324.0, 40689.0, 18589.0, 53359.0, 38360.0, 84618.0, 10979.0, 38620.0, 40548.0, 46610.0, 68657.0, 49389.0, 67353.0, 23718.0, 42429.0, 48948.0, 80011.0, 20559.0, 21994.0, 7500.0, 79941.0, 7500.0, 41728.0, 72550.0, 65486.0, 79143.0, 35790.0, 82582.0, 66373.0, 82384.0, 70287.0, 27938.0, 55954.0, 75777.0, 66653.0, 61823.0, 67680.0, 70666.0, 25721.0, 32474.0, 88194.0, 69096.0, 74854.0, 66991.0, 65031.0, 60631.0, 28332.0, 40246.0, 75251.0, 75825.0, 26326.0, 56046.0, 29760.0, 26304.0, 23559.0, 38620.0, 81361.0, 29440.0, 36138.0, 50388.0, 79593.0, 54178.0, 42394.0, 23626.0, 30096.0, 47916.0, 51813.0, 78497.0, 50150.0, 47823.0, 34554.0, 85693.0, 65846.0, 87195.0, 24594.0, 49096.0, 52413.0, 38557.0, 89058.0, 77298.0, 68126.0, 57288.0, 86037.0, 43974.0, 50785.0, 90765.0, 36550.0, 30753.0, 21918.0, 56129.0, 32557.0, 19510.0, 30992.0, 101970.0, 71488.0, 79607.0, 54348.0, 77376.0, 62998.0, 61331.0, 73448.0, 41551.0, 62981.0, 9548.0, 33762.0, 35860.0, 36921.0, 92859.0, 65104.0, 86111.0, 68352.0, 41883.0, 59809.0, 23957.0, 38547.0, 35688.0, 49605.0, 59354.0, 65747.0, 46344.0, 34176.0, 61010.0, 69372.0, 49967.0, 60199.0, 55375.0, 80317.0, 30523.0, 70356.0, 23228.0, 74165.0, 157243.0, 43482.0, 62551.0, 52332.0, 66951.0, 26091.0, 33456.0, 28718.0, 50447.0, 53537.0, 52074.0, 80427.0, 83837.0, 38853.0, 38285.0, 78497.0, 51650.0, 16248.0, 66835.0, 30477.0, 28249.0, 25271.0, 32303.0, 61286.0, 74068.0, 45759.0, 24882.0, 66973.0, 38872.0, 51148.0, 31353.0, 69661.0, 80067.0, 86718.0, 46854.0, 69142.0, 75922.0, 63693.0, 102160.0, 40637.0, 18890.0, 29604.0, 48721.0, 44794.0, 64497.0, 46097.0, 77972.0, 44377.0, 46014.0, 70951.0, 41443.0, 52195.0, 83790.0, 44551.0, 69508.0, 45204.0, 72460.0, 77622.0, 30732.0, 63887.0, 42011.0, 51369.0, 51537.0, 79930.0, 34320.0, 37070.0, 81975.0, 38590.0, 15033.0, 62745.0, 22212.0, 23661.0, 79761.0, 7500.0, 73455.0, 64961.0, 22804.0, 73687.0, 61074.0, 31686.0, 80134.0, 75027.0, 67546.0, 65176.0, 31160.0, 29938.0, 102692.0, 26490.0, 75702.0, 30899.0, 63342.0, 45989.0, 18701.0, 40737.0, 15287.0, 69674.0, 44159.0, 37717.0, 43776.0, 38179.0, 80124.0, 38097.0, 72940.0, 22070.0, 69267.0, 31788.0, 61905.0, 29315.0, 33378.0, 66313.0, 60714.0, 77882.0, 69867.0, 63841.0, 24480.0, 51369.0, 37760.0, 65640.0, 44319.0, 30631.0, 75278.0, 50898.0, 79946.0, 35416.0, 32414.0, 38361.0, 82497.0, 16626.0, 29672.0, 55951.0, 35388.0, 42386.0, 68627.0, 57912.0, 35246.0, 58821.0, 46377.0, 39747.0, 23976.0, 80950.0, 27038.0, 77457.0, 64100.0, 42670.0, 12571.0, 22574.0, 70893.0, 54198.0, 28839.0, 40321.0, 66503.0, 30833.0, 64795.0, 34421.0, 47025.0, 64325.0, 40464.0, 62187.0, 14849.0, 27255.0, 54432.0, 29999.0, 24072.0, 33996.0, 66334.0, 35178.0, 22010.0, 62204.0, 75693.0, 30675.0, 83003.0, 68655.0, 41411.0, 55212.0, 59292.0, 27190.0, 82623.0, 44300.0, 84835.0, 30372.0, 33181.0, 71113.0, 71952.0, 69759.0, 72099.0, 60000.0, 38643.0, 50737.0, 68462.0, 65073.0, 46681.0, 78618.0, 62187.0, 28442.0, 37717.0, 51479.0, 54803.0, 79530.0, 31615.0, 72025.0, 52614.0, 35684.0, 48178.0, 29548.0, 63810.0, 38578.0, 46098.0, 22585.0, 30279.0, 66426.0, 30822.0, 33581.0, 19986.0, 27421.0, 35688.0, 36143.0, 10245.0, 43795.0, 63381.0, 38823.0, 83664.0, 90300.0, 62499.0, 74293.0, 51012.0, 70777.0, 68682.0, 43824.0, 15345.0, 23442.0, 14515.0, 31395.0, 75276.0, 42373.0, 30507.0, 55521.0, 48006.0, 27213.0, 65808.0, 30351.0, 50437.0, 23616.0, 53858.0, 66465.0, 46923.0, 75072.0, 75865.0, 19789.0, 80134.0, 91065.0, 49505.0, 37401.0, 30096.0, 18492.0, 82584.0, 93027.0, 48686.0, 92910.0, 75433.0, 10404.0, 61314.0, 84865.0, 42387.0, 67309.0, 75236.0, 30015.0, 50943.0, 67272.0, 51529.0, 32011.0, 7500.0, 28691.0, 56223.0, 18100.0, 30279.0, 20130.0, 23295.0, 42618.0, 81246.0, 24027.0, 55707.0, 57959.0, 56796.0, 36230.0, 70829.0, 65991.0, 38988.0, 89572.0, 42207.0, 50300.0, 66664.0, 60597.0, 70165.0, 50520.0, 80124.0, 33183.0, 66582.0, 75261.0, 31880.0, 53790.0, 49269.0, 61456.0, 37406.0, 56937.0, 38415.0, 20518.0, 62503.0, 41644.0, 55842.0, 62010.0, 41124.0, 38961.0, 37760.0, 32233.0, 43057.0, 83151.0, 78825.0, 65104.0, 60093.0, 14045.0, 28457.0, 78952.0, 46310.0, 76005.0, 58308.0, 55614.0, 59432.0, 55563.0, 78642.0, 67911.0, 65275.0, 27203.0, 48330.0, 24279.0, 64355.0, 50943.0, 53653.0, 65665.0, 81217.0, 34935.0, 61250.0, 39665.0, 60152.0, 48920.0, 89120.0, 44124.0, 81169.0, 36443.0, 26095.0, 71367.0, 80184.0, 30630.0, 73454.0, 42691.0, 70503.0, 25545.0, 32880.0, 77863.0, 50353.0, 61839.0, 49154.0, 47682.0, 72679.0, 57954.0, 65316.0, 28567.0, 47352.0, 44931.0, 76982.0, 57247.0, 22944.0, 25315.0, 43638.0, 42710.0, 84169.0, 54058.0, 24683.0, 85620.0, 47850.0, 19514.0, 27159.0, 39548.0, 21474.0, 60504.0, 22419.0, 81698.0, 43462.0, 54880.0, 79908.0, 15315.0, 87771.0, 33039.0, 81741.0, 71499.0, 62466.0, 48799.0, 52157.0, 66565.0, 29298.0, 47691.0, 38200.0, 44989.0, 38443.0, 38593.0, 64413.0, 36959.0, 61996.0, 51287.0, 13260.0, 47472.0, 54603.0, 45207.0, 40689.0, 47821.0, 27450.0, 39453.0, 26850.0, 79800.0, 61794.0, 53863.0, 24221.0, 39684.0, 92163.0, 69882.0, 33178.0, 59973.0, 17459.0, 23910.0, 42169.0, 26224.0, 31089.0, 30081.0, 62807.0, 72906.0, 61467.0, 49618.0, 21888.0, 42429.0, 26150.0, 30801.0, 81168.0, 26877.0, 45006.0, 18978.0, 22574.0, 48240.0, 45837.0, 35791.0, 162397.0, 54162.0, 30522.0, 54456.0, 31632.0, 72298.0, 36975.0, 72635.0, 13624.0, 84196.0, 70971.0, 34487.0, 28769.0, 69084.0, 65488.0, 62466.0, 32218.0, 83917.0, 46102.0, 84574.0, 56181.0, 63120.0, 73691.0, 63381.0, 76140.0, 62859.0, 45906.0, 77632.0, 46463.0, 105471.0, 55282.0, 78710.0, 66886.0, 98777.0, 29103.0, 67445.0, 50616.0, 49431.0, 153924.0, 61278.0, 26490.0, 73059.0, 46734.0, 56253.0, 19986.0, 58330.0, 25965.0, 14661.0, 18690.0, 45068.0, 21063.0, 29187.0, 54690.0, 59304.0, 59247.0, 66731.0, 77353.0, 52614.0, 26751.0, 81300.0, 70337.0, 36145.0, 65295.0, 68118.0, 68743.0, 41039.0, 38946.0, 65777.0, 66476.0, 86857.0, 160803.0, 77845.0, 69476.0, 50611.0, 61209.0, 42315.0, 13084.0, 47570.0, 61923.0, 34824.0, 26518.0, 45938.0, 78468.0, 78901.0, 71427.0, 71022.0, 90247.0, 41335.0, 71952.0, 35682.0, 43185.0, 66375.0, 35178.0, 25252.0, 55250.0, 33249.0, 58398.0, 50272.0, 76618.0, 87305.0, 25851.0, 58710.0, 45160.0, 74806.0, 59111.0, 18988.0, 72190.0, 7500.0, 44794.0, 80395.0, 75012.0, 56962.0, 89891.0, 35946.0, 53593.0, 66373.0, 45072.0, 89694.0, 72025.0, 67432.0, 70545.0, 17487.0, 62882.0, 64108.0, 34941.0, 48767.0, 38702.0, 82224.0, 83844.0, 17003.0, 71163.0, 33697.0, 63564.0, 83443.0, 51518.0, 58330.0, 80952.0, 75507.0, 63855.0, 62220.0, 58512.0, 40662.0, 38829.0, 35523.0, 79146.0, 78285.0, 31626.0, 75127.0, 48726.0, 74985.0, 67430.0, 46891.0, 62058.0, 72063.0, 78939.0, 42720.0, 33622.0, 6835.0, 41452.0, 40760.0, 74250.0, 51124.0, 72258.0, 71466.0, 36283.0, 20587.0, 30467.0, 31590.0, 20425.0, 17144.0, 42564.0, 43783.0, 40780.0, 62847.0, 82017.0, 16813.0, 51267.0, 46524.0, 45183.0, 70421.0, 60161.0, 73926.0, 19329.0, 61872.0, 46984.0, 34838.0, 82716.0, 48192.0, 49681.0, 56850.0, 55267.0, 59666.0, 72504.0, 26872.0, 21359.0, 73170.0, 52750.0, 91820.0, 65968.0, 30772.0, 22507.0, 65685.0, 25804.0, 76412.0, 22063.0, 57091.0, 22419.0, 87771.0, 78353.0, 93404.0, 37859.0, 80995.0, 16529.0, 55412.0, 48789.0, 56575.0, 25130.0, 35441.0, 71391.0, 49494.0, 81702.0, 45889.0, 56628.0, 34026.0, 40049.0, 34176.0, 19419.0, 82504.0, 81205.0, 61618.0, 55284.0, 49980.0, 15072.0, 49166.0, 65324.0, 82347.0, 30843.0, 46374.0, 60474.0, 38576.0, 55357.0, 37758.0, 85710.0, 23228.0, 44602.0, 7500.0, 38683.0, 49514.0, 57906.0, 43456.0, 19485.0, 53172.0, 30545.0, 70123.0, 62450.0, 21675.0, 42395.0, 61346.0, 80812.0, 42835.0, 39922.0, 86424.0, 17117.0, 24762.0, 35797.0, 36627.0, 51111.0, 86857.0, 82072.0, 46231.0, 42243.0, 51195.0, 68092.0, 31814.0, 51390.0, 76630.0, 26868.0, 48948.0, 55260.0, 64090.0, 78331.0, 37087.0, 21846.0, 81320.0, 54137.0, 66825.0, 57100.0, 58917.0, 85072.0, 86429.0, 45684.0, 47889.0, 45921.0, 78420.0, 75114.0, 52278.0, 35641.0, 95529.0, 62820.0, 73113.0, 84169.0, 42607.0, 74637.0, 46015.0, 72354.0, 39858.0, 34469.0, 83033.0, 24401.0, 77583.0, 74116.0, 74293.0, 68397.0, 79632.0, 46107.0, 64950.0, 25443.0, 75127.0, 32892.0, 71796.0, 67536.0, 55239.0, 60554.0, 64831.0, 56067.0, 82025.0, 94384.0, 14906.0, 51563.0, 57937.0, 68274.0, 39771.0, 67893.0, 27922.0, 52190.0, 44051.0, 42767.0, 46106.0, 16927.0, 59754.0, 53700.0, 59041.0, 54237.0, 70647.0, 52597.0, 41021.0, 40233.0, 50183.0, 54753.0, 92955.0, 33471.0, 34596.0, 44010.0, 84219.0, 40706.0, 15716.0, 59052.0, 80573.0, 83715.0, 82576.0, 56962.0, 35704.0, 53103.0, 46779.0, 4861.0, 33462.0, 63693.0, 80763.0, 65352.0, 82170.0, 75759.0, 79689.0, 35340.0, 85683.0, 24884.0, 42021.0, 64449.0, 64587.0, 34824.0, 75437.0, 26091.0, 52845.0, 46086.0, 78028.0, 95169.0, 56337.0, 22434.0, 36930.0, 36130.0, 65569.0, 83844.0, 19514.0, 36736.0, 77568.0, 49187.0, 30168.0, 34053.0, 38196.0, 59412.0, 70924.0, 54165.0, 32300.0, 20180.0, 34961.0, 28440.0, 64504.0, 33564.0, 17345.0, 56320.0, 28647.0, 15038.0, 32173.0, 68316.0, 74538.0, 91700.0, 68695.0, 31056.0, 79593.0, 28071.0, 37334.0, 46423.0, 37126.0, 47703.0, 61180.0, 38998.0, 8028.0, 76081.0, 34728.0, 33168.0, 33585.0, 77037.0, 35196.0, 44529.0, 70924.0, 28764.0, 69098.0, 25959.0, 27100.0, 70596.0, 42557.0, 53312.0, 72228.0, 67605.0, 62845.0, 65196.0, 42000.0, 35860.0, 65526.0, 16860.0, 83528.0, 64176.0, 22304.0, 67023.0, 32892.0, 70713.0, 59925.0, 39722.0, 46610.0, 88347.0, 87171.0, 26907.0, 50014.0, 41014.0, 66294.0, 36715.0, 79456.0, 40479.0, 75345.0, 54233.0, 24163.0, 84460.0, 43776.0, 71691.0, 85844.0, 39190.0, 71367.0, 38578.0, 57236.0, 61825.0, 79803.0, 80910.0, 27590.0, 56775.0, 83829.0, 54210.0, 38508.0, 53187.0, 30023.0, 76045.0, 50870.0, 15315.0, 65463.0, 66480.0, 76773.0, 81698.0, 54466.0, 98777.0, 16269.0, 71819.0, 33569.0, 36262.0, 22634.0, 47025.0, 70566.0, 31605.0, 52034.0, 48526.0, 46734.0, 39552.0, 86358.0, 46931.0, 16581.0, 63998.0, 67381.0, 25930.0, 42693.0, 85606.0, 72903.0, 49669.0, 36778.0, 85696.0, 10979.0, 49678.0, 56129.0, 37155.0, 21282.0, 33419.0, 63285.0, 21255.0, 42162.0, 54450.0, 57744.0, 26576.0, 57513.0, 68142.0, 7500.0, 83145.0, 54197.0, 23091.0, 46049.0, 56715.0, 79410.0, 57304.0, 44375.0, 54450.0, 59594.0, 80685.0, 40344.0, 62710.0, 48985.0, 35322.0, 77142.0, 81657.0, 14421.0, 20130.0, 74214.0, 66726.0, 23724.0, 47353.0, 33444.0, 54386.0, 28510.0, 90638.0, 48070.0, 43140.0, 54959.0, 15056.0, 26954.0, 22327.0, 44393.0, 62000.0, 31497.0, 45894.0, 78579.0, 67369.0, 58401.0, 62307.0, 43641.0, 63841.0, 46891.0, 70091.0, 78075.0, 59184.0, 54809.0, 58113.0, 51412.0, 15287.0, 66636.0, 50965.0, 84618.0, 18351.0, 40451.0, 36317.0, 42213.0, 65748.0, 77044.0, 74918.0, 56721.0, 42160.0, 61559.0, 33629.0, 68682.0, 34377.0, 8940.0, 26228.0, 77297.0, 40211.0, 33438.0, 75032.0, 61284.0, 22518.0, 54730.0, 38452.0, 44421.0, 38197.0, 41986.0, 28427.0, 37395.0, 64722.0, 55249.0, 84906.0, 28691.0, 44213.0, 25707.0, 59062.0, 76624.0, 66000.0, 27683.0, 1730.0, 7500.0, 40521.0, 20427.0, 65106.0, 69969.0, 67433.0, 77766.0, 74716.0, 68118.0, 55158.0, 62972.0, 74190.0, 39356.0, 76653.0, 35860.0, 90687.0, 73450.0, 31454.0, 47139.0, 83829.0, 53378.0, 19656.0, 45579.0, 85485.0, 55956.0, 64191.0, 38808.0, 57183.0, 23748.0, 66303.0, 37368.0, 40800.0, 71847.0, 46149.0, 78687.0, 49118.0, 37633.0, 39767.0, 26997.0, 33986.0, 57091.0, 46831.0, 83151.0, 52531.0, 15759.0, 22804.0, 43050.0, 42997.0, 48918.0, 60033.0, 34043.0, 57811.0, 78569.0, 7500.0, 157733.0, 94384.0, 23148.0, 44267.0, 71626.0, 60894.0, 50200.0, 81051.0, 65169.0, 59868.0, 65695.0, 64857.0, 45143.0, 74805.0, 59060.0, 27238.0, 47009.0, 46094.0, 40321.0, 37235.0, 81843.0, 46692.0, 77382.0, 37774.0, 18393.0, 72828.0, 24711.0, 45503.0, 6560.0, 71604.0, 27244.0, 48752.0, 71434.0, 90842.0, 88097.0, 51948.0, 71853.0, 35876.0, 40049.0, 39660.0, 50127.0, 43263.0, 62845.0, 18929.0, 24367.0, 33249.0, 26887.0, 50150.0, 62061.0, 85696.0, 76542.0, 70515.0, 18227.0, 69139.0, 69109.0, 69627.0, 38136.0, 62159.0, 80695.0, 33316.0, 58554.0, 17256.0, 53034.0, 52203.0, 59601.0, 75154.0, 47025.0, 37971.0, 41335.0, 67267.0, 57338.0, 50523.0, 35791.0, 50611.0, 56242.0, 48904.0, 56243.0, 21355.0, 57420.0, 46390.0, 54342.0, 20895.0, 92344.0, 26907.0, 44964.0, 75507.0, 53761.0, 22682.0, 38887.0, 41658.0, 29791.0, 63915.0, 39996.0, 26759.0, 63841.0, 51039.0, 60544.0, 65685.0, 37716.0, 36864.0, 44511.0, 36947.0, 47352.0, 67087.0, 57045.0, 36957.0, 69389.0, 80134.0, 43142.0, 80589.0, 34412.0, 57537.0, 22634.0, 51315.0, 36026.0, 24639.0, 34578.0, 65704.0, 63810.0, 54132.0, 18690.0, 28164.0, 34596.0, 43269.0, 38741.0, 31907.0, 27100.0, 31163.0, 92533.0, 34853.0, 70844.0, 31086.0, 60544.0, 20491.0, 42523.0, 39922.0, 33402.0, 36408.0, 21645.0, 78427.0, 82657.0, 51876.0, 78041.0, 52852.0, 70038.0, 69401.0, 46053.0, 77343.0, 73892.0, 40304.0, 32727.0, 68695.0, 43300.0, 26290.0, 93790.0, 38410.0, 64866.0, 57957.0, 46015.0, 16531.0, 28072.0, 49476.0, 50725.0, 83844.0, 41145.0, 67419.0, 23162.0, 34380.0, 34704.0, 94871.0, 65148.0, 39898.0, 64857.0, 59892.0, 41020.0, 57072.0, 60474.0, 62807.0, 19414.0, 19107.0, 75484.0, 70379.0, 79419.0, 64014.0, 76998.0, 49854.0, 60585.0, 42873.0, 87679.0, 57867.0, 35765.0, 65492.0, 32952.0, 53374.0, 71706.0, 68487.0, 53253.0, 31163.0, 42014.0, 54108.0, 49667.0, 63206.0, 57136.0, 46772.0, 78931.0, 53977.0, 84219.0, 46098.0, 73538.0, 79529.0, 20981.0, 51766.0, 55759.0, 33039.0, 37787.0, 27242.0, 87188.0, 69930.0, 37697.0, 37401.0, 3502.0, 58597.0, 82032.0, 28087.0, 74004.0, 19740.0, 57036.0, 53083.0, 69283.0, 46098.0, 23331.0, 23331.0, 9255.0, 67786.0, 71969.0, 59235.0, 31928.0, 74881.0, 65819.0, 51411.0, 51983.0, 42386.0, 30390.0, 30983.0, 66033.0, 37284.0, 57530.0, 76800.0, 63943.0, 76081.0, 67445.0, 37054.0, 47175.0, 31859.0, 27215.0, 70179.0, 39922.0, 49681.0, 24645.0, 79865.0, 44322.0, 47958.0, 63972.0, 75315.0, 55517.0, 75283.0, 82800.0, 38998.0, 90638.0, 27161.0, 42014.0, 38201.0, 45203.0, 81574.0, 34935.0, 60482.0, 34633.0, 78093.0, 82460.0, 45903.0, 81361.0, 35860.0, 40442.0, 61482.0, 34968.0, 75794.0, 31497.0, 74268.0, 13724.0, 45143.0, 52569.0, 48432.0, 17144.0, 36108.0, 76445.0, 36663.0, 53843.0, 90226.0, 70638.0, 44512.0, 27116.0, 54072.0, 71855.0, 51250.0, 60432.0, 65526.0, 68655.0, 12393.0, 64509.0, 33955.0, 31353.0, 55434.0, 28359.0, 57100.0, 69139.0, 52973.0, 51717.0, 18793.0, 66664.0, 50664.0, 54414.0, 54549.0, 47111.0, 41003.0, 19444.0, 36301.0, 73059.0, 42731.0, 52854.0, 22775.0, 46681.0, 59821.0, 50002.0, 69755.0, 44078.0, 30560.0, 35924.0, 64140.0, 56386.0, 24594.0, 75774.0, 39228.0, 58494.0, 58684.0, 57136.0, 56551.0, 22448.0, 82014.0, 34213.0, 157146.0, 25358.0, 35544.0, 36634.0, 62670.0, 50334.0, 72066.0, 50729.0, 34916.0, 64892.0, 43602.0, 33996.0, 41473.0, 63246.0, 36732.0, 69084.0, 77766.0, 37929.0, 86610.0, 80141.0, 72635.0, 69016.0, 20193.0, 27573.0, 15862.0, 49544.0, 33228.0, 70440.0, 38232.0, 22554.0, 23536.0, 49413.0, 42231.0, 78789.0, 56534.0, 58350.0, 81217.0, 49090.0, 61787.0, 18169.0, 24336.0, 18222.0, 62335.0, 42033.0, 86580.0, 41437.0, 73705.0, 61064.0, 38452.0, 18358.0, 55012.0, 9722.0, 38175.0, 58656.0, 52117.0, 64813.0, 54222.0, 83512.0, 77520.0, 41154.0, 80398.0, 18746.0, 35196.0, 60230.0, 22108.0, 44392.0, 55424.0, 17688.0, 92491.0, 90273.0, 82571.0, 38513.0, 16653.0, 42586.0, 23529.0, 74881.0, 71107.0, 46910.0, 18690.0, 37244.0, 82427.0, 75342.0, 70044.0, 79146.0, 77437.0, 54984.0, 42403.0, 55761.0, 37292.0, 45576.0, 70321.0, 58086.0, 81795.0, 28389.0, 66835.0, 69901.0, 80360.0, 63342.0, 44989.0, 31859.0, 51569.0, 30372.0, 16014.0, 41120.0, 39763.0, 38725.0, 77981.0, 62905.0, 13533.0, 59481.0, 72117.0, 21955.0, 67131.0, 36802.0, 71853.0, 28249.0, 47808.0, 25509.0, 51012.0, 70596.0, 85431.0, 42664.0, 42586.0, 29760.0, 28973.0, 39435.0, 65370.0, 20194.0, 42473.0, 64590.0, 71232.0, 34600.0, 46904.0, 49094.0, 36075.0, 60839.0, 77298.0, 34026.0, 48918.0, 82122.0, 37697.0, 34074.0, 28520.0, 62535.0, 36273.0, 63404.0, 75774.0, 78416.0, 75702.0, 59385.0, 37070.0, 44689.0, 53977.0, 7144.0, 18701.0, 90369.0, 63159.0, 37758.0, 46757.0, 79734.0, 63207.0, 72071.0, 21840.0, 58582.0, 72282.0, 50387.0, 32583.0, 62568.0, 44635.0, 33316.0, 63967.0, 52513.0, 25293.0, 54111.0, 78394.0, 80739.0, 22669.0, 29236.0, 44911.0, 54693.0, 48186.0, 54809.0, 41580.0, 80336.0, 47743.0, 62972.0, 57333.0, 32313.0, 84953.0, 27071.0, 68148.0, 65735.0, 86836.0, 4023.0, 30093.0, 57705.0, 25008.0, 83257.0, 22280.0, 72159.0, 64260.0, 82733.0, 74290.0, 58217.0, 21024.0, 70116.0, 54006.0, 69063.0, 11448.0, 61825.0, 70886.0, 69109.0, 60208.0, 32889.0, 34738.0, 30538.0, 82326.0, 26642.0, 69932.0, 44503.0, 60200.0, 49638.0, 23830.0, 33051.0, 72905.0, 69702.0, 70300.0, 70643.0, 30396.0, 50616.0, 62772.0, 30298.0, 52413.0, 44155.0, 86979.0, 76532.0, 42081.0, 67546.0, 88420.0, 31158.0, 61671.0, 69719.0, 49160.0, 24882.0, 90933.0, 113734.0, 59292.0, 45759.0, 22148.0, 73395.0, 29819.0, 45688.0, 62820.0, 60491.0, 33235.0, 35701.0, 31535.0, 92556.0, 67384.0, 80573.0, 77870.0, 52278.0, 57107.0, 18929.0, 36038.0, 20180.0, 34230.0, 31878.0, 70932.0, 91249.0, 77598.0, 80982.0, 22701.0, 55212.0, 70617.0, 64849.0, 62694.0, 61917.0, 67472.0, 21059.0, 29543.0, 75903.0, 34984.0, 54998.0, 54356.0, 34242.0, 25410.0, 73356.0, 28320.0, 23763.0, 72570.0, 34529.0, 70792.0, 63211.0, 83891.0, 36065.0, 39898.0, 51141.0, 56939.0, 80872.0, 72335.0, 61798.0, 76842.0, 29478.0, 46998.0, 96843.0, 56551.0, 70053.0, 71670.0, 44359.0, 40887.0, 48877.0, 74485.0, 64474.0, 77226.0, 72643.0, 85738.0, 55686.0, 39062.0, 34600.0, 40794.0, 54690.0, 4428.0, 32632.0, 38236.0, 36781.0, 31385.0, 24570.0, 25509.0, 94642.0, 58646.0, 53201.0, 21994.0, 57113.0, 51373.0, 23477.0, 58116.0, 72968.0, 39791.0, 91712.0, 94472.0, 13672.0, 96547.0, 79205.0, 56559.0, 32644.0, 67506.0, 24206.0, 28420.0, 22979.0, 33279.0, 46423.0, 30368.0, 63684.0, 41638.0, 68805.0, 65814.0, 71964.0, 39146.0, 96876.0, 34445.0, 68281.0, 37284.0, 36790.0, 27943.0, 22263.0, 30261.0, 28587.0, 43815.0, 48195.0, 77027.0, 71322.0, 32765.0, 29672.0, 23272.0, 49912.0, 7500.0, 68117.0, 67225.0, 17649.0, 55914.0, 40059.0, 60905.0, 75330.0, 60689.0, 38680.0, 61416.0, 49767.0, 83273.0, 29009.0, 45057.0, 37150.0, 43020.0, 53154.0, 65308.0, 76467.0, 81044.0, 32871.0, 55801.0, 76320.0, 36927.0, 48794.0, 23478.0, 71128.0, 70179.0, 59462.0, 38361.0, 70038.0, 42554.0, 67445.0, 67046.0, 42192.0, 77610.0, 31761.0, 34350.0, 54591.0, 71866.0, 25293.0, 42000.0, 69520.0, 64713.0, 27889.0, 22123.0, 27803.0, 51651.0, 68487.0, 56796.0, 87000.0, 79823.0, 30828.0, 34109.0, 53367.0, 22390.0, 71322.0, 79244.0, 49912.0, 48699.0, 80144.0, 54252.0, 81929.0, 76068.0, 53204.0, 67911.0, 14796.0, 78128.0, 14188.0, 20425.0, 58646.0, 72967.0, 48150.0, 82332.0, 58275.0, 44953.0, 34587.0, 43018.0, 45736.0, 66476.0, 27733.0, 69805.0, 72217.0, 25818.0, 37509.0, 25176.0, 43586.0, 53230.0, 50116.0, 84906.0, 61286.0, 82333.0, 65220.0, 33590.0, 30992.0, 72309.0, 156924.0, 16005.0, 65487.0, 58692.0, 40590.0, 20587.0, 62637.0, 29435.0, 19346.0, 35788.0, 36997.0, 23539.0, 65333.0, 78499.0, 29732.0, 41275.0, 63516.0, 42769.0, 49572.0, 69209.0, 17148.0, 40590.0, 30560.0, 32146.0, 41713.0, 34176.0, 58482.0, 59686.0, 60896.0, 62994.0, 47320.0, 74859.0, 15253.0, 31560.0, 72071.0, 91172.0, 90000.0, 41967.0, 69263.0, 65706.0, 60934.0, 71965.0, 65210.0, 79174.0, 81380.0, 48432.0, 52914.0, 38946.0, 26067.0, 44325.0, 42523.0, 26487.0, 53233.0, 67716.0, 76234.0, 84117.0, 65487.0, 25224.0, 89616.0, 40851.0, 27469.0, 82347.0, 73803.0, 8820.0, 43322.0, 55593.0, 50501.0, 37085.0, 16185.0, 57731.0, 48432.0, 73807.0, 18929.0, 35893.0, 61014.0, 32144.0, 14918.0, 45146.0, 41769.0, 88325.0, 38054.0, 80617.0, 5305.0, 36807.0, 28427.0, 82032.0, 22775.0, 40101.0, 58025.0, 75777.0, 7500.0, 33562.0, 57642.0, 58554.0, 63777.0, 57967.0, 24434.0, 11012.0, 44802.0, 26816.0, 34421.0, 61223.0, 64014.0, 56981.0, 69245.0, 52869.0], \"y\": [1617, 27, 776, 53, 422, 716, 590, 169, 46, 49, 61, 1102, 310, 46, 1315, 96, 317, 1782, 133, 316, 1730, 972, 544, 444, 75, 257, 131, 1672, 30, 318, 120, 302, 1196, 65, 913, 81, 67, 902, 1395, 53, 22, 31, 984, 122, 55, 1319, 507, 1693, 72, 1617, 606, 1957, 1093, 29, 518, 1438, 612, 884, 606, 1076, 34, 11, 1274, 653, 1562, 1253, 863, 661, 65, 13, 1890, 2209, 18, 692, 165, 16, 79, 318, 778, 56, 151, 372, 1366, 194, 32, 43, 45, 606, 63, 978, 410, 72, 55, 1169, 1120, 1097, 29, 187, 910, 145, 850, 969, 1820, 608, 730, 551, 114, 1724, 577, 81, 33, 660, 80, 30, 43, 1135, 559, 1923, 90, 661, 463, 632, 725, 279, 1482, 29, 106, 49, 38, 2077, 1053, 1385, 871, 312, 877, 68, 22, 211, 127, 459, 460, 429, 89, 1021, 1381, 306, 18, 162, 1231, 13, 1706, 121, 1293, 1608, 88, 421, 259, 1117, 89, 36, 57, 148, 93, 119, 1835, 1318, 45, 10, 978, 191, 57, 1033, 66, 43, 50, 39, 608, 1581, 68, 80, 1282, 91, 315, 31, 834, 1600, 1270, 263, 535, 1295, 1150, 1240, 38, 35, 53, 293, 65, 1804, 241, 1101, 264, 541, 1198, 482, 17, 1615, 285, 1135, 114, 1047, 714, 185, 1245, 189, 576, 1103, 1753, 17, 433, 1588, 22, 19, 1117, 69, 23, 605, 57, 2088, 1009, 26, 1627, 1102, 17, 1690, 1390, 2126, 1531, 64, 26, 1112, 210, 1148, 33, 1101, 322, 44, 17, 31, 845, 275, 25, 275, 90, 1495, 184, 981, 67, 1635, 60, 231, 48, 99, 770, 957, 818, 925, 908, 102, 576, 317, 461, 37, 70, 930, 859, 1478, 390, 52, 137, 1919, 68, 25, 1374, 32, 100, 825, 916, 62, 728, 90, 273, 66, 1213, 107, 1157, 546, 241, 53, 37, 1508, 235, 32, 102, 401, 28, 680, 30, 20, 1307, 630, 1283, 65, 37, 38, 160, 23, 71, 1161, 59, 33, 946, 1442, 62, 1674, 1538, 139, 1182, 507, 18, 940, 42, 1190, 44, 16, 835, 1443, 1029, 1188, 1277, 49, 99, 1670, 900, 425, 2153, 636, 57, 25, 494, 693, 1348, 51, 1932, 990, 30, 254, 29, 1371, 73, 120, 81, 37, 1377, 51, 17, 22, 324, 211, 19, 41, 492, 1005, 114, 1173, 1738, 222, 1127, 209, 787, 1598, 186, 47, 27, 96, 64, 1040, 163, 343, 446, 41, 70, 272, 46, 490, 79, 915, 1485, 369, 1073, 1242, 78, 1378, 1474, 751, 48, 45, 10, 1435, 2119, 20, 1795, 1188, 43, 1008, 1688, 684, 1082, 1068, 57, 46, 733, 467, 122, 36, 34, 156, 14, 37, 34, 20, 192, 1379, 48, 428, 868, 1001, 59, 431, 971, 348, 2059, 265, 270, 1289, 893, 926, 135, 1495, 120, 1288, 1743, 15, 542, 890, 1388, 17, 906, 44, 25, 973, 31, 518, 530, 506, 70, 54, 296, 266, 747, 895, 1053, 735, 20, 205, 2092, 309, 1722, 900, 682, 663, 43, 1816, 976, 746, 64, 32, 263, 1445, 46, 1210, 945, 1157, 137, 730, 216, 943, 347, 1924, 397, 2089, 138, 42, 777, 1902, 52, 1651, 358, 1727, 210, 42, 1291, 442, 1895, 411, 521, 1168, 493, 260, 46, 319, 96, 1062, 232, 76, 54, 201, 406, 1919, 662, 41, 1600, 134, 69, 21, 54, 91, 526, 162, 1008, 240, 795, 1772, 64, 1957, 78, 1572, 795, 889, 331, 265, 1065, 11, 21, 17, 369, 38, 177, 279, 62, 1230, 182, 49, 75, 227, 215, 444, 47, 143, 55, 63, 1867, 611, 473, 55, 81, 2086, 1478, 49, 382, 69, 67, 30, 63, 79, 42, 819, 1151, 594, 129, 213, 67, 28, 45, 1193, 268, 266, 37, 37, 882, 373, 35, 107, 42, 326, 404, 95, 939, 33, 981, 36, 1237, 1825, 103, 191, 1586, 963, 889, 93, 1587, 16, 1375, 393, 1477, 1179, 1005, 1348, 1307, 486, 2252, 235, 1724, 235, 1092, 599, 2008, 48, 1174, 67, 365, 6, 165, 210, 1095, 223, 597, 22, 1064, 74, 26, 60, 20, 59, 34, 198, 1048, 574, 1029, 670, 990, 11, 1241, 576, 172, 664, 928, 2074, 467, 257, 1146, 689, 2114, 1717, 1346, 1044, 493, 957, 270, 29, 121, 126, 23, 57, 636, 1004, 734, 614, 1453, 1621, 187, 1443, 57, 637, 948, 59, 18, 903, 112, 596, 233, 1511, 1152, 48, 1185, 21, 965, 869, 16, 1947, 71, 65, 1380, 1027, 411, 836, 11, 480, 606, 284, 1472, 1677, 1335, 334, 18, 1338, 1099, 97, 63, 109, 902, 1574, 38, 960, 28, 1215, 1497, 449, 1064, 1757, 1440, 1006, 1226, 1171, 92, 99, 66, 564, 1427, 86, 833, 242, 1869, 1364, 183, 450, 758, 1507, 654, 81, 137, 16, 93, 1158, 43, 1525, 1230, 29, 25, 24, 38, 57, 47, 813, 629, 377, 1612, 729, 50, 270, 177, 315, 767, 1071, 1580, 60, 573, 41, 170, 1167, 1526, 458, 63, 405, 1027, 1478, 72, 48, 726, 860, 1497, 495, 20, 570, 769, 55, 1808, 55, 577, 162, 1957, 1576, 1616, 36, 1482, 22, 63, 680, 542, 50, 39, 1043, 385, 1633, 46, 761, 76, 290, 89, 70, 1066, 2009, 1345, 764, 195, 53, 368, 544, 1853, 35, 446, 1180, 41, 727, 40, 1062, 40, 292, 15, 341, 369, 401, 393, 10, 486, 69, 1727, 995, 45, 182, 989, 1677, 595, 156, 1226, 128, 86, 68, 16, 55, 2114, 2018, 263, 55, 564, 1281, 83, 353, 1003, 14, 902, 1139, 797, 1638, 401, 84, 928, 203, 858, 409, 282, 1423, 1449, 28, 67, 199, 1453, 1253, 1198, 178, 1990, 976, 1001, 1919, 350, 1650, 46, 1228, 95, 62, 1761, 467, 1149, 2052, 1127, 1416, 1113, 125, 966, 32, 833, 46, 960, 1829, 779, 811, 1120, 725, 1187, 2302, 66, 1250, 683, 305, 50, 995, 41, 77, 171, 131, 54, 53, 475, 694, 96, 361, 1079, 578, 64, 149, 231, 728, 1778, 93, 23, 662, 1198, 81, 92, 491, 1564, 926, 1910, 411, 94, 1085, 23, 6, 54, 1150, 1415, 405, 1908, 2486, 1315, 45, 1789, 19, 573, 805, 108, 23, 1493, 89, 936, 343, 528, 1901, 724, 58, 297, 488, 859, 1574, 69, 17, 2194, 116, 279, 103, 44, 406, 1363, 236, 39, 137, 79, 63, 1314, 71, 58, 702, 94, 80, 22, 1211, 1461, 1968, 1091, 55, 1366, 313, 62, 92, 72, 655, 704, 54, 178, 1033, 36, 122, 122, 1123, 497, 691, 1363, 12, 2440, 56, 37, 968, 270, 278, 1250, 938, 1178, 1155, 653, 49, 506, 38, 1650, 1826, 18, 906, 46, 1477, 766, 47, 467, 2116, 1298, 22, 396, 20, 967, 357, 1401, 15, 2087, 981, 17, 523, 23, 1192, 1958, 133, 777, 73, 121, 424, 868, 756, 12, 937, 1862, 367, 443, 267, 61, 1323, 63, 64, 562, 312, 1156, 1104, 16, 2008, 44, 1574, 63, 426, 96, 635, 757, 125, 332, 135, 330, 384, 1722, 78, 24, 1168, 957, 15, 57, 1956, 2013, 326, 77, 1313, 30, 315, 660, 74, 46, 86, 1103, 61, 145, 684, 411, 27, 1060, 1459, 18, 1833, 237, 48, 515, 1020, 1370, 1026, 301, 684, 499, 1004, 218, 606, 75, 106, 990, 1097, 16, 34, 1711, 438, 75, 225, 18, 470, 91, 2525, 504, 235, 1232, 88, 17, 24, 60, 1020, 155, 51, 1812, 1461, 96, 160, 139, 908, 183, 1161, 988, 1072, 174, 758, 195, 31, 1084, 685, 1672, 43, 49, 133, 363, 545, 1065, 2047, 296, 140, 530, 152, 1598, 114, 101, 25, 789, 87, 90, 1215, 811, 61, 405, 72, 189, 40, 63, 52, 39, 805, 130, 1631, 34, 152, 21, 71, 899, 711, 351, 8, 119, 21, 10, 973, 1536, 992, 1529, 860, 928, 418, 587, 641, 23, 2279, 49, 1779, 1804, 48, 83, 1862, 793, 84, 183, 1383, 999, 825, 246, 610, 76, 1286, 30, 99, 1192, 362, 2130, 1229, 38, 485, 434, 44, 496, 78, 2346, 794, 17, 26, 76, 15, 62, 198, 49, 802, 1736, 57, 59, 2302, 37, 310, 1305, 832, 401, 1501, 1189, 1194, 656, 1540, 311, 820, 274, 57, 448, 44, 102, 61, 1643, 397, 1121, 473, 50, 1678, 58, 170, 373, 1196, 101, 316, 1400, 1424, 844, 311, 1149, 129, 32, 299, 320, 441, 1178, 85, 24, 112, 30, 410, 800, 1313, 1483, 1258, 28, 227, 1555, 861, 103, 634, 1918, 131, 586, 62, 447, 939, 797, 1143, 415, 30, 187, 251, 237, 91, 35, 493, 971, 371, 396, 68, 322, 222, 177, 45, 1899, 22, 41, 1440, 325, 95, 42, 72, 20, 789, 15, 59, 908, 417, 289, 769, 188, 354, 727, 146, 319, 794, 454, 152, 797, 1690, 20, 1428, 209, 545, 96, 222, 61, 44, 8, 817, 1371, 42, 60, 78, 23, 19, 61, 449, 37, 38, 1131, 34, 294, 48, 289, 30, 125, 156, 70, 22, 65, 1930, 2283, 310, 1319, 879, 1244, 690, 209, 1134, 1507, 57, 529, 1091, 180, 77, 2349, 534, 556, 637, 46, 44, 47, 795, 586, 1574, 13, 1471, 65, 175, 40, 1078, 1115, 134, 1540, 87, 217, 1034, 1180, 819, 32, 46, 1159, 860, 1631, 444, 1910, 380, 736, 269, 2524, 612, 75, 1045, 55, 1064, 1443, 1366, 436, 38, 436, 747, 1396, 928, 642, 1048, 943, 907, 1198, 120, 1658, 1638, 73, 275, 854, 78, 106, 106, 1923, 1662, 84, 48, 5, 733, 1234, 112, 1658, 55, 1513, 271, 904, 120, 103, 269, 22, 1156, 1086, 1128, 72, 964, 1383, 18, 793, 100, 80, 167, 677, 23, 92, 641, 1106, 1033, 1174, 25, 240, 20, 102, 1034, 156, 458, 17, 792, 92, 407, 1269, 841, 633, 1019, 1315, 54, 2525, 52, 436, 268, 147, 1798, 137, 507, 15, 1105, 974, 66, 778, 49, 169, 299, 221, 1682, 155, 892, 58, 311, 95, 424, 47, 339, 1410, 35, 562, 2352, 1334, 32, 41, 39, 1141, 710, 401, 506, 1538, 57, 1722, 270, 31, 882, 16, 311, 227, 1152, 122, 77, 1289, 561, 211, 233, 1092, 601, 54, 78, 1095, 244, 116, 15, 425, 734, 638, 894, 41, 31, 34, 1750, 612, 29, 823, 20, 396, 813, 1179, 138, 55, 1511, 117, 1730, 32, 67, 335, 825, 694, 1792, 496, 231, 902, 68, 71, 76, 772, 47, 1586, 1529, 265, 1603, 2091, 981, 1533, 82, 244, 36, 404, 71, 1572, 122, 41, 10, 304, 37, 1754, 815, 1001, 1157, 688, 1319, 21, 31, 67, 708, 25, 746, 32, 1695, 1080, 72, 57, 660, 103, 153, 1220, 279, 745, 264, 2157, 1526, 69, 1597, 64, 497, 1067, 31, 211, 877, 11, 2034, 1991, 1686, 324, 69, 252, 54, 964, 1327, 68, 60, 55, 1456, 563, 1504, 564, 1125, 358, 42, 184, 460, 145, 1376, 792, 1382, 28, 1033, 882, 2231, 1101, 369, 48, 467, 44, 38, 81, 167, 45, 664, 622, 48, 461, 1073, 55, 976, 20, 1149, 43, 224, 101, 209, 968, 1165, 24, 252, 165, 269, 102, 461, 47, 144, 1338, 917, 318, 253, 502, 119, 1250, 969, 76, 62, 1382, 84, 255, 43, 398, 76, 902, 823, 1179, 1921, 185, 433, 34, 907, 416, 44, 1588, 1797, 40, 1143, 914, 1502, 1338, 27, 763, 1331, 525, 9, 953, 68, 131, 882, 1149, 37, 388, 1428, 1633, 173, 99, 215, 929, 219, 174, 92, 1052, 275, 587, 1662, 159, 1024, 35, 1042, 395, 557, 9, 69, 486, 34, 1365, 13, 1401, 1574, 1323, 1217, 103, 84, 1536, 581, 928, 14, 424, 960, 1555, 656, 55, 20, 367, 2257, 42, 1049, 48, 685, 39, 43, 835, 1515, 1039, 1596, 1828, 34, 149, 946, 28, 450, 46, 1702, 820, 382, 2126, 2069, 72, 732, 801, 236, 80, 1685, 277, 507, 68, 49, 397, 39, 306, 976, 1028, 70, 46, 51, 1263, 1490, 1564, 1815, 1198, 416, 85, 47, 137, 21, 70, 909, 1676, 1735, 1191, 24, 1182, 1280, 1336, 749, 91, 414, 44, 63, 901, 38, 455, 775, 15, 38, 1512, 43, 42, 1089, 162, 1272, 1173, 816, 74, 134, 157, 561, 1336, 2092, 463, 1130, 20, 377, 1544, 138, 1012, 1766, 45, 161, 144, 1734, 823, 1138, 1429, 1371, 982, 44, 318, 434, 198, 359, 576, 88, 63, 27, 193, 101, 2211, 140, 415, 22, 263, 393, 147, 443, 1958, 174, 2217, 1691, 25, 809, 895, 484, 413, 331, 25, 13, 115, 16, 92, 52, 1464, 441, 283, 747, 1870, 165, 1941, 839, 1655, 23, 66, 37, 21, 22, 78, 79, 265, 1175, 1305, 46, 25, 46, 874, 100, 930, 868, 45, 1260, 414, 392, 1109, 639, 79, 1665, 692, 1392, 44, 50, 467, 223, 158, 1211, 1575, 1208, 43, 527, 932, 71, 54, 129, 1615, 1034, 1088, 137, 1244, 41, 1174, 993, 100, 1680, 98, 48, 519, 715, 37, 653, 1455, 602, 26, 102, 176, 433, 1366, 1001, 961, 1518, 56, 22, 400, 26, 350, 1216, 874, 40, 1367, 264, 2053, 1376, 45, 976, 51, 1264, 75, 57, 140, 497, 266, 2006, 615, 1021, 22, 133, 437, 1013, 57, 1038, 1573, 28, 123, 13, 132, 732, 66, 1631, 608, 1822, 1282, 8, 43, 1931, 8, 103, 1169, 395, 258, 25, 185, 180, 22, 44, 94, 81, 798, 1334, 38, 61, 300, 88, 54, 1782, 68, 258, 31, 66, 174, 28, 731, 274, 1701, 312, 414, 1565, 29, 94, 1338, 1092, 1479, 54, 568, 1199, 873, 1213, 731, 2043, 1893, 424, 575, 257, 56, 542, 125, 69, 40, 1016, 907, 1566, 1169, 46, 1644, 59, 17, 1853, 1528, 35, 141, 546, 500, 61, 106, 704, 424, 849, 85, 199, 1147, 54, 43, 53, 521, 1623, 45, 1435, 32, 16, 52, 1234, 15, 415, 470, 1438, 53, 51, 679, 586, 653, 468, 50, 84, 1049, 22, 30, 1341, 444, 1241, 843, 172], \"z\": [25, 6, 21, 8, 19, 22, 21, 10, 6, 2, 6, 16, 15, 5, 26, 9, 13, 26, 8, 12, 43, 17, 20, 20, 8, 14, 9, 26, 8, 11, 9, 17, 18, 6, 28, 9, 7, 24, 21, 7, 4, 8, 16, 10, 5, 28, 17, 29, 7, 21, 23, 27, 21, 6, 19, 21, 22, 24, 19, 16, 5, 4, 32, 18, 19, 21, 30, 24, 8, 4, 19, 22, 4, 21, 12, 4, 9, 11, 27, 7, 13, 17, 19, 10, 5, 10, 6, 22, 7, 25, 16, 7, 7, 27, 16, 20, 5, 13, 26, 9, 14, 24, 17, 20, 25, 21, 8, 15, 20, 7, 7, 22, 9, 6, 5, 27, 16, 16, 8, 23, 19, 23, 19, 16, 23, 6, 9, 6, 7, 22, 17, 23, 25, 12, 15, 6, 4, 16, 8, 16, 19, 17, 11, 26, 21, 15, 4, 9, 18, 4, 27, 11, 20, 37, 9, 18, 12, 15, 9, 6, 7, 8, 8, 7, 28, 25, 7, 4, 25, 10, 9, 24, 6, 6, 5, 7, 18, 24, 7, 5, 28, 8, 16, 6, 23, 17, 17, 15, 19, 18, 29, 26, 6, 4, 5, 17, 6, 29, 15, 20, 19, 26, 17, 20, 4, 25, 12, 28, 7, 16, 22, 13, 32, 12, 16, 18, 17, 4, 23, 14, 4, 5, 29, 8, 5, 19, 11, 22, 16, 5, 22, 31, 6, 16, 21, 20, 25, 7, 6, 29, 11, 26, 6, 19, 16, 10, 4, 6, 25, 15, 4, 17, 11, 19, 11, 13, 8, 14, 10, 12, 10, 9, 23, 23, 12, 17, 22, 10, 16, 13, 15, 7, 7, 23, 33, 22, 16, 5, 10, 19, 9, 4, 23, 5, 7, 12, 28, 11, 21, 7, 13, 10, 23, 7, 18, 18, 11, 11, 7, 23, 16, 7, 8, 15, 6, 21, 4, 4, 23, 24, 18, 9, 5, 5, 12, 4, 6, 19, 5, 7, 22, 22, 5, 22, 21, 8, 20, 18, 4, 16, 6, 15, 8, 4, 26, 22, 18, 18, 24, 7, 7, 15, 14, 16, 22, 21, 10, 4, 22, 19, 26, 7, 16, 16, 5, 16, 5, 23, 9, 11, 5, 5, 20, 5, 4, 4, 14, 16, 4, 8, 17, 26, 7, 19, 19, 12, 16, 10, 23, 24, 12, 6, 5, 11, 10, 23, 13, 11, 24, 5, 9, 14, 6, 19, 8, 17, 35, 16, 19, 19, 9, 21, 26, 29, 7, 6, 4, 16, 22, 4, 27, 19, 7, 24, 16, 21, 39, 25, 7, 5, 23, 17, 10, 7, 5, 10, 4, 5, 5, 4, 11, 17, 7, 16, 27, 27, 7, 16, 27, 19, 24, 14, 13, 19, 16, 22, 9, 19, 9, 20, 17, 4, 20, 25, 33, 4, 30, 6, 5, 26, 6, 17, 19, 21, 6, 6, 12, 15, 19, 29, 17, 21, 5, 10, 21, 14, 22, 15, 20, 22, 6, 18, 27, 21, 6, 5, 9, 21, 5, 28, 24, 22, 8, 25, 12, 23, 16, 19, 17, 22, 11, 5, 17, 20, 7, 13, 13, 16, 10, 5, 20, 15, 17, 19, 19, 17, 23, 12, 7, 16, 7, 16, 12, 9, 9, 11, 14, 20, 20, 8, 14, 8, 10, 6, 7, 8, 18, 8, 25, 16, 21, 19, 8, 20, 7, 19, 26, 26, 15, 12, 19, 4, 4, 4, 16, 6, 11, 12, 7, 21, 11, 10, 8, 16, 15, 20, 5, 7, 7, 11, 22, 20, 18, 6, 7, 21, 20, 5, 15, 9, 6, 6, 9, 10, 5, 23, 17, 20, 11, 12, 7, 5, 6, 18, 12, 12, 5, 7, 25, 18, 6, 1, 5, 17, 17, 6, 14, 5, 21, 7, 20, 34, 9, 12, 25, 14, 26, 7, 21, 4, 32, 14, 26, 18, 26, 21, 23, 15, 13, 17, 30, 11, 28, 17, 19, 6, 32, 7, 15, 0, 10, 11, 26, 12, 22, 4, 24, 6, 5, 5, 4, 7, 5, 12, 28, 21, 17, 20, 16, 4, 21, 17, 12, 20, 23, 30, 15, 12, 17, 20, 22, 44, 21, 15, 22, 13, 12, 5, 9, 8, 4, 8, 20, 28, 20, 20, 21, 15, 12, 22, 6, 20, 14, 5, 4, 26, 8, 20, 13, 11, 17, 7, 31, 4, 16, 21, 6, 16, 12, 6, 24, 23, 21, 26, 4, 23, 23, 16, 14, 26, 19, 13, 4, 20, 30, 8, 9, 9, 21, 20, 9, 24, 4, 28, 22, 17, 24, 25, 21, 24, 23, 20, 8, 8, 8, 19, 21, 6, 19, 12, 17, 29, 8, 18, 21, 20, 25, 9, 1, 4, 8, 18, 6, 22, 19, 6, 5, 4, 5, 7, 12, 24, 22, 17, 14, 17, 6, 15, 9, 13, 23, 26, 24, 10, 21, 5, 10, 28, 25, 21, 6, 17, 20, 22, 5, 7, 16, 27, 22, 18, 4, 19, 21, 7, 18, 7, 18, 8, 20, 24, 17, 6, 22, 5, 6, 18, 20, 7, 6, 28, 14, 27, 5, 20, 9, 14, 11, 11, 17, 19, 19, 23, 11, 11, 13, 20, 25, 6, 18, 31, 5, 22, 6, 26, 7, 17, 4, 17, 13, 17, 17, 4, 16, 7, 17, 16, 10, 12, 23, 18, 23, 9, 28, 11, 9, 7, 4, 7, 22, 19, 15, 7, 24, 20, 7, 18, 25, 4, 24, 25, 20, 25, 17, 11, 18, 11, 16, 13, 16, 18, 18, 4, 6, 10, 22, 19, 31, 10, 18, 14, 15, 20, 14, 25, 5, 19, 7, 9, 26, 16, 19, 19, 16, 21, 20, 7, 25, 5, 19, 8, 17, 30, 26, 23, 22, 20, 12, 18, 9, 19, 20, 13, 6, 16, 6, 9, 12, 7, 5, 12, 16, 22, 8, 16, 26, 20, 7, 13, 17, 21, 23, 10, 4, 24, 18, 11, 10, 18, 24, 24, 19, 21, 9, 28, 4, 0, 6, 29, 23, 16, 19, 26, 27, 7, 17, 4, 22, 24, 8, 4, 23, 9, 25, 16, 20, 12, 22, 7, 16, 21, 23, 20, 10, 4, 21, 8, 18, 7, 9, 15, 20, 11, 5, 8, 10, 6, 25, 6, 7, 21, 7, 7, 5, 32, 22, 20, 16, 5, 19, 13, 11, 9, 6, 21, 18, 8, 16, 14, 5, 10, 7, 27, 18, 25, 20, 4, 25, 7, 5, 21, 15, 12, 22, 17, 28, 26, 20, 6, 17, 8, 23, 33, 4, 24, 8, 25, 23, 7, 14, 21, 25, 6, 15, 4, 13, 19, 16, 4, 20, 26, 6, 22, 4, 17, 20, 9, 17, 9, 10, 15, 13, 15, 4, 25, 17, 14, 20, 13, 6, 21, 6, 8, 19, 19, 16, 16, 4, 19, 9, 14, 5, 12, 6, 23, 22, 9, 16, 8, 14, 20, 18, 7, 4, 25, 17, 4, 5, 24, 21, 14, 9, 20, 8, 14, 22, 7, 7, 8, 25, 11, 9, 31, 16, 4, 27, 24, 4, 26, 12, 10, 26, 15, 11, 25, 12, 31, 17, 21, 12, 22, 6, 9, 17, 16, 4, 5, 16, 17, 7, 13, 4, 17, 9, 18, 19, 11, 21, 12, 4, 5, 7, 26, 10, 5, 16, 25, 6, 9, 10, 22, 8, 19, 14, 27, 12, 22, 11, 6, 17, 22, 26, 6, 5, 9, 15, 18, 31, 21, 15, 11, 17, 13, 24, 8, 10, 4, 22, 7, 11, 20, 22, 7, 18, 9, 14, 5, 10, 7, 5, 25, 8, 24, 5, 12, 5, 7, 23, 10, 16, 15, 11, 4, 4, 27, 13, 28, 34, 17, 23, 18, 16, 19, 4, 23, 6, 17, 27, 8, 7, 17, 29, 9, 10, 19, 16, 24, 14, 25, 9, 22, 4, 8, 22, 18, 19, 28, 6, 17, 13, 5, 18, 7, 23, 21, 4, 5, 8, 4, 7, 10, 5, 25, 15, 10, 2, 18, 6, 16, 19, 26, 19, 23, 28, 32, 21, 23, 15, 26, 14, 9, 17, 5, 8, 5, 27, 15, 26, 16, 8, 28, 7, 9, 2, 17, 8, 17, 21, 27, 20, 13, 17, 8, 5, 14, 13, 16, 28, 6, 4, 8, 5, 16, 24, 20, 23, 17, 4, 11, 20, 23, 8, 19, 19, 10, 22, 7, 22, 27, 15, 16, 17, 5, 12, 11, 12, 8, 6, 22, 28, 17, 20, 7, 15, 10, 12, 6, 20, 6, 5, 21, 17, 10, 5, 6, 7, 23, 4, 8, 22, 14, 15, 21, 10, 14, 26, 11, 16, 22, 18, 11, 22, 16, 4, 21, 11, 19, 6, 10, 7, 9, 4, 23, 23, 5, 5, 9, 4, 4, 7, 14, 5, 5, 23, 7, 17, 6, 15, 4, 7, 9, 9, 4, 9, 23, 23, 13, 18, 26, 17, 17, 12, 17, 23, 6, 17, 16, 11, 10, 25, 18, 21, 25, 5, 9, 5, 22, 21, 20, 4, 25, 8, 12, 5, 18, 21, 9, 23, 7, 10, 27, 31, 23, 5, 6, 18, 25, 15, 22, 29, 18, 30, 15, 29, 25, 8, 26, 6, 21, 25, 30, 19, 5, 20, 32, 22, 14, 26, 30, 24, 27, 18, 11, 26, 22, 7, 12, 26, 7, 7, 7, 19, 22, 7, 7, 0, 32, 17, 9, 15, 7, 26, 17, 27, 11, 8, 17, 5, 16, 19, 28, 9, 27, 20, 4, 24, 7, 6, 8, 20, 4, 7, 16, 17, 14, 32, 6, 17, 4, 11, 26, 9, 21, 4, 21, 8, 16, 23, 23, 23, 25, 26, 8, 18, 5, 20, 15, 8, 18, 8, 17, 4, 17, 15, 8, 27, 6, 12, 12, 17, 25, 10, 13, 5, 15, 7, 19, 12, 15, 21, 6, 20, 24, 20, 6, 7, 5, 25, 24, 19, 17, 21, 6, 19, 15, 6, 24, 4, 14, 11, 31, 8, 9, 19, 24, 13, 12, 21, 17, 10, 7, 26, 13, 9, 4, 16, 26, 19, 22, 7, 5, 5, 18, 25, 5, 21, 4, 16, 21, 20, 10, 9, 22, 9, 28, 6, 6, 15, 22, 23, 17, 24, 13, 24, 9, 6, 6, 22, 9, 25, 34, 13, 18, 22, 21, 34, 7, 14, 5, 16, 6, 23, 11, 10, 4, 13, 5, 16, 25, 27, 22, 21, 19, 4, 4, 6, 21, 4, 11, 5, 25, 28, 9, 10, 25, 11, 11, 32, 13, 20, 12, 22, 23, 6, 26, 8, 18, 17, 7, 14, 25, 4, 25, 19, 24, 17, 9, 16, 5, 27, 28, 7, 5, 5, 21, 18, 26, 19, 23, 17, 5, 10, 19, 8, 25, 23, 23, 4, 24, 23, 15, 19, 16, 5, 19, 8, 10, 9, 10, 7, 21, 20, 7, 16, 26, 8, 26, 5, 17, 6, 10, 9, 10, 21, 17, 5, 16, 12, 13, 7, 19, 7, 10, 24, 25, 17, 14, 20, 7, 29, 24, 9, 7, 26, 7, 14, 5, 14, 8, 15, 21, 26, 29, 10, 23, 6, 27, 25, 10, 17, 17, 6, 21, 14, 12, 20, 5, 22, 22, 19, 4, 16, 7, 10, 23, 25, 5, 15, 16, 24, 10, 9, 12, 31, 12, 12, 9, 25, 14, 16, 33, 11, 18, 7, 15, 19, 23, 15, 6, 18, 6, 28, 4, 21, 14, 20, 32, 7, 7, 23, 18, 14, 4, 15, 14, 20, 29, 9, 5, 17, 22, 7, 26, 7, 25, 5, 5, 21, 20, 26, 26, 18, 6, 10, 23, 6, 17, 5, 16, 25, 15, 20, 20, 7, 28, 11, 12, 5, 15, 27, 18, 7, 5, 15, 9, 14, 14, 28, 7, 5, 5, 21, 22, 24, 18, 31, 23, 6, 8, 8, 4, 6, 22, 22, 26, 30, 5, 20, 14, 19, 24, 7, 15, 9, 8, 23, 6, 20, 24, 4, 6, 22, 5, 5, 23, 9, 19, 20, 22, 9, 9, 9, 18, 19, 23, 16, 17, 5, 18, 28, 10, 26, 15, 9, 10, 8, 26, 22, 28, 21, 21, 16, 5, 17, 16, 12, 25, 18, 11, 6, 4, 11, 9, 21, 8, 22, 4, 16, 12, 10, 16, 19, 10, 27, 16, 6, 21, 16, 18, 18, 12, 5, 4, 10, 4, 9, 7, 23, 17, 12, 23, 17, 11, 24, 27, 25, 4, 6, 8, 6, 4, 9, 6, 17, 19, 28, 8, 4, 5, 26, 10, 25, 23, 9, 29, 12, 15, 29, 22, 6, 24, 18, 29, 7, 6, 21, 12, 9, 28, 14, 22, 5, 21, 15, 8, 5, 7, 27, 26, 25, 10, 17, 7, 32, 15, 7, 17, 9, 5, 19, 20, 5, 20, 21, 19, 5, 7, 9, 17, 30, 27, 18, 23, 8, 4, 21, 4, 13, 22, 26, 5, 19, 15, 20, 10, 5, 27, 6, 20, 7, 7, 8, 19, 13, 21, 23, 24, 6, 7, 19, 26, 7, 27, 22, 4, 9, 4, 10, 23, 7, 24, 18, 18, 23, 4, 5, 20, 0, 8, 17, 15, 15, 5, 10, 11, 5, 7, 12, 7, 28, 19, 5, 11, 16, 8, 7, 16, 11, 15, 5, 8, 13, 5, 22, 12, 26, 13, 20, 23, 6, 8, 20, 14, 18, 5, 18, 27, 23, 17, 22, 19, 17, 19, 15, 12, 9, 21, 7, 9, 5, 28, 23, 24, 17, 7, 25, 5, 4, 25, 22, 10, 8, 17, 20, 10, 8, 26, 19, 23, 6, 15, 20, 10, 5, 6, 22, 18, 7, 19, 1, 4, 7, 17, 4, 17, 18, 21, 11, 9, 22, 22, 26, 19, 7, 9, 27, 4, 4, 18, 22, 19, 23, 11]}],\n",
              "                        {\"margin\": {\"b\": 10, \"l\": 10, \"r\": 20, \"t\": 10}, \"scene\": {\"xaxis\": {\"title\": {\"text\": \"Income\"}}, \"yaxis\": {\"title\": {\"text\": \"Expenses\"}}, \"zaxis\": {\"title\": {\"text\": \"Total Purchases\"}}}, \"template\": {\"data\": {\"bar\": [{\"error_x\": {\"color\": \"#2a3f5f\"}, \"error_y\": {\"color\": \"#2a3f5f\"}, \"marker\": {\"line\": {\"color\": \"#E5ECF6\", \"width\": 0.5}}, \"type\": \"bar\"}], \"barpolar\": [{\"marker\": {\"line\": {\"color\": \"#E5ECF6\", \"width\": 0.5}}, \"type\": \"barpolar\"}], \"carpet\": [{\"aaxis\": {\"endlinecolor\": \"#2a3f5f\", \"gridcolor\": \"white\", \"linecolor\": \"white\", \"minorgridcolor\": \"white\", \"startlinecolor\": \"#2a3f5f\"}, \"baxis\": {\"endlinecolor\": \"#2a3f5f\", \"gridcolor\": \"white\", \"linecolor\": \"white\", \"minorgridcolor\": \"white\", \"startlinecolor\": \"#2a3f5f\"}, \"type\": \"carpet\"}], \"choropleth\": [{\"colorbar\": {\"outlinewidth\": 0, \"ticks\": \"\"}, \"type\": \"choropleth\"}], \"contour\": [{\"colorbar\": {\"outlinewidth\": 0, \"ticks\": \"\"}, \"colorscale\": [[0.0, \"#0d0887\"], [0.1111111111111111, \"#46039f\"], [0.2222222222222222, \"#7201a8\"], [0.3333333333333333, \"#9c179e\"], [0.4444444444444444, \"#bd3786\"], [0.5555555555555556, \"#d8576b\"], [0.6666666666666666, \"#ed7953\"], [0.7777777777777778, \"#fb9f3a\"], [0.8888888888888888, \"#fdca26\"], [1.0, \"#f0f921\"]], \"type\": \"contour\"}], \"contourcarpet\": [{\"colorbar\": {\"outlinewidth\": 0, \"ticks\": \"\"}, \"type\": \"contourcarpet\"}], \"heatmap\": [{\"colorbar\": {\"outlinewidth\": 0, \"ticks\": \"\"}, \"colorscale\": [[0.0, \"#0d0887\"], [0.1111111111111111, \"#46039f\"], [0.2222222222222222, \"#7201a8\"], [0.3333333333333333, \"#9c179e\"], [0.4444444444444444, \"#bd3786\"], [0.5555555555555556, \"#d8576b\"], [0.6666666666666666, \"#ed7953\"], [0.7777777777777778, \"#fb9f3a\"], [0.8888888888888888, \"#fdca26\"], [1.0, \"#f0f921\"]], \"type\": \"heatmap\"}], \"heatmapgl\": [{\"colorbar\": {\"outlinewidth\": 0, \"ticks\": \"\"}, \"colorscale\": [[0.0, \"#0d0887\"], [0.1111111111111111, \"#46039f\"], [0.2222222222222222, \"#7201a8\"], [0.3333333333333333, \"#9c179e\"], [0.4444444444444444, \"#bd3786\"], [0.5555555555555556, \"#d8576b\"], [0.6666666666666666, \"#ed7953\"], [0.7777777777777778, \"#fb9f3a\"], [0.8888888888888888, \"#fdca26\"], [1.0, \"#f0f921\"]], \"type\": \"heatmapgl\"}], \"histogram\": [{\"marker\": {\"colorbar\": {\"outlinewidth\": 0, \"ticks\": \"\"}}, \"type\": \"histogram\"}], \"histogram2d\": [{\"colorbar\": {\"outlinewidth\": 0, \"ticks\": \"\"}, \"colorscale\": [[0.0, \"#0d0887\"], [0.1111111111111111, \"#46039f\"], [0.2222222222222222, \"#7201a8\"], [0.3333333333333333, \"#9c179e\"], [0.4444444444444444, \"#bd3786\"], [0.5555555555555556, \"#d8576b\"], [0.6666666666666666, \"#ed7953\"], [0.7777777777777778, \"#fb9f3a\"], [0.8888888888888888, \"#fdca26\"], [1.0, \"#f0f921\"]], \"type\": \"histogram2d\"}], \"histogram2dcontour\": [{\"colorbar\": {\"outlinewidth\": 0, \"ticks\": \"\"}, \"colorscale\": [[0.0, \"#0d0887\"], [0.1111111111111111, \"#46039f\"], [0.2222222222222222, \"#7201a8\"], [0.3333333333333333, \"#9c179e\"], [0.4444444444444444, \"#bd3786\"], [0.5555555555555556, \"#d8576b\"], [0.6666666666666666, \"#ed7953\"], [0.7777777777777778, \"#fb9f3a\"], [0.8888888888888888, \"#fdca26\"], [1.0, \"#f0f921\"]], \"type\": \"histogram2dcontour\"}], \"mesh3d\": [{\"colorbar\": {\"outlinewidth\": 0, \"ticks\": \"\"}, \"type\": \"mesh3d\"}], \"parcoords\": [{\"line\": {\"colorbar\": {\"outlinewidth\": 0, \"ticks\": \"\"}}, \"type\": \"parcoords\"}], \"pie\": [{\"automargin\": true, \"type\": \"pie\"}], \"scatter\": [{\"marker\": {\"colorbar\": {\"outlinewidth\": 0, \"ticks\": \"\"}}, \"type\": \"scatter\"}], \"scatter3d\": [{\"line\": {\"colorbar\": {\"outlinewidth\": 0, \"ticks\": \"\"}}, \"marker\": {\"colorbar\": {\"outlinewidth\": 0, \"ticks\": \"\"}}, \"type\": \"scatter3d\"}], \"scattercarpet\": [{\"marker\": {\"colorbar\": {\"outlinewidth\": 0, \"ticks\": \"\"}}, \"type\": \"scattercarpet\"}], \"scattergeo\": [{\"marker\": {\"colorbar\": {\"outlinewidth\": 0, \"ticks\": \"\"}}, \"type\": \"scattergeo\"}], \"scattergl\": [{\"marker\": {\"colorbar\": {\"outlinewidth\": 0, \"ticks\": \"\"}}, \"type\": \"scattergl\"}], \"scattermapbox\": [{\"marker\": {\"colorbar\": {\"outlinewidth\": 0, \"ticks\": \"\"}}, \"type\": \"scattermapbox\"}], \"scatterpolar\": [{\"marker\": {\"colorbar\": {\"outlinewidth\": 0, \"ticks\": \"\"}}, \"type\": \"scatterpolar\"}], \"scatterpolargl\": [{\"marker\": {\"colorbar\": {\"outlinewidth\": 0, \"ticks\": \"\"}}, \"type\": \"scatterpolargl\"}], \"scatterternary\": [{\"marker\": {\"colorbar\": {\"outlinewidth\": 0, \"ticks\": \"\"}}, \"type\": \"scatterternary\"}], \"surface\": [{\"colorbar\": {\"outlinewidth\": 0, \"ticks\": \"\"}, \"colorscale\": [[0.0, \"#0d0887\"], [0.1111111111111111, \"#46039f\"], [0.2222222222222222, \"#7201a8\"], [0.3333333333333333, \"#9c179e\"], [0.4444444444444444, \"#bd3786\"], [0.5555555555555556, \"#d8576b\"], [0.6666666666666666, \"#ed7953\"], [0.7777777777777778, \"#fb9f3a\"], [0.8888888888888888, \"#fdca26\"], [1.0, \"#f0f921\"]], \"type\": \"surface\"}], \"table\": [{\"cells\": {\"fill\": {\"color\": \"#EBF0F8\"}, \"line\": {\"color\": \"white\"}}, \"header\": {\"fill\": {\"color\": \"#C8D4E3\"}, \"line\": {\"color\": \"white\"}}, \"type\": \"table\"}]}, \"layout\": {\"annotationdefaults\": {\"arrowcolor\": \"#2a3f5f\", \"arrowhead\": 0, \"arrowwidth\": 1}, \"coloraxis\": {\"colorbar\": {\"outlinewidth\": 0, \"ticks\": \"\"}}, \"colorscale\": {\"diverging\": [[0, \"#8e0152\"], [0.1, \"#c51b7d\"], [0.2, \"#de77ae\"], [0.3, \"#f1b6da\"], [0.4, \"#fde0ef\"], [0.5, \"#f7f7f7\"], [0.6, \"#e6f5d0\"], [0.7, \"#b8e186\"], [0.8, \"#7fbc41\"], [0.9, \"#4d9221\"], [1, \"#276419\"]], \"sequential\": [[0.0, \"#0d0887\"], [0.1111111111111111, \"#46039f\"], [0.2222222222222222, \"#7201a8\"], [0.3333333333333333, \"#9c179e\"], [0.4444444444444444, \"#bd3786\"], [0.5555555555555556, \"#d8576b\"], [0.6666666666666666, \"#ed7953\"], [0.7777777777777778, \"#fb9f3a\"], [0.8888888888888888, \"#fdca26\"], [1.0, \"#f0f921\"]], \"sequentialminus\": [[0.0, \"#0d0887\"], [0.1111111111111111, \"#46039f\"], [0.2222222222222222, \"#7201a8\"], [0.3333333333333333, \"#9c179e\"], [0.4444444444444444, \"#bd3786\"], [0.5555555555555556, \"#d8576b\"], [0.6666666666666666, \"#ed7953\"], [0.7777777777777778, \"#fb9f3a\"], [0.8888888888888888, \"#fdca26\"], [1.0, \"#f0f921\"]]}, \"colorway\": [\"#636efa\", \"#EF553B\", \"#00cc96\", \"#ab63fa\", \"#FFA15A\", \"#19d3f3\", \"#FF6692\", \"#B6E880\", \"#FF97FF\", \"#FECB52\"], \"font\": {\"color\": \"#2a3f5f\"}, \"geo\": {\"bgcolor\": \"white\", \"lakecolor\": \"white\", \"landcolor\": \"#E5ECF6\", \"showlakes\": true, \"showland\": true, \"subunitcolor\": \"white\"}, \"hoverlabel\": {\"align\": \"left\"}, \"hovermode\": \"closest\", \"mapbox\": {\"style\": \"light\"}, \"paper_bgcolor\": \"white\", \"plot_bgcolor\": \"#E5ECF6\", \"polar\": {\"angularaxis\": {\"gridcolor\": \"white\", \"linecolor\": \"white\", \"ticks\": \"\"}, \"bgcolor\": \"#E5ECF6\", \"radialaxis\": {\"gridcolor\": \"white\", \"linecolor\": \"white\", \"ticks\": \"\"}}, \"scene\": {\"xaxis\": {\"backgroundcolor\": \"#E5ECF6\", \"gridcolor\": \"white\", \"gridwidth\": 2, \"linecolor\": \"white\", \"showbackground\": true, \"ticks\": \"\", \"zerolinecolor\": \"white\"}, \"yaxis\": {\"backgroundcolor\": \"#E5ECF6\", \"gridcolor\": \"white\", \"gridwidth\": 2, \"linecolor\": \"white\", \"showbackground\": true, \"ticks\": \"\", \"zerolinecolor\": \"white\"}, \"zaxis\": {\"backgroundcolor\": \"#E5ECF6\", \"gridcolor\": \"white\", \"gridwidth\": 2, \"linecolor\": \"white\", \"showbackground\": true, \"ticks\": \"\", \"zerolinecolor\": \"white\"}}, \"shapedefaults\": {\"line\": {\"color\": \"#2a3f5f\"}}, \"ternary\": {\"aaxis\": {\"gridcolor\": \"white\", \"linecolor\": \"white\", \"ticks\": \"\"}, \"baxis\": {\"gridcolor\": \"white\", \"linecolor\": \"white\", \"ticks\": \"\"}, \"bgcolor\": \"#E5ECF6\", \"caxis\": {\"gridcolor\": \"white\", \"linecolor\": \"white\", \"ticks\": \"\"}}, \"title\": {\"x\": 0.05}, \"xaxis\": {\"automargin\": true, \"gridcolor\": \"white\", \"linecolor\": \"white\", \"ticks\": \"\", \"title\": {\"standoff\": 15}, \"zerolinecolor\": \"white\", \"zerolinewidth\": 2}, \"yaxis\": {\"automargin\": true, \"gridcolor\": \"white\", \"linecolor\": \"white\", \"ticks\": \"\", \"title\": {\"standoff\": 15}, \"zerolinecolor\": \"white\", \"zerolinewidth\": 2}}}, \"width\": 700},\n",
              "                        {\"responsive\": true}\n",
              "                    ).then(function(){\n",
              "                            \n",
              "var gd = document.getElementById('0754902e-6140-4b8c-ac12-df0d42a96909');\n",
              "var x = new MutationObserver(function (mutations, observer) {{\n",
              "        var display = window.getComputedStyle(gd).display;\n",
              "        if (!display || display === 'none') {{\n",
              "            console.log([gd, 'removed!']);\n",
              "            Plotly.purge(gd);\n",
              "            observer.disconnect();\n",
              "        }}\n",
              "}});\n",
              "\n",
              "// Listen for the removal of the full notebook cells\n",
              "var notebookContainer = gd.closest('#notebook-container');\n",
              "if (notebookContainer) {{\n",
              "    x.observe(notebookContainer, {childList: true});\n",
              "}}\n",
              "\n",
              "// Listen for the clearing of the current output cell\n",
              "var outputEl = gd.closest('.output');\n",
              "if (outputEl) {{\n",
              "    x.observe(outputEl, {childList: true});\n",
              "}}\n",
              "\n",
              "                        })\n",
              "                };\n",
              "                \n",
              "            </script>\n",
              "        </div>\n",
              "</body>\n",
              "</html>"
            ]
          },
          "metadata": {}
        }
      ]
    },
    {
      "cell_type": "markdown",
      "metadata": {
        "id": "82V3oVgwJ3Q-"
      },
      "source": [
        "# Comportamento dos clientes"
      ]
    },
    {
      "cell_type": "code",
      "metadata": {
        "colab": {
          "base_uri": "https://localhost:8080/"
        },
        "id": "p4EKuUawRloI",
        "outputId": "4787eb13-186a-42ab-f74f-b56196e0fd1f"
      },
      "source": [
        "# valor de centróides de cada atributo em cada cluster\n",
        "centroids = kmeans.cluster_centers_\n",
        "print(centroids)"
      ],
      "execution_count": 74,
      "outputs": [
        {
          "output_type": "stream",
          "name": "stdout",
          "text": [
            "[[ 0.5704584  -0.33786078 -0.44973902 -0.06721363 -0.00429542  0.01018676\n",
            "   0.28438031 -0.26184076  0.18251273 -0.44096905 -0.06248821]\n",
            " [ 0.76258993 -0.36450839  0.50364126  0.05299142  0.03167866  0.00839329\n",
            "  -0.382494    0.67693874  0.26978417  0.48745619  0.23634426]\n",
            " [ 0.805      -0.41        0.74428256  0.10247851 -0.1025      0.005\n",
            "  -0.66        1.094857    2.765       0.47230769  0.05      ]]\n"
          ]
        }
      ]
    },
    {
      "cell_type": "code",
      "metadata": {
        "colab": {
          "base_uri": "https://localhost:8080/"
        },
        "id": "Xq1x-d3oRllT",
        "outputId": "e04f7876-27f5-4cfd-a601-27f843865d9d"
      },
      "source": [
        "# analisando a variância dos centróides para definir os principais atributos\n",
        "max = len(centroids[0])\n",
        "for i in range(max):\n",
        "    print(df.columns.values[i],\n",
        "          \"\\n{:.4f}\".format(centroids[:,i].var()))"
      ],
      "execution_count": 75,
      "outputs": [
        {
          "output_type": "stream",
          "name": "stdout",
          "text": [
            "Education \n",
            "0.0104\n",
            "Marital_Status \n",
            "0.0009\n",
            "Income \n",
            "0.2658\n",
            "Dt_Customer \n",
            "0.0051\n",
            "Recency \n",
            "0.0032\n",
            "Complain \n",
            "0.0000\n",
            "Children \n",
            "0.1571\n",
            "Expenses \n",
            "0.3218\n",
            "TotalAcceptedCmp \n",
            "1.4337\n",
            "NumTotalPurchases \n",
            "0.1885\n",
            "Age \n",
            "0.0152\n"
          ]
        }
      ]
    },
    {
      "cell_type": "code",
      "metadata": {
        "colab": {
          "base_uri": "https://localhost:8080/",
          "height": 173
        },
        "id": "38v8GCgzuZBT",
        "outputId": "9b81bbc9-b8e1-4fb3-fcb9-0e46793e7c2c"
      },
      "source": [
        "# selecionando as features com maior variância\n",
        "description = df.groupby('cluster')[[\"Income\",\n",
        "                                     \"Children\",\n",
        "                                     \"Expenses\",\n",
        "                                     \"TotalAcceptedCmp\",\n",
        "                                     \"NumTotalPurchases\"\n",
        "                                     ]]\n",
        "n_clients = description.size()\n",
        "description = description.mean().round(3)\n",
        "description['n_clients'] = n_clients\n",
        "\n",
        "\n",
        "description"
      ],
      "execution_count": 76,
      "outputs": [
        {
          "output_type": "execute_result",
          "data": {
            "text/html": [
              "<div>\n",
              "<style scoped>\n",
              "    .dataframe tbody tr th:only-of-type {\n",
              "        vertical-align: middle;\n",
              "    }\n",
              "\n",
              "    .dataframe tbody tr th {\n",
              "        vertical-align: top;\n",
              "    }\n",
              "\n",
              "    .dataframe thead th {\n",
              "        text-align: right;\n",
              "    }\n",
              "</style>\n",
              "<table border=\"1\" class=\"dataframe\">\n",
              "  <thead>\n",
              "    <tr style=\"text-align: right;\">\n",
              "      <th></th>\n",
              "      <th>Income</th>\n",
              "      <th>Children</th>\n",
              "      <th>Expenses</th>\n",
              "      <th>TotalAcceptedCmp</th>\n",
              "      <th>NumTotalPurchases</th>\n",
              "      <th>n_clients</th>\n",
              "    </tr>\n",
              "    <tr>\n",
              "      <th>cluster</th>\n",
              "      <th></th>\n",
              "      <th></th>\n",
              "      <th></th>\n",
              "      <th></th>\n",
              "      <th></th>\n",
              "      <th></th>\n",
              "    </tr>\n",
              "  </thead>\n",
              "  <tbody>\n",
              "    <tr>\n",
              "      <th>0</th>\n",
              "      <td>36408.336</td>\n",
              "      <td>1.285</td>\n",
              "      <td>140.142</td>\n",
              "      <td>0.183</td>\n",
              "      <td>9.249</td>\n",
              "      <td>1176</td>\n",
              "    </tr>\n",
              "    <tr>\n",
              "      <th>1</th>\n",
              "      <td>68053.213</td>\n",
              "      <td>0.618</td>\n",
              "      <td>1058.250</td>\n",
              "      <td>0.269</td>\n",
              "      <td>21.334</td>\n",
              "      <td>836</td>\n",
              "    </tr>\n",
              "    <tr>\n",
              "      <th>2</th>\n",
              "      <td>76121.000</td>\n",
              "      <td>0.340</td>\n",
              "      <td>1468.865</td>\n",
              "      <td>2.765</td>\n",
              "      <td>21.140</td>\n",
              "      <td>200</td>\n",
              "    </tr>\n",
              "  </tbody>\n",
              "</table>\n",
              "</div>"
            ],
            "text/plain": [
              "            Income  Children  ...  NumTotalPurchases  n_clients\n",
              "cluster                       ...                              \n",
              "0        36408.336     1.285  ...              9.249       1176\n",
              "1        68053.213     0.618  ...             21.334        836\n",
              "2        76121.000     0.340  ...             21.140        200\n",
              "\n",
              "[3 rows x 6 columns]"
            ]
          },
          "metadata": {},
          "execution_count": 76
        }
      ]
    },
    {
      "cell_type": "markdown",
      "metadata": {
        "id": "_dvDzioUKlWJ"
      },
      "source": [
        "## Resumo do perfil de clientes\n",
        "\n",
        "* CLUSTER 0: Clientes de menor renda, mais filhos, que menos compram e aproveitam poucas promoções de descontos. Maior quantidade de clientes.\n",
        "* CLUSTER 1: Clientes com mais compras. Boa quantidade de clientes.\n",
        "* CLUSTER 2: Clientes de maior renda, gastos e compras com promoção e menos filhos. Menor quantidade de clientes.\n"
      ]
    },
    {
      "cell_type": "markdown",
      "metadata": {
        "id": "ItDCAjUaNHMI"
      },
      "source": [
        "# ESTRATÉGIAS DE NEGÓCIO SUGERIDAS A PARTIR DA CLUSTERIZAÇÃO\n",
        "\n",
        "* Procurar um ajuste das promoções de desconto visando um maior volume de vendas aos clientes dos grupos 0 e 1.\n",
        "    - *Por exemplo, um teste AB com um programa de pontos, com produtos distintos, parceria com outros comércio ou benefícios.*\n",
        "* Intensificar os descontos para produtos mais baratos, direcionados aos clientes com filhos do grupo 0.\n",
        "* Incentivar gastos de clientes do grupo 2. \n",
        "    - *Por exemplo, intensificando as promoções de desconto em produtos direcionados a adultos sem filhos.*\n",
        "* Por meio de campanhas de marketing, procurar aumentar a base de clientes com o perfil do grupo 2. "
      ]
    },
    {
      "cell_type": "code",
      "metadata": {
        "id": "QFxeaERHuAl5"
      },
      "source": [
        ""
      ],
      "execution_count": null,
      "outputs": []
    }
  ]
}